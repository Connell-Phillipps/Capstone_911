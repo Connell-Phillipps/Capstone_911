{
 "cells": [
  {
   "cell_type": "markdown",
   "metadata": {},
   "source": [
    "# **Initial EDA (Exploratory Data Analysis)**\n",
    "\n",
    "#### **Author:** Connell Phillipps\n",
    "\n",
    "The purpose of this notebook will be to clean and refine the data provided from NYC Open Data to a database (.csv) so future modeling notebooks will run smooth. The main goal here is to delete any duplicate infromation and convert data types to those of useable one in modeling stages.<br>\n",
    "\n",
    "After the cleaning a general overview of the data will be taken to build initial insites about the data and discover any trends or relationships that may be prsent."
   ]
  },
  {
   "cell_type": "code",
   "execution_count": 1,
   "metadata": {},
   "outputs": [],
   "source": [
    "#Initializing Libraries\n",
    "#Data Science Foundation\n",
    "import numpy as np\n",
    "import pandas as pd\n",
    "\n",
    "#Plotting\n",
    "import plotly.express as px\n",
    "import plotly.graph_objects as go\n",
    "from plotly.subplots import make_subplots\n",
    "import seaborn as sns\n",
    "import matplotlib.pyplot as plt\n",
    "\n",
    "#Stats\n",
    "from statsmodels.graphics.tsaplots import month_plot"
   ]
  },
  {
   "cell_type": "code",
   "execution_count": 2,
   "metadata": {},
   "outputs": [],
   "source": [
    "#Initial Import\n",
    "'''\n",
    "If following along this is where you will need to update the file path below. As you can see here I have a seperate folder that is holding all my databases outside of this repository.\n",
    "'''\n",
    "df = pd.read_csv(r\"C:\\Users\\cmphi\\Documents\\BrainStation\\DataBases\\NYPD_Calls_for_Service__Year_to_Date__20240520.csv\")"
   ]
  },
  {
   "cell_type": "markdown",
   "metadata": {},
   "source": [
    "## **Data Cleaning:**"
   ]
  },
  {
   "cell_type": "code",
   "execution_count": 3,
   "metadata": {},
   "outputs": [
    {
     "name": "stdout",
     "output_type": "stream",
     "text": [
      "<class 'pandas.core.frame.DataFrame'>\n",
      "RangeIndex: 1805313 entries, 0 to 1805312\n",
      "Data columns (total 18 columns):\n",
      " #   Column         Non-Null Count    Dtype  \n",
      "---  ------         --------------    -----  \n",
      " 0   CAD_EVNT_ID    1805313 non-null  int64  \n",
      " 1   CREATE_DATE    1805313 non-null  object \n",
      " 2   INCIDENT_DATE  1805313 non-null  object \n",
      " 3   INCIDENT_TIME  358031 non-null   object \n",
      " 4   NYPD_PCT_CD    1805313 non-null  int64  \n",
      " 5   BORO_NM        1805313 non-null  object \n",
      " 6   PATRL_BORO_NM  1805313 non-null  object \n",
      " 7   GEO_CD_X       1805313 non-null  int64  \n",
      " 8   GEO_CD_Y       1805313 non-null  int64  \n",
      " 9   RADIO_CODE     1805313 non-null  object \n",
      " 10  TYP_DESC       1805313 non-null  object \n",
      " 11  CIP_JOBS       1805313 non-null  object \n",
      " 12  ADD_TS         1805313 non-null  object \n",
      " 13  DISP_TS        1805313 non-null  object \n",
      " 14  ARRIVD_TS      1466133 non-null  object \n",
      " 15  CLOSNG_TS      1805313 non-null  object \n",
      " 16  Latitude       1805313 non-null  float64\n",
      " 17  Longitude      1805313 non-null  float64\n",
      "dtypes: float64(2), int64(4), object(12)\n",
      "memory usage: 247.9+ MB\n"
     ]
    },
    {
     "data": {
      "text/plain": [
       "None"
      ]
     },
     "metadata": {},
     "output_type": "display_data"
    },
    {
     "data": {
      "text/html": [
       "<div>\n",
       "<style scoped>\n",
       "    .dataframe tbody tr th:only-of-type {\n",
       "        vertical-align: middle;\n",
       "    }\n",
       "\n",
       "    .dataframe tbody tr th {\n",
       "        vertical-align: top;\n",
       "    }\n",
       "\n",
       "    .dataframe thead th {\n",
       "        text-align: right;\n",
       "    }\n",
       "</style>\n",
       "<table border=\"1\" class=\"dataframe\">\n",
       "  <thead>\n",
       "    <tr style=\"text-align: right;\">\n",
       "      <th></th>\n",
       "      <th>CAD_EVNT_ID</th>\n",
       "      <th>CREATE_DATE</th>\n",
       "      <th>INCIDENT_DATE</th>\n",
       "      <th>INCIDENT_TIME</th>\n",
       "      <th>NYPD_PCT_CD</th>\n",
       "      <th>BORO_NM</th>\n",
       "      <th>PATRL_BORO_NM</th>\n",
       "      <th>GEO_CD_X</th>\n",
       "      <th>GEO_CD_Y</th>\n",
       "      <th>RADIO_CODE</th>\n",
       "      <th>TYP_DESC</th>\n",
       "      <th>CIP_JOBS</th>\n",
       "      <th>ADD_TS</th>\n",
       "      <th>DISP_TS</th>\n",
       "      <th>ARRIVD_TS</th>\n",
       "      <th>CLOSNG_TS</th>\n",
       "      <th>Latitude</th>\n",
       "      <th>Longitude</th>\n",
       "    </tr>\n",
       "  </thead>\n",
       "  <tbody>\n",
       "    <tr>\n",
       "      <th>0</th>\n",
       "      <td>99842231</td>\n",
       "      <td>01/01/2024</td>\n",
       "      <td>12/31/2023</td>\n",
       "      <td>11/22/2038 0:00:00</td>\n",
       "      <td>45</td>\n",
       "      <td>BRONX</td>\n",
       "      <td>PATROL BORO BRONX</td>\n",
       "      <td>1031438</td>\n",
       "      <td>249344</td>\n",
       "      <td>52D6</td>\n",
       "      <td>DISPUTE: FAMILY</td>\n",
       "      <td>Non CIP</td>\n",
       "      <td>01/01/2024 12:02:04 AM</td>\n",
       "      <td>01/01/2024 12:02:04 AM</td>\n",
       "      <td>NaN</td>\n",
       "      <td>01/01/2024 12:13:01 AM</td>\n",
       "      <td>40.850949</td>\n",
       "      <td>-73.829434</td>\n",
       "    </tr>\n",
       "    <tr>\n",
       "      <th>1</th>\n",
       "      <td>99842388</td>\n",
       "      <td>01/01/2024</td>\n",
       "      <td>12/31/2023</td>\n",
       "      <td>NaN</td>\n",
       "      <td>110</td>\n",
       "      <td>QUEENS</td>\n",
       "      <td>PATROL BORO QUEENS NORTH</td>\n",
       "      <td>1022087</td>\n",
       "      <td>208229</td>\n",
       "      <td>52D6</td>\n",
       "      <td>DISPUTE: FAMILY</td>\n",
       "      <td>Non CIP</td>\n",
       "      <td>01/01/2024 12:09:59 AM</td>\n",
       "      <td>01/01/2024 12:11:05 AM</td>\n",
       "      <td>NaN</td>\n",
       "      <td>01/01/2024 12:57:28 AM</td>\n",
       "      <td>40.738144</td>\n",
       "      <td>-73.863466</td>\n",
       "    </tr>\n",
       "    <tr>\n",
       "      <th>2</th>\n",
       "      <td>99842587</td>\n",
       "      <td>01/01/2024</td>\n",
       "      <td>12/31/2023</td>\n",
       "      <td>NaN</td>\n",
       "      <td>108</td>\n",
       "      <td>QUEENS</td>\n",
       "      <td>PATROL BORO QUEENS NORTH</td>\n",
       "      <td>1007298</td>\n",
       "      <td>209993</td>\n",
       "      <td>53S</td>\n",
       "      <td>VEHICLE ACCIDENT: SPECIAL CONDITION</td>\n",
       "      <td>Non CIP</td>\n",
       "      <td>01/01/2024 12:01:21 AM</td>\n",
       "      <td>01/01/2024 12:02:19 AM</td>\n",
       "      <td>01/01/2024 01:19:58 AM</td>\n",
       "      <td>01/01/2024 01:20:02 AM</td>\n",
       "      <td>40.743037</td>\n",
       "      <td>-73.916826</td>\n",
       "    </tr>\n",
       "    <tr>\n",
       "      <th>3</th>\n",
       "      <td>99843964</td>\n",
       "      <td>01/01/2024</td>\n",
       "      <td>12/31/2023</td>\n",
       "      <td>NaN</td>\n",
       "      <td>114</td>\n",
       "      <td>QUEENS</td>\n",
       "      <td>PATROL BORO QUEENS NORTH</td>\n",
       "      <td>1002279</td>\n",
       "      <td>222019</td>\n",
       "      <td>34K1</td>\n",
       "      <td>ASSAULT (IN PROGRESS): KNIFE/INSIDE</td>\n",
       "      <td>Critical</td>\n",
       "      <td>01/01/2024 12:06:11 AM</td>\n",
       "      <td>01/01/2024 12:07:19 AM</td>\n",
       "      <td>01/01/2024 12:19:27 AM</td>\n",
       "      <td>01/01/2024 01:03:22 AM</td>\n",
       "      <td>40.776057</td>\n",
       "      <td>-73.934906</td>\n",
       "    </tr>\n",
       "    <tr>\n",
       "      <th>4</th>\n",
       "      <td>99844026</td>\n",
       "      <td>01/01/2024</td>\n",
       "      <td>12/31/2023</td>\n",
       "      <td>NaN</td>\n",
       "      <td>66</td>\n",
       "      <td>BROOKLYN</td>\n",
       "      <td>PATROL BORO BKLYN SOUTH</td>\n",
       "      <td>987908</td>\n",
       "      <td>174328</td>\n",
       "      <td>11C4</td>\n",
       "      <td>ALARMS: COMMERCIAL/BURGLARY</td>\n",
       "      <td>Non CIP</td>\n",
       "      <td>01/01/2024 12:04:38 AM</td>\n",
       "      <td>01/01/2024 01:45:33 AM</td>\n",
       "      <td>NaN</td>\n",
       "      <td>01/01/2024 02:23:34 AM</td>\n",
       "      <td>40.645174</td>\n",
       "      <td>-73.986820</td>\n",
       "    </tr>\n",
       "    <tr>\n",
       "      <th>5</th>\n",
       "      <td>99844029</td>\n",
       "      <td>01/01/2024</td>\n",
       "      <td>12/31/2023</td>\n",
       "      <td>NaN</td>\n",
       "      <td>14</td>\n",
       "      <td>MANHATTAN</td>\n",
       "      <td>PATROL BORO MAN SOUTH</td>\n",
       "      <td>987695</td>\n",
       "      <td>213174</td>\n",
       "      <td>11C4</td>\n",
       "      <td>ALARMS: COMMERCIAL/BURGLARY</td>\n",
       "      <td>Non CIP</td>\n",
       "      <td>01/01/2024 12:04:46 AM</td>\n",
       "      <td>01/01/2024 01:02:54 AM</td>\n",
       "      <td>NaN</td>\n",
       "      <td>01/01/2024 06:23:07 AM</td>\n",
       "      <td>40.751797</td>\n",
       "      <td>-73.987568</td>\n",
       "    </tr>\n",
       "    <tr>\n",
       "      <th>6</th>\n",
       "      <td>99844057</td>\n",
       "      <td>01/01/2024</td>\n",
       "      <td>12/31/2023</td>\n",
       "      <td>NaN</td>\n",
       "      <td>49</td>\n",
       "      <td>BRONX</td>\n",
       "      <td>PATROL BORO BRONX</td>\n",
       "      <td>1020929</td>\n",
       "      <td>254201</td>\n",
       "      <td>11C4</td>\n",
       "      <td>ALARMS: COMMERCIAL/BURGLARY</td>\n",
       "      <td>Non CIP</td>\n",
       "      <td>01/01/2024 12:04:51 AM</td>\n",
       "      <td>01/01/2024 12:09:21 AM</td>\n",
       "      <td>01/01/2024 12:15:11 AM</td>\n",
       "      <td>01/01/2024 12:56:56 AM</td>\n",
       "      <td>40.864330</td>\n",
       "      <td>-73.867393</td>\n",
       "    </tr>\n",
       "    <tr>\n",
       "      <th>7</th>\n",
       "      <td>99844060</td>\n",
       "      <td>01/01/2024</td>\n",
       "      <td>12/31/2023</td>\n",
       "      <td>NaN</td>\n",
       "      <td>34</td>\n",
       "      <td>MANHATTAN</td>\n",
       "      <td>PATROL BORO MAN NORTH</td>\n",
       "      <td>1003734</td>\n",
       "      <td>253432</td>\n",
       "      <td>11C4</td>\n",
       "      <td>ALARMS: COMMERCIAL/BURGLARY</td>\n",
       "      <td>Non CIP</td>\n",
       "      <td>01/01/2024 12:04:57 AM</td>\n",
       "      <td>01/01/2024 12:12:08 AM</td>\n",
       "      <td>01/01/2024 12:29:16 AM</td>\n",
       "      <td>01/01/2024 12:29:53 AM</td>\n",
       "      <td>40.862274</td>\n",
       "      <td>-73.929562</td>\n",
       "    </tr>\n",
       "    <tr>\n",
       "      <th>8</th>\n",
       "      <td>99844063</td>\n",
       "      <td>01/01/2024</td>\n",
       "      <td>01/01/2024</td>\n",
       "      <td>NaN</td>\n",
       "      <td>79</td>\n",
       "      <td>BROOKLYN</td>\n",
       "      <td>PATROL BORO BKLYN NORTH</td>\n",
       "      <td>998219</td>\n",
       "      <td>187289</td>\n",
       "      <td>75S</td>\n",
       "      <td>STATION INSPECTION BY TRANSIT BUREAU PERSONNEL</td>\n",
       "      <td>Non CIP</td>\n",
       "      <td>01/01/2024 12:00:07 AM</td>\n",
       "      <td>01/01/2024 12:00:07 AM</td>\n",
       "      <td>01/01/2024 12:00:07 AM</td>\n",
       "      <td>01/01/2024 12:30:23 AM</td>\n",
       "      <td>40.680739</td>\n",
       "      <td>-73.949637</td>\n",
       "    </tr>\n",
       "    <tr>\n",
       "      <th>9</th>\n",
       "      <td>99844065</td>\n",
       "      <td>01/01/2024</td>\n",
       "      <td>01/01/2024</td>\n",
       "      <td>NaN</td>\n",
       "      <td>19</td>\n",
       "      <td>MANHATTAN</td>\n",
       "      <td>PATROL BORO MAN NORTH</td>\n",
       "      <td>992074</td>\n",
       "      <td>217827</td>\n",
       "      <td>53D</td>\n",
       "      <td>VEHICLE ACCIDENT: DISPUTE</td>\n",
       "      <td>Non CIP</td>\n",
       "      <td>01/01/2024 12:00:14 AM</td>\n",
       "      <td>01/01/2024 12:08:24 AM</td>\n",
       "      <td>01/01/2024 12:36:32 AM</td>\n",
       "      <td>01/01/2024 12:48:57 AM</td>\n",
       "      <td>40.764566</td>\n",
       "      <td>-73.971757</td>\n",
       "    </tr>\n",
       "  </tbody>\n",
       "</table>\n",
       "</div>"
      ],
      "text/plain": [
       "   CAD_EVNT_ID CREATE_DATE INCIDENT_DATE       INCIDENT_TIME  NYPD_PCT_CD  \\\n",
       "0     99842231  01/01/2024    12/31/2023  11/22/2038 0:00:00           45   \n",
       "1     99842388  01/01/2024    12/31/2023                 NaN          110   \n",
       "2     99842587  01/01/2024    12/31/2023                 NaN          108   \n",
       "3     99843964  01/01/2024    12/31/2023                 NaN          114   \n",
       "4     99844026  01/01/2024    12/31/2023                 NaN           66   \n",
       "5     99844029  01/01/2024    12/31/2023                 NaN           14   \n",
       "6     99844057  01/01/2024    12/31/2023                 NaN           49   \n",
       "7     99844060  01/01/2024    12/31/2023                 NaN           34   \n",
       "8     99844063  01/01/2024    01/01/2024                 NaN           79   \n",
       "9     99844065  01/01/2024    01/01/2024                 NaN           19   \n",
       "\n",
       "     BORO_NM             PATRL_BORO_NM  GEO_CD_X  GEO_CD_Y RADIO_CODE  \\\n",
       "0      BRONX         PATROL BORO BRONX   1031438    249344       52D6   \n",
       "1     QUEENS  PATROL BORO QUEENS NORTH   1022087    208229       52D6   \n",
       "2     QUEENS  PATROL BORO QUEENS NORTH   1007298    209993        53S   \n",
       "3     QUEENS  PATROL BORO QUEENS NORTH   1002279    222019       34K1   \n",
       "4   BROOKLYN   PATROL BORO BKLYN SOUTH    987908    174328       11C4   \n",
       "5  MANHATTAN     PATROL BORO MAN SOUTH    987695    213174       11C4   \n",
       "6      BRONX         PATROL BORO BRONX   1020929    254201       11C4   \n",
       "7  MANHATTAN     PATROL BORO MAN NORTH   1003734    253432       11C4   \n",
       "8   BROOKLYN   PATROL BORO BKLYN NORTH    998219    187289        75S   \n",
       "9  MANHATTAN     PATROL BORO MAN NORTH    992074    217827        53D   \n",
       "\n",
       "                                         TYP_DESC  CIP_JOBS  \\\n",
       "0                                 DISPUTE: FAMILY   Non CIP   \n",
       "1                                 DISPUTE: FAMILY   Non CIP   \n",
       "2             VEHICLE ACCIDENT: SPECIAL CONDITION   Non CIP   \n",
       "3             ASSAULT (IN PROGRESS): KNIFE/INSIDE  Critical   \n",
       "4                     ALARMS: COMMERCIAL/BURGLARY   Non CIP   \n",
       "5                     ALARMS: COMMERCIAL/BURGLARY   Non CIP   \n",
       "6                     ALARMS: COMMERCIAL/BURGLARY   Non CIP   \n",
       "7                     ALARMS: COMMERCIAL/BURGLARY   Non CIP   \n",
       "8  STATION INSPECTION BY TRANSIT BUREAU PERSONNEL   Non CIP   \n",
       "9                       VEHICLE ACCIDENT: DISPUTE   Non CIP   \n",
       "\n",
       "                   ADD_TS                 DISP_TS               ARRIVD_TS  \\\n",
       "0  01/01/2024 12:02:04 AM  01/01/2024 12:02:04 AM                     NaN   \n",
       "1  01/01/2024 12:09:59 AM  01/01/2024 12:11:05 AM                     NaN   \n",
       "2  01/01/2024 12:01:21 AM  01/01/2024 12:02:19 AM  01/01/2024 01:19:58 AM   \n",
       "3  01/01/2024 12:06:11 AM  01/01/2024 12:07:19 AM  01/01/2024 12:19:27 AM   \n",
       "4  01/01/2024 12:04:38 AM  01/01/2024 01:45:33 AM                     NaN   \n",
       "5  01/01/2024 12:04:46 AM  01/01/2024 01:02:54 AM                     NaN   \n",
       "6  01/01/2024 12:04:51 AM  01/01/2024 12:09:21 AM  01/01/2024 12:15:11 AM   \n",
       "7  01/01/2024 12:04:57 AM  01/01/2024 12:12:08 AM  01/01/2024 12:29:16 AM   \n",
       "8  01/01/2024 12:00:07 AM  01/01/2024 12:00:07 AM  01/01/2024 12:00:07 AM   \n",
       "9  01/01/2024 12:00:14 AM  01/01/2024 12:08:24 AM  01/01/2024 12:36:32 AM   \n",
       "\n",
       "                CLOSNG_TS   Latitude  Longitude  \n",
       "0  01/01/2024 12:13:01 AM  40.850949 -73.829434  \n",
       "1  01/01/2024 12:57:28 AM  40.738144 -73.863466  \n",
       "2  01/01/2024 01:20:02 AM  40.743037 -73.916826  \n",
       "3  01/01/2024 01:03:22 AM  40.776057 -73.934906  \n",
       "4  01/01/2024 02:23:34 AM  40.645174 -73.986820  \n",
       "5  01/01/2024 06:23:07 AM  40.751797 -73.987568  \n",
       "6  01/01/2024 12:56:56 AM  40.864330 -73.867393  \n",
       "7  01/01/2024 12:29:53 AM  40.862274 -73.929562  \n",
       "8  01/01/2024 12:30:23 AM  40.680739 -73.949637  \n",
       "9  01/01/2024 12:48:57 AM  40.764566 -73.971757  "
      ]
     },
     "metadata": {},
     "output_type": "display_data"
    }
   ],
   "source": [
    "#Fist look at the data\n",
    "display(df.info(verbose=True, show_counts=True))\n",
    "display(df.head(10))"
   ]
  },
  {
   "cell_type": "markdown",
   "metadata": {},
   "source": [
    "The main insite from the above is again, this is a very clean dat set to be working with. Main things I notice is the incident time is missing quite a lot of values and the some of the values inputed don't make sense (11/22/2038). This column is also represnted in `ADD_TS` and `ARRIVD_TS`. I will be dropping this column.<br><br>\n",
    "I am also seeing duplicated column in `GEO_CD_X` and `GEO_CD_Y` and `Latitude` `Longitude`, I won't be needing both for this analysis so I will also drop the `GEO_CD` columns.<br><br>\n",
    "Next, I looked at the `CREATE_DATE` column. This represent when the incident was inputed into the system. This is back end data entry by the operators and not reflective of the incident itself, Another column I will drop."
   ]
  },
  {
   "cell_type": "code",
   "execution_count": 4,
   "metadata": {},
   "outputs": [],
   "source": [
    "#dropping columns named above\n",
    "df.drop(columns=['INCIDENT_TIME','GEO_CD_X','GEO_CD_Y','CREATE_DATE'], inplace=True, axis=1)"
   ]
  },
  {
   "cell_type": "code",
   "execution_count": 5,
   "metadata": {},
   "outputs": [
    {
     "name": "stdout",
     "output_type": "stream",
     "text": [
      "<class 'pandas.core.frame.DataFrame'>\n",
      "RangeIndex: 1805313 entries, 0 to 1805312\n",
      "Data columns (total 14 columns):\n",
      " #   Column         Non-Null Count    Dtype  \n",
      "---  ------         --------------    -----  \n",
      " 0   CAD_EVNT_ID    1805313 non-null  int64  \n",
      " 1   INCIDENT_DATE  1805313 non-null  object \n",
      " 2   NYPD_PCT_CD    1805313 non-null  int64  \n",
      " 3   BORO_NM        1805313 non-null  object \n",
      " 4   PATRL_BORO_NM  1805313 non-null  object \n",
      " 5   RADIO_CODE     1805313 non-null  object \n",
      " 6   TYP_DESC       1805313 non-null  object \n",
      " 7   CIP_JOBS       1805313 non-null  object \n",
      " 8   ADD_TS         1805313 non-null  object \n",
      " 9   DISP_TS        1805313 non-null  object \n",
      " 10  ARRIVD_TS      1466133 non-null  object \n",
      " 11  CLOSNG_TS      1805313 non-null  object \n",
      " 12  Latitude       1805313 non-null  float64\n",
      " 13  Longitude      1805313 non-null  float64\n",
      "dtypes: float64(2), int64(2), object(10)\n",
      "memory usage: 192.8+ MB\n"
     ]
    },
    {
     "data": {
      "text/plain": [
       "None"
      ]
     },
     "metadata": {},
     "output_type": "display_data"
    },
    {
     "data": {
      "text/html": [
       "<div>\n",
       "<style scoped>\n",
       "    .dataframe tbody tr th:only-of-type {\n",
       "        vertical-align: middle;\n",
       "    }\n",
       "\n",
       "    .dataframe tbody tr th {\n",
       "        vertical-align: top;\n",
       "    }\n",
       "\n",
       "    .dataframe thead th {\n",
       "        text-align: right;\n",
       "    }\n",
       "</style>\n",
       "<table border=\"1\" class=\"dataframe\">\n",
       "  <thead>\n",
       "    <tr style=\"text-align: right;\">\n",
       "      <th></th>\n",
       "      <th>CAD_EVNT_ID</th>\n",
       "      <th>INCIDENT_DATE</th>\n",
       "      <th>NYPD_PCT_CD</th>\n",
       "      <th>BORO_NM</th>\n",
       "      <th>PATRL_BORO_NM</th>\n",
       "      <th>RADIO_CODE</th>\n",
       "      <th>TYP_DESC</th>\n",
       "      <th>CIP_JOBS</th>\n",
       "      <th>ADD_TS</th>\n",
       "      <th>DISP_TS</th>\n",
       "      <th>ARRIVD_TS</th>\n",
       "      <th>CLOSNG_TS</th>\n",
       "      <th>Latitude</th>\n",
       "      <th>Longitude</th>\n",
       "    </tr>\n",
       "  </thead>\n",
       "  <tbody>\n",
       "    <tr>\n",
       "      <th>0</th>\n",
       "      <td>99842231</td>\n",
       "      <td>12/31/2023</td>\n",
       "      <td>45</td>\n",
       "      <td>BRONX</td>\n",
       "      <td>PATROL BORO BRONX</td>\n",
       "      <td>52D6</td>\n",
       "      <td>DISPUTE: FAMILY</td>\n",
       "      <td>Non CIP</td>\n",
       "      <td>01/01/2024 12:02:04 AM</td>\n",
       "      <td>01/01/2024 12:02:04 AM</td>\n",
       "      <td>NaN</td>\n",
       "      <td>01/01/2024 12:13:01 AM</td>\n",
       "      <td>40.850949</td>\n",
       "      <td>-73.829434</td>\n",
       "    </tr>\n",
       "    <tr>\n",
       "      <th>1</th>\n",
       "      <td>99842388</td>\n",
       "      <td>12/31/2023</td>\n",
       "      <td>110</td>\n",
       "      <td>QUEENS</td>\n",
       "      <td>PATROL BORO QUEENS NORTH</td>\n",
       "      <td>52D6</td>\n",
       "      <td>DISPUTE: FAMILY</td>\n",
       "      <td>Non CIP</td>\n",
       "      <td>01/01/2024 12:09:59 AM</td>\n",
       "      <td>01/01/2024 12:11:05 AM</td>\n",
       "      <td>NaN</td>\n",
       "      <td>01/01/2024 12:57:28 AM</td>\n",
       "      <td>40.738144</td>\n",
       "      <td>-73.863466</td>\n",
       "    </tr>\n",
       "    <tr>\n",
       "      <th>2</th>\n",
       "      <td>99842587</td>\n",
       "      <td>12/31/2023</td>\n",
       "      <td>108</td>\n",
       "      <td>QUEENS</td>\n",
       "      <td>PATROL BORO QUEENS NORTH</td>\n",
       "      <td>53S</td>\n",
       "      <td>VEHICLE ACCIDENT: SPECIAL CONDITION</td>\n",
       "      <td>Non CIP</td>\n",
       "      <td>01/01/2024 12:01:21 AM</td>\n",
       "      <td>01/01/2024 12:02:19 AM</td>\n",
       "      <td>01/01/2024 01:19:58 AM</td>\n",
       "      <td>01/01/2024 01:20:02 AM</td>\n",
       "      <td>40.743037</td>\n",
       "      <td>-73.916826</td>\n",
       "    </tr>\n",
       "    <tr>\n",
       "      <th>3</th>\n",
       "      <td>99843964</td>\n",
       "      <td>12/31/2023</td>\n",
       "      <td>114</td>\n",
       "      <td>QUEENS</td>\n",
       "      <td>PATROL BORO QUEENS NORTH</td>\n",
       "      <td>34K1</td>\n",
       "      <td>ASSAULT (IN PROGRESS): KNIFE/INSIDE</td>\n",
       "      <td>Critical</td>\n",
       "      <td>01/01/2024 12:06:11 AM</td>\n",
       "      <td>01/01/2024 12:07:19 AM</td>\n",
       "      <td>01/01/2024 12:19:27 AM</td>\n",
       "      <td>01/01/2024 01:03:22 AM</td>\n",
       "      <td>40.776057</td>\n",
       "      <td>-73.934906</td>\n",
       "    </tr>\n",
       "    <tr>\n",
       "      <th>4</th>\n",
       "      <td>99844026</td>\n",
       "      <td>12/31/2023</td>\n",
       "      <td>66</td>\n",
       "      <td>BROOKLYN</td>\n",
       "      <td>PATROL BORO BKLYN SOUTH</td>\n",
       "      <td>11C4</td>\n",
       "      <td>ALARMS: COMMERCIAL/BURGLARY</td>\n",
       "      <td>Non CIP</td>\n",
       "      <td>01/01/2024 12:04:38 AM</td>\n",
       "      <td>01/01/2024 01:45:33 AM</td>\n",
       "      <td>NaN</td>\n",
       "      <td>01/01/2024 02:23:34 AM</td>\n",
       "      <td>40.645174</td>\n",
       "      <td>-73.986820</td>\n",
       "    </tr>\n",
       "  </tbody>\n",
       "</table>\n",
       "</div>"
      ],
      "text/plain": [
       "   CAD_EVNT_ID INCIDENT_DATE  NYPD_PCT_CD   BORO_NM             PATRL_BORO_NM  \\\n",
       "0     99842231    12/31/2023           45     BRONX         PATROL BORO BRONX   \n",
       "1     99842388    12/31/2023          110    QUEENS  PATROL BORO QUEENS NORTH   \n",
       "2     99842587    12/31/2023          108    QUEENS  PATROL BORO QUEENS NORTH   \n",
       "3     99843964    12/31/2023          114    QUEENS  PATROL BORO QUEENS NORTH   \n",
       "4     99844026    12/31/2023           66  BROOKLYN   PATROL BORO BKLYN SOUTH   \n",
       "\n",
       "  RADIO_CODE                             TYP_DESC  CIP_JOBS  \\\n",
       "0       52D6                      DISPUTE: FAMILY   Non CIP   \n",
       "1       52D6                      DISPUTE: FAMILY   Non CIP   \n",
       "2        53S  VEHICLE ACCIDENT: SPECIAL CONDITION   Non CIP   \n",
       "3       34K1  ASSAULT (IN PROGRESS): KNIFE/INSIDE  Critical   \n",
       "4       11C4          ALARMS: COMMERCIAL/BURGLARY   Non CIP   \n",
       "\n",
       "                   ADD_TS                 DISP_TS               ARRIVD_TS  \\\n",
       "0  01/01/2024 12:02:04 AM  01/01/2024 12:02:04 AM                     NaN   \n",
       "1  01/01/2024 12:09:59 AM  01/01/2024 12:11:05 AM                     NaN   \n",
       "2  01/01/2024 12:01:21 AM  01/01/2024 12:02:19 AM  01/01/2024 01:19:58 AM   \n",
       "3  01/01/2024 12:06:11 AM  01/01/2024 12:07:19 AM  01/01/2024 12:19:27 AM   \n",
       "4  01/01/2024 12:04:38 AM  01/01/2024 01:45:33 AM                     NaN   \n",
       "\n",
       "                CLOSNG_TS   Latitude  Longitude  \n",
       "0  01/01/2024 12:13:01 AM  40.850949 -73.829434  \n",
       "1  01/01/2024 12:57:28 AM  40.738144 -73.863466  \n",
       "2  01/01/2024 01:20:02 AM  40.743037 -73.916826  \n",
       "3  01/01/2024 01:03:22 AM  40.776057 -73.934906  \n",
       "4  01/01/2024 02:23:34 AM  40.645174 -73.986820  "
      ]
     },
     "execution_count": 5,
     "metadata": {},
     "output_type": "execute_result"
    }
   ],
   "source": [
    "#peaking at data after drop\n",
    "display(df.info(show_counts=True))\n",
    "df.head()"
   ]
  },
  {
   "cell_type": "markdown",
   "metadata": {},
   "source": [
    "#### **Weird post catches being fixed here**\n",
    "This section came about when displaying the values of each column below. I noticed a subgroup of the data that had \"null\" values or `NYPD_PCT_CD`, `BORO_NM` and `PATRL_BORO_NM`. This is just a wiered input where null was input as a string '(null)'. If this were a large group of data I could find the average lat long for each `NYPD_PCT_CD`, `BORO_NM` and `PATRL_BORO_NM` and match these rows based on its lat long. However, these values only came up to 34 rows. That is negligable when dealing with 1.8 million rows so I will just be dropping it instead and pretending this never happend :)."
   ]
  },
  {
   "cell_type": "code",
   "execution_count": 6,
   "metadata": {},
   "outputs": [
    {
     "data": {
      "text/html": [
       "<div>\n",
       "<style scoped>\n",
       "    .dataframe tbody tr th:only-of-type {\n",
       "        vertical-align: middle;\n",
       "    }\n",
       "\n",
       "    .dataframe tbody tr th {\n",
       "        vertical-align: top;\n",
       "    }\n",
       "\n",
       "    .dataframe thead th {\n",
       "        text-align: right;\n",
       "    }\n",
       "</style>\n",
       "<table border=\"1\" class=\"dataframe\">\n",
       "  <thead>\n",
       "    <tr style=\"text-align: right;\">\n",
       "      <th></th>\n",
       "      <th>CAD_EVNT_ID</th>\n",
       "      <th>INCIDENT_DATE</th>\n",
       "      <th>NYPD_PCT_CD</th>\n",
       "      <th>BORO_NM</th>\n",
       "      <th>PATRL_BORO_NM</th>\n",
       "      <th>RADIO_CODE</th>\n",
       "      <th>TYP_DESC</th>\n",
       "      <th>CIP_JOBS</th>\n",
       "      <th>ADD_TS</th>\n",
       "      <th>DISP_TS</th>\n",
       "      <th>ARRIVD_TS</th>\n",
       "      <th>CLOSNG_TS</th>\n",
       "      <th>Latitude</th>\n",
       "      <th>Longitude</th>\n",
       "    </tr>\n",
       "  </thead>\n",
       "  <tbody>\n",
       "    <tr>\n",
       "      <th>34514</th>\n",
       "      <td>99887159</td>\n",
       "      <td>01/02/2024</td>\n",
       "      <td>0</td>\n",
       "      <td>(null)</td>\n",
       "      <td>(null)</td>\n",
       "      <td>10H1</td>\n",
       "      <td>INVESTIGATE/POSSIBLE CRIME: CALLS FOR HELP/INSIDE</td>\n",
       "      <td>Non CIP</td>\n",
       "      <td>01/02/2024 10:33:55 PM</td>\n",
       "      <td>01/02/2024 10:36:03 PM</td>\n",
       "      <td>NaN</td>\n",
       "      <td>01/02/2024 10:36:10 PM</td>\n",
       "      <td>40.914065</td>\n",
       "      <td>-73.908869</td>\n",
       "    </tr>\n",
       "    <tr>\n",
       "      <th>63342</th>\n",
       "      <td>99922516</td>\n",
       "      <td>01/04/2024</td>\n",
       "      <td>0</td>\n",
       "      <td>(null)</td>\n",
       "      <td>(null)</td>\n",
       "      <td>10H1</td>\n",
       "      <td>INVESTIGATE/POSSIBLE CRIME: CALLS FOR HELP/INSIDE</td>\n",
       "      <td>Non CIP</td>\n",
       "      <td>01/04/2024 01:15:17 PM</td>\n",
       "      <td>01/04/2024 01:27:22 PM</td>\n",
       "      <td>NaN</td>\n",
       "      <td>01/04/2024 01:27:38 PM</td>\n",
       "      <td>40.678423</td>\n",
       "      <td>-73.725927</td>\n",
       "    </tr>\n",
       "    <tr>\n",
       "      <th>94972</th>\n",
       "      <td>99961396</td>\n",
       "      <td>01/06/2024</td>\n",
       "      <td>0</td>\n",
       "      <td>(null)</td>\n",
       "      <td>(null)</td>\n",
       "      <td>10H1</td>\n",
       "      <td>INVESTIGATE/POSSIBLE CRIME: CALLS FOR HELP/INSIDE</td>\n",
       "      <td>Non CIP</td>\n",
       "      <td>01/06/2024 02:32:02 AM</td>\n",
       "      <td>01/06/2024 02:35:41 AM</td>\n",
       "      <td>NaN</td>\n",
       "      <td>01/06/2024 02:35:56 AM</td>\n",
       "      <td>40.724911</td>\n",
       "      <td>-73.722590</td>\n",
       "    </tr>\n",
       "    <tr>\n",
       "      <th>110579</th>\n",
       "      <td>99981088</td>\n",
       "      <td>01/06/2024</td>\n",
       "      <td>0</td>\n",
       "      <td>(null)</td>\n",
       "      <td>(null)</td>\n",
       "      <td>68Q1</td>\n",
       "      <td>SEE COMPLAINANT: OTHER/INSIDE</td>\n",
       "      <td>Non CIP</td>\n",
       "      <td>01/06/2024 11:50:10 PM</td>\n",
       "      <td>01/06/2024 11:50:10 PM</td>\n",
       "      <td>01/06/2024 11:50:10 PM</td>\n",
       "      <td>01/07/2024 12:31:01 AM</td>\n",
       "      <td>40.764061</td>\n",
       "      <td>-73.722095</td>\n",
       "    </tr>\n",
       "    <tr>\n",
       "      <th>114834</th>\n",
       "      <td>99986261</td>\n",
       "      <td>01/07/2024</td>\n",
       "      <td>0</td>\n",
       "      <td>(null)</td>\n",
       "      <td>(null)</td>\n",
       "      <td>68Q1</td>\n",
       "      <td>SEE COMPLAINANT: OTHER/INSIDE</td>\n",
       "      <td>Non CIP</td>\n",
       "      <td>01/07/2024 07:16:32 AM</td>\n",
       "      <td>01/07/2024 07:16:32 AM</td>\n",
       "      <td>01/07/2024 07:16:32 AM</td>\n",
       "      <td>01/07/2024 09:12:16 AM</td>\n",
       "      <td>40.910045</td>\n",
       "      <td>-73.851358</td>\n",
       "    </tr>\n",
       "  </tbody>\n",
       "</table>\n",
       "</div>"
      ],
      "text/plain": [
       "        CAD_EVNT_ID INCIDENT_DATE  NYPD_PCT_CD BORO_NM PATRL_BORO_NM  \\\n",
       "34514      99887159    01/02/2024            0  (null)        (null)   \n",
       "63342      99922516    01/04/2024            0  (null)        (null)   \n",
       "94972      99961396    01/06/2024            0  (null)        (null)   \n",
       "110579     99981088    01/06/2024            0  (null)        (null)   \n",
       "114834     99986261    01/07/2024            0  (null)        (null)   \n",
       "\n",
       "       RADIO_CODE                                           TYP_DESC CIP_JOBS  \\\n",
       "34514        10H1  INVESTIGATE/POSSIBLE CRIME: CALLS FOR HELP/INSIDE  Non CIP   \n",
       "63342        10H1  INVESTIGATE/POSSIBLE CRIME: CALLS FOR HELP/INSIDE  Non CIP   \n",
       "94972        10H1  INVESTIGATE/POSSIBLE CRIME: CALLS FOR HELP/INSIDE  Non CIP   \n",
       "110579       68Q1                      SEE COMPLAINANT: OTHER/INSIDE  Non CIP   \n",
       "114834       68Q1                      SEE COMPLAINANT: OTHER/INSIDE  Non CIP   \n",
       "\n",
       "                        ADD_TS                 DISP_TS  \\\n",
       "34514   01/02/2024 10:33:55 PM  01/02/2024 10:36:03 PM   \n",
       "63342   01/04/2024 01:15:17 PM  01/04/2024 01:27:22 PM   \n",
       "94972   01/06/2024 02:32:02 AM  01/06/2024 02:35:41 AM   \n",
       "110579  01/06/2024 11:50:10 PM  01/06/2024 11:50:10 PM   \n",
       "114834  01/07/2024 07:16:32 AM  01/07/2024 07:16:32 AM   \n",
       "\n",
       "                     ARRIVD_TS               CLOSNG_TS   Latitude  Longitude  \n",
       "34514                      NaN  01/02/2024 10:36:10 PM  40.914065 -73.908869  \n",
       "63342                      NaN  01/04/2024 01:27:38 PM  40.678423 -73.725927  \n",
       "94972                      NaN  01/06/2024 02:35:56 AM  40.724911 -73.722590  \n",
       "110579  01/06/2024 11:50:10 PM  01/07/2024 12:31:01 AM  40.764061 -73.722095  \n",
       "114834  01/07/2024 07:16:32 AM  01/07/2024 09:12:16 AM  40.910045 -73.851358  "
      ]
     },
     "execution_count": 6,
     "metadata": {},
     "output_type": "execute_result"
    }
   ],
   "source": [
    "df.loc[df['BORO_NM'] == '(null)'].head()"
   ]
  },
  {
   "cell_type": "code",
   "execution_count": 7,
   "metadata": {},
   "outputs": [
    {
     "data": {
      "text/html": [
       "<div>\n",
       "<style scoped>\n",
       "    .dataframe tbody tr th:only-of-type {\n",
       "        vertical-align: middle;\n",
       "    }\n",
       "\n",
       "    .dataframe tbody tr th {\n",
       "        vertical-align: top;\n",
       "    }\n",
       "\n",
       "    .dataframe thead th {\n",
       "        text-align: right;\n",
       "    }\n",
       "</style>\n",
       "<table border=\"1\" class=\"dataframe\">\n",
       "  <thead>\n",
       "    <tr style=\"text-align: right;\">\n",
       "      <th></th>\n",
       "      <th>CAD_EVNT_ID</th>\n",
       "      <th>INCIDENT_DATE</th>\n",
       "      <th>NYPD_PCT_CD</th>\n",
       "      <th>BORO_NM</th>\n",
       "      <th>PATRL_BORO_NM</th>\n",
       "      <th>RADIO_CODE</th>\n",
       "      <th>TYP_DESC</th>\n",
       "      <th>CIP_JOBS</th>\n",
       "      <th>ADD_TS</th>\n",
       "      <th>DISP_TS</th>\n",
       "      <th>ARRIVD_TS</th>\n",
       "      <th>CLOSNG_TS</th>\n",
       "      <th>Latitude</th>\n",
       "      <th>Longitude</th>\n",
       "    </tr>\n",
       "  </thead>\n",
       "  <tbody>\n",
       "  </tbody>\n",
       "</table>\n",
       "</div>"
      ],
      "text/plain": [
       "Empty DataFrame\n",
       "Columns: [CAD_EVNT_ID, INCIDENT_DATE, NYPD_PCT_CD, BORO_NM, PATRL_BORO_NM, RADIO_CODE, TYP_DESC, CIP_JOBS, ADD_TS, DISP_TS, ARRIVD_TS, CLOSNG_TS, Latitude, Longitude]\n",
       "Index: []"
      ]
     },
     "execution_count": 7,
     "metadata": {},
     "output_type": "execute_result"
    }
   ],
   "source": [
    "#Deleting rows\n",
    "df = df[df['BORO_NM'] != '(null)']\n",
    "\n",
    "#check to see if they are gone\n",
    "df.loc[df['BORO_NM'] == '(null)']"
   ]
  },
  {
   "cell_type": "markdown",
   "metadata": {},
   "source": [
    "### **Duplicate Rows:**\n",
    "Now I would like to move through and remove any duplicate data within this data set. First looking at rowise duplicates then moving to redundent columns."
   ]
  },
  {
   "cell_type": "code",
   "execution_count": 8,
   "metadata": {},
   "outputs": [
    {
     "name": "stdout",
     "output_type": "stream",
     "text": [
      "0\n"
     ]
    }
   ],
   "source": [
    "#Checking for the number of duplicated rows\n",
    "print(df.duplicated().sum())"
   ]
  },
  {
   "cell_type": "markdown",
   "metadata": {},
   "source": [
    "Initially here it looks like there are no duplicate rows but we are going to dive a bit deeper and look specfically at `CAD_EVNT_ID` as this should be a unique identifier."
   ]
  },
  {
   "cell_type": "code",
   "execution_count": 9,
   "metadata": {},
   "outputs": [
    {
     "name": "stdout",
     "output_type": "stream",
     "text": [
      "Percent of duplication: 3.014992704724706%\n"
     ]
    }
   ],
   "source": [
    "#If we have all unique values we should see the lenght of this be the same as the lenght of the df\n",
    "df['CAD_EVNT_ID'].value_counts()\n",
    "dup_CAD_percent = (1 - (len(df['CAD_EVNT_ID'].value_counts())/len(df)))*100\n",
    "print(f'Percent of duplication: {dup_CAD_percent}%')"
   ]
  },
  {
   "cell_type": "markdown",
   "metadata": {},
   "source": [
    "Before I drop all duplicated `CAD_EVNT_ID` I want to investigate to see why the rows aren't identical but they share a event id."
   ]
  },
  {
   "cell_type": "code",
   "execution_count": 10,
   "metadata": {},
   "outputs": [
    {
     "data": {
      "text/html": [
       "<div>\n",
       "<style scoped>\n",
       "    .dataframe tbody tr th:only-of-type {\n",
       "        vertical-align: middle;\n",
       "    }\n",
       "\n",
       "    .dataframe tbody tr th {\n",
       "        vertical-align: top;\n",
       "    }\n",
       "\n",
       "    .dataframe thead th {\n",
       "        text-align: right;\n",
       "    }\n",
       "</style>\n",
       "<table border=\"1\" class=\"dataframe\">\n",
       "  <thead>\n",
       "    <tr style=\"text-align: right;\">\n",
       "      <th></th>\n",
       "      <th>CAD_EVNT_ID</th>\n",
       "      <th>INCIDENT_DATE</th>\n",
       "      <th>NYPD_PCT_CD</th>\n",
       "      <th>BORO_NM</th>\n",
       "      <th>PATRL_BORO_NM</th>\n",
       "      <th>RADIO_CODE</th>\n",
       "      <th>TYP_DESC</th>\n",
       "      <th>CIP_JOBS</th>\n",
       "      <th>ADD_TS</th>\n",
       "      <th>DISP_TS</th>\n",
       "      <th>ARRIVD_TS</th>\n",
       "      <th>CLOSNG_TS</th>\n",
       "      <th>Latitude</th>\n",
       "      <th>Longitude</th>\n",
       "    </tr>\n",
       "  </thead>\n",
       "  <tbody>\n",
       "    <tr>\n",
       "      <th>16</th>\n",
       "      <td>99844075</td>\n",
       "      <td>01/01/2024</td>\n",
       "      <td>123</td>\n",
       "      <td>STATEN ISLAND</td>\n",
       "      <td>PATROL BORO STATEN ISLAND</td>\n",
       "      <td>54E2</td>\n",
       "      <td>AMBULANCE CASE: EDP/OUTSIDE</td>\n",
       "      <td>Non CIP</td>\n",
       "      <td>01/01/2024 12:01:10 AM</td>\n",
       "      <td>01/01/2024 12:57:08 AM</td>\n",
       "      <td>NaN</td>\n",
       "      <td>01/01/2024 12:57:30 AM</td>\n",
       "      <td>40.529657</td>\n",
       "      <td>-74.230212</td>\n",
       "    </tr>\n",
       "    <tr>\n",
       "      <th>17</th>\n",
       "      <td>99844075</td>\n",
       "      <td>01/01/2024</td>\n",
       "      <td>123</td>\n",
       "      <td>STATEN ISLAND</td>\n",
       "      <td>PATROL BORO STATEN ISLAND</td>\n",
       "      <td>54E2</td>\n",
       "      <td>AMBULANCE CASE: EDP/OUTSIDE</td>\n",
       "      <td>Non CIP</td>\n",
       "      <td>01/01/2024 12:05:27 AM</td>\n",
       "      <td>01/01/2024 12:10:23 AM</td>\n",
       "      <td>NaN</td>\n",
       "      <td>01/01/2024 12:58:37 AM</td>\n",
       "      <td>40.529657</td>\n",
       "      <td>-74.230212</td>\n",
       "    </tr>\n",
       "    <tr>\n",
       "      <th>38</th>\n",
       "      <td>99844110</td>\n",
       "      <td>01/01/2024</td>\n",
       "      <td>83</td>\n",
       "      <td>BROOKLYN</td>\n",
       "      <td>PATROL BORO BKLYN NORTH</td>\n",
       "      <td>59E</td>\n",
       "      <td>FIRE: EXPLOSION</td>\n",
       "      <td>Non CIP</td>\n",
       "      <td>01/01/2024 12:03:28 AM</td>\n",
       "      <td>01/01/2024 12:04:06 AM</td>\n",
       "      <td>NaN</td>\n",
       "      <td>01/01/2024 12:22:25 AM</td>\n",
       "      <td>40.692981</td>\n",
       "      <td>-73.924314</td>\n",
       "    </tr>\n",
       "    <tr>\n",
       "      <th>39</th>\n",
       "      <td>99844110</td>\n",
       "      <td>01/01/2024</td>\n",
       "      <td>83</td>\n",
       "      <td>BROOKLYN</td>\n",
       "      <td>PATROL BORO BKLYN NORTH</td>\n",
       "      <td>59E</td>\n",
       "      <td>FIRE: EXPLOSION</td>\n",
       "      <td>Non CIP</td>\n",
       "      <td>01/01/2024 12:03:28 AM</td>\n",
       "      <td>01/01/2024 12:05:14 AM</td>\n",
       "      <td>NaN</td>\n",
       "      <td>01/01/2024 12:22:45 AM</td>\n",
       "      <td>40.692981</td>\n",
       "      <td>-73.924314</td>\n",
       "    </tr>\n",
       "    <tr>\n",
       "      <th>61</th>\n",
       "      <td>99844138</td>\n",
       "      <td>01/01/2024</td>\n",
       "      <td>14</td>\n",
       "      <td>MANHATTAN</td>\n",
       "      <td>PATROL BORO MAN SOUTH</td>\n",
       "      <td>13X2</td>\n",
       "      <td>ASSIST POLICE OFFICER: UNKNOWN/OUTSIDE</td>\n",
       "      <td>Critical</td>\n",
       "      <td>01/01/2024 12:05:38 AM</td>\n",
       "      <td>01/01/2024 12:06:42 AM</td>\n",
       "      <td>01/01/2024 12:42:19 AM</td>\n",
       "      <td>01/01/2024 01:06:18 AM</td>\n",
       "      <td>40.755187</td>\n",
       "      <td>-73.983871</td>\n",
       "    </tr>\n",
       "    <tr>\n",
       "      <th>...</th>\n",
       "      <td>...</td>\n",
       "      <td>...</td>\n",
       "      <td>...</td>\n",
       "      <td>...</td>\n",
       "      <td>...</td>\n",
       "      <td>...</td>\n",
       "      <td>...</td>\n",
       "      <td>...</td>\n",
       "      <td>...</td>\n",
       "      <td>...</td>\n",
       "      <td>...</td>\n",
       "      <td>...</td>\n",
       "      <td>...</td>\n",
       "      <td>...</td>\n",
       "    </tr>\n",
       "    <tr>\n",
       "      <th>1805236</th>\n",
       "      <td>102035988</td>\n",
       "      <td>03/31/2024</td>\n",
       "      <td>52</td>\n",
       "      <td>BRONX</td>\n",
       "      <td>PATROL BORO BRONX</td>\n",
       "      <td>54E2</td>\n",
       "      <td>AMBULANCE CASE: EDP/OUTSIDE</td>\n",
       "      <td>Non CIP</td>\n",
       "      <td>03/31/2024 11:54:09 PM</td>\n",
       "      <td>03/31/2024 11:54:49 PM</td>\n",
       "      <td>NaN</td>\n",
       "      <td>04/01/2024 12:18:31 AM</td>\n",
       "      <td>40.866513</td>\n",
       "      <td>-73.892632</td>\n",
       "    </tr>\n",
       "    <tr>\n",
       "      <th>1805244</th>\n",
       "      <td>102035998</td>\n",
       "      <td>03/31/2024</td>\n",
       "      <td>18</td>\n",
       "      <td>MANHATTAN</td>\n",
       "      <td>PATROL BORO MAN SOUTH</td>\n",
       "      <td>54E1</td>\n",
       "      <td>AMBULANCE CASE: EDP/INSIDE</td>\n",
       "      <td>Non CIP</td>\n",
       "      <td>03/31/2024 11:54:50 PM</td>\n",
       "      <td>03/31/2024 11:55:59 PM</td>\n",
       "      <td>NaN</td>\n",
       "      <td>04/01/2024 12:35:55 AM</td>\n",
       "      <td>40.763523</td>\n",
       "      <td>-73.987074</td>\n",
       "    </tr>\n",
       "    <tr>\n",
       "      <th>1805245</th>\n",
       "      <td>102035998</td>\n",
       "      <td>03/31/2024</td>\n",
       "      <td>18</td>\n",
       "      <td>MANHATTAN</td>\n",
       "      <td>PATROL BORO MAN SOUTH</td>\n",
       "      <td>54E1</td>\n",
       "      <td>AMBULANCE CASE: EDP/INSIDE</td>\n",
       "      <td>Non CIP</td>\n",
       "      <td>03/31/2024 11:54:50 PM</td>\n",
       "      <td>04/01/2024 12:01:33 AM</td>\n",
       "      <td>04/01/2024 12:14:42 AM</td>\n",
       "      <td>04/01/2024 12:37:59 PM</td>\n",
       "      <td>40.763523</td>\n",
       "      <td>-73.987074</td>\n",
       "    </tr>\n",
       "    <tr>\n",
       "      <th>1805264</th>\n",
       "      <td>102036019</td>\n",
       "      <td>03/31/2024</td>\n",
       "      <td>103</td>\n",
       "      <td>QUEENS</td>\n",
       "      <td>PATROL BORO QUEENS SOUTH</td>\n",
       "      <td>54E2</td>\n",
       "      <td>AMBULANCE CASE: EDP/OUTSIDE</td>\n",
       "      <td>Non CIP</td>\n",
       "      <td>03/31/2024 11:56:16 PM</td>\n",
       "      <td>03/31/2024 11:56:49 PM</td>\n",
       "      <td>04/01/2024 12:00:40 AM</td>\n",
       "      <td>04/01/2024 12:02:00 AM</td>\n",
       "      <td>40.691585</td>\n",
       "      <td>-73.795307</td>\n",
       "    </tr>\n",
       "    <tr>\n",
       "      <th>1805265</th>\n",
       "      <td>102036019</td>\n",
       "      <td>03/31/2024</td>\n",
       "      <td>103</td>\n",
       "      <td>QUEENS</td>\n",
       "      <td>PATROL BORO QUEENS SOUTH</td>\n",
       "      <td>54E2</td>\n",
       "      <td>AMBULANCE CASE: EDP/OUTSIDE</td>\n",
       "      <td>Non CIP</td>\n",
       "      <td>03/31/2024 11:56:16 PM</td>\n",
       "      <td>03/31/2024 11:56:27 PM</td>\n",
       "      <td>NaN</td>\n",
       "      <td>04/01/2024 12:05:47 AM</td>\n",
       "      <td>40.691585</td>\n",
       "      <td>-73.795307</td>\n",
       "    </tr>\n",
       "  </tbody>\n",
       "</table>\n",
       "<p>108020 rows × 14 columns</p>\n",
       "</div>"
      ],
      "text/plain": [
       "         CAD_EVNT_ID INCIDENT_DATE  NYPD_PCT_CD        BORO_NM  \\\n",
       "16          99844075    01/01/2024          123  STATEN ISLAND   \n",
       "17          99844075    01/01/2024          123  STATEN ISLAND   \n",
       "38          99844110    01/01/2024           83       BROOKLYN   \n",
       "39          99844110    01/01/2024           83       BROOKLYN   \n",
       "61          99844138    01/01/2024           14      MANHATTAN   \n",
       "...              ...           ...          ...            ...   \n",
       "1805236    102035988    03/31/2024           52          BRONX   \n",
       "1805244    102035998    03/31/2024           18      MANHATTAN   \n",
       "1805245    102035998    03/31/2024           18      MANHATTAN   \n",
       "1805264    102036019    03/31/2024          103         QUEENS   \n",
       "1805265    102036019    03/31/2024          103         QUEENS   \n",
       "\n",
       "                     PATRL_BORO_NM RADIO_CODE  \\\n",
       "16       PATROL BORO STATEN ISLAND       54E2   \n",
       "17       PATROL BORO STATEN ISLAND       54E2   \n",
       "38         PATROL BORO BKLYN NORTH        59E   \n",
       "39         PATROL BORO BKLYN NORTH        59E   \n",
       "61           PATROL BORO MAN SOUTH       13X2   \n",
       "...                            ...        ...   \n",
       "1805236          PATROL BORO BRONX       54E2   \n",
       "1805244      PATROL BORO MAN SOUTH       54E1   \n",
       "1805245      PATROL BORO MAN SOUTH       54E1   \n",
       "1805264   PATROL BORO QUEENS SOUTH       54E2   \n",
       "1805265   PATROL BORO QUEENS SOUTH       54E2   \n",
       "\n",
       "                                       TYP_DESC  CIP_JOBS  \\\n",
       "16                  AMBULANCE CASE: EDP/OUTSIDE   Non CIP   \n",
       "17                  AMBULANCE CASE: EDP/OUTSIDE   Non CIP   \n",
       "38                              FIRE: EXPLOSION   Non CIP   \n",
       "39                              FIRE: EXPLOSION   Non CIP   \n",
       "61       ASSIST POLICE OFFICER: UNKNOWN/OUTSIDE  Critical   \n",
       "...                                         ...       ...   \n",
       "1805236             AMBULANCE CASE: EDP/OUTSIDE   Non CIP   \n",
       "1805244              AMBULANCE CASE: EDP/INSIDE   Non CIP   \n",
       "1805245              AMBULANCE CASE: EDP/INSIDE   Non CIP   \n",
       "1805264             AMBULANCE CASE: EDP/OUTSIDE   Non CIP   \n",
       "1805265             AMBULANCE CASE: EDP/OUTSIDE   Non CIP   \n",
       "\n",
       "                         ADD_TS                 DISP_TS  \\\n",
       "16       01/01/2024 12:01:10 AM  01/01/2024 12:57:08 AM   \n",
       "17       01/01/2024 12:05:27 AM  01/01/2024 12:10:23 AM   \n",
       "38       01/01/2024 12:03:28 AM  01/01/2024 12:04:06 AM   \n",
       "39       01/01/2024 12:03:28 AM  01/01/2024 12:05:14 AM   \n",
       "61       01/01/2024 12:05:38 AM  01/01/2024 12:06:42 AM   \n",
       "...                         ...                     ...   \n",
       "1805236  03/31/2024 11:54:09 PM  03/31/2024 11:54:49 PM   \n",
       "1805244  03/31/2024 11:54:50 PM  03/31/2024 11:55:59 PM   \n",
       "1805245  03/31/2024 11:54:50 PM  04/01/2024 12:01:33 AM   \n",
       "1805264  03/31/2024 11:56:16 PM  03/31/2024 11:56:49 PM   \n",
       "1805265  03/31/2024 11:56:16 PM  03/31/2024 11:56:27 PM   \n",
       "\n",
       "                      ARRIVD_TS               CLOSNG_TS   Latitude  Longitude  \n",
       "16                          NaN  01/01/2024 12:57:30 AM  40.529657 -74.230212  \n",
       "17                          NaN  01/01/2024 12:58:37 AM  40.529657 -74.230212  \n",
       "38                          NaN  01/01/2024 12:22:25 AM  40.692981 -73.924314  \n",
       "39                          NaN  01/01/2024 12:22:45 AM  40.692981 -73.924314  \n",
       "61       01/01/2024 12:42:19 AM  01/01/2024 01:06:18 AM  40.755187 -73.983871  \n",
       "...                         ...                     ...        ...        ...  \n",
       "1805236                     NaN  04/01/2024 12:18:31 AM  40.866513 -73.892632  \n",
       "1805244                     NaN  04/01/2024 12:35:55 AM  40.763523 -73.987074  \n",
       "1805245  04/01/2024 12:14:42 AM  04/01/2024 12:37:59 PM  40.763523 -73.987074  \n",
       "1805264  04/01/2024 12:00:40 AM  04/01/2024 12:02:00 AM  40.691585 -73.795307  \n",
       "1805265                     NaN  04/01/2024 12:05:47 AM  40.691585 -73.795307  \n",
       "\n",
       "[108020 rows x 14 columns]"
      ]
     },
     "metadata": {},
     "output_type": "display_data"
    }
   ],
   "source": [
    "#displays the duplicated event ids next to one another\n",
    "display(df[df.duplicated(subset=['CAD_EVNT_ID'], keep=False)])"
   ]
  },
  {
   "cell_type": "markdown",
   "metadata": {},
   "source": [
    "The differences I see here are mostly do to differences in the time added to they system. I am not sure what creates this discrepency but we will keep the instance with the most data (least NaN values) then if equal in data we will keep the first instance, as the datat is already sorted by time by dropping the later instances of duplicated values we will keep the entry with the earliest logged time."
   ]
  },
  {
   "cell_type": "code",
   "execution_count": 11,
   "metadata": {},
   "outputs": [],
   "source": [
    "#This code will keep the duplicated row with the least nan values, but in case of ties will just keep the first instance of the event id\n",
    "\n",
    "#creating new row with null count\n",
    "df['null_count'] = df.isna().sum(axis=1)\n",
    "\n",
    "#sorting to priotizie rows with fewest nulls\n",
    "df_sorted = df.sort_values(by=['CAD_EVNT_ID', 'null_count'])\n",
    "\n",
    "df = df_sorted.drop_duplicates(subset='CAD_EVNT_ID').drop(columns='null_count').reset_index(drop=True)"
   ]
  },
  {
   "cell_type": "code",
   "execution_count": 12,
   "metadata": {},
   "outputs": [
    {
     "name": "stdout",
     "output_type": "stream",
     "text": [
      "Percent of duplication: 0.0%\n"
     ]
    },
    {
     "data": {
      "text/html": [
       "<div>\n",
       "<style scoped>\n",
       "    .dataframe tbody tr th:only-of-type {\n",
       "        vertical-align: middle;\n",
       "    }\n",
       "\n",
       "    .dataframe tbody tr th {\n",
       "        vertical-align: top;\n",
       "    }\n",
       "\n",
       "    .dataframe thead th {\n",
       "        text-align: right;\n",
       "    }\n",
       "</style>\n",
       "<table border=\"1\" class=\"dataframe\">\n",
       "  <thead>\n",
       "    <tr style=\"text-align: right;\">\n",
       "      <th></th>\n",
       "      <th>CAD_EVNT_ID</th>\n",
       "      <th>INCIDENT_DATE</th>\n",
       "      <th>NYPD_PCT_CD</th>\n",
       "      <th>BORO_NM</th>\n",
       "      <th>PATRL_BORO_NM</th>\n",
       "      <th>RADIO_CODE</th>\n",
       "      <th>TYP_DESC</th>\n",
       "      <th>CIP_JOBS</th>\n",
       "      <th>ADD_TS</th>\n",
       "      <th>DISP_TS</th>\n",
       "      <th>ARRIVD_TS</th>\n",
       "      <th>CLOSNG_TS</th>\n",
       "      <th>Latitude</th>\n",
       "      <th>Longitude</th>\n",
       "    </tr>\n",
       "  </thead>\n",
       "  <tbody>\n",
       "  </tbody>\n",
       "</table>\n",
       "</div>"
      ],
      "text/plain": [
       "Empty DataFrame\n",
       "Columns: [CAD_EVNT_ID, INCIDENT_DATE, NYPD_PCT_CD, BORO_NM, PATRL_BORO_NM, RADIO_CODE, TYP_DESC, CIP_JOBS, ADD_TS, DISP_TS, ARRIVD_TS, CLOSNG_TS, Latitude, Longitude]\n",
       "Index: []"
      ]
     },
     "metadata": {},
     "output_type": "display_data"
    },
    {
     "name": "stdout",
     "output_type": "stream",
     "text": [
      "<class 'pandas.core.frame.DataFrame'>\n",
      "RangeIndex: 1750849 entries, 0 to 1750848\n",
      "Data columns (total 14 columns):\n",
      " #   Column         Non-Null Count    Dtype  \n",
      "---  ------         --------------    -----  \n",
      " 0   CAD_EVNT_ID    1750849 non-null  int64  \n",
      " 1   INCIDENT_DATE  1750849 non-null  object \n",
      " 2   NYPD_PCT_CD    1750849 non-null  int64  \n",
      " 3   BORO_NM        1750849 non-null  object \n",
      " 4   PATRL_BORO_NM  1750849 non-null  object \n",
      " 5   RADIO_CODE     1750849 non-null  object \n",
      " 6   TYP_DESC       1750849 non-null  object \n",
      " 7   CIP_JOBS       1750849 non-null  object \n",
      " 8   ADD_TS         1750849 non-null  object \n",
      " 9   DISP_TS        1750849 non-null  object \n",
      " 10  ARRIVD_TS      1460865 non-null  object \n",
      " 11  CLOSNG_TS      1750849 non-null  object \n",
      " 12  Latitude       1750849 non-null  float64\n",
      " 13  Longitude      1750849 non-null  float64\n",
      "dtypes: float64(2), int64(2), object(10)\n",
      "memory usage: 187.0+ MB\n"
     ]
    },
    {
     "data": {
      "text/plain": [
       "None"
      ]
     },
     "metadata": {},
     "output_type": "display_data"
    }
   ],
   "source": [
    "#Checking\n",
    "df['CAD_EVNT_ID'].value_counts()\n",
    "dup_CAD_percent = (1 - (len(df['CAD_EVNT_ID'].value_counts())/len(df)))*100\n",
    "print(f'Percent of duplication: {dup_CAD_percent}%')\n",
    "display(df[df.duplicated(subset=['CAD_EVNT_ID'], keep=False)])\n",
    "display(df.info(show_counts=True))"
   ]
  },
  {
   "cell_type": "markdown",
   "metadata": {},
   "source": [
    "This shows the succesful removal of all duplicated `CAD_EVNT_ID` rows. The data set is now ~3% smaller."
   ]
  },
  {
   "cell_type": "markdown",
   "metadata": {},
   "source": [
    "The next step here will be to deal with the `ARRIVD_TS`. This is now the only column with null values. My plan here will be to create one main df that has only one of the date time columns with `ADD_TS`. This will reprent the start time of the incident and for most purpose be the only datetime we need. The second df I will be keeping `DISP_TS` and `ARRIVD_TS` this is will allow me to look response times all other datetime will be dropped. I will then drop any row with null values as they will be represented in the main df."
   ]
  },
  {
   "cell_type": "code",
   "execution_count": 13,
   "metadata": {},
   "outputs": [],
   "source": [
    "# Creating response_df\n",
    "response_df = df.drop(columns=['INCIDENT_DATE', 'ADD_TS', 'CLOSNG_TS'], axis=1)\n",
    "response_df = response_df.dropna(how='any', axis=0).reset_index(drop=True)\n",
    "\n",
    "# Creating main df\n",
    "df.drop(columns=['INCIDENT_DATE', 'DISP_TS', 'ARRIVD_TS', 'CLOSNG_TS'], inplace=True)"
   ]
  },
  {
   "cell_type": "code",
   "execution_count": 14,
   "metadata": {},
   "outputs": [
    {
     "name": "stdout",
     "output_type": "stream",
     "text": [
      "<class 'pandas.core.frame.DataFrame'>\n",
      "RangeIndex: 1750849 entries, 0 to 1750848\n",
      "Data columns (total 10 columns):\n",
      " #   Column         Dtype  \n",
      "---  ------         -----  \n",
      " 0   CAD_EVNT_ID    int64  \n",
      " 1   NYPD_PCT_CD    int64  \n",
      " 2   BORO_NM        object \n",
      " 3   PATRL_BORO_NM  object \n",
      " 4   RADIO_CODE     object \n",
      " 5   TYP_DESC       object \n",
      " 6   CIP_JOBS       object \n",
      " 7   ADD_TS         object \n",
      " 8   Latitude       float64\n",
      " 9   Longitude      float64\n",
      "dtypes: float64(2), int64(2), object(6)\n",
      "memory usage: 133.6+ MB\n"
     ]
    },
    {
     "data": {
      "text/plain": [
       "None"
      ]
     },
     "metadata": {},
     "output_type": "display_data"
    },
    {
     "data": {
      "text/html": [
       "<div>\n",
       "<style scoped>\n",
       "    .dataframe tbody tr th:only-of-type {\n",
       "        vertical-align: middle;\n",
       "    }\n",
       "\n",
       "    .dataframe tbody tr th {\n",
       "        vertical-align: top;\n",
       "    }\n",
       "\n",
       "    .dataframe thead th {\n",
       "        text-align: right;\n",
       "    }\n",
       "</style>\n",
       "<table border=\"1\" class=\"dataframe\">\n",
       "  <thead>\n",
       "    <tr style=\"text-align: right;\">\n",
       "      <th></th>\n",
       "      <th>CAD_EVNT_ID</th>\n",
       "      <th>NYPD_PCT_CD</th>\n",
       "      <th>BORO_NM</th>\n",
       "      <th>PATRL_BORO_NM</th>\n",
       "      <th>RADIO_CODE</th>\n",
       "      <th>TYP_DESC</th>\n",
       "      <th>CIP_JOBS</th>\n",
       "      <th>ADD_TS</th>\n",
       "      <th>Latitude</th>\n",
       "      <th>Longitude</th>\n",
       "    </tr>\n",
       "  </thead>\n",
       "  <tbody>\n",
       "    <tr>\n",
       "      <th>0</th>\n",
       "      <td>99842231</td>\n",
       "      <td>45</td>\n",
       "      <td>BRONX</td>\n",
       "      <td>PATROL BORO BRONX</td>\n",
       "      <td>52D6</td>\n",
       "      <td>DISPUTE: FAMILY</td>\n",
       "      <td>Non CIP</td>\n",
       "      <td>01/01/2024 12:02:04 AM</td>\n",
       "      <td>40.850949</td>\n",
       "      <td>-73.829434</td>\n",
       "    </tr>\n",
       "    <tr>\n",
       "      <th>1</th>\n",
       "      <td>99842388</td>\n",
       "      <td>110</td>\n",
       "      <td>QUEENS</td>\n",
       "      <td>PATROL BORO QUEENS NORTH</td>\n",
       "      <td>52D6</td>\n",
       "      <td>DISPUTE: FAMILY</td>\n",
       "      <td>Non CIP</td>\n",
       "      <td>01/01/2024 12:09:59 AM</td>\n",
       "      <td>40.738144</td>\n",
       "      <td>-73.863466</td>\n",
       "    </tr>\n",
       "    <tr>\n",
       "      <th>2</th>\n",
       "      <td>99842587</td>\n",
       "      <td>108</td>\n",
       "      <td>QUEENS</td>\n",
       "      <td>PATROL BORO QUEENS NORTH</td>\n",
       "      <td>53S</td>\n",
       "      <td>VEHICLE ACCIDENT: SPECIAL CONDITION</td>\n",
       "      <td>Non CIP</td>\n",
       "      <td>01/01/2024 12:01:21 AM</td>\n",
       "      <td>40.743037</td>\n",
       "      <td>-73.916826</td>\n",
       "    </tr>\n",
       "    <tr>\n",
       "      <th>3</th>\n",
       "      <td>99843964</td>\n",
       "      <td>114</td>\n",
       "      <td>QUEENS</td>\n",
       "      <td>PATROL BORO QUEENS NORTH</td>\n",
       "      <td>34K1</td>\n",
       "      <td>ASSAULT (IN PROGRESS): KNIFE/INSIDE</td>\n",
       "      <td>Critical</td>\n",
       "      <td>01/01/2024 12:06:11 AM</td>\n",
       "      <td>40.776057</td>\n",
       "      <td>-73.934906</td>\n",
       "    </tr>\n",
       "    <tr>\n",
       "      <th>4</th>\n",
       "      <td>99844026</td>\n",
       "      <td>66</td>\n",
       "      <td>BROOKLYN</td>\n",
       "      <td>PATROL BORO BKLYN SOUTH</td>\n",
       "      <td>11C4</td>\n",
       "      <td>ALARMS: COMMERCIAL/BURGLARY</td>\n",
       "      <td>Non CIP</td>\n",
       "      <td>01/01/2024 12:04:38 AM</td>\n",
       "      <td>40.645174</td>\n",
       "      <td>-73.986820</td>\n",
       "    </tr>\n",
       "  </tbody>\n",
       "</table>\n",
       "</div>"
      ],
      "text/plain": [
       "   CAD_EVNT_ID  NYPD_PCT_CD   BORO_NM             PATRL_BORO_NM RADIO_CODE  \\\n",
       "0     99842231           45     BRONX         PATROL BORO BRONX       52D6   \n",
       "1     99842388          110    QUEENS  PATROL BORO QUEENS NORTH       52D6   \n",
       "2     99842587          108    QUEENS  PATROL BORO QUEENS NORTH        53S   \n",
       "3     99843964          114    QUEENS  PATROL BORO QUEENS NORTH       34K1   \n",
       "4     99844026           66  BROOKLYN   PATROL BORO BKLYN SOUTH       11C4   \n",
       "\n",
       "                              TYP_DESC  CIP_JOBS                  ADD_TS  \\\n",
       "0                      DISPUTE: FAMILY   Non CIP  01/01/2024 12:02:04 AM   \n",
       "1                      DISPUTE: FAMILY   Non CIP  01/01/2024 12:09:59 AM   \n",
       "2  VEHICLE ACCIDENT: SPECIAL CONDITION   Non CIP  01/01/2024 12:01:21 AM   \n",
       "3  ASSAULT (IN PROGRESS): KNIFE/INSIDE  Critical  01/01/2024 12:06:11 AM   \n",
       "4          ALARMS: COMMERCIAL/BURGLARY   Non CIP  01/01/2024 12:04:38 AM   \n",
       "\n",
       "    Latitude  Longitude  \n",
       "0  40.850949 -73.829434  \n",
       "1  40.738144 -73.863466  \n",
       "2  40.743037 -73.916826  \n",
       "3  40.776057 -73.934906  \n",
       "4  40.645174 -73.986820  "
      ]
     },
     "metadata": {},
     "output_type": "display_data"
    },
    {
     "name": "stdout",
     "output_type": "stream",
     "text": [
      "<class 'pandas.core.frame.DataFrame'>\n",
      "RangeIndex: 1460865 entries, 0 to 1460864\n",
      "Data columns (total 11 columns):\n",
      " #   Column         Non-Null Count    Dtype  \n",
      "---  ------         --------------    -----  \n",
      " 0   CAD_EVNT_ID    1460865 non-null  int64  \n",
      " 1   NYPD_PCT_CD    1460865 non-null  int64  \n",
      " 2   BORO_NM        1460865 non-null  object \n",
      " 3   PATRL_BORO_NM  1460865 non-null  object \n",
      " 4   RADIO_CODE     1460865 non-null  object \n",
      " 5   TYP_DESC       1460865 non-null  object \n",
      " 6   CIP_JOBS       1460865 non-null  object \n",
      " 7   DISP_TS        1460865 non-null  object \n",
      " 8   ARRIVD_TS      1460865 non-null  object \n",
      " 9   Latitude       1460865 non-null  float64\n",
      " 10  Longitude      1460865 non-null  float64\n",
      "dtypes: float64(2), int64(2), object(7)\n",
      "memory usage: 122.6+ MB\n"
     ]
    },
    {
     "data": {
      "text/plain": [
       "None"
      ]
     },
     "metadata": {},
     "output_type": "display_data"
    },
    {
     "data": {
      "text/html": [
       "<div>\n",
       "<style scoped>\n",
       "    .dataframe tbody tr th:only-of-type {\n",
       "        vertical-align: middle;\n",
       "    }\n",
       "\n",
       "    .dataframe tbody tr th {\n",
       "        vertical-align: top;\n",
       "    }\n",
       "\n",
       "    .dataframe thead th {\n",
       "        text-align: right;\n",
       "    }\n",
       "</style>\n",
       "<table border=\"1\" class=\"dataframe\">\n",
       "  <thead>\n",
       "    <tr style=\"text-align: right;\">\n",
       "      <th></th>\n",
       "      <th>CAD_EVNT_ID</th>\n",
       "      <th>NYPD_PCT_CD</th>\n",
       "      <th>BORO_NM</th>\n",
       "      <th>PATRL_BORO_NM</th>\n",
       "      <th>RADIO_CODE</th>\n",
       "      <th>TYP_DESC</th>\n",
       "      <th>CIP_JOBS</th>\n",
       "      <th>DISP_TS</th>\n",
       "      <th>ARRIVD_TS</th>\n",
       "      <th>Latitude</th>\n",
       "      <th>Longitude</th>\n",
       "    </tr>\n",
       "  </thead>\n",
       "  <tbody>\n",
       "    <tr>\n",
       "      <th>0</th>\n",
       "      <td>99842587</td>\n",
       "      <td>108</td>\n",
       "      <td>QUEENS</td>\n",
       "      <td>PATROL BORO QUEENS NORTH</td>\n",
       "      <td>53S</td>\n",
       "      <td>VEHICLE ACCIDENT: SPECIAL CONDITION</td>\n",
       "      <td>Non CIP</td>\n",
       "      <td>01/01/2024 12:02:19 AM</td>\n",
       "      <td>01/01/2024 01:19:58 AM</td>\n",
       "      <td>40.743037</td>\n",
       "      <td>-73.916826</td>\n",
       "    </tr>\n",
       "    <tr>\n",
       "      <th>1</th>\n",
       "      <td>99843964</td>\n",
       "      <td>114</td>\n",
       "      <td>QUEENS</td>\n",
       "      <td>PATROL BORO QUEENS NORTH</td>\n",
       "      <td>34K1</td>\n",
       "      <td>ASSAULT (IN PROGRESS): KNIFE/INSIDE</td>\n",
       "      <td>Critical</td>\n",
       "      <td>01/01/2024 12:07:19 AM</td>\n",
       "      <td>01/01/2024 12:19:27 AM</td>\n",
       "      <td>40.776057</td>\n",
       "      <td>-73.934906</td>\n",
       "    </tr>\n",
       "    <tr>\n",
       "      <th>2</th>\n",
       "      <td>99844057</td>\n",
       "      <td>49</td>\n",
       "      <td>BRONX</td>\n",
       "      <td>PATROL BORO BRONX</td>\n",
       "      <td>11C4</td>\n",
       "      <td>ALARMS: COMMERCIAL/BURGLARY</td>\n",
       "      <td>Non CIP</td>\n",
       "      <td>01/01/2024 12:09:21 AM</td>\n",
       "      <td>01/01/2024 12:15:11 AM</td>\n",
       "      <td>40.864330</td>\n",
       "      <td>-73.867393</td>\n",
       "    </tr>\n",
       "    <tr>\n",
       "      <th>3</th>\n",
       "      <td>99844060</td>\n",
       "      <td>34</td>\n",
       "      <td>MANHATTAN</td>\n",
       "      <td>PATROL BORO MAN NORTH</td>\n",
       "      <td>11C4</td>\n",
       "      <td>ALARMS: COMMERCIAL/BURGLARY</td>\n",
       "      <td>Non CIP</td>\n",
       "      <td>01/01/2024 12:12:08 AM</td>\n",
       "      <td>01/01/2024 12:29:16 AM</td>\n",
       "      <td>40.862274</td>\n",
       "      <td>-73.929562</td>\n",
       "    </tr>\n",
       "    <tr>\n",
       "      <th>4</th>\n",
       "      <td>99844063</td>\n",
       "      <td>79</td>\n",
       "      <td>BROOKLYN</td>\n",
       "      <td>PATROL BORO BKLYN NORTH</td>\n",
       "      <td>75S</td>\n",
       "      <td>STATION INSPECTION BY TRANSIT BUREAU PERSONNEL</td>\n",
       "      <td>Non CIP</td>\n",
       "      <td>01/01/2024 12:00:07 AM</td>\n",
       "      <td>01/01/2024 12:00:07 AM</td>\n",
       "      <td>40.680739</td>\n",
       "      <td>-73.949637</td>\n",
       "    </tr>\n",
       "  </tbody>\n",
       "</table>\n",
       "</div>"
      ],
      "text/plain": [
       "   CAD_EVNT_ID  NYPD_PCT_CD    BORO_NM             PATRL_BORO_NM RADIO_CODE  \\\n",
       "0     99842587          108     QUEENS  PATROL BORO QUEENS NORTH        53S   \n",
       "1     99843964          114     QUEENS  PATROL BORO QUEENS NORTH       34K1   \n",
       "2     99844057           49      BRONX         PATROL BORO BRONX       11C4   \n",
       "3     99844060           34  MANHATTAN     PATROL BORO MAN NORTH       11C4   \n",
       "4     99844063           79   BROOKLYN   PATROL BORO BKLYN NORTH        75S   \n",
       "\n",
       "                                         TYP_DESC  CIP_JOBS  \\\n",
       "0             VEHICLE ACCIDENT: SPECIAL CONDITION   Non CIP   \n",
       "1             ASSAULT (IN PROGRESS): KNIFE/INSIDE  Critical   \n",
       "2                     ALARMS: COMMERCIAL/BURGLARY   Non CIP   \n",
       "3                     ALARMS: COMMERCIAL/BURGLARY   Non CIP   \n",
       "4  STATION INSPECTION BY TRANSIT BUREAU PERSONNEL   Non CIP   \n",
       "\n",
       "                  DISP_TS               ARRIVD_TS   Latitude  Longitude  \n",
       "0  01/01/2024 12:02:19 AM  01/01/2024 01:19:58 AM  40.743037 -73.916826  \n",
       "1  01/01/2024 12:07:19 AM  01/01/2024 12:19:27 AM  40.776057 -73.934906  \n",
       "2  01/01/2024 12:09:21 AM  01/01/2024 12:15:11 AM  40.864330 -73.867393  \n",
       "3  01/01/2024 12:12:08 AM  01/01/2024 12:29:16 AM  40.862274 -73.929562  \n",
       "4  01/01/2024 12:00:07 AM  01/01/2024 12:00:07 AM  40.680739 -73.949637  "
      ]
     },
     "metadata": {},
     "output_type": "display_data"
    }
   ],
   "source": [
    "#Checking\n",
    "display(df.info())\n",
    "display(df.head())\n",
    "display(response_df.info())\n",
    "display(response_df.head())"
   ]
  },
  {
   "cell_type": "markdown",
   "metadata": {},
   "source": [
    "### **General Data Fixing:**\n",
    "\n",
    "Now I want to move from left to right and assure the data is presented ina way that makes sense and is more readily presentable.<br>\n",
    "This will also be the best time to look at the columns as compared to one another and determine if there are redundancies that can be removed.<br><br>\n",
    "\n",
    "1. CAD_EVNT_ID -> **int64**\n",
    "    * Should be fine all ids are numerical, a mean or average of this column will mean nothing\n",
    "2. INCIDENT_DATE  -> object\n",
    "    * Makes more sense and will be easier to call functions as a **datetime**. All times will be set to 00 however.\n",
    "3. NYPD_PCT_CD -> int64\n",
    "    * Values are numerical, may want to change to **categorical**\n",
    "4. BORO_NM -> object\n",
    "    * Redundant with PATRL_BORO_NM, need to deside which to keep (more granular or less granular)\n",
    "    * Change to **categorical**\n",
    "5. PATRL_BORO_NM -> object\n",
    "    * Starts all with PATROL BORO I can drop that and keep the boro then change to **categorical**\n",
    "6. RADIO_CODE -> object\n",
    "    * Will need to do a deeper dive to determien is the codes are better to save the relate to this [database](https://www.n2nov.net/nypdcodes.html)\n",
    "    * Change to **categorical**\n",
    "7. TYP_DESC -> object\n",
    "    * Redundent on radio code will drop one, probably this one\n",
    "8. CIP_JOBS -> object\n",
    "    * Change to **categorical**\n",
    "9. ADD_TS -> object\n",
    "    * Change to **datetime**\n",
    "10. DISP_TS -> object\n",
    "    * Change to **datetime**\n",
    "11. ARRIVD_TS -> object\n",
    "    * Change to **datetime**\n",
    "12. CLOSNG_TS -> object\n",
    "    * Change to **datetime**<br>\n",
    "\n",
    "**NOTE:**<br> Potential reudundancy in the TS columns, so intresting insights still exist but will be better when looked at as a seperated df and will only keep one datetime in main df.\n",
    "\n",
    "13. Latitude -> **float64**\n",
    "    * This will stay a float\n",
    "14. Longitude -> **float64**\n",
    "    * This will stay a float\n"
   ]
  },
  {
   "cell_type": "code",
   "execution_count": 15,
   "metadata": {},
   "outputs": [],
   "source": [
    "### Main df ###\n",
    "# Converting specified columns to datetime\n",
    "df['ADD_TS'] = pd.to_datetime(df['ADD_TS'], format='%m/%d/%Y %I:%M:%S %p')\n",
    "\n",
    "# Converting specified columns to category\n",
    "category_columns = ['NYPD_PCT_CD', 'BORO_NM', 'RADIO_CODE', 'CIP_JOBS']\n",
    "for col in category_columns:\n",
    "    df[col] = df[col].astype('category')\n",
    "\n",
    "# Dropping redundant columns\n",
    "df.drop(columns=['PATRL_BORO_NM', 'TYP_DESC'], axis=1, inplace=True)\n",
    "\n",
    "\n",
    "### response_df ###\n",
    "# Converting specified columns to datetime\n",
    "datetime_columns = ['DISP_TS', 'ARRIVD_TS']\n",
    "for col in datetime_columns:\n",
    "    response_df[col] = pd.to_datetime(response_df[col], format='%m/%d/%Y %I:%M:%S %p')\n",
    "\n",
    "# Converting specified columns to category\n",
    "for col in category_columns:\n",
    "    response_df[col] = response_df[col].astype('category')\n",
    "\n",
    "# Dropping redundant columns\n",
    "response_df.drop(columns=['PATRL_BORO_NM', 'TYP_DESC'], inplace=True)"
   ]
  },
  {
   "cell_type": "code",
   "execution_count": 16,
   "metadata": {},
   "outputs": [
    {
     "name": "stdout",
     "output_type": "stream",
     "text": [
      "<class 'pandas.core.frame.DataFrame'>\n",
      "RangeIndex: 1750849 entries, 0 to 1750848\n",
      "Data columns (total 8 columns):\n",
      " #   Column       Non-Null Count    Dtype         \n",
      "---  ------       --------------    -----         \n",
      " 0   CAD_EVNT_ID  1750849 non-null  int64         \n",
      " 1   NYPD_PCT_CD  1750849 non-null  category      \n",
      " 2   BORO_NM      1750849 non-null  category      \n",
      " 3   RADIO_CODE   1750849 non-null  category      \n",
      " 4   CIP_JOBS     1750849 non-null  category      \n",
      " 5   ADD_TS       1750849 non-null  datetime64[ns]\n",
      " 6   Latitude     1750849 non-null  float64       \n",
      " 7   Longitude    1750849 non-null  float64       \n",
      "dtypes: category(4), datetime64[ns](1), float64(2), int64(1)\n",
      "memory usage: 61.8 MB\n"
     ]
    },
    {
     "data": {
      "text/plain": [
       "None"
      ]
     },
     "metadata": {},
     "output_type": "display_data"
    },
    {
     "data": {
      "text/html": [
       "<div>\n",
       "<style scoped>\n",
       "    .dataframe tbody tr th:only-of-type {\n",
       "        vertical-align: middle;\n",
       "    }\n",
       "\n",
       "    .dataframe tbody tr th {\n",
       "        vertical-align: top;\n",
       "    }\n",
       "\n",
       "    .dataframe thead th {\n",
       "        text-align: right;\n",
       "    }\n",
       "</style>\n",
       "<table border=\"1\" class=\"dataframe\">\n",
       "  <thead>\n",
       "    <tr style=\"text-align: right;\">\n",
       "      <th></th>\n",
       "      <th>CAD_EVNT_ID</th>\n",
       "      <th>NYPD_PCT_CD</th>\n",
       "      <th>BORO_NM</th>\n",
       "      <th>RADIO_CODE</th>\n",
       "      <th>CIP_JOBS</th>\n",
       "      <th>ADD_TS</th>\n",
       "      <th>Latitude</th>\n",
       "      <th>Longitude</th>\n",
       "    </tr>\n",
       "  </thead>\n",
       "  <tbody>\n",
       "    <tr>\n",
       "      <th>0</th>\n",
       "      <td>99842231</td>\n",
       "      <td>45</td>\n",
       "      <td>BRONX</td>\n",
       "      <td>52D6</td>\n",
       "      <td>Non CIP</td>\n",
       "      <td>2024-01-01 00:02:04</td>\n",
       "      <td>40.850949</td>\n",
       "      <td>-73.829434</td>\n",
       "    </tr>\n",
       "    <tr>\n",
       "      <th>1</th>\n",
       "      <td>99842388</td>\n",
       "      <td>110</td>\n",
       "      <td>QUEENS</td>\n",
       "      <td>52D6</td>\n",
       "      <td>Non CIP</td>\n",
       "      <td>2024-01-01 00:09:59</td>\n",
       "      <td>40.738144</td>\n",
       "      <td>-73.863466</td>\n",
       "    </tr>\n",
       "    <tr>\n",
       "      <th>2</th>\n",
       "      <td>99842587</td>\n",
       "      <td>108</td>\n",
       "      <td>QUEENS</td>\n",
       "      <td>53S</td>\n",
       "      <td>Non CIP</td>\n",
       "      <td>2024-01-01 00:01:21</td>\n",
       "      <td>40.743037</td>\n",
       "      <td>-73.916826</td>\n",
       "    </tr>\n",
       "    <tr>\n",
       "      <th>3</th>\n",
       "      <td>99843964</td>\n",
       "      <td>114</td>\n",
       "      <td>QUEENS</td>\n",
       "      <td>34K1</td>\n",
       "      <td>Critical</td>\n",
       "      <td>2024-01-01 00:06:11</td>\n",
       "      <td>40.776057</td>\n",
       "      <td>-73.934906</td>\n",
       "    </tr>\n",
       "    <tr>\n",
       "      <th>4</th>\n",
       "      <td>99844026</td>\n",
       "      <td>66</td>\n",
       "      <td>BROOKLYN</td>\n",
       "      <td>11C4</td>\n",
       "      <td>Non CIP</td>\n",
       "      <td>2024-01-01 00:04:38</td>\n",
       "      <td>40.645174</td>\n",
       "      <td>-73.986820</td>\n",
       "    </tr>\n",
       "  </tbody>\n",
       "</table>\n",
       "</div>"
      ],
      "text/plain": [
       "   CAD_EVNT_ID NYPD_PCT_CD   BORO_NM RADIO_CODE  CIP_JOBS              ADD_TS  \\\n",
       "0     99842231          45     BRONX       52D6   Non CIP 2024-01-01 00:02:04   \n",
       "1     99842388         110    QUEENS       52D6   Non CIP 2024-01-01 00:09:59   \n",
       "2     99842587         108    QUEENS        53S   Non CIP 2024-01-01 00:01:21   \n",
       "3     99843964         114    QUEENS       34K1  Critical 2024-01-01 00:06:11   \n",
       "4     99844026          66  BROOKLYN       11C4   Non CIP 2024-01-01 00:04:38   \n",
       "\n",
       "    Latitude  Longitude  \n",
       "0  40.850949 -73.829434  \n",
       "1  40.738144 -73.863466  \n",
       "2  40.743037 -73.916826  \n",
       "3  40.776057 -73.934906  \n",
       "4  40.645174 -73.986820  "
      ]
     },
     "metadata": {},
     "output_type": "display_data"
    },
    {
     "name": "stdout",
     "output_type": "stream",
     "text": [
      "<class 'pandas.core.frame.DataFrame'>\n",
      "RangeIndex: 1460865 entries, 0 to 1460864\n",
      "Data columns (total 9 columns):\n",
      " #   Column       Non-Null Count    Dtype         \n",
      "---  ------       --------------    -----         \n",
      " 0   CAD_EVNT_ID  1460865 non-null  int64         \n",
      " 1   NYPD_PCT_CD  1460865 non-null  category      \n",
      " 2   BORO_NM      1460865 non-null  category      \n",
      " 3   RADIO_CODE   1460865 non-null  category      \n",
      " 4   CIP_JOBS     1460865 non-null  category      \n",
      " 5   DISP_TS      1460865 non-null  datetime64[ns]\n",
      " 6   ARRIVD_TS    1460865 non-null  datetime64[ns]\n",
      " 7   Latitude     1460865 non-null  float64       \n",
      " 8   Longitude    1460865 non-null  float64       \n",
      "dtypes: category(4), datetime64[ns](2), float64(2), int64(1)\n",
      "memory usage: 62.7 MB\n"
     ]
    },
    {
     "data": {
      "text/plain": [
       "None"
      ]
     },
     "metadata": {},
     "output_type": "display_data"
    },
    {
     "data": {
      "text/html": [
       "<div>\n",
       "<style scoped>\n",
       "    .dataframe tbody tr th:only-of-type {\n",
       "        vertical-align: middle;\n",
       "    }\n",
       "\n",
       "    .dataframe tbody tr th {\n",
       "        vertical-align: top;\n",
       "    }\n",
       "\n",
       "    .dataframe thead th {\n",
       "        text-align: right;\n",
       "    }\n",
       "</style>\n",
       "<table border=\"1\" class=\"dataframe\">\n",
       "  <thead>\n",
       "    <tr style=\"text-align: right;\">\n",
       "      <th></th>\n",
       "      <th>CAD_EVNT_ID</th>\n",
       "      <th>NYPD_PCT_CD</th>\n",
       "      <th>BORO_NM</th>\n",
       "      <th>RADIO_CODE</th>\n",
       "      <th>CIP_JOBS</th>\n",
       "      <th>DISP_TS</th>\n",
       "      <th>ARRIVD_TS</th>\n",
       "      <th>Latitude</th>\n",
       "      <th>Longitude</th>\n",
       "    </tr>\n",
       "  </thead>\n",
       "  <tbody>\n",
       "    <tr>\n",
       "      <th>0</th>\n",
       "      <td>99842587</td>\n",
       "      <td>108</td>\n",
       "      <td>QUEENS</td>\n",
       "      <td>53S</td>\n",
       "      <td>Non CIP</td>\n",
       "      <td>2024-01-01 00:02:19</td>\n",
       "      <td>2024-01-01 01:19:58</td>\n",
       "      <td>40.743037</td>\n",
       "      <td>-73.916826</td>\n",
       "    </tr>\n",
       "    <tr>\n",
       "      <th>1</th>\n",
       "      <td>99843964</td>\n",
       "      <td>114</td>\n",
       "      <td>QUEENS</td>\n",
       "      <td>34K1</td>\n",
       "      <td>Critical</td>\n",
       "      <td>2024-01-01 00:07:19</td>\n",
       "      <td>2024-01-01 00:19:27</td>\n",
       "      <td>40.776057</td>\n",
       "      <td>-73.934906</td>\n",
       "    </tr>\n",
       "    <tr>\n",
       "      <th>2</th>\n",
       "      <td>99844057</td>\n",
       "      <td>49</td>\n",
       "      <td>BRONX</td>\n",
       "      <td>11C4</td>\n",
       "      <td>Non CIP</td>\n",
       "      <td>2024-01-01 00:09:21</td>\n",
       "      <td>2024-01-01 00:15:11</td>\n",
       "      <td>40.864330</td>\n",
       "      <td>-73.867393</td>\n",
       "    </tr>\n",
       "    <tr>\n",
       "      <th>3</th>\n",
       "      <td>99844060</td>\n",
       "      <td>34</td>\n",
       "      <td>MANHATTAN</td>\n",
       "      <td>11C4</td>\n",
       "      <td>Non CIP</td>\n",
       "      <td>2024-01-01 00:12:08</td>\n",
       "      <td>2024-01-01 00:29:16</td>\n",
       "      <td>40.862274</td>\n",
       "      <td>-73.929562</td>\n",
       "    </tr>\n",
       "    <tr>\n",
       "      <th>4</th>\n",
       "      <td>99844063</td>\n",
       "      <td>79</td>\n",
       "      <td>BROOKLYN</td>\n",
       "      <td>75S</td>\n",
       "      <td>Non CIP</td>\n",
       "      <td>2024-01-01 00:00:07</td>\n",
       "      <td>2024-01-01 00:00:07</td>\n",
       "      <td>40.680739</td>\n",
       "      <td>-73.949637</td>\n",
       "    </tr>\n",
       "  </tbody>\n",
       "</table>\n",
       "</div>"
      ],
      "text/plain": [
       "   CAD_EVNT_ID NYPD_PCT_CD    BORO_NM RADIO_CODE  CIP_JOBS  \\\n",
       "0     99842587         108     QUEENS        53S   Non CIP   \n",
       "1     99843964         114     QUEENS       34K1  Critical   \n",
       "2     99844057          49      BRONX       11C4   Non CIP   \n",
       "3     99844060          34  MANHATTAN       11C4   Non CIP   \n",
       "4     99844063          79   BROOKLYN        75S   Non CIP   \n",
       "\n",
       "              DISP_TS           ARRIVD_TS   Latitude  Longitude  \n",
       "0 2024-01-01 00:02:19 2024-01-01 01:19:58  40.743037 -73.916826  \n",
       "1 2024-01-01 00:07:19 2024-01-01 00:19:27  40.776057 -73.934906  \n",
       "2 2024-01-01 00:09:21 2024-01-01 00:15:11  40.864330 -73.867393  \n",
       "3 2024-01-01 00:12:08 2024-01-01 00:29:16  40.862274 -73.929562  \n",
       "4 2024-01-01 00:00:07 2024-01-01 00:00:07  40.680739 -73.949637  "
      ]
     },
     "metadata": {},
     "output_type": "display_data"
    }
   ],
   "source": [
    "#New look at CLEANED data\n",
    "display(df.info(show_counts=True))\n",
    "display(df.head())\n",
    "\n",
    "display(response_df.info(show_counts=True))\n",
    "display(response_df.head())"
   ]
  },
  {
   "cell_type": "markdown",
   "metadata": {},
   "source": [
    "## **Data Exploration:**\n",
    "Now that the data is clean I will take a closer look at each column and the distribution of the values. Then we will create some visually to explore some of the findings even deaper to start to being to create a story based on the data."
   ]
  },
  {
   "cell_type": "code",
   "execution_count": 17,
   "metadata": {},
   "outputs": [
    {
     "data": {
      "text/plain": [
       "Timestamp('2024-03-31 23:59:56')"
      ]
     },
     "execution_count": 17,
     "metadata": {},
     "output_type": "execute_result"
    }
   ],
   "source": [
    "df['ADD_TS'].max()"
   ]
  },
  {
   "cell_type": "markdown",
   "metadata": {},
   "source": [
    "#### **Categorical Data Distribitions:**"
   ]
  },
  {
   "cell_type": "markdown",
   "metadata": {},
   "source": [
    "Plot created with help from chatGPT:<br>\n",
    "Summary of prompt:<br>\n",
    "Create a subplot of bar charts using plotly express to show categroical distribuitions using this code style:<br>\n",
    "I then input the code from EDA notebook that had the for loop on enumerate cat_col. Smaller prompts were then asked to help refine the format till the desired end product."
   ]
  },
  {
   "cell_type": "code",
   "execution_count": 18,
   "metadata": {},
   "outputs": [
    {
     "data": {
      "application/vnd.plotly.v1+json": {
       "config": {
        "plotlyServerURL": "https://plot.ly"
       },
       "data": [
        {
         "name": "NYPD_PCT_CD",
         "type": "bar",
         "x": [
          45,
          110,
          108,
          114,
          66,
          14,
          49,
          34,
          79,
          19,
          13,
          48,
          46,
          103,
          109,
          120,
          123,
          6,
          61,
          107,
          111,
          5,
          1,
          84,
          40,
          77,
          44,
          106,
          83,
          121,
          112,
          104,
          73,
          25,
          41,
          68,
          7,
          70,
          122,
          60,
          75,
          24,
          101,
          28,
          72,
          90,
          47,
          52,
          43,
          78,
          62,
          69,
          94,
          88,
          100,
          105,
          30,
          42,
          9,
          26,
          115,
          67,
          18,
          63,
          10,
          102,
          33,
          23,
          81,
          17,
          76,
          71,
          32,
          113,
          50,
          20,
          22
         ],
         "xaxis": "x",
         "y": [
          60526,
          47162,
          46889,
          46089,
          45494,
          38392,
          37705,
          35132,
          34729,
          31915,
          31700,
          31224,
          30585,
          29727,
          28559,
          28530,
          26767,
          26669,
          25985,
          25421,
          25416,
          25047,
          24549,
          24125,
          24104,
          23652,
          23481,
          23038,
          22987,
          22764,
          22744,
          22019,
          21969,
          21430,
          21382,
          20986,
          20722,
          20717,
          20582,
          20308,
          20224,
          19816,
          19800,
          19324,
          19210,
          19210,
          18983,
          18572,
          18231,
          18213,
          18123,
          17890,
          17805,
          17742,
          17683,
          17385,
          17095,
          17005,
          16894,
          16561,
          16546,
          15659,
          15491,
          15381,
          15267,
          15089,
          14810,
          14097,
          13555,
          13418,
          13200,
          13002,
          12632,
          12588,
          10556,
          7992,
          4578
         ],
         "yaxis": "y"
        },
        {
         "name": "BORO_NM",
         "type": "bar",
         "x": [
          "BRONX",
          "QUEENS",
          "BROOKLYN",
          "MANHATTAN",
          "STATEN ISLAND"
         ],
         "xaxis": "x2",
         "y": [
          531162,
          493079,
          349016,
          316692,
          60900
         ],
         "yaxis": "y2"
        },
        {
         "name": "RADIO_CODE",
         "type": "bar",
         "x": [
          "52D6",
          "53S",
          "34K1",
          "11C4",
          "75S",
          "53D",
          "75O",
          "75D",
          "40V",
          "10Y3",
          "11R4",
          "54E2",
          "39H2",
          "59R3",
          "39H1",
          "59Q2",
          "10S2",
          "54U1",
          "68Q1",
          "10H1",
          "10S4",
          "39Q9",
          "59E",
          "75I",
          "10N2",
          "75T",
          "10P1",
          "50G2",
          "39H9",
          "54S1",
          "50P2",
          "75M",
          "31R",
          "13X2",
          "34Q6",
          "10Y8",
          "34K2",
          "50G1",
          "59R4",
          "10S1",
          "68Q2",
          "50P1",
          "52F6",
          "10P9",
          "52D2",
          "59N",
          "68U1",
          "54U2",
          "10H2",
          "10V2",
          "59I",
          "29C",
          "32Q1",
          "52D1",
          "59V",
          "68Q9",
          "56S",
          "54S2",
          "10P2",
          "59B",
          "54E9",
          "39Q1",
          "11C3",
          "59W",
          "53I",
          "54S9",
          "44H2",
          "21R",
          "59U",
          "33",
          "54E1",
          "54C1",
          "75Z",
          "54Q1",
          "75H",
          "10M1",
          "10K2",
          "52K6",
          "24Q1",
          "34Q2",
          "34Q1",
          "22Q1",
          "39C2",
          "59K",
          "54I2",
          "29H2",
          "56S9",
          "30C",
          "24Q2",
          "52K1",
          "53H",
          "22V2",
          "39V6",
          "75C",
          "50P9",
          "24K1",
          "13U2",
          "68U2",
          "10Y9",
          "54I9",
          "75L",
          "54H1",
          "39V1",
          "53S8",
          "20Q2",
          "69S",
          "39T1",
          "54U9",
          "22Q2",
          "29H1",
          "13X1",
          "54Q9",
          "54C3",
          "30Q2",
          "34Q9",
          "24W1",
          "54C2",
          "22P1",
          "32P9",
          "68Q8",
          "54I1",
          "31C",
          "10F1",
          "53I8",
          "67S",
          "10N1",
          "52F1",
          "75A",
          "54R1",
          "10Y7",
          "54L1",
          "44H1",
          "30Q9",
          "53X",
          "11R3",
          "24Q6",
          "59C",
          "39Q2",
          "29Q9",
          "34W2",
          "60I",
          "34W1",
          "11B4",
          "52D9",
          "39C1",
          "10F2",
          "13U9",
          "67S8",
          "10M9",
          "39C9",
          "52K2",
          "53X8",
          "10H9",
          "30R",
          "34K6",
          "29Q1",
          "54Q2",
          "50G9",
          "22P2",
          "20Q1",
          "51",
          "24K2",
          "75F",
          "10K1",
          "10H8",
          "68E1",
          "34W9",
          "34Q7",
          "32V2",
          "24Q9",
          "39G",
          "10K9",
          "31Q",
          "34S1",
          "13X9",
          "11A2",
          "52F2",
          "34Q8",
          "24Q7",
          "24W2",
          "50P8",
          "54R9",
          "10V8",
          "11A9",
          "54H2",
          "29H9",
          "54E8",
          "39V2",
          "32Q2",
          "22V1",
          "75B",
          "13X",
          "34W6",
          "56S8",
          "20Q9",
          "54C9",
          "34K9",
          "24S1",
          "59Q1",
          "22P9",
          "39P6",
          "44P2",
          "32P2",
          "30Q1",
          "52V6",
          "12U2",
          "39T2",
          "44P1",
          "21C",
          "65S",
          "10Q2",
          "54B1",
          "21Q",
          "22Q9",
          "68A1",
          "10N9",
          "24K6",
          "20R",
          "69S9",
          "54R2",
          "44P9",
          "12U1",
          "29T1",
          "59Q9",
          "29Q2",
          "51L8",
          "75P",
          "75Y",
          "34S2",
          "12Z1",
          "50G8",
          "10Q1",
          "39P",
          "012",
          "11A1",
          "34W7",
          "20C",
          "32P1",
          "32V1",
          "10M2",
          "59G",
          "32Q9",
          "53H8",
          "12X2",
          "60I8",
          "50G5",
          "53D8",
          "21Q9",
          "10F8",
          "29B9",
          "59F",
          "008",
          "54U5",
          "29C9",
          "10V1",
          "50P5",
          "44S2",
          "68Q5",
          "54S5",
          "59Q5",
          "54E5",
          "59V8",
          "68M1",
          "21Q5",
          "10Y5",
          "10F5",
          "54I5",
          "10H5",
          "11B3",
          "13U1",
          "54H9",
          "59T9",
          "24Q5",
          "52D5",
          "39H5",
          "10P5",
          "54L2",
          "10P8",
          "13Z1",
          "60H8",
          "10Q5",
          "32Q8",
          "52A6",
          "68U8",
          "20Q5",
          "10Q9",
          "34S9",
          "44L1",
          "33T9",
          "13U8",
          "39G9",
          "11A5",
          "69I",
          "29H8",
          "29H5",
          "39V5",
          "52V1",
          "54H5",
          "34Q5",
          "54B5",
          "59H",
          "39C8",
          "30B",
          "10F9",
          "52D8",
          "39H8",
          "68U9",
          "39T5",
          "75E",
          "44S1",
          "68U5",
          "44H5",
          "10Q8",
          "54Q8",
          "54D4",
          "59I5",
          "13Z9",
          "68A2",
          "24W9",
          "24K9",
          "31Q5",
          "12X",
          "24W6",
          "54S8",
          "44H9",
          "52K9",
          "50N2",
          "59N8",
          "24K5",
          "66T9",
          "39T9",
          "22Q5",
          "12X1",
          "59L",
          "10K5",
          "29T2",
          "002",
          "68M2",
          "52K8",
          "24W5",
          "54Q5",
          "54U8",
          "10S8",
          "54I8",
          "13Z8",
          "69N1",
          "13Z2",
          "52F9",
          "34S6",
          "10S9",
          "11Q4",
          "40V8",
          "54C8",
          "32V8",
          "32V9",
          "54L5",
          "69S8",
          "24S2",
          "34W5",
          "006",
          "54C5",
          "30Q5",
          "66",
          "58D",
          "33S5",
          "13X5",
          "12Z2",
          "34K8",
          "52V2",
          "59M",
          "59Q8",
          "54R5",
          "44P8",
          "34W8",
          "69M1",
          "24S6",
          "39Q8",
          "52F8",
          "59A",
          "22Q8",
          "65S9",
          "65S8",
          "54B2",
          "39G8",
          "44H8",
          "011",
          "68E2",
          "59E9",
          "39V8",
          "11Q3",
          "10N5",
          "69N9",
          "50N1",
          "11C8",
          "68A5",
          "20B",
          "75W",
          "12U9",
          "24Q8",
          "10M5",
          "22P5",
          "20Q8",
          "32Q5",
          "13U5",
          "39C5",
          "68E8",
          "10V9",
          "58S",
          "11Q9",
          "30Q8",
          "59J",
          "29C8",
          "54B9",
          "34S5",
          "44S9",
          "22V8",
          "29T5",
          "29Q5",
          "34K5",
          "10S5",
          "69N2",
          "34S7",
          "55",
          "52K5",
          "65S5",
          "10K8",
          "39V9",
          "68G1",
          "60H",
          "21C9",
          "54R8",
          "24W7",
          "44P5",
          "32P5",
          "001",
          "75W9",
          "69M2",
          "31C9",
          "24S9",
          "34K7",
          "24K7",
          "44S5",
          "52V9",
          "22V5",
          "31Q9",
          "58S8",
          "54H8",
          "29T9",
          "44L5",
          "39Q5",
          "12X9",
          "12U5",
          "10M8",
          "11C9",
          "DEPTOW",
          "75B9",
          "59W8",
          "10N8",
          "13X8",
          "44B",
          "24S5",
          "52V5"
         ],
         "xaxis": "x3",
         "y": [
          186322,
          184127,
          137551,
          92518,
          85118,
          59167,
          56753,
          53985,
          52126,
          45040,
          39935,
          35251,
          31547,
          30565,
          30132,
          27828,
          22965,
          22381,
          22098,
          20205,
          19512,
          18104,
          17953,
          16551,
          15774,
          14175,
          14099,
          13377,
          12003,
          11703,
          11015,
          10809,
          10376,
          10283,
          9092,
          9047,
          9035,
          8156,
          8010,
          7617,
          7324,
          7044,
          6922,
          6753,
          6637,
          6561,
          6113,
          5942,
          5815,
          5815,
          5487,
          5316,
          5162,
          5094,
          5030,
          4731,
          4534,
          4345,
          4290,
          4258,
          4039,
          3977,
          3906,
          3791,
          3736,
          3344,
          3246,
          3195,
          3090,
          3017,
          2840,
          2533,
          2394,
          2354,
          2264,
          2251,
          2219,
          2215,
          2003,
          1980,
          1975,
          1933,
          1789,
          1754,
          1743,
          1686,
          1662,
          1499,
          1489,
          1478,
          1440,
          1389,
          1333,
          1313,
          1273,
          1250,
          1224,
          1216,
          1214,
          1149,
          1137,
          1099,
          1072,
          1056,
          1050,
          1049,
          1000,
          998,
          985,
          984,
          939,
          932,
          932,
          921,
          888,
          883,
          883,
          878,
          865,
          860,
          855,
          845,
          841,
          826,
          815,
          798,
          796,
          762,
          749,
          745,
          730,
          719,
          703,
          701,
          700,
          688,
          663,
          645,
          634,
          612,
          590,
          581,
          577,
          567,
          550,
          539,
          526,
          517,
          514,
          505,
          499,
          494,
          489,
          484,
          483,
          468,
          463,
          461,
          460,
          444,
          441,
          440,
          432,
          401,
          387,
          376,
          364,
          363,
          362,
          352,
          349,
          348,
          339,
          336,
          327,
          320,
          318,
          313,
          311,
          310,
          299,
          295,
          282,
          281,
          277,
          275,
          265,
          260,
          254,
          253,
          247,
          245,
          240,
          239,
          231,
          229,
          229,
          229,
          226,
          225,
          225,
          224,
          217,
          216,
          214,
          206,
          202,
          202,
          196,
          186,
          184,
          178,
          173,
          169,
          167,
          167,
          164,
          156,
          150,
          148,
          148,
          135,
          132,
          132,
          131,
          130,
          128,
          124,
          124,
          122,
          121,
          117,
          112,
          111,
          107,
          106,
          106,
          96,
          96,
          95,
          91,
          89,
          88,
          87,
          86,
          84,
          80,
          79,
          75,
          74,
          73,
          71,
          69,
          69,
          65,
          65,
          64,
          62,
          60,
          59,
          59,
          57,
          57,
          54,
          53,
          53,
          52,
          51,
          51,
          51,
          50,
          48,
          48,
          47,
          45,
          45,
          44,
          44,
          43,
          43,
          40,
          39,
          38,
          38,
          38,
          38,
          37,
          37,
          37,
          36,
          35,
          34,
          32,
          32,
          32,
          31,
          30,
          30,
          30,
          28,
          27,
          26,
          25,
          25,
          24,
          23,
          22,
          22,
          20,
          20,
          20,
          20,
          19,
          19,
          18,
          18,
          17,
          17,
          17,
          17,
          16,
          16,
          16,
          16,
          15,
          15,
          13,
          13,
          13,
          12,
          11,
          11,
          11,
          11,
          11,
          11,
          10,
          10,
          10,
          10,
          10,
          10,
          10,
          10,
          10,
          9,
          9,
          9,
          9,
          9,
          9,
          8,
          8,
          8,
          8,
          8,
          8,
          8,
          7,
          7,
          7,
          7,
          7,
          6,
          6,
          6,
          6,
          6,
          6,
          6,
          6,
          6,
          6,
          6,
          6,
          6,
          6,
          6,
          6,
          6,
          6,
          5,
          5,
          5,
          5,
          5,
          5,
          5,
          5,
          5,
          5,
          5,
          4,
          4,
          4,
          4,
          4,
          4,
          4,
          4,
          4,
          4,
          4,
          3,
          3,
          3,
          3,
          3,
          3,
          3,
          2,
          2,
          2,
          2,
          2,
          2,
          2,
          2,
          2,
          2,
          2,
          2,
          2,
          1,
          1,
          1,
          1,
          1,
          1,
          1,
          1,
          1,
          1,
          1,
          1,
          1,
          1,
          1,
          1,
          1,
          1,
          1,
          1,
          1,
          1,
          1,
          1,
          1,
          1,
          1,
          1,
          1,
          1,
          1,
          1,
          1,
          1,
          1,
          1,
          1,
          1,
          1
         ],
         "yaxis": "y3"
        },
        {
         "name": "CIP_JOBS",
         "type": "bar",
         "x": [
          "Non CIP",
          "Critical",
          "Non Critical",
          "Serious"
         ],
         "xaxis": "x4",
         "y": [
          1636741,
          60952,
          36197,
          16959
         ],
         "yaxis": "y4"
        }
       ],
       "layout": {
        "annotations": [
         {
          "font": {
           "size": 16
          },
          "showarrow": false,
          "text": "NYPD_PCT_CD",
          "x": 0.5,
          "xanchor": "center",
          "xref": "paper",
          "y": 1,
          "yanchor": "bottom",
          "yref": "paper"
         },
         {
          "font": {
           "size": 16
          },
          "showarrow": false,
          "text": "BORO_NM",
          "x": 0.5,
          "xanchor": "center",
          "xref": "paper",
          "y": 0.7375,
          "yanchor": "bottom",
          "yref": "paper"
         },
         {
          "font": {
           "size": 16
          },
          "showarrow": false,
          "text": "RADIO_CODE",
          "x": 0.5,
          "xanchor": "center",
          "xref": "paper",
          "y": 0.475,
          "yanchor": "bottom",
          "yref": "paper"
         },
         {
          "font": {
           "size": 16
          },
          "showarrow": false,
          "text": "CIP_JOBS",
          "x": 0.5,
          "xanchor": "center",
          "xref": "paper",
          "y": 0.2125,
          "yanchor": "bottom",
          "yref": "paper"
         }
        ],
        "height": 2000,
        "margin": {
         "b": 10,
         "l": 15,
         "r": 10,
         "t": 50
        },
        "template": {
         "data": {
          "bar": [
           {
            "error_x": {
             "color": "#2a3f5f"
            },
            "error_y": {
             "color": "#2a3f5f"
            },
            "marker": {
             "line": {
              "color": "#E5ECF6",
              "width": 0.5
             },
             "pattern": {
              "fillmode": "overlay",
              "size": 10,
              "solidity": 0.2
             }
            },
            "type": "bar"
           }
          ],
          "barpolar": [
           {
            "marker": {
             "line": {
              "color": "#E5ECF6",
              "width": 0.5
             },
             "pattern": {
              "fillmode": "overlay",
              "size": 10,
              "solidity": 0.2
             }
            },
            "type": "barpolar"
           }
          ],
          "carpet": [
           {
            "aaxis": {
             "endlinecolor": "#2a3f5f",
             "gridcolor": "white",
             "linecolor": "white",
             "minorgridcolor": "white",
             "startlinecolor": "#2a3f5f"
            },
            "baxis": {
             "endlinecolor": "#2a3f5f",
             "gridcolor": "white",
             "linecolor": "white",
             "minorgridcolor": "white",
             "startlinecolor": "#2a3f5f"
            },
            "type": "carpet"
           }
          ],
          "choropleth": [
           {
            "colorbar": {
             "outlinewidth": 0,
             "ticks": ""
            },
            "type": "choropleth"
           }
          ],
          "contour": [
           {
            "colorbar": {
             "outlinewidth": 0,
             "ticks": ""
            },
            "colorscale": [
             [
              0,
              "#0d0887"
             ],
             [
              0.1111111111111111,
              "#46039f"
             ],
             [
              0.2222222222222222,
              "#7201a8"
             ],
             [
              0.3333333333333333,
              "#9c179e"
             ],
             [
              0.4444444444444444,
              "#bd3786"
             ],
             [
              0.5555555555555556,
              "#d8576b"
             ],
             [
              0.6666666666666666,
              "#ed7953"
             ],
             [
              0.7777777777777778,
              "#fb9f3a"
             ],
             [
              0.8888888888888888,
              "#fdca26"
             ],
             [
              1,
              "#f0f921"
             ]
            ],
            "type": "contour"
           }
          ],
          "contourcarpet": [
           {
            "colorbar": {
             "outlinewidth": 0,
             "ticks": ""
            },
            "type": "contourcarpet"
           }
          ],
          "heatmap": [
           {
            "colorbar": {
             "outlinewidth": 0,
             "ticks": ""
            },
            "colorscale": [
             [
              0,
              "#0d0887"
             ],
             [
              0.1111111111111111,
              "#46039f"
             ],
             [
              0.2222222222222222,
              "#7201a8"
             ],
             [
              0.3333333333333333,
              "#9c179e"
             ],
             [
              0.4444444444444444,
              "#bd3786"
             ],
             [
              0.5555555555555556,
              "#d8576b"
             ],
             [
              0.6666666666666666,
              "#ed7953"
             ],
             [
              0.7777777777777778,
              "#fb9f3a"
             ],
             [
              0.8888888888888888,
              "#fdca26"
             ],
             [
              1,
              "#f0f921"
             ]
            ],
            "type": "heatmap"
           }
          ],
          "heatmapgl": [
           {
            "colorbar": {
             "outlinewidth": 0,
             "ticks": ""
            },
            "colorscale": [
             [
              0,
              "#0d0887"
             ],
             [
              0.1111111111111111,
              "#46039f"
             ],
             [
              0.2222222222222222,
              "#7201a8"
             ],
             [
              0.3333333333333333,
              "#9c179e"
             ],
             [
              0.4444444444444444,
              "#bd3786"
             ],
             [
              0.5555555555555556,
              "#d8576b"
             ],
             [
              0.6666666666666666,
              "#ed7953"
             ],
             [
              0.7777777777777778,
              "#fb9f3a"
             ],
             [
              0.8888888888888888,
              "#fdca26"
             ],
             [
              1,
              "#f0f921"
             ]
            ],
            "type": "heatmapgl"
           }
          ],
          "histogram": [
           {
            "marker": {
             "pattern": {
              "fillmode": "overlay",
              "size": 10,
              "solidity": 0.2
             }
            },
            "type": "histogram"
           }
          ],
          "histogram2d": [
           {
            "colorbar": {
             "outlinewidth": 0,
             "ticks": ""
            },
            "colorscale": [
             [
              0,
              "#0d0887"
             ],
             [
              0.1111111111111111,
              "#46039f"
             ],
             [
              0.2222222222222222,
              "#7201a8"
             ],
             [
              0.3333333333333333,
              "#9c179e"
             ],
             [
              0.4444444444444444,
              "#bd3786"
             ],
             [
              0.5555555555555556,
              "#d8576b"
             ],
             [
              0.6666666666666666,
              "#ed7953"
             ],
             [
              0.7777777777777778,
              "#fb9f3a"
             ],
             [
              0.8888888888888888,
              "#fdca26"
             ],
             [
              1,
              "#f0f921"
             ]
            ],
            "type": "histogram2d"
           }
          ],
          "histogram2dcontour": [
           {
            "colorbar": {
             "outlinewidth": 0,
             "ticks": ""
            },
            "colorscale": [
             [
              0,
              "#0d0887"
             ],
             [
              0.1111111111111111,
              "#46039f"
             ],
             [
              0.2222222222222222,
              "#7201a8"
             ],
             [
              0.3333333333333333,
              "#9c179e"
             ],
             [
              0.4444444444444444,
              "#bd3786"
             ],
             [
              0.5555555555555556,
              "#d8576b"
             ],
             [
              0.6666666666666666,
              "#ed7953"
             ],
             [
              0.7777777777777778,
              "#fb9f3a"
             ],
             [
              0.8888888888888888,
              "#fdca26"
             ],
             [
              1,
              "#f0f921"
             ]
            ],
            "type": "histogram2dcontour"
           }
          ],
          "mesh3d": [
           {
            "colorbar": {
             "outlinewidth": 0,
             "ticks": ""
            },
            "type": "mesh3d"
           }
          ],
          "parcoords": [
           {
            "line": {
             "colorbar": {
              "outlinewidth": 0,
              "ticks": ""
             }
            },
            "type": "parcoords"
           }
          ],
          "pie": [
           {
            "automargin": true,
            "type": "pie"
           }
          ],
          "scatter": [
           {
            "fillpattern": {
             "fillmode": "overlay",
             "size": 10,
             "solidity": 0.2
            },
            "type": "scatter"
           }
          ],
          "scatter3d": [
           {
            "line": {
             "colorbar": {
              "outlinewidth": 0,
              "ticks": ""
             }
            },
            "marker": {
             "colorbar": {
              "outlinewidth": 0,
              "ticks": ""
             }
            },
            "type": "scatter3d"
           }
          ],
          "scattercarpet": [
           {
            "marker": {
             "colorbar": {
              "outlinewidth": 0,
              "ticks": ""
             }
            },
            "type": "scattercarpet"
           }
          ],
          "scattergeo": [
           {
            "marker": {
             "colorbar": {
              "outlinewidth": 0,
              "ticks": ""
             }
            },
            "type": "scattergeo"
           }
          ],
          "scattergl": [
           {
            "marker": {
             "colorbar": {
              "outlinewidth": 0,
              "ticks": ""
             }
            },
            "type": "scattergl"
           }
          ],
          "scattermapbox": [
           {
            "marker": {
             "colorbar": {
              "outlinewidth": 0,
              "ticks": ""
             }
            },
            "type": "scattermapbox"
           }
          ],
          "scatterpolar": [
           {
            "marker": {
             "colorbar": {
              "outlinewidth": 0,
              "ticks": ""
             }
            },
            "type": "scatterpolar"
           }
          ],
          "scatterpolargl": [
           {
            "marker": {
             "colorbar": {
              "outlinewidth": 0,
              "ticks": ""
             }
            },
            "type": "scatterpolargl"
           }
          ],
          "scatterternary": [
           {
            "marker": {
             "colorbar": {
              "outlinewidth": 0,
              "ticks": ""
             }
            },
            "type": "scatterternary"
           }
          ],
          "surface": [
           {
            "colorbar": {
             "outlinewidth": 0,
             "ticks": ""
            },
            "colorscale": [
             [
              0,
              "#0d0887"
             ],
             [
              0.1111111111111111,
              "#46039f"
             ],
             [
              0.2222222222222222,
              "#7201a8"
             ],
             [
              0.3333333333333333,
              "#9c179e"
             ],
             [
              0.4444444444444444,
              "#bd3786"
             ],
             [
              0.5555555555555556,
              "#d8576b"
             ],
             [
              0.6666666666666666,
              "#ed7953"
             ],
             [
              0.7777777777777778,
              "#fb9f3a"
             ],
             [
              0.8888888888888888,
              "#fdca26"
             ],
             [
              1,
              "#f0f921"
             ]
            ],
            "type": "surface"
           }
          ],
          "table": [
           {
            "cells": {
             "fill": {
              "color": "#EBF0F8"
             },
             "line": {
              "color": "white"
             }
            },
            "header": {
             "fill": {
              "color": "#C8D4E3"
             },
             "line": {
              "color": "white"
             }
            },
            "type": "table"
           }
          ]
         },
         "layout": {
          "annotationdefaults": {
           "arrowcolor": "#2a3f5f",
           "arrowhead": 0,
           "arrowwidth": 1
          },
          "autotypenumbers": "strict",
          "coloraxis": {
           "colorbar": {
            "outlinewidth": 0,
            "ticks": ""
           }
          },
          "colorscale": {
           "diverging": [
            [
             0,
             "#8e0152"
            ],
            [
             0.1,
             "#c51b7d"
            ],
            [
             0.2,
             "#de77ae"
            ],
            [
             0.3,
             "#f1b6da"
            ],
            [
             0.4,
             "#fde0ef"
            ],
            [
             0.5,
             "#f7f7f7"
            ],
            [
             0.6,
             "#e6f5d0"
            ],
            [
             0.7,
             "#b8e186"
            ],
            [
             0.8,
             "#7fbc41"
            ],
            [
             0.9,
             "#4d9221"
            ],
            [
             1,
             "#276419"
            ]
           ],
           "sequential": [
            [
             0,
             "#0d0887"
            ],
            [
             0.1111111111111111,
             "#46039f"
            ],
            [
             0.2222222222222222,
             "#7201a8"
            ],
            [
             0.3333333333333333,
             "#9c179e"
            ],
            [
             0.4444444444444444,
             "#bd3786"
            ],
            [
             0.5555555555555556,
             "#d8576b"
            ],
            [
             0.6666666666666666,
             "#ed7953"
            ],
            [
             0.7777777777777778,
             "#fb9f3a"
            ],
            [
             0.8888888888888888,
             "#fdca26"
            ],
            [
             1,
             "#f0f921"
            ]
           ],
           "sequentialminus": [
            [
             0,
             "#0d0887"
            ],
            [
             0.1111111111111111,
             "#46039f"
            ],
            [
             0.2222222222222222,
             "#7201a8"
            ],
            [
             0.3333333333333333,
             "#9c179e"
            ],
            [
             0.4444444444444444,
             "#bd3786"
            ],
            [
             0.5555555555555556,
             "#d8576b"
            ],
            [
             0.6666666666666666,
             "#ed7953"
            ],
            [
             0.7777777777777778,
             "#fb9f3a"
            ],
            [
             0.8888888888888888,
             "#fdca26"
            ],
            [
             1,
             "#f0f921"
            ]
           ]
          },
          "colorway": [
           "#636efa",
           "#EF553B",
           "#00cc96",
           "#ab63fa",
           "#FFA15A",
           "#19d3f3",
           "#FF6692",
           "#B6E880",
           "#FF97FF",
           "#FECB52"
          ],
          "font": {
           "color": "#2a3f5f"
          },
          "geo": {
           "bgcolor": "white",
           "lakecolor": "white",
           "landcolor": "#E5ECF6",
           "showlakes": true,
           "showland": true,
           "subunitcolor": "white"
          },
          "hoverlabel": {
           "align": "left"
          },
          "hovermode": "closest",
          "mapbox": {
           "style": "light"
          },
          "paper_bgcolor": "white",
          "plot_bgcolor": "#E5ECF6",
          "polar": {
           "angularaxis": {
            "gridcolor": "white",
            "linecolor": "white",
            "ticks": ""
           },
           "bgcolor": "#E5ECF6",
           "radialaxis": {
            "gridcolor": "white",
            "linecolor": "white",
            "ticks": ""
           }
          },
          "scene": {
           "xaxis": {
            "backgroundcolor": "#E5ECF6",
            "gridcolor": "white",
            "gridwidth": 2,
            "linecolor": "white",
            "showbackground": true,
            "ticks": "",
            "zerolinecolor": "white"
           },
           "yaxis": {
            "backgroundcolor": "#E5ECF6",
            "gridcolor": "white",
            "gridwidth": 2,
            "linecolor": "white",
            "showbackground": true,
            "ticks": "",
            "zerolinecolor": "white"
           },
           "zaxis": {
            "backgroundcolor": "#E5ECF6",
            "gridcolor": "white",
            "gridwidth": 2,
            "linecolor": "white",
            "showbackground": true,
            "ticks": "",
            "zerolinecolor": "white"
           }
          },
          "shapedefaults": {
           "line": {
            "color": "#2a3f5f"
           }
          },
          "ternary": {
           "aaxis": {
            "gridcolor": "white",
            "linecolor": "white",
            "ticks": ""
           },
           "baxis": {
            "gridcolor": "white",
            "linecolor": "white",
            "ticks": ""
           },
           "bgcolor": "#E5ECF6",
           "caxis": {
            "gridcolor": "white",
            "linecolor": "white",
            "ticks": ""
           }
          },
          "title": {
           "x": 0.05
          },
          "xaxis": {
           "automargin": true,
           "gridcolor": "white",
           "linecolor": "white",
           "ticks": "",
           "title": {
            "standoff": 15
           },
           "zerolinecolor": "white",
           "zerolinewidth": 2
          },
          "yaxis": {
           "automargin": true,
           "gridcolor": "white",
           "linecolor": "white",
           "ticks": "",
           "title": {
            "standoff": 15
           },
           "zerolinecolor": "white",
           "zerolinewidth": 2
          }
         }
        },
        "title": {
         "text": "Category Plots"
        },
        "width": 1700,
        "xaxis": {
         "anchor": "y",
         "domain": [
          0,
          1
         ],
         "matches": "x"
        },
        "xaxis2": {
         "anchor": "y2",
         "domain": [
          0,
          1
         ],
         "matches": "x"
        },
        "xaxis3": {
         "anchor": "y3",
         "domain": [
          0,
          1
         ],
         "matches": "x"
        },
        "xaxis4": {
         "anchor": "y4",
         "domain": [
          0,
          1
         ],
         "matches": "x"
        },
        "yaxis": {
         "anchor": "x",
         "domain": [
          0.7875,
          1
         ],
         "title": {
          "text": "Total Number of Calls"
         },
         "type": "log"
        },
        "yaxis2": {
         "anchor": "x2",
         "domain": [
          0.525,
          0.7375
         ],
         "title": {
          "text": "Total Number of Calls"
         },
         "type": "log"
        },
        "yaxis3": {
         "anchor": "x3",
         "domain": [
          0.2625,
          0.475
         ],
         "title": {
          "text": "Total Number of Calls"
         },
         "type": "log"
        },
        "yaxis4": {
         "anchor": "x4",
         "domain": [
          0,
          0.2125
         ],
         "title": {
          "text": "Total Number of Calls"
         },
         "type": "log"
        }
       }
      }
     },
     "metadata": {},
     "output_type": "display_data"
    }
   ],
   "source": [
    "#Plotting categorical columns\n",
    "fig = make_subplots(rows=4, cols=1, subplot_titles=category_columns, vertical_spacing=.05)\n",
    "\n",
    "for i, col in enumerate(category_columns):\n",
    "    # row = (i // 2) + 1 #--- had a 2x2 wanted to change, though code was cool so kept it\n",
    "    # col_pos = (i % 2) + 1\n",
    "    row = i+1\n",
    "    trace = go.Bar(x=df[col].unique(), y=df[col].value_counts(), name=col)\n",
    "    fig.add_trace(trace, row=row, col=1) #col=col_pos\n",
    "    fig.update_yaxes(title_text='Total Number of Calls')\n",
    "    #Setting log scale to make graphs more ledgable...\n",
    "    if i == 2 or 3:\n",
    "      fig.update_yaxes(type=\"log\", row=row, col=1)\n",
    "\n",
    "fig.update_xaxes(matches='x')\n",
    "fig.update_layout(\n",
    "    title_text='Category Plots',\n",
    "    width=1700,\n",
    "    height=2000,\n",
    "    margin=dict(l=15, r=10, t=50, b=10)\n",
    ")\n",
    "fig.show()"
   ]
  },
  {
   "cell_type": "markdown",
   "metadata": {},
   "source": [
    "##### Insights:\n",
    "* With the first distribution we are looking at total call volume by NYPD precinct. NYC precincts are differenciated by number, the graph above is then ploting those on a numeric x axis. Any number missing a bar doesn't have a corrilating precinct. However, from this chart we can defently see a difference in volume. Precinct 22 has the lowest call volume with ~4,500, this precinct belongs to the central park precint. This would make sense as there are no resident of central park so by people living in the area is close to zero. The precinct with the highest call volume is 45, located in the bronx, this makes sense as when we look at call volume by burrow the bornx has the highest volume.\n",
    "* With the next distribution we are looking at call distribution by burrow. As reflected above, we see that the bronx has the highest call volume. To assure that this is not due to a larger population I refered to a [NYC population map](https://www.citypopulation.de/en/usa/newyorkcity/). The burrow with the largest population is brooklyn. This data could then reflect the 911 emergency rate in the bronx is the highest of all the burrows. Next the borough with the lowest call volume is staten island. This is probably mostly do to population as it has the lowest population of any burrow by a factor of 4.\n",
    "* The next graph looks at the distribution of calls broken down by radio code, an event identifier. This graph had to be put on a log scale for visibility as there is a large discrepency between the most frequent and least frequenct call event types. Using a [radio code interpritaion website](https://www.n2nov.net/nypdcodes.html) The two event types with the highest frequency are dispute(dispute) and vehicle acident, then relatively closely followed by assult(knife). There are then many radio codes that came up only once or twice its not worth diving into all of them but they involve things like mostly due to operational codes like research(disabled vehicle).\n",
    "* Finally we see a breakdown of crime in progress. Againg this graph was placed on a log scale to get a better view of the column breakdowns. The vast majority of calls are not in progress crimes (1.6M). While the highest flag (serious) has a low volume of calls (~17,000)."
   ]
  },
  {
   "cell_type": "markdown",
   "metadata": {},
   "source": [
    "#### **Distribution by datetime:**\n",
    "There aren't really any numerical values to represent here so I thought it would be good to look at the call distribution by datetime.\n",
    "* how many calls by month\n",
    "* how many calls by day of week\n",
    "* how many call within each hour of day"
   ]
  },
  {
   "cell_type": "code",
   "execution_count": 19,
   "metadata": {},
   "outputs": [
    {
     "name": "stdout",
     "output_type": "stream",
     "text": [
      "ADD_TS\n",
      "2024    1750849\n",
      "Name: count, dtype: int64\n"
     ]
    }
   ],
   "source": [
    "value_counts = df['ADD_TS'].dt.year.value_counts().sort_index()\n",
    "print(value_counts)"
   ]
  },
  {
   "cell_type": "markdown",
   "metadata": {},
   "source": [
    "Plot created with help from chatGPT:<br>\n",
    "Summary of prompt:<br>\n",
    "Using format of the subplot create above, create a distribution based on a datetime column broken down by year, month, day of week, and hour of day. I then modified and added correct dataframe name and column names. I had to ask to sort based on calnder order."
   ]
  },
  {
   "cell_type": "code",
   "execution_count": 20,
   "metadata": {},
   "outputs": [
    {
     "data": {
      "application/vnd.plotly.v1+json": {
       "config": {
        "plotlyServerURL": "https://plot.ly"
       },
       "data": [
        {
         "name": "Year",
         "type": "bar",
         "x": [
          2024
         ],
         "xaxis": "x",
         "y": [
          1750849
         ],
         "yaxis": "y"
        },
        {
         "name": "Month",
         "type": "bar",
         "x": [
          "January",
          "February",
          "March",
          "April",
          "May",
          "June",
          "July",
          "August",
          "September",
          "October",
          "November",
          "December"
         ],
         "xaxis": "x2",
         "y": [
          561749,
          552545,
          636555,
          null,
          null,
          null,
          null,
          null,
          null,
          null,
          null,
          null
         ],
         "yaxis": "y2"
        },
        {
         "name": "Day of Week",
         "type": "bar",
         "x": [
          "Monday",
          "Tuesday",
          "Wednesday",
          "Thursday",
          "Friday",
          "Saturday",
          "Sunday"
         ],
         "xaxis": "x3",
         "y": [
          236636,
          248548,
          254057,
          255631,
          265861,
          249552,
          240564
         ],
         "yaxis": "y3"
        },
        {
         "name": "Hour of Day",
         "type": "bar",
         "x": [
          0,
          1,
          2,
          3,
          4,
          5,
          6,
          7,
          8,
          9,
          10,
          11,
          12,
          13,
          14,
          15,
          16,
          17,
          18,
          19,
          20,
          21,
          22,
          23
         ],
         "xaxis": "x4",
         "y": [
          77486,
          66949,
          53895,
          45925,
          41071,
          36204,
          41348,
          48850,
          76134,
          75771,
          72821,
          71239,
          74879,
          77690,
          89839,
          89085,
          104797,
          100832,
          100005,
          94303,
          90050,
          82282,
          75129,
          64265
         ],
         "yaxis": "y4"
        }
       ],
       "layout": {
        "annotations": [
         {
          "font": {
           "size": 16
          },
          "showarrow": false,
          "text": "Year",
          "x": 0.5,
          "xanchor": "center",
          "xref": "paper",
          "y": 1,
          "yanchor": "bottom",
          "yref": "paper"
         },
         {
          "font": {
           "size": 16
          },
          "showarrow": false,
          "text": "Month",
          "x": 0.5,
          "xanchor": "center",
          "xref": "paper",
          "y": 0.7375,
          "yanchor": "bottom",
          "yref": "paper"
         },
         {
          "font": {
           "size": 16
          },
          "showarrow": false,
          "text": "Day of Week",
          "x": 0.5,
          "xanchor": "center",
          "xref": "paper",
          "y": 0.475,
          "yanchor": "bottom",
          "yref": "paper"
         },
         {
          "font": {
           "size": 16
          },
          "showarrow": false,
          "text": "Hour of Day",
          "x": 0.5,
          "xanchor": "center",
          "xref": "paper",
          "y": 0.2125,
          "yanchor": "bottom",
          "yref": "paper"
         }
        ],
        "height": 2000,
        "margin": {
         "b": 10,
         "l": 15,
         "r": 10,
         "t": 50
        },
        "template": {
         "data": {
          "bar": [
           {
            "error_x": {
             "color": "#2a3f5f"
            },
            "error_y": {
             "color": "#2a3f5f"
            },
            "marker": {
             "line": {
              "color": "#E5ECF6",
              "width": 0.5
             },
             "pattern": {
              "fillmode": "overlay",
              "size": 10,
              "solidity": 0.2
             }
            },
            "type": "bar"
           }
          ],
          "barpolar": [
           {
            "marker": {
             "line": {
              "color": "#E5ECF6",
              "width": 0.5
             },
             "pattern": {
              "fillmode": "overlay",
              "size": 10,
              "solidity": 0.2
             }
            },
            "type": "barpolar"
           }
          ],
          "carpet": [
           {
            "aaxis": {
             "endlinecolor": "#2a3f5f",
             "gridcolor": "white",
             "linecolor": "white",
             "minorgridcolor": "white",
             "startlinecolor": "#2a3f5f"
            },
            "baxis": {
             "endlinecolor": "#2a3f5f",
             "gridcolor": "white",
             "linecolor": "white",
             "minorgridcolor": "white",
             "startlinecolor": "#2a3f5f"
            },
            "type": "carpet"
           }
          ],
          "choropleth": [
           {
            "colorbar": {
             "outlinewidth": 0,
             "ticks": ""
            },
            "type": "choropleth"
           }
          ],
          "contour": [
           {
            "colorbar": {
             "outlinewidth": 0,
             "ticks": ""
            },
            "colorscale": [
             [
              0,
              "#0d0887"
             ],
             [
              0.1111111111111111,
              "#46039f"
             ],
             [
              0.2222222222222222,
              "#7201a8"
             ],
             [
              0.3333333333333333,
              "#9c179e"
             ],
             [
              0.4444444444444444,
              "#bd3786"
             ],
             [
              0.5555555555555556,
              "#d8576b"
             ],
             [
              0.6666666666666666,
              "#ed7953"
             ],
             [
              0.7777777777777778,
              "#fb9f3a"
             ],
             [
              0.8888888888888888,
              "#fdca26"
             ],
             [
              1,
              "#f0f921"
             ]
            ],
            "type": "contour"
           }
          ],
          "contourcarpet": [
           {
            "colorbar": {
             "outlinewidth": 0,
             "ticks": ""
            },
            "type": "contourcarpet"
           }
          ],
          "heatmap": [
           {
            "colorbar": {
             "outlinewidth": 0,
             "ticks": ""
            },
            "colorscale": [
             [
              0,
              "#0d0887"
             ],
             [
              0.1111111111111111,
              "#46039f"
             ],
             [
              0.2222222222222222,
              "#7201a8"
             ],
             [
              0.3333333333333333,
              "#9c179e"
             ],
             [
              0.4444444444444444,
              "#bd3786"
             ],
             [
              0.5555555555555556,
              "#d8576b"
             ],
             [
              0.6666666666666666,
              "#ed7953"
             ],
             [
              0.7777777777777778,
              "#fb9f3a"
             ],
             [
              0.8888888888888888,
              "#fdca26"
             ],
             [
              1,
              "#f0f921"
             ]
            ],
            "type": "heatmap"
           }
          ],
          "heatmapgl": [
           {
            "colorbar": {
             "outlinewidth": 0,
             "ticks": ""
            },
            "colorscale": [
             [
              0,
              "#0d0887"
             ],
             [
              0.1111111111111111,
              "#46039f"
             ],
             [
              0.2222222222222222,
              "#7201a8"
             ],
             [
              0.3333333333333333,
              "#9c179e"
             ],
             [
              0.4444444444444444,
              "#bd3786"
             ],
             [
              0.5555555555555556,
              "#d8576b"
             ],
             [
              0.6666666666666666,
              "#ed7953"
             ],
             [
              0.7777777777777778,
              "#fb9f3a"
             ],
             [
              0.8888888888888888,
              "#fdca26"
             ],
             [
              1,
              "#f0f921"
             ]
            ],
            "type": "heatmapgl"
           }
          ],
          "histogram": [
           {
            "marker": {
             "pattern": {
              "fillmode": "overlay",
              "size": 10,
              "solidity": 0.2
             }
            },
            "type": "histogram"
           }
          ],
          "histogram2d": [
           {
            "colorbar": {
             "outlinewidth": 0,
             "ticks": ""
            },
            "colorscale": [
             [
              0,
              "#0d0887"
             ],
             [
              0.1111111111111111,
              "#46039f"
             ],
             [
              0.2222222222222222,
              "#7201a8"
             ],
             [
              0.3333333333333333,
              "#9c179e"
             ],
             [
              0.4444444444444444,
              "#bd3786"
             ],
             [
              0.5555555555555556,
              "#d8576b"
             ],
             [
              0.6666666666666666,
              "#ed7953"
             ],
             [
              0.7777777777777778,
              "#fb9f3a"
             ],
             [
              0.8888888888888888,
              "#fdca26"
             ],
             [
              1,
              "#f0f921"
             ]
            ],
            "type": "histogram2d"
           }
          ],
          "histogram2dcontour": [
           {
            "colorbar": {
             "outlinewidth": 0,
             "ticks": ""
            },
            "colorscale": [
             [
              0,
              "#0d0887"
             ],
             [
              0.1111111111111111,
              "#46039f"
             ],
             [
              0.2222222222222222,
              "#7201a8"
             ],
             [
              0.3333333333333333,
              "#9c179e"
             ],
             [
              0.4444444444444444,
              "#bd3786"
             ],
             [
              0.5555555555555556,
              "#d8576b"
             ],
             [
              0.6666666666666666,
              "#ed7953"
             ],
             [
              0.7777777777777778,
              "#fb9f3a"
             ],
             [
              0.8888888888888888,
              "#fdca26"
             ],
             [
              1,
              "#f0f921"
             ]
            ],
            "type": "histogram2dcontour"
           }
          ],
          "mesh3d": [
           {
            "colorbar": {
             "outlinewidth": 0,
             "ticks": ""
            },
            "type": "mesh3d"
           }
          ],
          "parcoords": [
           {
            "line": {
             "colorbar": {
              "outlinewidth": 0,
              "ticks": ""
             }
            },
            "type": "parcoords"
           }
          ],
          "pie": [
           {
            "automargin": true,
            "type": "pie"
           }
          ],
          "scatter": [
           {
            "fillpattern": {
             "fillmode": "overlay",
             "size": 10,
             "solidity": 0.2
            },
            "type": "scatter"
           }
          ],
          "scatter3d": [
           {
            "line": {
             "colorbar": {
              "outlinewidth": 0,
              "ticks": ""
             }
            },
            "marker": {
             "colorbar": {
              "outlinewidth": 0,
              "ticks": ""
             }
            },
            "type": "scatter3d"
           }
          ],
          "scattercarpet": [
           {
            "marker": {
             "colorbar": {
              "outlinewidth": 0,
              "ticks": ""
             }
            },
            "type": "scattercarpet"
           }
          ],
          "scattergeo": [
           {
            "marker": {
             "colorbar": {
              "outlinewidth": 0,
              "ticks": ""
             }
            },
            "type": "scattergeo"
           }
          ],
          "scattergl": [
           {
            "marker": {
             "colorbar": {
              "outlinewidth": 0,
              "ticks": ""
             }
            },
            "type": "scattergl"
           }
          ],
          "scattermapbox": [
           {
            "marker": {
             "colorbar": {
              "outlinewidth": 0,
              "ticks": ""
             }
            },
            "type": "scattermapbox"
           }
          ],
          "scatterpolar": [
           {
            "marker": {
             "colorbar": {
              "outlinewidth": 0,
              "ticks": ""
             }
            },
            "type": "scatterpolar"
           }
          ],
          "scatterpolargl": [
           {
            "marker": {
             "colorbar": {
              "outlinewidth": 0,
              "ticks": ""
             }
            },
            "type": "scatterpolargl"
           }
          ],
          "scatterternary": [
           {
            "marker": {
             "colorbar": {
              "outlinewidth": 0,
              "ticks": ""
             }
            },
            "type": "scatterternary"
           }
          ],
          "surface": [
           {
            "colorbar": {
             "outlinewidth": 0,
             "ticks": ""
            },
            "colorscale": [
             [
              0,
              "#0d0887"
             ],
             [
              0.1111111111111111,
              "#46039f"
             ],
             [
              0.2222222222222222,
              "#7201a8"
             ],
             [
              0.3333333333333333,
              "#9c179e"
             ],
             [
              0.4444444444444444,
              "#bd3786"
             ],
             [
              0.5555555555555556,
              "#d8576b"
             ],
             [
              0.6666666666666666,
              "#ed7953"
             ],
             [
              0.7777777777777778,
              "#fb9f3a"
             ],
             [
              0.8888888888888888,
              "#fdca26"
             ],
             [
              1,
              "#f0f921"
             ]
            ],
            "type": "surface"
           }
          ],
          "table": [
           {
            "cells": {
             "fill": {
              "color": "#EBF0F8"
             },
             "line": {
              "color": "white"
             }
            },
            "header": {
             "fill": {
              "color": "#C8D4E3"
             },
             "line": {
              "color": "white"
             }
            },
            "type": "table"
           }
          ]
         },
         "layout": {
          "annotationdefaults": {
           "arrowcolor": "#2a3f5f",
           "arrowhead": 0,
           "arrowwidth": 1
          },
          "autotypenumbers": "strict",
          "coloraxis": {
           "colorbar": {
            "outlinewidth": 0,
            "ticks": ""
           }
          },
          "colorscale": {
           "diverging": [
            [
             0,
             "#8e0152"
            ],
            [
             0.1,
             "#c51b7d"
            ],
            [
             0.2,
             "#de77ae"
            ],
            [
             0.3,
             "#f1b6da"
            ],
            [
             0.4,
             "#fde0ef"
            ],
            [
             0.5,
             "#f7f7f7"
            ],
            [
             0.6,
             "#e6f5d0"
            ],
            [
             0.7,
             "#b8e186"
            ],
            [
             0.8,
             "#7fbc41"
            ],
            [
             0.9,
             "#4d9221"
            ],
            [
             1,
             "#276419"
            ]
           ],
           "sequential": [
            [
             0,
             "#0d0887"
            ],
            [
             0.1111111111111111,
             "#46039f"
            ],
            [
             0.2222222222222222,
             "#7201a8"
            ],
            [
             0.3333333333333333,
             "#9c179e"
            ],
            [
             0.4444444444444444,
             "#bd3786"
            ],
            [
             0.5555555555555556,
             "#d8576b"
            ],
            [
             0.6666666666666666,
             "#ed7953"
            ],
            [
             0.7777777777777778,
             "#fb9f3a"
            ],
            [
             0.8888888888888888,
             "#fdca26"
            ],
            [
             1,
             "#f0f921"
            ]
           ],
           "sequentialminus": [
            [
             0,
             "#0d0887"
            ],
            [
             0.1111111111111111,
             "#46039f"
            ],
            [
             0.2222222222222222,
             "#7201a8"
            ],
            [
             0.3333333333333333,
             "#9c179e"
            ],
            [
             0.4444444444444444,
             "#bd3786"
            ],
            [
             0.5555555555555556,
             "#d8576b"
            ],
            [
             0.6666666666666666,
             "#ed7953"
            ],
            [
             0.7777777777777778,
             "#fb9f3a"
            ],
            [
             0.8888888888888888,
             "#fdca26"
            ],
            [
             1,
             "#f0f921"
            ]
           ]
          },
          "colorway": [
           "#636efa",
           "#EF553B",
           "#00cc96",
           "#ab63fa",
           "#FFA15A",
           "#19d3f3",
           "#FF6692",
           "#B6E880",
           "#FF97FF",
           "#FECB52"
          ],
          "font": {
           "color": "#2a3f5f"
          },
          "geo": {
           "bgcolor": "white",
           "lakecolor": "white",
           "landcolor": "#E5ECF6",
           "showlakes": true,
           "showland": true,
           "subunitcolor": "white"
          },
          "hoverlabel": {
           "align": "left"
          },
          "hovermode": "closest",
          "mapbox": {
           "style": "light"
          },
          "paper_bgcolor": "white",
          "plot_bgcolor": "#E5ECF6",
          "polar": {
           "angularaxis": {
            "gridcolor": "white",
            "linecolor": "white",
            "ticks": ""
           },
           "bgcolor": "#E5ECF6",
           "radialaxis": {
            "gridcolor": "white",
            "linecolor": "white",
            "ticks": ""
           }
          },
          "scene": {
           "xaxis": {
            "backgroundcolor": "#E5ECF6",
            "gridcolor": "white",
            "gridwidth": 2,
            "linecolor": "white",
            "showbackground": true,
            "ticks": "",
            "zerolinecolor": "white"
           },
           "yaxis": {
            "backgroundcolor": "#E5ECF6",
            "gridcolor": "white",
            "gridwidth": 2,
            "linecolor": "white",
            "showbackground": true,
            "ticks": "",
            "zerolinecolor": "white"
           },
           "zaxis": {
            "backgroundcolor": "#E5ECF6",
            "gridcolor": "white",
            "gridwidth": 2,
            "linecolor": "white",
            "showbackground": true,
            "ticks": "",
            "zerolinecolor": "white"
           }
          },
          "shapedefaults": {
           "line": {
            "color": "#2a3f5f"
           }
          },
          "ternary": {
           "aaxis": {
            "gridcolor": "white",
            "linecolor": "white",
            "ticks": ""
           },
           "baxis": {
            "gridcolor": "white",
            "linecolor": "white",
            "ticks": ""
           },
           "bgcolor": "#E5ECF6",
           "caxis": {
            "gridcolor": "white",
            "linecolor": "white",
            "ticks": ""
           }
          },
          "title": {
           "x": 0.05
          },
          "xaxis": {
           "automargin": true,
           "gridcolor": "white",
           "linecolor": "white",
           "ticks": "",
           "title": {
            "standoff": 15
           },
           "zerolinecolor": "white",
           "zerolinewidth": 2
          },
          "yaxis": {
           "automargin": true,
           "gridcolor": "white",
           "linecolor": "white",
           "ticks": "",
           "title": {
            "standoff": 15
           },
           "zerolinecolor": "white",
           "zerolinewidth": 2
          }
         }
        },
        "title": {
         "text": "Datetime Distributions"
        },
        "width": 1700,
        "xaxis": {
         "anchor": "y",
         "domain": [
          0,
          1
         ]
        },
        "xaxis2": {
         "anchor": "y2",
         "domain": [
          0,
          1
         ]
        },
        "xaxis3": {
         "anchor": "y3",
         "domain": [
          0,
          1
         ]
        },
        "xaxis4": {
         "anchor": "y4",
         "domain": [
          0,
          1
         ]
        },
        "yaxis": {
         "anchor": "x",
         "domain": [
          0.7875,
          1
         ]
        },
        "yaxis2": {
         "anchor": "x2",
         "domain": [
          0.525,
          0.7375
         ]
        },
        "yaxis3": {
         "anchor": "x3",
         "domain": [
          0.2625,
          0.475
         ]
        },
        "yaxis4": {
         "anchor": "x4",
         "domain": [
          0,
          0.2125
         ]
        }
       }
      }
     },
     "metadata": {},
     "output_type": "display_data"
    }
   ],
   "source": [
    "fig = make_subplots(\n",
    "    rows=4, cols=1, \n",
    "    subplot_titles=(\"Year\", \"Month\", \"Day of Week\", \"Hour of Day\"), \n",
    "    vertical_spacing=0.05\n",
    ")\n",
    "\n",
    "# Plotting for each datetime component\n",
    "datetime_components = ['Year', 'Month', 'Day of Week', 'Hour of Day']\n",
    "for i, col in enumerate(datetime_components):\n",
    "    row = i + 1\n",
    "    if col == 'Month':\n",
    "        # Order months correctly\n",
    "        month_order = [\"January\", \"February\", \"March\", \"April\", \"May\", \"June\", \n",
    "                       \"July\", \"August\", \"September\", \"October\", \"November\", \"December\"]\n",
    "        value_counts = df['ADD_TS'].dt.month_name().value_counts().reindex(month_order)\n",
    "        trace = go.Bar(x=value_counts.index, y=value_counts.values, name=col)\n",
    "    elif col == 'Day of Week':\n",
    "        # Order days of the week correctly\n",
    "        day_order = [\"Monday\", \"Tuesday\", \"Wednesday\", \"Thursday\", \"Friday\", \"Saturday\", \"Sunday\"]\n",
    "        value_counts = df['ADD_TS'].dt.day_name().value_counts().reindex(day_order)\n",
    "        trace = go.Bar(x=value_counts.index, y=value_counts.values, name=col)\n",
    "    elif col == 'Hour of Day':\n",
    "        value_counts = df['ADD_TS'].dt.hour.value_counts().sort_index()\n",
    "        trace = go.Bar(x=value_counts.index, y=value_counts.values, name=col)\n",
    "    else:\n",
    "        value_counts = df['ADD_TS'].dt.year.value_counts().sort_index()\n",
    "        trace = go.Bar(x=value_counts.index, y=value_counts.values, name=col)\n",
    "    fig.add_trace(trace, row=row, col=1)\n",
    "\n",
    "# Update layout to ensure independent x-axes\n",
    "fig.update_layout(\n",
    "    title_text='Datetime Distributions',\n",
    "    width=1700,\n",
    "    height=2000,\n",
    "    margin=dict(l=15, r=10, t=50, b=10)\n",
    ")\n",
    "\n",
    "# Show figure\n",
    "fig.show()"
   ]
  },
  {
   "cell_type": "markdown",
   "metadata": {},
   "source": [
    "#### Insights:\n",
    "* The first graph really only shows that currently the data set being worked with only has call form 2024. This is subject to change as I will work on webscraping and populating date back to ~2018 to get a better view of the total data.\n",
    "* Next we are looking at the call distribution by month, Again this data set is incomplete and will be added to when the API is more understood. For now we can see a light rise in call rate from Febuary to March.\n",
    "* The 3rd graph is showing call breakdown by week day. The insight here shows that call frequcny increase on fridays probably as people are more rowdy as they celebrate the end of the work week. With Monday showing the opposite trend having the lowest call volume.\n",
    "* Finally, We look at call distribution by hour of the day. Here we see 5am is the quitest time in terms of call volume, showing most people are probably asleep here. Then we see the highest peak at 4pm, this could once again be influnced by the time when most people are leaving work. Meaning more people are on the street with a higher chance for distruption and 911 calls."
   ]
  },
  {
   "cell_type": "markdown",
   "metadata": {},
   "source": [
    "#### **Distributiuon by location:**"
   ]
  },
  {
   "cell_type": "code",
   "execution_count": 21,
   "metadata": {},
   "outputs": [
    {
     "data": {
      "text/plain": [
       "\"\\nfig = px.density_mapbox(df, lat = 'Latitude', lon = 'Longitude',\\n                        radius = 6,\\n                        center = dict(lat = df['Latitude'].mean(), lon = df['Longitude'].mean()),\\n                        zoom = 8,\\n                        mapbox_style = 'carto-positron',\\n                        color_continuous_scale = 'rainbow',\\n                        opacity = .5)\\nfig.update_traces(zmin=0, zmax=100)\\nfig.show()\\n\""
      ]
     },
     "execution_count": 21,
     "metadata": {},
     "output_type": "execute_result"
    }
   ],
   "source": [
    "'''\n",
    "fig = px.density_mapbox(df, lat = 'Latitude', lon = 'Longitude',\n",
    "                        radius = 6,\n",
    "                        center = dict(lat = df['Latitude'].mean(), lon = df['Longitude'].mean()),\n",
    "                        zoom = 8,\n",
    "                        mapbox_style = 'carto-positron',\n",
    "                        color_continuous_scale = 'rainbow',\n",
    "                        opacity = .5)\n",
    "fig.update_traces(zmin=0, zmax=100)\n",
    "fig.show()\n",
    "'''"
   ]
  },
  {
   "cell_type": "markdown",
   "metadata": {},
   "source": [
    "Above the goal will be show the distribution by call volume. First total, then I could animate by hour and day to show how the location of call volume change through time... This is a bit out of the scope for me and sprint 1. But goal will be to get on this after sprint 1 presnetaion. Millions of rows will be to much to display at once so I will need to create lat lon groups the agrigate the data by those groups and display them. It will take some testing but for this graph I want to try to get as granular as possible wihtout crashing the computer (that is what the code above will do)."
   ]
  },
  {
   "cell_type": "markdown",
   "metadata": {},
   "source": [
    "#### **Avergae response time by category**\n",
    "Here I would like to see if the response time is effected by any of the catagorical columns."
   ]
  },
  {
   "cell_type": "code",
   "execution_count": 22,
   "metadata": {},
   "outputs": [
    {
     "data": {
      "text/html": [
       "<div>\n",
       "<style scoped>\n",
       "    .dataframe tbody tr th:only-of-type {\n",
       "        vertical-align: middle;\n",
       "    }\n",
       "\n",
       "    .dataframe tbody tr th {\n",
       "        vertical-align: top;\n",
       "    }\n",
       "\n",
       "    .dataframe thead th {\n",
       "        text-align: right;\n",
       "    }\n",
       "</style>\n",
       "<table border=\"1\" class=\"dataframe\">\n",
       "  <thead>\n",
       "    <tr style=\"text-align: right;\">\n",
       "      <th></th>\n",
       "      <th>CAD_EVNT_ID</th>\n",
       "      <th>NYPD_PCT_CD</th>\n",
       "      <th>BORO_NM</th>\n",
       "      <th>RADIO_CODE</th>\n",
       "      <th>CIP_JOBS</th>\n",
       "      <th>DISP_TS</th>\n",
       "      <th>ARRIVD_TS</th>\n",
       "      <th>Latitude</th>\n",
       "      <th>Longitude</th>\n",
       "    </tr>\n",
       "  </thead>\n",
       "  <tbody>\n",
       "    <tr>\n",
       "      <th>0</th>\n",
       "      <td>99842587</td>\n",
       "      <td>108</td>\n",
       "      <td>QUEENS</td>\n",
       "      <td>53S</td>\n",
       "      <td>Non CIP</td>\n",
       "      <td>2024-01-01 00:02:19</td>\n",
       "      <td>2024-01-01 01:19:58</td>\n",
       "      <td>40.743037</td>\n",
       "      <td>-73.916826</td>\n",
       "    </tr>\n",
       "    <tr>\n",
       "      <th>1</th>\n",
       "      <td>99843964</td>\n",
       "      <td>114</td>\n",
       "      <td>QUEENS</td>\n",
       "      <td>34K1</td>\n",
       "      <td>Critical</td>\n",
       "      <td>2024-01-01 00:07:19</td>\n",
       "      <td>2024-01-01 00:19:27</td>\n",
       "      <td>40.776057</td>\n",
       "      <td>-73.934906</td>\n",
       "    </tr>\n",
       "    <tr>\n",
       "      <th>2</th>\n",
       "      <td>99844057</td>\n",
       "      <td>49</td>\n",
       "      <td>BRONX</td>\n",
       "      <td>11C4</td>\n",
       "      <td>Non CIP</td>\n",
       "      <td>2024-01-01 00:09:21</td>\n",
       "      <td>2024-01-01 00:15:11</td>\n",
       "      <td>40.864330</td>\n",
       "      <td>-73.867393</td>\n",
       "    </tr>\n",
       "    <tr>\n",
       "      <th>3</th>\n",
       "      <td>99844060</td>\n",
       "      <td>34</td>\n",
       "      <td>MANHATTAN</td>\n",
       "      <td>11C4</td>\n",
       "      <td>Non CIP</td>\n",
       "      <td>2024-01-01 00:12:08</td>\n",
       "      <td>2024-01-01 00:29:16</td>\n",
       "      <td>40.862274</td>\n",
       "      <td>-73.929562</td>\n",
       "    </tr>\n",
       "    <tr>\n",
       "      <th>4</th>\n",
       "      <td>99844063</td>\n",
       "      <td>79</td>\n",
       "      <td>BROOKLYN</td>\n",
       "      <td>75S</td>\n",
       "      <td>Non CIP</td>\n",
       "      <td>2024-01-01 00:00:07</td>\n",
       "      <td>2024-01-01 00:00:07</td>\n",
       "      <td>40.680739</td>\n",
       "      <td>-73.949637</td>\n",
       "    </tr>\n",
       "  </tbody>\n",
       "</table>\n",
       "</div>"
      ],
      "text/plain": [
       "   CAD_EVNT_ID NYPD_PCT_CD    BORO_NM RADIO_CODE  CIP_JOBS  \\\n",
       "0     99842587         108     QUEENS        53S   Non CIP   \n",
       "1     99843964         114     QUEENS       34K1  Critical   \n",
       "2     99844057          49      BRONX       11C4   Non CIP   \n",
       "3     99844060          34  MANHATTAN       11C4   Non CIP   \n",
       "4     99844063          79   BROOKLYN        75S   Non CIP   \n",
       "\n",
       "              DISP_TS           ARRIVD_TS   Latitude  Longitude  \n",
       "0 2024-01-01 00:02:19 2024-01-01 01:19:58  40.743037 -73.916826  \n",
       "1 2024-01-01 00:07:19 2024-01-01 00:19:27  40.776057 -73.934906  \n",
       "2 2024-01-01 00:09:21 2024-01-01 00:15:11  40.864330 -73.867393  \n",
       "3 2024-01-01 00:12:08 2024-01-01 00:29:16  40.862274 -73.929562  \n",
       "4 2024-01-01 00:00:07 2024-01-01 00:00:07  40.680739 -73.949637  "
      ]
     },
     "execution_count": 22,
     "metadata": {},
     "output_type": "execute_result"
    }
   ],
   "source": [
    "response_df.head()"
   ]
  },
  {
   "cell_type": "markdown",
   "metadata": {},
   "source": [
    "Plot created with help from chatGPT:<br>\n",
    "Summary of prompt:<br>\n",
    "input code from categorical breakdown but instead of call distribtion would like to graph aveage resonse time based on two datetime columns. Again some subpromts to refine to the end prodcut that I liked below."
   ]
  },
  {
   "cell_type": "code",
   "execution_count": 23,
   "metadata": {},
   "outputs": [
    {
     "name": "stderr",
     "output_type": "stream",
     "text": [
      "C:\\Users\\cmphi\\AppData\\Local\\Temp\\ipykernel_12400\\1396386713.py:8: FutureWarning:\n",
      "\n",
      "The default of observed=False is deprecated and will be changed to True in a future version of pandas. Pass observed=False to retain current behavior or observed=True to adopt the future default and silence this warning.\n",
      "\n",
      "C:\\Users\\cmphi\\AppData\\Local\\Temp\\ipykernel_12400\\1396386713.py:8: FutureWarning:\n",
      "\n",
      "The default of observed=False is deprecated and will be changed to True in a future version of pandas. Pass observed=False to retain current behavior or observed=True to adopt the future default and silence this warning.\n",
      "\n",
      "C:\\Users\\cmphi\\AppData\\Local\\Temp\\ipykernel_12400\\1396386713.py:8: FutureWarning:\n",
      "\n",
      "The default of observed=False is deprecated and will be changed to True in a future version of pandas. Pass observed=False to retain current behavior or observed=True to adopt the future default and silence this warning.\n",
      "\n",
      "C:\\Users\\cmphi\\AppData\\Local\\Temp\\ipykernel_12400\\1396386713.py:8: FutureWarning:\n",
      "\n",
      "The default of observed=False is deprecated and will be changed to True in a future version of pandas. Pass observed=False to retain current behavior or observed=True to adopt the future default and silence this warning.\n",
      "\n"
     ]
    }
   ],
   "source": [
    "# Calculate the response time in minutes\n",
    "response_df['RESPONSE_TIME'] = (response_df['ARRIVD_TS'] - response_df['DISP_TS']).dt.total_seconds() / 60\n",
    "\n",
    "# List of categorical columns to plot\n",
    "category_columns = ['NYPD_PCT_CD', 'BORO_NM', 'RADIO_CODE', 'CIP_JOBS']\n",
    "\n",
    "# Calculate average response time for each category\n",
    "avg_response_times = {col: response_df.groupby(col)['RESPONSE_TIME'].mean().reset_index() for col in category_columns}"
   ]
  },
  {
   "cell_type": "code",
   "execution_count": 24,
   "metadata": {},
   "outputs": [
    {
     "data": {
      "application/vnd.plotly.v1+json": {
       "config": {
        "plotlyServerURL": "https://plot.ly"
       },
       "data": [
        {
         "name": "NYPD_PCT_CD",
         "type": "bar",
         "x": [
          1,
          5,
          6,
          7,
          9,
          10,
          13,
          14,
          17,
          18,
          19,
          20,
          22,
          23,
          24,
          25,
          26,
          28,
          30,
          32,
          33,
          34,
          40,
          41,
          42,
          43,
          44,
          45,
          46,
          47,
          48,
          49,
          50,
          52,
          60,
          61,
          62,
          63,
          66,
          67,
          68,
          69,
          70,
          71,
          72,
          73,
          75,
          76,
          77,
          78,
          79,
          81,
          83,
          84,
          88,
          90,
          94,
          100,
          101,
          102,
          103,
          104,
          105,
          106,
          107,
          108,
          109,
          110,
          111,
          112,
          113,
          114,
          115,
          120,
          121,
          122,
          123
         ],
         "xaxis": "x",
         "y": [
          6.608473639455783,
          8.728046846142147,
          5.181786646517379,
          6.184376626892401,
          9.667028567306305,
          7.484957764782326,
          9.702019728183679,
          3.691289082570553,
          6.083368550801198,
          6.701954130733658,
          14.229692861753813,
          7.602886316827662,
          0.7324285606574681,
          9.783609120891617,
          4.862806104036707,
          8.412617912567198,
          5.263180316976412,
          7.147750984591998,
          5.318260509177027,
          12.824469302979754,
          8.10327152955109,
          16.383106065097525,
          14.163949468430767,
          11.958690399641473,
          23.860033664720422,
          23.443880161005882,
          12.285451553993521,
          30.60472789988312,
          27.956758389008417,
          29.683573263733127,
          25.37287330403947,
          20.992763896272667,
          20.677484595507853,
          17.350376410224058,
          9.074923283467587,
          23.53522520089135,
          17.62714900832162,
          18.945056292138457,
          23.129684663658523,
          23.819954467653755,
          16.05905836670307,
          11.630945200022763,
          27.68131892799282,
          21.227840323040798,
          10.3110935828877,
          7.236363257585227,
          17.96531669847944,
          4.939419544452608,
          7.308369076600075,
          6.277184358665058,
          8.14452128930685,
          9.984747824263396,
          9.295933353373126,
          5.578870156927959,
          8.757101005393169,
          8.111313927901586,
          8.888246262760342,
          4.490785003788156,
          13.260184707587257,
          36.66224733426055,
          17.846010752688173,
          27.96458900923649,
          42.19331503190384,
          19.528674328261573,
          19.41056444105949,
          29.664913578841517,
          41.18853008770696,
          29.157932816537468,
          18.394170128585557,
          12.935128515881432,
          41.41934958578385,
          19.70448849771051,
          13.853562659781812,
          14.270731947397433,
          13.174851742031134,
          13.411305670001962,
          10.29597719353817
         ],
         "yaxis": "y"
        },
        {
         "name": "BORO_NM",
         "type": "bar",
         "x": [
          "BRONX",
          "BROOKLYN",
          "MANHATTAN",
          "QUEENS",
          "STATEN ISLAND"
         ],
         "xaxis": "x2",
         "y": [
          20.371663962593455,
          12.472686618355143,
          7.713813580017069,
          23.89497898686726,
          13.231042623787648
         ],
         "yaxis": "y2"
        },
        {
         "name": "RADIO_CODE",
         "type": "bar",
         "x": [
          "001",
          "002",
          "008",
          "012",
          "10F1",
          "10F2",
          "10F5",
          "10F8",
          "10F9",
          "10H1",
          "10H2",
          "10H5",
          "10H8",
          "10H9",
          "10K1",
          "10K2",
          "10K5",
          "10K8",
          "10K9",
          "10M1",
          "10M2",
          "10M5",
          "10M9",
          "10N1",
          "10N2",
          "10N5",
          "10N8",
          "10N9",
          "10P1",
          "10P2",
          "10P5",
          "10P8",
          "10P9",
          "10Q1",
          "10Q2",
          "10Q5",
          "10Q8",
          "10Q9",
          "10S1",
          "10S2",
          "10S4",
          "10S5",
          "10S8",
          "10S9",
          "10V1",
          "10V2",
          "10V8",
          "10V9",
          "10Y3",
          "10Y5",
          "10Y7",
          "10Y8",
          "10Y9",
          "11A1",
          "11A2",
          "11A5",
          "11A9",
          "11B3",
          "11B4",
          "11C3",
          "11C4",
          "11Q3",
          "11Q4",
          "11Q9",
          "11R3",
          "11R4",
          "12U1",
          "12U2",
          "12U9",
          "12X",
          "12X1",
          "12X2",
          "12Z1",
          "12Z2",
          "13U1",
          "13U2",
          "13U5",
          "13U8",
          "13U9",
          "13X",
          "13X1",
          "13X2",
          "13X5",
          "13X9",
          "13Z1",
          "13Z2",
          "13Z8",
          "13Z9",
          "20B",
          "20C",
          "20Q1",
          "20Q2",
          "20Q5",
          "20Q8",
          "20Q9",
          "20R",
          "21C",
          "21C9",
          "21Q",
          "21Q5",
          "21Q9",
          "21R",
          "22P1",
          "22P2",
          "22P5",
          "22P9",
          "22Q1",
          "22Q2",
          "22Q5",
          "22Q8",
          "22Q9",
          "22V1",
          "22V2",
          "22V5",
          "22V8",
          "24K1",
          "24K2",
          "24K5",
          "24K6",
          "24K7",
          "24K9",
          "24Q1",
          "24Q2",
          "24Q5",
          "24Q6",
          "24Q7",
          "24Q8",
          "24Q9",
          "24S1",
          "24S2",
          "24S5",
          "24S6",
          "24S9",
          "24W1",
          "24W2",
          "24W5",
          "24W6",
          "24W7",
          "24W9",
          "29B9",
          "29C",
          "29C8",
          "29C9",
          "29H1",
          "29H2",
          "29H5",
          "29H9",
          "29Q1",
          "29Q2",
          "29Q5",
          "29Q9",
          "29T1",
          "29T2",
          "29T5",
          "29T9",
          "30B",
          "30C",
          "30Q1",
          "30Q2",
          "30Q5",
          "30Q8",
          "30Q9",
          "30R",
          "31C",
          "31C9",
          "31Q",
          "31Q5",
          "31Q9",
          "31R",
          "32P1",
          "32P2",
          "32P5",
          "32P9",
          "32Q1",
          "32Q2",
          "32Q5",
          "32Q8",
          "32Q9",
          "32V1",
          "32V2",
          "32V8",
          "32V9",
          "33",
          "33S5",
          "33T9",
          "34K1",
          "34K2",
          "34K5",
          "34K6",
          "34K7",
          "34K8",
          "34K9",
          "34Q1",
          "34Q2",
          "34Q5",
          "34Q6",
          "34Q7",
          "34Q8",
          "34Q9",
          "34S1",
          "34S2",
          "34S5",
          "34S6",
          "34S7",
          "34S9",
          "34W1",
          "34W2",
          "34W5",
          "34W6",
          "34W7",
          "34W8",
          "34W9",
          "39C1",
          "39C2",
          "39C5",
          "39C8",
          "39C9",
          "39G",
          "39G8",
          "39G9",
          "39H1",
          "39H2",
          "39H5",
          "39H8",
          "39H9",
          "39P",
          "39P6",
          "39Q1",
          "39Q2",
          "39Q5",
          "39Q8",
          "39Q9",
          "39T1",
          "39T2",
          "39T5",
          "39T9",
          "39V1",
          "39V2",
          "39V5",
          "39V6",
          "39V9",
          "40V",
          "40V8",
          "44B",
          "44H1",
          "44H2",
          "44H5",
          "44H8",
          "44H9",
          "44L1",
          "44L5",
          "44P1",
          "44P2",
          "44P5",
          "44P8",
          "44P9",
          "44S1",
          "44S2",
          "44S9",
          "50G1",
          "50G2",
          "50G5",
          "50G8",
          "50G9",
          "50N1",
          "50P1",
          "50P2",
          "50P5",
          "50P8",
          "50P9",
          "51",
          "51L8",
          "52A6",
          "52D1",
          "52D2",
          "52D5",
          "52D6",
          "52D8",
          "52D9",
          "52F1",
          "52F2",
          "52F6",
          "52F8",
          "52F9",
          "52K1",
          "52K2",
          "52K5",
          "52K6",
          "52K8",
          "52K9",
          "52V1",
          "52V2",
          "52V5",
          "52V6",
          "52V9",
          "53D",
          "53D8",
          "53H",
          "53H8",
          "53I",
          "53I8",
          "53S",
          "53S8",
          "53X",
          "53X8",
          "54B1",
          "54B2",
          "54B5",
          "54B9",
          "54C1",
          "54C2",
          "54C3",
          "54C5",
          "54C8",
          "54C9",
          "54D4",
          "54E1",
          "54E2",
          "54E5",
          "54E8",
          "54E9",
          "54H1",
          "54H2",
          "54H5",
          "54H8",
          "54H9",
          "54I1",
          "54I2",
          "54I5",
          "54I8",
          "54I9",
          "54L1",
          "54L2",
          "54L5",
          "54Q1",
          "54Q2",
          "54Q5",
          "54Q8",
          "54Q9",
          "54R1",
          "54R2",
          "54R5",
          "54R8",
          "54R9",
          "54S1",
          "54S2",
          "54S5",
          "54S8",
          "54S9",
          "54U1",
          "54U2",
          "54U5",
          "54U8",
          "54U9",
          "55",
          "56S",
          "56S8",
          "56S9",
          "58D",
          "58S",
          "58S8",
          "59A",
          "59B",
          "59C",
          "59E",
          "59E9",
          "59F",
          "59G",
          "59H",
          "59I",
          "59I5",
          "59K",
          "59L",
          "59M",
          "59N",
          "59N8",
          "59Q1",
          "59Q2",
          "59Q5",
          "59Q8",
          "59Q9",
          "59R3",
          "59R4",
          "59T9",
          "59U",
          "59V",
          "59V8",
          "59W",
          "59W8",
          "60H",
          "60H8",
          "60I",
          "60I8",
          "65S",
          "65S5",
          "65S8",
          "65S9",
          "66",
          "66T9",
          "67S",
          "67S8",
          "68A1",
          "68A2",
          "68A5",
          "68E1",
          "68E2",
          "68E8",
          "68M1",
          "68M2",
          "68Q1",
          "68Q2",
          "68Q5",
          "68Q8",
          "68Q9",
          "68U1",
          "68U2",
          "68U5",
          "68U8",
          "68U9",
          "69I",
          "69M1",
          "69M2",
          "69N1",
          "69N2",
          "69N9",
          "69S",
          "69S8",
          "69S9",
          "75A",
          "75B",
          "75B9",
          "75C",
          "75D",
          "75E",
          "75F",
          "75H",
          "75I",
          "75L",
          "75M",
          "75O",
          "75P",
          "75S",
          "75T",
          "75W",
          "75W9",
          "75Y",
          "75Z",
          "DEPTOW"
         ],
         "xaxis": "x3",
         "y": [
          0,
          9.077777777777778,
          20.5921568627451,
          38.11296296296296,
          5.783422080227192,
          3.8662583843686207,
          9.935897435897436,
          8.570833333333335,
          3.6947058823529413,
          61.394973458820466,
          56.20608296334988,
          32.99814814814815,
          60.30714285714286,
          13.407491289198605,
          8.307366189719131,
          5.501137418755803,
          7.4053571428571425,
          10.705555555555556,
          5.137304964539007,
          66.26809596733027,
          54.16880630630631,
          12.595833333333333,
          16.092397660818712,
          60.716176821983275,
          50.69859382203781,
          2.745833333333333,
          45.2,
          20.336870503597122,
          38.2052934662237,
          7.202447747848441,
          23.27777777777778,
          38.50595238095238,
          0.20867251814244325,
          53.69788732394367,
          60.02630457933972,
          0.061111111111111116,
          15.85,
          7.9750000000000005,
          6.328993055555555,
          5.388597560975609,
          3.430830972615675,
          3.5064102564102564,
          7.654761904761904,
          7.644444444444444,
          29.688617886178864,
          4.245979957160342,
          6.570315469403269,
          18.506666666666668,
          59.34410367738965,
          25.3544061302682,
          58.529981425194194,
          50.10367149758454,
          12.019064084831719,
          43.98347953216374,
          42.34212398373984,
          34.95912698412698,
          21.837644508670518,
          19.329121376811596,
          26.560480093676816,
          40.9807894341888,
          35.28936937301202,
          24.65,
          15.612222222222222,
          14.483333333333333,
          46.51346739792809,
          45.62201529676778,
          13.61421568627451,
          7.395714285714287,
          0,
          13.447619047619048,
          13.506565656565657,
          2.183333333333333,
          19.668518518518518,
          7.023148148148149,
          4.374643874643875,
          3.178982300884956,
          1.1233333333333333,
          11.994444444444445,
          1.470600414078675,
          3.772306397306397,
          3.8169590643274853,
          3.9846715328467153,
          2.154166666666667,
          1.53,
          4.205185185185185,
          5.19484126984127,
          2.5611111111111113,
          18.874999999999996,
          9.65,
          19.334375,
          23.70598684210526,
          18.319519733713744,
          21.808333333333334,
          24.466666666666665,
          7.46537037037037,
          53.343209876543206,
          55.70719748088169,
          0.11666666666666667,
          63.714930555555554,
          41.06875,
          8.975000000000001,
          75.62111886198878,
          71.59254807692308,
          61.134432870370375,
          0.05,
          10.940217391304348,
          86.14018033248803,
          84.73341075115134,
          42.88439153439153,
          89.83333333333333,
          7.682255747126437,
          90.09031705227078,
          80.35068795651435,
          74.85,
          122.47500000000001,
          22.59850119904077,
          11.284761904761906,
          11.65,
          19.076666666666664,
          4.683333333333334,
          6.025925925925926,
          53.998234590065834,
          36.90339168490153,
          35.02719298245614,
          49.26526639344262,
          59.24489583333333,
          45.9,
          8.536825396825398,
          8.993835616438355,
          10.408333333333335,
          0.05,
          14.516666666666667,
          4.483333333333333,
          43.69863692688972,
          40.66018518518519,
          21.88888888888889,
          42.593209876543206,
          18.75,
          4.952222222222222,
          0,
          86.29698972099852,
          25,
          19.438955823293174,
          83.16762560523172,
          67.5406498015873,
          40.264205816554814,
          10.739206349206349,
          90.39913654618474,
          70.67036059806509,
          94.04375,
          0.5619309501985946,
          74.08373253493014,
          68.51913580246914,
          32.13333333333333,
          0,
          2.18768115942029,
          4.057480550568522,
          4.582087447108603,
          3.7614743589743593,
          3.597222222222222,
          9.458333333333334,
          4.292192192192192,
          5.528356481481482,
          5.29174848059841,
          6.416666666666667,
          4.7541761579347,
          3.352777777777778,
          3.7916666666666665,
          6.7339959784297605,
          9.433947368421054,
          7.144179104477613,
          6.983333333333333,
          5.049346405228758,
          8.69849637405548,
          7.1483415977961435,
          23.245833333333334,
          10.1,
          5.60679012345679,
          6.493574297188755,
          7.280383795309168,
          7.698148148148148,
          9.683333333333334,
          11.805891472868218,
          16.043333333333333,
          4.105555555555555,
          4.502450188476037,
          5.531443994601889,
          17.546666666666667,
          5.763518518518519,
          16.833333333333332,
          3.4222222222222225,
          3.3441520467836257,
          7.921732083922678,
          5.279610483289253,
          13.78639705882353,
          7.884728887417949,
          10.11715210355987,
          15.496875,
          5.312976406533575,
          5.13075221238938,
          7.548003072196621,
          0.05,
          4.935294117647059,
          1.2333333333333332,
          5.630952380952381,
          7.290997566909976,
          5.210696517412935,
          15.436666666666667,
          8.470381944444444,
          9.323333333333334,
          12.613333333333333,
          6.399,
          17.03327805417358,
          13.742671215567348,
          7.595833333333333,
          19.135714285714283,
          14.1824,
          10.934039087947882,
          2.722222222222222,
          10.1515625,
          16.59267105002966,
          11.479865510725798,
          14.941536458333333,
          18.536607142857143,
          10.41463768115942,
          17.910714285714285,
          16.411458333333332,
          23.450119047619047,
          17.508155630377853,
          10.576666666666666,
          26.57037037037037,
          3.090900809716599,
          16.844406906906904,
          14.676526162790699,
          14.72962962962963,
          7.059210526315789,
          15.74240170031881,
          14.49739837398374,
          14.003703703703703,
          17.178225047080982,
          9.623333333333333,
          42.12106807511737,
          43.638888888888886,
          14.716666666666667,
          41.75461393596987,
          46.27190860215053,
          27.175,
          1.5833333333333333,
          20.675925925925927,
          58.74444444444445,
          28.575,
          57.78685185185185,
          39.83525402726146,
          41.508333333333326,
          89.50999999999999,
          19.44886234357224,
          47.70476190476191,
          47.09117647058823,
          16.71666666666667,
          44.45497449803086,
          42.10124277101021,
          6.264705882352941,
          81.62777777777778,
          13.124601023788015,
          2.4166666666666665,
          40.14092558983666,
          38.0845855834703,
          16.422764227642276,
          36.904901960784315,
          7.346260626992561,
          14.395348837209303,
          12.972222222222221,
          16.689855072463768,
          55.2822594945084,
          43.17286131653428,
          16.815333333333335,
          45.08886085786531,
          44.17261904761905,
          9.848707664884135,
          7.591112752338749,
          4.712977867203219,
          8.288153153153154,
          2.67037037037037,
          2.618333333333333,
          8.90368598263335,
          6.216573243647235,
          4.8133333333333335,
          10.32846687211094,
          40.462500000000006,
          5.393621399176955,
          40.567551622418875,
          43.163978494623656,
          2.4,
          40.421437125748504,
          12.633333333333333,
          54.288481546917936,
          67.77945736434108,
          19.098297261655418,
          60.33985507246376,
          40.511414223669924,
          48.52519343856391,
          66.8607055219915,
          60.21151319944423,
          13.7787728026534,
          17.191478129713424,
          16.796759259259257,
          14.356666666666666,
          20.45,
          9.25,
          30.732172342621258,
          22.71117216117216,
          47.9621568627451,
          8.20595238095238,
          5.2125,
          7.205873015873016,
          8.481707317073171,
          10.416119143873452,
          7.482579185520362,
          11.737443609022556,
          10.458947368421052,
          5.278547439126784,
          21.721992753623187,
          14.519088319088318,
          7.16736111111111,
          14.1,
          4.982882882882883,
          15.304605030109812,
          12.699062310949788,
          10.092676056338028,
          17.141666666666666,
          9.40203313253012,
          18.863999999999997,
          7.838095238095238,
          8.424999999999999,
          22.823417721518986,
          8.982361111111112,
          0.03333333333333333,
          19.25,
          11.170299145299147,
          28.324545102593884,
          14.20111111111111,
          3.716666666666667,
          7.966666666666667,
          7.642222222222222,
          10.721136082624191,
          5.0115135673388105,
          8.772432762836186,
          42.05591397849462,
          5.0402977412731005,
          36.44119022253788,
          19.231568287037035,
          11.630648769574945,
          22.45,
          9.806543309198176,
          11.366666666666667,
          72.38242578064913,
          49.64333333333333,
          24.350375738056897,
          31.809848484848487,
          10.725,
          23.933333333333334,
          10.05,
          10.166145833333333,
          13.92061403508772,
          15.907209302325581,
          10.066666666666666,
          23.5525641025641,
          4.6211111111111105,
          15.188888888888888,
          8.983680555555555,
          6.824999999999999,
          15.180392156862744,
          10.025925925925925,
          10.866666666666665,
          8.718095238095238,
          31.38125,
          19.860632183908045,
          19.049030303030303,
          3.648809523809524,
          9.63888888888889,
          9.89537037037037,
          18.51486710963455,
          18.14679518072289,
          9.536482939632545,
          14.178169014084506,
          12.981617647058824,
          16.458454106280193,
          10.598322851153041,
          0.03333333333333333,
          63.455555555555556,
          36,
          4.98987012987013,
          7.38078231292517,
          45.22814569536424,
          3.505555555555555,
          262.53333333333336,
          26.529999999999994,
          8.627083333333333,
          4.316666666666666,
          43.985061969993474,
          49.94338432635534,
          47.01965317919075,
          48.49962546816479,
          6.1375,
          4.230769230769231,
          4.737500000000001,
          11.133333333333333,
          22.996560846560847,
          10.536111111111111,
          11.292437585986313,
          26.727408338166118,
          27.52262467191601,
          7.4452145214521455,
          1.9712783994574434,
          6.1410222222222215,
          3.3899375975039,
          5.411728395061728,
          7.9783333333333335,
          0.6829234972677596,
          136.6888888888889,
          36.34444444444444,
          0.03333333333333333,
          20.13448275862069,
          25.913333333333334,
          5.166666666666667,
          13.951430348258706,
          6.75701754385965,
          30.61208791208791,
          1.4190058479532162,
          0.2651293588301462,
          0,
          0.5025658874966414,
          0.6831947253443557,
          7.675490196078431,
          0.23153667198050726,
          0.5499670959857103,
          0.3051099300764935,
          0.34044025157232705,
          0.0004400860194836481,
          0.00022688074141517326,
          1.1406357888203578,
          0.0015215545259163095,
          0.27343170007423906,
          4.253703703703703,
          0,
          0.5501448016217781,
          0.5633843943723552,
          0
         ],
         "yaxis": "y3"
        },
        {
         "name": "CIP_JOBS",
         "type": "bar",
         "x": [
          "Critical",
          "Non CIP",
          "Non Critical",
          "Serious"
         ],
         "xaxis": "x4",
         "y": [
          5.439591116010369,
          15.03856694735192,
          14.524760626565016,
          7.829909014992619
         ],
         "yaxis": "y4"
        }
       ],
       "layout": {
        "annotations": [
         {
          "font": {
           "size": 16
          },
          "showarrow": false,
          "text": "NYPD_PCT_CD",
          "x": 0.5,
          "xanchor": "center",
          "xref": "paper",
          "y": 1,
          "yanchor": "bottom",
          "yref": "paper"
         },
         {
          "font": {
           "size": 16
          },
          "showarrow": false,
          "text": "BORO_NM",
          "x": 0.5,
          "xanchor": "center",
          "xref": "paper",
          "y": 0.7250000000000001,
          "yanchor": "bottom",
          "yref": "paper"
         },
         {
          "font": {
           "size": 16
          },
          "showarrow": false,
          "text": "RADIO_CODE",
          "x": 0.5,
          "xanchor": "center",
          "xref": "paper",
          "y": 0.45,
          "yanchor": "bottom",
          "yref": "paper"
         },
         {
          "font": {
           "size": 16
          },
          "showarrow": false,
          "text": "CIP_JOBS",
          "x": 0.5,
          "xanchor": "center",
          "xref": "paper",
          "y": 0.175,
          "yanchor": "bottom",
          "yref": "paper"
         }
        ],
        "height": 2000,
        "margin": {
         "b": 10,
         "l": 15,
         "r": 10,
         "t": 50
        },
        "template": {
         "data": {
          "bar": [
           {
            "error_x": {
             "color": "#2a3f5f"
            },
            "error_y": {
             "color": "#2a3f5f"
            },
            "marker": {
             "line": {
              "color": "#E5ECF6",
              "width": 0.5
             },
             "pattern": {
              "fillmode": "overlay",
              "size": 10,
              "solidity": 0.2
             }
            },
            "type": "bar"
           }
          ],
          "barpolar": [
           {
            "marker": {
             "line": {
              "color": "#E5ECF6",
              "width": 0.5
             },
             "pattern": {
              "fillmode": "overlay",
              "size": 10,
              "solidity": 0.2
             }
            },
            "type": "barpolar"
           }
          ],
          "carpet": [
           {
            "aaxis": {
             "endlinecolor": "#2a3f5f",
             "gridcolor": "white",
             "linecolor": "white",
             "minorgridcolor": "white",
             "startlinecolor": "#2a3f5f"
            },
            "baxis": {
             "endlinecolor": "#2a3f5f",
             "gridcolor": "white",
             "linecolor": "white",
             "minorgridcolor": "white",
             "startlinecolor": "#2a3f5f"
            },
            "type": "carpet"
           }
          ],
          "choropleth": [
           {
            "colorbar": {
             "outlinewidth": 0,
             "ticks": ""
            },
            "type": "choropleth"
           }
          ],
          "contour": [
           {
            "colorbar": {
             "outlinewidth": 0,
             "ticks": ""
            },
            "colorscale": [
             [
              0,
              "#0d0887"
             ],
             [
              0.1111111111111111,
              "#46039f"
             ],
             [
              0.2222222222222222,
              "#7201a8"
             ],
             [
              0.3333333333333333,
              "#9c179e"
             ],
             [
              0.4444444444444444,
              "#bd3786"
             ],
             [
              0.5555555555555556,
              "#d8576b"
             ],
             [
              0.6666666666666666,
              "#ed7953"
             ],
             [
              0.7777777777777778,
              "#fb9f3a"
             ],
             [
              0.8888888888888888,
              "#fdca26"
             ],
             [
              1,
              "#f0f921"
             ]
            ],
            "type": "contour"
           }
          ],
          "contourcarpet": [
           {
            "colorbar": {
             "outlinewidth": 0,
             "ticks": ""
            },
            "type": "contourcarpet"
           }
          ],
          "heatmap": [
           {
            "colorbar": {
             "outlinewidth": 0,
             "ticks": ""
            },
            "colorscale": [
             [
              0,
              "#0d0887"
             ],
             [
              0.1111111111111111,
              "#46039f"
             ],
             [
              0.2222222222222222,
              "#7201a8"
             ],
             [
              0.3333333333333333,
              "#9c179e"
             ],
             [
              0.4444444444444444,
              "#bd3786"
             ],
             [
              0.5555555555555556,
              "#d8576b"
             ],
             [
              0.6666666666666666,
              "#ed7953"
             ],
             [
              0.7777777777777778,
              "#fb9f3a"
             ],
             [
              0.8888888888888888,
              "#fdca26"
             ],
             [
              1,
              "#f0f921"
             ]
            ],
            "type": "heatmap"
           }
          ],
          "heatmapgl": [
           {
            "colorbar": {
             "outlinewidth": 0,
             "ticks": ""
            },
            "colorscale": [
             [
              0,
              "#0d0887"
             ],
             [
              0.1111111111111111,
              "#46039f"
             ],
             [
              0.2222222222222222,
              "#7201a8"
             ],
             [
              0.3333333333333333,
              "#9c179e"
             ],
             [
              0.4444444444444444,
              "#bd3786"
             ],
             [
              0.5555555555555556,
              "#d8576b"
             ],
             [
              0.6666666666666666,
              "#ed7953"
             ],
             [
              0.7777777777777778,
              "#fb9f3a"
             ],
             [
              0.8888888888888888,
              "#fdca26"
             ],
             [
              1,
              "#f0f921"
             ]
            ],
            "type": "heatmapgl"
           }
          ],
          "histogram": [
           {
            "marker": {
             "pattern": {
              "fillmode": "overlay",
              "size": 10,
              "solidity": 0.2
             }
            },
            "type": "histogram"
           }
          ],
          "histogram2d": [
           {
            "colorbar": {
             "outlinewidth": 0,
             "ticks": ""
            },
            "colorscale": [
             [
              0,
              "#0d0887"
             ],
             [
              0.1111111111111111,
              "#46039f"
             ],
             [
              0.2222222222222222,
              "#7201a8"
             ],
             [
              0.3333333333333333,
              "#9c179e"
             ],
             [
              0.4444444444444444,
              "#bd3786"
             ],
             [
              0.5555555555555556,
              "#d8576b"
             ],
             [
              0.6666666666666666,
              "#ed7953"
             ],
             [
              0.7777777777777778,
              "#fb9f3a"
             ],
             [
              0.8888888888888888,
              "#fdca26"
             ],
             [
              1,
              "#f0f921"
             ]
            ],
            "type": "histogram2d"
           }
          ],
          "histogram2dcontour": [
           {
            "colorbar": {
             "outlinewidth": 0,
             "ticks": ""
            },
            "colorscale": [
             [
              0,
              "#0d0887"
             ],
             [
              0.1111111111111111,
              "#46039f"
             ],
             [
              0.2222222222222222,
              "#7201a8"
             ],
             [
              0.3333333333333333,
              "#9c179e"
             ],
             [
              0.4444444444444444,
              "#bd3786"
             ],
             [
              0.5555555555555556,
              "#d8576b"
             ],
             [
              0.6666666666666666,
              "#ed7953"
             ],
             [
              0.7777777777777778,
              "#fb9f3a"
             ],
             [
              0.8888888888888888,
              "#fdca26"
             ],
             [
              1,
              "#f0f921"
             ]
            ],
            "type": "histogram2dcontour"
           }
          ],
          "mesh3d": [
           {
            "colorbar": {
             "outlinewidth": 0,
             "ticks": ""
            },
            "type": "mesh3d"
           }
          ],
          "parcoords": [
           {
            "line": {
             "colorbar": {
              "outlinewidth": 0,
              "ticks": ""
             }
            },
            "type": "parcoords"
           }
          ],
          "pie": [
           {
            "automargin": true,
            "type": "pie"
           }
          ],
          "scatter": [
           {
            "fillpattern": {
             "fillmode": "overlay",
             "size": 10,
             "solidity": 0.2
            },
            "type": "scatter"
           }
          ],
          "scatter3d": [
           {
            "line": {
             "colorbar": {
              "outlinewidth": 0,
              "ticks": ""
             }
            },
            "marker": {
             "colorbar": {
              "outlinewidth": 0,
              "ticks": ""
             }
            },
            "type": "scatter3d"
           }
          ],
          "scattercarpet": [
           {
            "marker": {
             "colorbar": {
              "outlinewidth": 0,
              "ticks": ""
             }
            },
            "type": "scattercarpet"
           }
          ],
          "scattergeo": [
           {
            "marker": {
             "colorbar": {
              "outlinewidth": 0,
              "ticks": ""
             }
            },
            "type": "scattergeo"
           }
          ],
          "scattergl": [
           {
            "marker": {
             "colorbar": {
              "outlinewidth": 0,
              "ticks": ""
             }
            },
            "type": "scattergl"
           }
          ],
          "scattermapbox": [
           {
            "marker": {
             "colorbar": {
              "outlinewidth": 0,
              "ticks": ""
             }
            },
            "type": "scattermapbox"
           }
          ],
          "scatterpolar": [
           {
            "marker": {
             "colorbar": {
              "outlinewidth": 0,
              "ticks": ""
             }
            },
            "type": "scatterpolar"
           }
          ],
          "scatterpolargl": [
           {
            "marker": {
             "colorbar": {
              "outlinewidth": 0,
              "ticks": ""
             }
            },
            "type": "scatterpolargl"
           }
          ],
          "scatterternary": [
           {
            "marker": {
             "colorbar": {
              "outlinewidth": 0,
              "ticks": ""
             }
            },
            "type": "scatterternary"
           }
          ],
          "surface": [
           {
            "colorbar": {
             "outlinewidth": 0,
             "ticks": ""
            },
            "colorscale": [
             [
              0,
              "#0d0887"
             ],
             [
              0.1111111111111111,
              "#46039f"
             ],
             [
              0.2222222222222222,
              "#7201a8"
             ],
             [
              0.3333333333333333,
              "#9c179e"
             ],
             [
              0.4444444444444444,
              "#bd3786"
             ],
             [
              0.5555555555555556,
              "#d8576b"
             ],
             [
              0.6666666666666666,
              "#ed7953"
             ],
             [
              0.7777777777777778,
              "#fb9f3a"
             ],
             [
              0.8888888888888888,
              "#fdca26"
             ],
             [
              1,
              "#f0f921"
             ]
            ],
            "type": "surface"
           }
          ],
          "table": [
           {
            "cells": {
             "fill": {
              "color": "#EBF0F8"
             },
             "line": {
              "color": "white"
             }
            },
            "header": {
             "fill": {
              "color": "#C8D4E3"
             },
             "line": {
              "color": "white"
             }
            },
            "type": "table"
           }
          ]
         },
         "layout": {
          "annotationdefaults": {
           "arrowcolor": "#2a3f5f",
           "arrowhead": 0,
           "arrowwidth": 1
          },
          "autotypenumbers": "strict",
          "coloraxis": {
           "colorbar": {
            "outlinewidth": 0,
            "ticks": ""
           }
          },
          "colorscale": {
           "diverging": [
            [
             0,
             "#8e0152"
            ],
            [
             0.1,
             "#c51b7d"
            ],
            [
             0.2,
             "#de77ae"
            ],
            [
             0.3,
             "#f1b6da"
            ],
            [
             0.4,
             "#fde0ef"
            ],
            [
             0.5,
             "#f7f7f7"
            ],
            [
             0.6,
             "#e6f5d0"
            ],
            [
             0.7,
             "#b8e186"
            ],
            [
             0.8,
             "#7fbc41"
            ],
            [
             0.9,
             "#4d9221"
            ],
            [
             1,
             "#276419"
            ]
           ],
           "sequential": [
            [
             0,
             "#0d0887"
            ],
            [
             0.1111111111111111,
             "#46039f"
            ],
            [
             0.2222222222222222,
             "#7201a8"
            ],
            [
             0.3333333333333333,
             "#9c179e"
            ],
            [
             0.4444444444444444,
             "#bd3786"
            ],
            [
             0.5555555555555556,
             "#d8576b"
            ],
            [
             0.6666666666666666,
             "#ed7953"
            ],
            [
             0.7777777777777778,
             "#fb9f3a"
            ],
            [
             0.8888888888888888,
             "#fdca26"
            ],
            [
             1,
             "#f0f921"
            ]
           ],
           "sequentialminus": [
            [
             0,
             "#0d0887"
            ],
            [
             0.1111111111111111,
             "#46039f"
            ],
            [
             0.2222222222222222,
             "#7201a8"
            ],
            [
             0.3333333333333333,
             "#9c179e"
            ],
            [
             0.4444444444444444,
             "#bd3786"
            ],
            [
             0.5555555555555556,
             "#d8576b"
            ],
            [
             0.6666666666666666,
             "#ed7953"
            ],
            [
             0.7777777777777778,
             "#fb9f3a"
            ],
            [
             0.8888888888888888,
             "#fdca26"
            ],
            [
             1,
             "#f0f921"
            ]
           ]
          },
          "colorway": [
           "#636efa",
           "#EF553B",
           "#00cc96",
           "#ab63fa",
           "#FFA15A",
           "#19d3f3",
           "#FF6692",
           "#B6E880",
           "#FF97FF",
           "#FECB52"
          ],
          "font": {
           "color": "#2a3f5f"
          },
          "geo": {
           "bgcolor": "white",
           "lakecolor": "white",
           "landcolor": "#E5ECF6",
           "showlakes": true,
           "showland": true,
           "subunitcolor": "white"
          },
          "hoverlabel": {
           "align": "left"
          },
          "hovermode": "closest",
          "mapbox": {
           "style": "light"
          },
          "paper_bgcolor": "white",
          "plot_bgcolor": "#E5ECF6",
          "polar": {
           "angularaxis": {
            "gridcolor": "white",
            "linecolor": "white",
            "ticks": ""
           },
           "bgcolor": "#E5ECF6",
           "radialaxis": {
            "gridcolor": "white",
            "linecolor": "white",
            "ticks": ""
           }
          },
          "scene": {
           "xaxis": {
            "backgroundcolor": "#E5ECF6",
            "gridcolor": "white",
            "gridwidth": 2,
            "linecolor": "white",
            "showbackground": true,
            "ticks": "",
            "zerolinecolor": "white"
           },
           "yaxis": {
            "backgroundcolor": "#E5ECF6",
            "gridcolor": "white",
            "gridwidth": 2,
            "linecolor": "white",
            "showbackground": true,
            "ticks": "",
            "zerolinecolor": "white"
           },
           "zaxis": {
            "backgroundcolor": "#E5ECF6",
            "gridcolor": "white",
            "gridwidth": 2,
            "linecolor": "white",
            "showbackground": true,
            "ticks": "",
            "zerolinecolor": "white"
           }
          },
          "shapedefaults": {
           "line": {
            "color": "#2a3f5f"
           }
          },
          "ternary": {
           "aaxis": {
            "gridcolor": "white",
            "linecolor": "white",
            "ticks": ""
           },
           "baxis": {
            "gridcolor": "white",
            "linecolor": "white",
            "ticks": ""
           },
           "bgcolor": "#E5ECF6",
           "caxis": {
            "gridcolor": "white",
            "linecolor": "white",
            "ticks": ""
           }
          },
          "title": {
           "x": 0.05
          },
          "xaxis": {
           "automargin": true,
           "gridcolor": "white",
           "linecolor": "white",
           "ticks": "",
           "title": {
            "standoff": 15
           },
           "zerolinecolor": "white",
           "zerolinewidth": 2
          },
          "yaxis": {
           "automargin": true,
           "gridcolor": "white",
           "linecolor": "white",
           "ticks": "",
           "title": {
            "standoff": 15
           },
           "zerolinecolor": "white",
           "zerolinewidth": 2
          }
         }
        },
        "title": {
         "text": "Average Response Time by Category"
        },
        "width": 1700,
        "xaxis": {
         "anchor": "y",
         "domain": [
          0,
          1
         ]
        },
        "xaxis2": {
         "anchor": "y2",
         "domain": [
          0,
          1
         ]
        },
        "xaxis3": {
         "anchor": "y3",
         "domain": [
          0,
          1
         ]
        },
        "xaxis4": {
         "anchor": "y4",
         "domain": [
          0,
          1
         ]
        },
        "yaxis": {
         "anchor": "x",
         "domain": [
          0.825,
          1
         ],
         "title": {
          "text": "Average Response Time (minutes)"
         }
        },
        "yaxis2": {
         "anchor": "x2",
         "domain": [
          0.55,
          0.7250000000000001
         ],
         "title": {
          "text": "Average Response Time (minutes)"
         }
        },
        "yaxis3": {
         "anchor": "x3",
         "domain": [
          0.275,
          0.45
         ],
         "title": {
          "text": "Average Response Time (minutes)"
         }
        },
        "yaxis4": {
         "anchor": "x4",
         "domain": [
          0,
          0.175
         ],
         "title": {
          "text": "Average Response Time (minutes)"
         }
        }
       }
      }
     },
     "metadata": {},
     "output_type": "display_data"
    }
   ],
   "source": [
    "# Plotting categorical columns with average response time\n",
    "fig = make_subplots(rows=len(category_columns), cols=1, subplot_titles=category_columns, vertical_spacing=.1)\n",
    "\n",
    "for i, col in enumerate(category_columns):\n",
    "    avg_data = avg_response_times[col]\n",
    "    trace = go.Bar(x=avg_data[col], y=avg_data['RESPONSE_TIME'], name=col)\n",
    "    fig.add_trace(trace, row=i + 1, col=1)\n",
    "    fig.update_yaxes(title_text='Average Response Time (minutes)', row=i + 1, col=1)\n",
    "\n",
    "fig.update_layout(\n",
    "    title_text='Average Response Time by Category',\n",
    "    width=1700,\n",
    "    height=2000,\n",
    "    margin=dict(l=15, r=10, t=50, b=10)\n",
    ")\n",
    "fig.show()"
   ]
  },
  {
   "cell_type": "markdown",
   "metadata": {},
   "source": [
    "#### Insights:\n",
    "* Similar to the call distrbution by category but here we are comparing average respnse time to each precinct. The precincts with the worst response times are 102, 105, 109, 113. These are all geographicly in the south queens. In queens the precint size is larger so I am sure this adds to the resonse time. [Refernce](https://www.nyc.gov/site/nypd/bureaus/patrol/find-your-precinct.page).\n",
    "* Again reflected in the second graph we can see response time by burrow. With queens and the bronx having the highest reponse time. Agian as can be seen in the provied link it is probably mostly in part due to the size of the precints in those burrows. The other side of this is Manhatten which has the lowest response time, again unsipringly as the precint size in manhatten are the smallest in all of NYC so the police has less area to travel.\n",
    "* Third, we are looking that the response time by radio code. With the highest 3 call response times as (65S8: 262min, 69I: 136min, 22V8: 122min) corrisponding to (Utility trouble(one officer), other noncrime insident, Larceny(vechile)). To get a better understanding of these values we would need to see how many data points corrispond to each but for now we can see non critical calls recives low prority in terms of police reponse at over 2hrs.\n",
    "* Finally, we are looking at response time by crime in progess status. Gladly we see that cirtical staus has the lowest reponse time with an average reponse of 5 1/2 mins. While non crime in process calls are at around 15mins."
   ]
  },
  {
   "cell_type": "markdown",
   "metadata": {},
   "source": [
    "#### **Time Series Evalutaion**"
   ]
  },
  {
   "cell_type": "markdown",
   "metadata": {},
   "source": [
    "I am now going to apply the datetime as the index, then treating the main df as a time series dateframe from here out. With the end goal to clean the data in terms of a datetime range (first by day of week and then hour of day). When I better understand the webscrapping API I hope to also take a look at yearly trends by looking at month of year."
   ]
  },
  {
   "cell_type": "code",
   "execution_count": 25,
   "metadata": {},
   "outputs": [
    {
     "data": {
      "text/html": [
       "<div>\n",
       "<style scoped>\n",
       "    .dataframe tbody tr th:only-of-type {\n",
       "        vertical-align: middle;\n",
       "    }\n",
       "\n",
       "    .dataframe tbody tr th {\n",
       "        vertical-align: top;\n",
       "    }\n",
       "\n",
       "    .dataframe thead th {\n",
       "        text-align: right;\n",
       "    }\n",
       "</style>\n",
       "<table border=\"1\" class=\"dataframe\">\n",
       "  <thead>\n",
       "    <tr style=\"text-align: right;\">\n",
       "      <th></th>\n",
       "      <th>CAD_EVNT_ID</th>\n",
       "      <th>NYPD_PCT_CD</th>\n",
       "      <th>BORO_NM</th>\n",
       "      <th>RADIO_CODE</th>\n",
       "      <th>CIP_JOBS</th>\n",
       "      <th>ADD_TS</th>\n",
       "      <th>Latitude</th>\n",
       "      <th>Longitude</th>\n",
       "    </tr>\n",
       "  </thead>\n",
       "  <tbody>\n",
       "    <tr>\n",
       "      <th>0</th>\n",
       "      <td>99842231</td>\n",
       "      <td>45</td>\n",
       "      <td>BRONX</td>\n",
       "      <td>52D6</td>\n",
       "      <td>Non CIP</td>\n",
       "      <td>2024-01-01 00:02:04</td>\n",
       "      <td>40.850949</td>\n",
       "      <td>-73.829434</td>\n",
       "    </tr>\n",
       "    <tr>\n",
       "      <th>1</th>\n",
       "      <td>99842388</td>\n",
       "      <td>110</td>\n",
       "      <td>QUEENS</td>\n",
       "      <td>52D6</td>\n",
       "      <td>Non CIP</td>\n",
       "      <td>2024-01-01 00:09:59</td>\n",
       "      <td>40.738144</td>\n",
       "      <td>-73.863466</td>\n",
       "    </tr>\n",
       "    <tr>\n",
       "      <th>2</th>\n",
       "      <td>99842587</td>\n",
       "      <td>108</td>\n",
       "      <td>QUEENS</td>\n",
       "      <td>53S</td>\n",
       "      <td>Non CIP</td>\n",
       "      <td>2024-01-01 00:01:21</td>\n",
       "      <td>40.743037</td>\n",
       "      <td>-73.916826</td>\n",
       "    </tr>\n",
       "    <tr>\n",
       "      <th>3</th>\n",
       "      <td>99843964</td>\n",
       "      <td>114</td>\n",
       "      <td>QUEENS</td>\n",
       "      <td>34K1</td>\n",
       "      <td>Critical</td>\n",
       "      <td>2024-01-01 00:06:11</td>\n",
       "      <td>40.776057</td>\n",
       "      <td>-73.934906</td>\n",
       "    </tr>\n",
       "    <tr>\n",
       "      <th>4</th>\n",
       "      <td>99844026</td>\n",
       "      <td>66</td>\n",
       "      <td>BROOKLYN</td>\n",
       "      <td>11C4</td>\n",
       "      <td>Non CIP</td>\n",
       "      <td>2024-01-01 00:04:38</td>\n",
       "      <td>40.645174</td>\n",
       "      <td>-73.986820</td>\n",
       "    </tr>\n",
       "  </tbody>\n",
       "</table>\n",
       "</div>"
      ],
      "text/plain": [
       "   CAD_EVNT_ID NYPD_PCT_CD   BORO_NM RADIO_CODE  CIP_JOBS              ADD_TS  \\\n",
       "0     99842231          45     BRONX       52D6   Non CIP 2024-01-01 00:02:04   \n",
       "1     99842388         110    QUEENS       52D6   Non CIP 2024-01-01 00:09:59   \n",
       "2     99842587         108    QUEENS        53S   Non CIP 2024-01-01 00:01:21   \n",
       "3     99843964         114    QUEENS       34K1  Critical 2024-01-01 00:06:11   \n",
       "4     99844026          66  BROOKLYN       11C4   Non CIP 2024-01-01 00:04:38   \n",
       "\n",
       "    Latitude  Longitude  \n",
       "0  40.850949 -73.829434  \n",
       "1  40.738144 -73.863466  \n",
       "2  40.743037 -73.916826  \n",
       "3  40.776057 -73.934906  \n",
       "4  40.645174 -73.986820  "
      ]
     },
     "execution_count": 25,
     "metadata": {},
     "output_type": "execute_result"
    }
   ],
   "source": [
    "df.head()"
   ]
  },
  {
   "cell_type": "code",
   "execution_count": 26,
   "metadata": {},
   "outputs": [
    {
     "data": {
      "text/html": [
       "<div>\n",
       "<style scoped>\n",
       "    .dataframe tbody tr th:only-of-type {\n",
       "        vertical-align: middle;\n",
       "    }\n",
       "\n",
       "    .dataframe tbody tr th {\n",
       "        vertical-align: top;\n",
       "    }\n",
       "\n",
       "    .dataframe thead th {\n",
       "        text-align: right;\n",
       "    }\n",
       "</style>\n",
       "<table border=\"1\" class=\"dataframe\">\n",
       "  <thead>\n",
       "    <tr style=\"text-align: right;\">\n",
       "      <th></th>\n",
       "      <th>num_calls</th>\n",
       "    </tr>\n",
       "    <tr>\n",
       "      <th>ADD_TS</th>\n",
       "      <th></th>\n",
       "    </tr>\n",
       "  </thead>\n",
       "  <tbody>\n",
       "    <tr>\n",
       "      <th>2024-01-01 00:00:00</th>\n",
       "      <td>950</td>\n",
       "    </tr>\n",
       "    <tr>\n",
       "      <th>2024-01-01 01:00:00</th>\n",
       "      <td>923</td>\n",
       "    </tr>\n",
       "    <tr>\n",
       "      <th>2024-01-01 02:00:00</th>\n",
       "      <td>824</td>\n",
       "    </tr>\n",
       "    <tr>\n",
       "      <th>2024-01-01 03:00:00</th>\n",
       "      <td>682</td>\n",
       "    </tr>\n",
       "    <tr>\n",
       "      <th>2024-01-01 04:00:00</th>\n",
       "      <td>565</td>\n",
       "    </tr>\n",
       "    <tr>\n",
       "      <th>...</th>\n",
       "      <td>...</td>\n",
       "    </tr>\n",
       "    <tr>\n",
       "      <th>2024-03-31 19:00:00</th>\n",
       "      <td>915</td>\n",
       "    </tr>\n",
       "    <tr>\n",
       "      <th>2024-03-31 20:00:00</th>\n",
       "      <td>980</td>\n",
       "    </tr>\n",
       "    <tr>\n",
       "      <th>2024-03-31 21:00:00</th>\n",
       "      <td>848</td>\n",
       "    </tr>\n",
       "    <tr>\n",
       "      <th>2024-03-31 22:00:00</th>\n",
       "      <td>828</td>\n",
       "    </tr>\n",
       "    <tr>\n",
       "      <th>2024-03-31 23:00:00</th>\n",
       "      <td>755</td>\n",
       "    </tr>\n",
       "  </tbody>\n",
       "</table>\n",
       "<p>2184 rows × 1 columns</p>\n",
       "</div>"
      ],
      "text/plain": [
       "                     num_calls\n",
       "ADD_TS                        \n",
       "2024-01-01 00:00:00        950\n",
       "2024-01-01 01:00:00        923\n",
       "2024-01-01 02:00:00        824\n",
       "2024-01-01 03:00:00        682\n",
       "2024-01-01 04:00:00        565\n",
       "...                        ...\n",
       "2024-03-31 19:00:00        915\n",
       "2024-03-31 20:00:00        980\n",
       "2024-03-31 21:00:00        848\n",
       "2024-03-31 22:00:00        828\n",
       "2024-03-31 23:00:00        755\n",
       "\n",
       "[2184 rows x 1 columns]"
      ]
     },
     "metadata": {},
     "output_type": "display_data"
    },
    {
     "data": {
      "text/html": [
       "<div>\n",
       "<style scoped>\n",
       "    .dataframe tbody tr th:only-of-type {\n",
       "        vertical-align: middle;\n",
       "    }\n",
       "\n",
       "    .dataframe tbody tr th {\n",
       "        vertical-align: top;\n",
       "    }\n",
       "\n",
       "    .dataframe thead th {\n",
       "        text-align: right;\n",
       "    }\n",
       "</style>\n",
       "<table border=\"1\" class=\"dataframe\">\n",
       "  <thead>\n",
       "    <tr style=\"text-align: right;\">\n",
       "      <th></th>\n",
       "      <th>num_calls</th>\n",
       "    </tr>\n",
       "    <tr>\n",
       "      <th>ADD_TS</th>\n",
       "      <th></th>\n",
       "    </tr>\n",
       "  </thead>\n",
       "  <tbody>\n",
       "    <tr>\n",
       "      <th>2024-01-01</th>\n",
       "      <td>16222</td>\n",
       "    </tr>\n",
       "    <tr>\n",
       "      <th>2024-01-02</th>\n",
       "      <td>18061</td>\n",
       "    </tr>\n",
       "    <tr>\n",
       "      <th>2024-01-03</th>\n",
       "      <td>18256</td>\n",
       "    </tr>\n",
       "    <tr>\n",
       "      <th>2024-01-04</th>\n",
       "      <td>18524</td>\n",
       "    </tr>\n",
       "    <tr>\n",
       "      <th>2024-01-05</th>\n",
       "      <td>18773</td>\n",
       "    </tr>\n",
       "    <tr>\n",
       "      <th>...</th>\n",
       "      <td>...</td>\n",
       "    </tr>\n",
       "    <tr>\n",
       "      <th>2024-03-27</th>\n",
       "      <td>19927</td>\n",
       "    </tr>\n",
       "    <tr>\n",
       "      <th>2024-03-28</th>\n",
       "      <td>18767</td>\n",
       "    </tr>\n",
       "    <tr>\n",
       "      <th>2024-03-29</th>\n",
       "      <td>20355</td>\n",
       "    </tr>\n",
       "    <tr>\n",
       "      <th>2024-03-30</th>\n",
       "      <td>18338</td>\n",
       "    </tr>\n",
       "    <tr>\n",
       "      <th>2024-03-31</th>\n",
       "      <td>18275</td>\n",
       "    </tr>\n",
       "  </tbody>\n",
       "</table>\n",
       "<p>91 rows × 1 columns</p>\n",
       "</div>"
      ],
      "text/plain": [
       "            num_calls\n",
       "ADD_TS               \n",
       "2024-01-01      16222\n",
       "2024-01-02      18061\n",
       "2024-01-03      18256\n",
       "2024-01-04      18524\n",
       "2024-01-05      18773\n",
       "...               ...\n",
       "2024-03-27      19927\n",
       "2024-03-28      18767\n",
       "2024-03-29      20355\n",
       "2024-03-30      18338\n",
       "2024-03-31      18275\n",
       "\n",
       "[91 rows x 1 columns]"
      ]
     },
     "metadata": {},
     "output_type": "display_data"
    }
   ],
   "source": [
    "#aggrigating dataframe into hourly and daily - will be monthly also when api is fixed\n",
    "hourly_df = df.set_index('ADD_TS').resample('H').size().reset_index(name='num_calls').set_index('ADD_TS')\n",
    "daily_df = df.set_index('ADD_TS').resample('D').size().reset_index(name='num_calls').set_index('ADD_TS')\n",
    "\n",
    "display(hourly_df)\n",
    "display(daily_df)"
   ]
  },
  {
   "cell_type": "code",
   "execution_count": 27,
   "metadata": {},
   "outputs": [
    {
     "name": "stderr",
     "output_type": "stream",
     "text": [
      "c:\\Users\\cmphi\\anaconda3\\envs\\dump\\Lib\\site-packages\\_plotly_utils\\basevalidators.py:106: FutureWarning:\n",
      "\n",
      "The behavior of DatetimeProperties.to_pydatetime is deprecated, in a future version this will return a Series containing python datetime objects instead of an ndarray. To retain the old behavior, call `np.array` on the result\n",
      "\n"
     ]
    },
    {
     "data": {
      "application/vnd.plotly.v1+json": {
       "config": {
        "plotlyServerURL": "https://plot.ly"
       },
       "data": [
        {
         "hovertemplate": "ADD_TS=%{x}<br>num_calls=%{y}<extra></extra>",
         "legendgroup": "",
         "line": {
          "color": "#636efa",
          "dash": "solid"
         },
         "marker": {
          "symbol": "circle"
         },
         "mode": "lines",
         "name": "",
         "showlegend": false,
         "type": "scattergl",
         "x": [
          "2024-01-01T00:00:00",
          "2024-01-01T01:00:00",
          "2024-01-01T02:00:00",
          "2024-01-01T03:00:00",
          "2024-01-01T04:00:00",
          "2024-01-01T05:00:00",
          "2024-01-01T06:00:00",
          "2024-01-01T07:00:00",
          "2024-01-01T08:00:00",
          "2024-01-01T09:00:00",
          "2024-01-01T10:00:00",
          "2024-01-01T11:00:00",
          "2024-01-01T12:00:00",
          "2024-01-01T13:00:00",
          "2024-01-01T14:00:00",
          "2024-01-01T15:00:00",
          "2024-01-01T16:00:00",
          "2024-01-01T17:00:00",
          "2024-01-01T18:00:00",
          "2024-01-01T19:00:00",
          "2024-01-01T20:00:00",
          "2024-01-01T21:00:00",
          "2024-01-01T22:00:00",
          "2024-01-01T23:00:00",
          "2024-01-02T00:00:00",
          "2024-01-02T01:00:00",
          "2024-01-02T02:00:00",
          "2024-01-02T03:00:00",
          "2024-01-02T04:00:00",
          "2024-01-02T05:00:00",
          "2024-01-02T06:00:00",
          "2024-01-02T07:00:00",
          "2024-01-02T08:00:00",
          "2024-01-02T09:00:00",
          "2024-01-02T10:00:00",
          "2024-01-02T11:00:00",
          "2024-01-02T12:00:00",
          "2024-01-02T13:00:00",
          "2024-01-02T14:00:00",
          "2024-01-02T15:00:00",
          "2024-01-02T16:00:00",
          "2024-01-02T17:00:00",
          "2024-01-02T18:00:00",
          "2024-01-02T19:00:00",
          "2024-01-02T20:00:00",
          "2024-01-02T21:00:00",
          "2024-01-02T22:00:00",
          "2024-01-02T23:00:00",
          "2024-01-03T00:00:00",
          "2024-01-03T01:00:00",
          "2024-01-03T02:00:00",
          "2024-01-03T03:00:00",
          "2024-01-03T04:00:00",
          "2024-01-03T05:00:00",
          "2024-01-03T06:00:00",
          "2024-01-03T07:00:00",
          "2024-01-03T08:00:00",
          "2024-01-03T09:00:00",
          "2024-01-03T10:00:00",
          "2024-01-03T11:00:00",
          "2024-01-03T12:00:00",
          "2024-01-03T13:00:00",
          "2024-01-03T14:00:00",
          "2024-01-03T15:00:00",
          "2024-01-03T16:00:00",
          "2024-01-03T17:00:00",
          "2024-01-03T18:00:00",
          "2024-01-03T19:00:00",
          "2024-01-03T20:00:00",
          "2024-01-03T21:00:00",
          "2024-01-03T22:00:00",
          "2024-01-03T23:00:00",
          "2024-01-04T00:00:00",
          "2024-01-04T01:00:00",
          "2024-01-04T02:00:00",
          "2024-01-04T03:00:00",
          "2024-01-04T04:00:00",
          "2024-01-04T05:00:00",
          "2024-01-04T06:00:00",
          "2024-01-04T07:00:00",
          "2024-01-04T08:00:00",
          "2024-01-04T09:00:00",
          "2024-01-04T10:00:00",
          "2024-01-04T11:00:00",
          "2024-01-04T12:00:00",
          "2024-01-04T13:00:00",
          "2024-01-04T14:00:00",
          "2024-01-04T15:00:00",
          "2024-01-04T16:00:00",
          "2024-01-04T17:00:00",
          "2024-01-04T18:00:00",
          "2024-01-04T19:00:00",
          "2024-01-04T20:00:00",
          "2024-01-04T21:00:00",
          "2024-01-04T22:00:00",
          "2024-01-04T23:00:00",
          "2024-01-05T00:00:00",
          "2024-01-05T01:00:00",
          "2024-01-05T02:00:00",
          "2024-01-05T03:00:00",
          "2024-01-05T04:00:00",
          "2024-01-05T05:00:00",
          "2024-01-05T06:00:00",
          "2024-01-05T07:00:00",
          "2024-01-05T08:00:00",
          "2024-01-05T09:00:00",
          "2024-01-05T10:00:00",
          "2024-01-05T11:00:00",
          "2024-01-05T12:00:00",
          "2024-01-05T13:00:00",
          "2024-01-05T14:00:00",
          "2024-01-05T15:00:00",
          "2024-01-05T16:00:00",
          "2024-01-05T17:00:00",
          "2024-01-05T18:00:00",
          "2024-01-05T19:00:00",
          "2024-01-05T20:00:00",
          "2024-01-05T21:00:00",
          "2024-01-05T22:00:00",
          "2024-01-05T23:00:00",
          "2024-01-06T00:00:00",
          "2024-01-06T01:00:00",
          "2024-01-06T02:00:00",
          "2024-01-06T03:00:00",
          "2024-01-06T04:00:00",
          "2024-01-06T05:00:00",
          "2024-01-06T06:00:00",
          "2024-01-06T07:00:00",
          "2024-01-06T08:00:00",
          "2024-01-06T09:00:00",
          "2024-01-06T10:00:00",
          "2024-01-06T11:00:00",
          "2024-01-06T12:00:00",
          "2024-01-06T13:00:00",
          "2024-01-06T14:00:00",
          "2024-01-06T15:00:00",
          "2024-01-06T16:00:00",
          "2024-01-06T17:00:00",
          "2024-01-06T18:00:00",
          "2024-01-06T19:00:00",
          "2024-01-06T20:00:00",
          "2024-01-06T21:00:00",
          "2024-01-06T22:00:00",
          "2024-01-06T23:00:00",
          "2024-01-07T00:00:00",
          "2024-01-07T01:00:00",
          "2024-01-07T02:00:00",
          "2024-01-07T03:00:00",
          "2024-01-07T04:00:00",
          "2024-01-07T05:00:00",
          "2024-01-07T06:00:00",
          "2024-01-07T07:00:00",
          "2024-01-07T08:00:00",
          "2024-01-07T09:00:00",
          "2024-01-07T10:00:00",
          "2024-01-07T11:00:00",
          "2024-01-07T12:00:00",
          "2024-01-07T13:00:00",
          "2024-01-07T14:00:00",
          "2024-01-07T15:00:00",
          "2024-01-07T16:00:00",
          "2024-01-07T17:00:00",
          "2024-01-07T18:00:00",
          "2024-01-07T19:00:00",
          "2024-01-07T20:00:00",
          "2024-01-07T21:00:00",
          "2024-01-07T22:00:00",
          "2024-01-07T23:00:00",
          "2024-01-08T00:00:00",
          "2024-01-08T01:00:00",
          "2024-01-08T02:00:00",
          "2024-01-08T03:00:00",
          "2024-01-08T04:00:00",
          "2024-01-08T05:00:00",
          "2024-01-08T06:00:00",
          "2024-01-08T07:00:00",
          "2024-01-08T08:00:00",
          "2024-01-08T09:00:00",
          "2024-01-08T10:00:00",
          "2024-01-08T11:00:00",
          "2024-01-08T12:00:00",
          "2024-01-08T13:00:00",
          "2024-01-08T14:00:00",
          "2024-01-08T15:00:00",
          "2024-01-08T16:00:00",
          "2024-01-08T17:00:00",
          "2024-01-08T18:00:00",
          "2024-01-08T19:00:00",
          "2024-01-08T20:00:00",
          "2024-01-08T21:00:00",
          "2024-01-08T22:00:00",
          "2024-01-08T23:00:00",
          "2024-01-09T00:00:00",
          "2024-01-09T01:00:00",
          "2024-01-09T02:00:00",
          "2024-01-09T03:00:00",
          "2024-01-09T04:00:00",
          "2024-01-09T05:00:00",
          "2024-01-09T06:00:00",
          "2024-01-09T07:00:00",
          "2024-01-09T08:00:00",
          "2024-01-09T09:00:00",
          "2024-01-09T10:00:00",
          "2024-01-09T11:00:00",
          "2024-01-09T12:00:00",
          "2024-01-09T13:00:00",
          "2024-01-09T14:00:00",
          "2024-01-09T15:00:00",
          "2024-01-09T16:00:00",
          "2024-01-09T17:00:00",
          "2024-01-09T18:00:00",
          "2024-01-09T19:00:00",
          "2024-01-09T20:00:00",
          "2024-01-09T21:00:00",
          "2024-01-09T22:00:00",
          "2024-01-09T23:00:00",
          "2024-01-10T00:00:00",
          "2024-01-10T01:00:00",
          "2024-01-10T02:00:00",
          "2024-01-10T03:00:00",
          "2024-01-10T04:00:00",
          "2024-01-10T05:00:00",
          "2024-01-10T06:00:00",
          "2024-01-10T07:00:00",
          "2024-01-10T08:00:00",
          "2024-01-10T09:00:00",
          "2024-01-10T10:00:00",
          "2024-01-10T11:00:00",
          "2024-01-10T12:00:00",
          "2024-01-10T13:00:00",
          "2024-01-10T14:00:00",
          "2024-01-10T15:00:00",
          "2024-01-10T16:00:00",
          "2024-01-10T17:00:00",
          "2024-01-10T18:00:00",
          "2024-01-10T19:00:00",
          "2024-01-10T20:00:00",
          "2024-01-10T21:00:00",
          "2024-01-10T22:00:00",
          "2024-01-10T23:00:00",
          "2024-01-11T00:00:00",
          "2024-01-11T01:00:00",
          "2024-01-11T02:00:00",
          "2024-01-11T03:00:00",
          "2024-01-11T04:00:00",
          "2024-01-11T05:00:00",
          "2024-01-11T06:00:00",
          "2024-01-11T07:00:00",
          "2024-01-11T08:00:00",
          "2024-01-11T09:00:00",
          "2024-01-11T10:00:00",
          "2024-01-11T11:00:00",
          "2024-01-11T12:00:00",
          "2024-01-11T13:00:00",
          "2024-01-11T14:00:00",
          "2024-01-11T15:00:00",
          "2024-01-11T16:00:00",
          "2024-01-11T17:00:00",
          "2024-01-11T18:00:00",
          "2024-01-11T19:00:00",
          "2024-01-11T20:00:00",
          "2024-01-11T21:00:00",
          "2024-01-11T22:00:00",
          "2024-01-11T23:00:00",
          "2024-01-12T00:00:00",
          "2024-01-12T01:00:00",
          "2024-01-12T02:00:00",
          "2024-01-12T03:00:00",
          "2024-01-12T04:00:00",
          "2024-01-12T05:00:00",
          "2024-01-12T06:00:00",
          "2024-01-12T07:00:00",
          "2024-01-12T08:00:00",
          "2024-01-12T09:00:00",
          "2024-01-12T10:00:00",
          "2024-01-12T11:00:00",
          "2024-01-12T12:00:00",
          "2024-01-12T13:00:00",
          "2024-01-12T14:00:00",
          "2024-01-12T15:00:00",
          "2024-01-12T16:00:00",
          "2024-01-12T17:00:00",
          "2024-01-12T18:00:00",
          "2024-01-12T19:00:00",
          "2024-01-12T20:00:00",
          "2024-01-12T21:00:00",
          "2024-01-12T22:00:00",
          "2024-01-12T23:00:00",
          "2024-01-13T00:00:00",
          "2024-01-13T01:00:00",
          "2024-01-13T02:00:00",
          "2024-01-13T03:00:00",
          "2024-01-13T04:00:00",
          "2024-01-13T05:00:00",
          "2024-01-13T06:00:00",
          "2024-01-13T07:00:00",
          "2024-01-13T08:00:00",
          "2024-01-13T09:00:00",
          "2024-01-13T10:00:00",
          "2024-01-13T11:00:00",
          "2024-01-13T12:00:00",
          "2024-01-13T13:00:00",
          "2024-01-13T14:00:00",
          "2024-01-13T15:00:00",
          "2024-01-13T16:00:00",
          "2024-01-13T17:00:00",
          "2024-01-13T18:00:00",
          "2024-01-13T19:00:00",
          "2024-01-13T20:00:00",
          "2024-01-13T21:00:00",
          "2024-01-13T22:00:00",
          "2024-01-13T23:00:00",
          "2024-01-14T00:00:00",
          "2024-01-14T01:00:00",
          "2024-01-14T02:00:00",
          "2024-01-14T03:00:00",
          "2024-01-14T04:00:00",
          "2024-01-14T05:00:00",
          "2024-01-14T06:00:00",
          "2024-01-14T07:00:00",
          "2024-01-14T08:00:00",
          "2024-01-14T09:00:00",
          "2024-01-14T10:00:00",
          "2024-01-14T11:00:00",
          "2024-01-14T12:00:00",
          "2024-01-14T13:00:00",
          "2024-01-14T14:00:00",
          "2024-01-14T15:00:00",
          "2024-01-14T16:00:00",
          "2024-01-14T17:00:00",
          "2024-01-14T18:00:00",
          "2024-01-14T19:00:00",
          "2024-01-14T20:00:00",
          "2024-01-14T21:00:00",
          "2024-01-14T22:00:00",
          "2024-01-14T23:00:00",
          "2024-01-15T00:00:00",
          "2024-01-15T01:00:00",
          "2024-01-15T02:00:00",
          "2024-01-15T03:00:00",
          "2024-01-15T04:00:00",
          "2024-01-15T05:00:00",
          "2024-01-15T06:00:00",
          "2024-01-15T07:00:00",
          "2024-01-15T08:00:00",
          "2024-01-15T09:00:00",
          "2024-01-15T10:00:00",
          "2024-01-15T11:00:00",
          "2024-01-15T12:00:00",
          "2024-01-15T13:00:00",
          "2024-01-15T14:00:00",
          "2024-01-15T15:00:00",
          "2024-01-15T16:00:00",
          "2024-01-15T17:00:00",
          "2024-01-15T18:00:00",
          "2024-01-15T19:00:00",
          "2024-01-15T20:00:00",
          "2024-01-15T21:00:00",
          "2024-01-15T22:00:00",
          "2024-01-15T23:00:00",
          "2024-01-16T00:00:00",
          "2024-01-16T01:00:00",
          "2024-01-16T02:00:00",
          "2024-01-16T03:00:00",
          "2024-01-16T04:00:00",
          "2024-01-16T05:00:00",
          "2024-01-16T06:00:00",
          "2024-01-16T07:00:00",
          "2024-01-16T08:00:00",
          "2024-01-16T09:00:00",
          "2024-01-16T10:00:00",
          "2024-01-16T11:00:00",
          "2024-01-16T12:00:00",
          "2024-01-16T13:00:00",
          "2024-01-16T14:00:00",
          "2024-01-16T15:00:00",
          "2024-01-16T16:00:00",
          "2024-01-16T17:00:00",
          "2024-01-16T18:00:00",
          "2024-01-16T19:00:00",
          "2024-01-16T20:00:00",
          "2024-01-16T21:00:00",
          "2024-01-16T22:00:00",
          "2024-01-16T23:00:00",
          "2024-01-17T00:00:00",
          "2024-01-17T01:00:00",
          "2024-01-17T02:00:00",
          "2024-01-17T03:00:00",
          "2024-01-17T04:00:00",
          "2024-01-17T05:00:00",
          "2024-01-17T06:00:00",
          "2024-01-17T07:00:00",
          "2024-01-17T08:00:00",
          "2024-01-17T09:00:00",
          "2024-01-17T10:00:00",
          "2024-01-17T11:00:00",
          "2024-01-17T12:00:00",
          "2024-01-17T13:00:00",
          "2024-01-17T14:00:00",
          "2024-01-17T15:00:00",
          "2024-01-17T16:00:00",
          "2024-01-17T17:00:00",
          "2024-01-17T18:00:00",
          "2024-01-17T19:00:00",
          "2024-01-17T20:00:00",
          "2024-01-17T21:00:00",
          "2024-01-17T22:00:00",
          "2024-01-17T23:00:00",
          "2024-01-18T00:00:00",
          "2024-01-18T01:00:00",
          "2024-01-18T02:00:00",
          "2024-01-18T03:00:00",
          "2024-01-18T04:00:00",
          "2024-01-18T05:00:00",
          "2024-01-18T06:00:00",
          "2024-01-18T07:00:00",
          "2024-01-18T08:00:00",
          "2024-01-18T09:00:00",
          "2024-01-18T10:00:00",
          "2024-01-18T11:00:00",
          "2024-01-18T12:00:00",
          "2024-01-18T13:00:00",
          "2024-01-18T14:00:00",
          "2024-01-18T15:00:00",
          "2024-01-18T16:00:00",
          "2024-01-18T17:00:00",
          "2024-01-18T18:00:00",
          "2024-01-18T19:00:00",
          "2024-01-18T20:00:00",
          "2024-01-18T21:00:00",
          "2024-01-18T22:00:00",
          "2024-01-18T23:00:00",
          "2024-01-19T00:00:00",
          "2024-01-19T01:00:00",
          "2024-01-19T02:00:00",
          "2024-01-19T03:00:00",
          "2024-01-19T04:00:00",
          "2024-01-19T05:00:00",
          "2024-01-19T06:00:00",
          "2024-01-19T07:00:00",
          "2024-01-19T08:00:00",
          "2024-01-19T09:00:00",
          "2024-01-19T10:00:00",
          "2024-01-19T11:00:00",
          "2024-01-19T12:00:00",
          "2024-01-19T13:00:00",
          "2024-01-19T14:00:00",
          "2024-01-19T15:00:00",
          "2024-01-19T16:00:00",
          "2024-01-19T17:00:00",
          "2024-01-19T18:00:00",
          "2024-01-19T19:00:00",
          "2024-01-19T20:00:00",
          "2024-01-19T21:00:00",
          "2024-01-19T22:00:00",
          "2024-01-19T23:00:00",
          "2024-01-20T00:00:00",
          "2024-01-20T01:00:00",
          "2024-01-20T02:00:00",
          "2024-01-20T03:00:00",
          "2024-01-20T04:00:00",
          "2024-01-20T05:00:00",
          "2024-01-20T06:00:00",
          "2024-01-20T07:00:00",
          "2024-01-20T08:00:00",
          "2024-01-20T09:00:00",
          "2024-01-20T10:00:00",
          "2024-01-20T11:00:00",
          "2024-01-20T12:00:00",
          "2024-01-20T13:00:00",
          "2024-01-20T14:00:00",
          "2024-01-20T15:00:00",
          "2024-01-20T16:00:00",
          "2024-01-20T17:00:00",
          "2024-01-20T18:00:00",
          "2024-01-20T19:00:00",
          "2024-01-20T20:00:00",
          "2024-01-20T21:00:00",
          "2024-01-20T22:00:00",
          "2024-01-20T23:00:00",
          "2024-01-21T00:00:00",
          "2024-01-21T01:00:00",
          "2024-01-21T02:00:00",
          "2024-01-21T03:00:00",
          "2024-01-21T04:00:00",
          "2024-01-21T05:00:00",
          "2024-01-21T06:00:00",
          "2024-01-21T07:00:00",
          "2024-01-21T08:00:00",
          "2024-01-21T09:00:00",
          "2024-01-21T10:00:00",
          "2024-01-21T11:00:00",
          "2024-01-21T12:00:00",
          "2024-01-21T13:00:00",
          "2024-01-21T14:00:00",
          "2024-01-21T15:00:00",
          "2024-01-21T16:00:00",
          "2024-01-21T17:00:00",
          "2024-01-21T18:00:00",
          "2024-01-21T19:00:00",
          "2024-01-21T20:00:00",
          "2024-01-21T21:00:00",
          "2024-01-21T22:00:00",
          "2024-01-21T23:00:00",
          "2024-01-22T00:00:00",
          "2024-01-22T01:00:00",
          "2024-01-22T02:00:00",
          "2024-01-22T03:00:00",
          "2024-01-22T04:00:00",
          "2024-01-22T05:00:00",
          "2024-01-22T06:00:00",
          "2024-01-22T07:00:00",
          "2024-01-22T08:00:00",
          "2024-01-22T09:00:00",
          "2024-01-22T10:00:00",
          "2024-01-22T11:00:00",
          "2024-01-22T12:00:00",
          "2024-01-22T13:00:00",
          "2024-01-22T14:00:00",
          "2024-01-22T15:00:00",
          "2024-01-22T16:00:00",
          "2024-01-22T17:00:00",
          "2024-01-22T18:00:00",
          "2024-01-22T19:00:00",
          "2024-01-22T20:00:00",
          "2024-01-22T21:00:00",
          "2024-01-22T22:00:00",
          "2024-01-22T23:00:00",
          "2024-01-23T00:00:00",
          "2024-01-23T01:00:00",
          "2024-01-23T02:00:00",
          "2024-01-23T03:00:00",
          "2024-01-23T04:00:00",
          "2024-01-23T05:00:00",
          "2024-01-23T06:00:00",
          "2024-01-23T07:00:00",
          "2024-01-23T08:00:00",
          "2024-01-23T09:00:00",
          "2024-01-23T10:00:00",
          "2024-01-23T11:00:00",
          "2024-01-23T12:00:00",
          "2024-01-23T13:00:00",
          "2024-01-23T14:00:00",
          "2024-01-23T15:00:00",
          "2024-01-23T16:00:00",
          "2024-01-23T17:00:00",
          "2024-01-23T18:00:00",
          "2024-01-23T19:00:00",
          "2024-01-23T20:00:00",
          "2024-01-23T21:00:00",
          "2024-01-23T22:00:00",
          "2024-01-23T23:00:00",
          "2024-01-24T00:00:00",
          "2024-01-24T01:00:00",
          "2024-01-24T02:00:00",
          "2024-01-24T03:00:00",
          "2024-01-24T04:00:00",
          "2024-01-24T05:00:00",
          "2024-01-24T06:00:00",
          "2024-01-24T07:00:00",
          "2024-01-24T08:00:00",
          "2024-01-24T09:00:00",
          "2024-01-24T10:00:00",
          "2024-01-24T11:00:00",
          "2024-01-24T12:00:00",
          "2024-01-24T13:00:00",
          "2024-01-24T14:00:00",
          "2024-01-24T15:00:00",
          "2024-01-24T16:00:00",
          "2024-01-24T17:00:00",
          "2024-01-24T18:00:00",
          "2024-01-24T19:00:00",
          "2024-01-24T20:00:00",
          "2024-01-24T21:00:00",
          "2024-01-24T22:00:00",
          "2024-01-24T23:00:00",
          "2024-01-25T00:00:00",
          "2024-01-25T01:00:00",
          "2024-01-25T02:00:00",
          "2024-01-25T03:00:00",
          "2024-01-25T04:00:00",
          "2024-01-25T05:00:00",
          "2024-01-25T06:00:00",
          "2024-01-25T07:00:00",
          "2024-01-25T08:00:00",
          "2024-01-25T09:00:00",
          "2024-01-25T10:00:00",
          "2024-01-25T11:00:00",
          "2024-01-25T12:00:00",
          "2024-01-25T13:00:00",
          "2024-01-25T14:00:00",
          "2024-01-25T15:00:00",
          "2024-01-25T16:00:00",
          "2024-01-25T17:00:00",
          "2024-01-25T18:00:00",
          "2024-01-25T19:00:00",
          "2024-01-25T20:00:00",
          "2024-01-25T21:00:00",
          "2024-01-25T22:00:00",
          "2024-01-25T23:00:00",
          "2024-01-26T00:00:00",
          "2024-01-26T01:00:00",
          "2024-01-26T02:00:00",
          "2024-01-26T03:00:00",
          "2024-01-26T04:00:00",
          "2024-01-26T05:00:00",
          "2024-01-26T06:00:00",
          "2024-01-26T07:00:00",
          "2024-01-26T08:00:00",
          "2024-01-26T09:00:00",
          "2024-01-26T10:00:00",
          "2024-01-26T11:00:00",
          "2024-01-26T12:00:00",
          "2024-01-26T13:00:00",
          "2024-01-26T14:00:00",
          "2024-01-26T15:00:00",
          "2024-01-26T16:00:00",
          "2024-01-26T17:00:00",
          "2024-01-26T18:00:00",
          "2024-01-26T19:00:00",
          "2024-01-26T20:00:00",
          "2024-01-26T21:00:00",
          "2024-01-26T22:00:00",
          "2024-01-26T23:00:00",
          "2024-01-27T00:00:00",
          "2024-01-27T01:00:00",
          "2024-01-27T02:00:00",
          "2024-01-27T03:00:00",
          "2024-01-27T04:00:00",
          "2024-01-27T05:00:00",
          "2024-01-27T06:00:00",
          "2024-01-27T07:00:00",
          "2024-01-27T08:00:00",
          "2024-01-27T09:00:00",
          "2024-01-27T10:00:00",
          "2024-01-27T11:00:00",
          "2024-01-27T12:00:00",
          "2024-01-27T13:00:00",
          "2024-01-27T14:00:00",
          "2024-01-27T15:00:00",
          "2024-01-27T16:00:00",
          "2024-01-27T17:00:00",
          "2024-01-27T18:00:00",
          "2024-01-27T19:00:00",
          "2024-01-27T20:00:00",
          "2024-01-27T21:00:00",
          "2024-01-27T22:00:00",
          "2024-01-27T23:00:00",
          "2024-01-28T00:00:00",
          "2024-01-28T01:00:00",
          "2024-01-28T02:00:00",
          "2024-01-28T03:00:00",
          "2024-01-28T04:00:00",
          "2024-01-28T05:00:00",
          "2024-01-28T06:00:00",
          "2024-01-28T07:00:00",
          "2024-01-28T08:00:00",
          "2024-01-28T09:00:00",
          "2024-01-28T10:00:00",
          "2024-01-28T11:00:00",
          "2024-01-28T12:00:00",
          "2024-01-28T13:00:00",
          "2024-01-28T14:00:00",
          "2024-01-28T15:00:00",
          "2024-01-28T16:00:00",
          "2024-01-28T17:00:00",
          "2024-01-28T18:00:00",
          "2024-01-28T19:00:00",
          "2024-01-28T20:00:00",
          "2024-01-28T21:00:00",
          "2024-01-28T22:00:00",
          "2024-01-28T23:00:00",
          "2024-01-29T00:00:00",
          "2024-01-29T01:00:00",
          "2024-01-29T02:00:00",
          "2024-01-29T03:00:00",
          "2024-01-29T04:00:00",
          "2024-01-29T05:00:00",
          "2024-01-29T06:00:00",
          "2024-01-29T07:00:00",
          "2024-01-29T08:00:00",
          "2024-01-29T09:00:00",
          "2024-01-29T10:00:00",
          "2024-01-29T11:00:00",
          "2024-01-29T12:00:00",
          "2024-01-29T13:00:00",
          "2024-01-29T14:00:00",
          "2024-01-29T15:00:00",
          "2024-01-29T16:00:00",
          "2024-01-29T17:00:00",
          "2024-01-29T18:00:00",
          "2024-01-29T19:00:00",
          "2024-01-29T20:00:00",
          "2024-01-29T21:00:00",
          "2024-01-29T22:00:00",
          "2024-01-29T23:00:00",
          "2024-01-30T00:00:00",
          "2024-01-30T01:00:00",
          "2024-01-30T02:00:00",
          "2024-01-30T03:00:00",
          "2024-01-30T04:00:00",
          "2024-01-30T05:00:00",
          "2024-01-30T06:00:00",
          "2024-01-30T07:00:00",
          "2024-01-30T08:00:00",
          "2024-01-30T09:00:00",
          "2024-01-30T10:00:00",
          "2024-01-30T11:00:00",
          "2024-01-30T12:00:00",
          "2024-01-30T13:00:00",
          "2024-01-30T14:00:00",
          "2024-01-30T15:00:00",
          "2024-01-30T16:00:00",
          "2024-01-30T17:00:00",
          "2024-01-30T18:00:00",
          "2024-01-30T19:00:00",
          "2024-01-30T20:00:00",
          "2024-01-30T21:00:00",
          "2024-01-30T22:00:00",
          "2024-01-30T23:00:00",
          "2024-01-31T00:00:00",
          "2024-01-31T01:00:00",
          "2024-01-31T02:00:00",
          "2024-01-31T03:00:00",
          "2024-01-31T04:00:00",
          "2024-01-31T05:00:00",
          "2024-01-31T06:00:00",
          "2024-01-31T07:00:00",
          "2024-01-31T08:00:00",
          "2024-01-31T09:00:00",
          "2024-01-31T10:00:00",
          "2024-01-31T11:00:00",
          "2024-01-31T12:00:00",
          "2024-01-31T13:00:00",
          "2024-01-31T14:00:00",
          "2024-01-31T15:00:00",
          "2024-01-31T16:00:00",
          "2024-01-31T17:00:00",
          "2024-01-31T18:00:00",
          "2024-01-31T19:00:00",
          "2024-01-31T20:00:00",
          "2024-01-31T21:00:00",
          "2024-01-31T22:00:00",
          "2024-01-31T23:00:00",
          "2024-02-01T00:00:00",
          "2024-02-01T01:00:00",
          "2024-02-01T02:00:00",
          "2024-02-01T03:00:00",
          "2024-02-01T04:00:00",
          "2024-02-01T05:00:00",
          "2024-02-01T06:00:00",
          "2024-02-01T07:00:00",
          "2024-02-01T08:00:00",
          "2024-02-01T09:00:00",
          "2024-02-01T10:00:00",
          "2024-02-01T11:00:00",
          "2024-02-01T12:00:00",
          "2024-02-01T13:00:00",
          "2024-02-01T14:00:00",
          "2024-02-01T15:00:00",
          "2024-02-01T16:00:00",
          "2024-02-01T17:00:00",
          "2024-02-01T18:00:00",
          "2024-02-01T19:00:00",
          "2024-02-01T20:00:00",
          "2024-02-01T21:00:00",
          "2024-02-01T22:00:00",
          "2024-02-01T23:00:00",
          "2024-02-02T00:00:00",
          "2024-02-02T01:00:00",
          "2024-02-02T02:00:00",
          "2024-02-02T03:00:00",
          "2024-02-02T04:00:00",
          "2024-02-02T05:00:00",
          "2024-02-02T06:00:00",
          "2024-02-02T07:00:00",
          "2024-02-02T08:00:00",
          "2024-02-02T09:00:00",
          "2024-02-02T10:00:00",
          "2024-02-02T11:00:00",
          "2024-02-02T12:00:00",
          "2024-02-02T13:00:00",
          "2024-02-02T14:00:00",
          "2024-02-02T15:00:00",
          "2024-02-02T16:00:00",
          "2024-02-02T17:00:00",
          "2024-02-02T18:00:00",
          "2024-02-02T19:00:00",
          "2024-02-02T20:00:00",
          "2024-02-02T21:00:00",
          "2024-02-02T22:00:00",
          "2024-02-02T23:00:00",
          "2024-02-03T00:00:00",
          "2024-02-03T01:00:00",
          "2024-02-03T02:00:00",
          "2024-02-03T03:00:00",
          "2024-02-03T04:00:00",
          "2024-02-03T05:00:00",
          "2024-02-03T06:00:00",
          "2024-02-03T07:00:00",
          "2024-02-03T08:00:00",
          "2024-02-03T09:00:00",
          "2024-02-03T10:00:00",
          "2024-02-03T11:00:00",
          "2024-02-03T12:00:00",
          "2024-02-03T13:00:00",
          "2024-02-03T14:00:00",
          "2024-02-03T15:00:00",
          "2024-02-03T16:00:00",
          "2024-02-03T17:00:00",
          "2024-02-03T18:00:00",
          "2024-02-03T19:00:00",
          "2024-02-03T20:00:00",
          "2024-02-03T21:00:00",
          "2024-02-03T22:00:00",
          "2024-02-03T23:00:00",
          "2024-02-04T00:00:00",
          "2024-02-04T01:00:00",
          "2024-02-04T02:00:00",
          "2024-02-04T03:00:00",
          "2024-02-04T04:00:00",
          "2024-02-04T05:00:00",
          "2024-02-04T06:00:00",
          "2024-02-04T07:00:00",
          "2024-02-04T08:00:00",
          "2024-02-04T09:00:00",
          "2024-02-04T10:00:00",
          "2024-02-04T11:00:00",
          "2024-02-04T12:00:00",
          "2024-02-04T13:00:00",
          "2024-02-04T14:00:00",
          "2024-02-04T15:00:00",
          "2024-02-04T16:00:00",
          "2024-02-04T17:00:00",
          "2024-02-04T18:00:00",
          "2024-02-04T19:00:00",
          "2024-02-04T20:00:00",
          "2024-02-04T21:00:00",
          "2024-02-04T22:00:00",
          "2024-02-04T23:00:00",
          "2024-02-05T00:00:00",
          "2024-02-05T01:00:00",
          "2024-02-05T02:00:00",
          "2024-02-05T03:00:00",
          "2024-02-05T04:00:00",
          "2024-02-05T05:00:00",
          "2024-02-05T06:00:00",
          "2024-02-05T07:00:00",
          "2024-02-05T08:00:00",
          "2024-02-05T09:00:00",
          "2024-02-05T10:00:00",
          "2024-02-05T11:00:00",
          "2024-02-05T12:00:00",
          "2024-02-05T13:00:00",
          "2024-02-05T14:00:00",
          "2024-02-05T15:00:00",
          "2024-02-05T16:00:00",
          "2024-02-05T17:00:00",
          "2024-02-05T18:00:00",
          "2024-02-05T19:00:00",
          "2024-02-05T20:00:00",
          "2024-02-05T21:00:00",
          "2024-02-05T22:00:00",
          "2024-02-05T23:00:00",
          "2024-02-06T00:00:00",
          "2024-02-06T01:00:00",
          "2024-02-06T02:00:00",
          "2024-02-06T03:00:00",
          "2024-02-06T04:00:00",
          "2024-02-06T05:00:00",
          "2024-02-06T06:00:00",
          "2024-02-06T07:00:00",
          "2024-02-06T08:00:00",
          "2024-02-06T09:00:00",
          "2024-02-06T10:00:00",
          "2024-02-06T11:00:00",
          "2024-02-06T12:00:00",
          "2024-02-06T13:00:00",
          "2024-02-06T14:00:00",
          "2024-02-06T15:00:00",
          "2024-02-06T16:00:00",
          "2024-02-06T17:00:00",
          "2024-02-06T18:00:00",
          "2024-02-06T19:00:00",
          "2024-02-06T20:00:00",
          "2024-02-06T21:00:00",
          "2024-02-06T22:00:00",
          "2024-02-06T23:00:00",
          "2024-02-07T00:00:00",
          "2024-02-07T01:00:00",
          "2024-02-07T02:00:00",
          "2024-02-07T03:00:00",
          "2024-02-07T04:00:00",
          "2024-02-07T05:00:00",
          "2024-02-07T06:00:00",
          "2024-02-07T07:00:00",
          "2024-02-07T08:00:00",
          "2024-02-07T09:00:00",
          "2024-02-07T10:00:00",
          "2024-02-07T11:00:00",
          "2024-02-07T12:00:00",
          "2024-02-07T13:00:00",
          "2024-02-07T14:00:00",
          "2024-02-07T15:00:00",
          "2024-02-07T16:00:00",
          "2024-02-07T17:00:00",
          "2024-02-07T18:00:00",
          "2024-02-07T19:00:00",
          "2024-02-07T20:00:00",
          "2024-02-07T21:00:00",
          "2024-02-07T22:00:00",
          "2024-02-07T23:00:00",
          "2024-02-08T00:00:00",
          "2024-02-08T01:00:00",
          "2024-02-08T02:00:00",
          "2024-02-08T03:00:00",
          "2024-02-08T04:00:00",
          "2024-02-08T05:00:00",
          "2024-02-08T06:00:00",
          "2024-02-08T07:00:00",
          "2024-02-08T08:00:00",
          "2024-02-08T09:00:00",
          "2024-02-08T10:00:00",
          "2024-02-08T11:00:00",
          "2024-02-08T12:00:00",
          "2024-02-08T13:00:00",
          "2024-02-08T14:00:00",
          "2024-02-08T15:00:00",
          "2024-02-08T16:00:00",
          "2024-02-08T17:00:00",
          "2024-02-08T18:00:00",
          "2024-02-08T19:00:00",
          "2024-02-08T20:00:00",
          "2024-02-08T21:00:00",
          "2024-02-08T22:00:00",
          "2024-02-08T23:00:00",
          "2024-02-09T00:00:00",
          "2024-02-09T01:00:00",
          "2024-02-09T02:00:00",
          "2024-02-09T03:00:00",
          "2024-02-09T04:00:00",
          "2024-02-09T05:00:00",
          "2024-02-09T06:00:00",
          "2024-02-09T07:00:00",
          "2024-02-09T08:00:00",
          "2024-02-09T09:00:00",
          "2024-02-09T10:00:00",
          "2024-02-09T11:00:00",
          "2024-02-09T12:00:00",
          "2024-02-09T13:00:00",
          "2024-02-09T14:00:00",
          "2024-02-09T15:00:00",
          "2024-02-09T16:00:00",
          "2024-02-09T17:00:00",
          "2024-02-09T18:00:00",
          "2024-02-09T19:00:00",
          "2024-02-09T20:00:00",
          "2024-02-09T21:00:00",
          "2024-02-09T22:00:00",
          "2024-02-09T23:00:00",
          "2024-02-10T00:00:00",
          "2024-02-10T01:00:00",
          "2024-02-10T02:00:00",
          "2024-02-10T03:00:00",
          "2024-02-10T04:00:00",
          "2024-02-10T05:00:00",
          "2024-02-10T06:00:00",
          "2024-02-10T07:00:00",
          "2024-02-10T08:00:00",
          "2024-02-10T09:00:00",
          "2024-02-10T10:00:00",
          "2024-02-10T11:00:00",
          "2024-02-10T12:00:00",
          "2024-02-10T13:00:00",
          "2024-02-10T14:00:00",
          "2024-02-10T15:00:00",
          "2024-02-10T16:00:00",
          "2024-02-10T17:00:00",
          "2024-02-10T18:00:00",
          "2024-02-10T19:00:00",
          "2024-02-10T20:00:00",
          "2024-02-10T21:00:00",
          "2024-02-10T22:00:00",
          "2024-02-10T23:00:00",
          "2024-02-11T00:00:00",
          "2024-02-11T01:00:00",
          "2024-02-11T02:00:00",
          "2024-02-11T03:00:00",
          "2024-02-11T04:00:00",
          "2024-02-11T05:00:00",
          "2024-02-11T06:00:00",
          "2024-02-11T07:00:00",
          "2024-02-11T08:00:00",
          "2024-02-11T09:00:00",
          "2024-02-11T10:00:00",
          "2024-02-11T11:00:00",
          "2024-02-11T12:00:00",
          "2024-02-11T13:00:00",
          "2024-02-11T14:00:00",
          "2024-02-11T15:00:00",
          "2024-02-11T16:00:00",
          "2024-02-11T17:00:00",
          "2024-02-11T18:00:00",
          "2024-02-11T19:00:00",
          "2024-02-11T20:00:00",
          "2024-02-11T21:00:00",
          "2024-02-11T22:00:00",
          "2024-02-11T23:00:00",
          "2024-02-12T00:00:00",
          "2024-02-12T01:00:00",
          "2024-02-12T02:00:00",
          "2024-02-12T03:00:00",
          "2024-02-12T04:00:00",
          "2024-02-12T05:00:00",
          "2024-02-12T06:00:00",
          "2024-02-12T07:00:00",
          "2024-02-12T08:00:00",
          "2024-02-12T09:00:00",
          "2024-02-12T10:00:00",
          "2024-02-12T11:00:00",
          "2024-02-12T12:00:00",
          "2024-02-12T13:00:00",
          "2024-02-12T14:00:00",
          "2024-02-12T15:00:00",
          "2024-02-12T16:00:00",
          "2024-02-12T17:00:00",
          "2024-02-12T18:00:00",
          "2024-02-12T19:00:00",
          "2024-02-12T20:00:00",
          "2024-02-12T21:00:00",
          "2024-02-12T22:00:00",
          "2024-02-12T23:00:00",
          "2024-02-13T00:00:00",
          "2024-02-13T01:00:00",
          "2024-02-13T02:00:00",
          "2024-02-13T03:00:00",
          "2024-02-13T04:00:00",
          "2024-02-13T05:00:00",
          "2024-02-13T06:00:00",
          "2024-02-13T07:00:00",
          "2024-02-13T08:00:00",
          "2024-02-13T09:00:00",
          "2024-02-13T10:00:00",
          "2024-02-13T11:00:00",
          "2024-02-13T12:00:00",
          "2024-02-13T13:00:00",
          "2024-02-13T14:00:00",
          "2024-02-13T15:00:00",
          "2024-02-13T16:00:00",
          "2024-02-13T17:00:00",
          "2024-02-13T18:00:00",
          "2024-02-13T19:00:00",
          "2024-02-13T20:00:00",
          "2024-02-13T21:00:00",
          "2024-02-13T22:00:00",
          "2024-02-13T23:00:00",
          "2024-02-14T00:00:00",
          "2024-02-14T01:00:00",
          "2024-02-14T02:00:00",
          "2024-02-14T03:00:00",
          "2024-02-14T04:00:00",
          "2024-02-14T05:00:00",
          "2024-02-14T06:00:00",
          "2024-02-14T07:00:00",
          "2024-02-14T08:00:00",
          "2024-02-14T09:00:00",
          "2024-02-14T10:00:00",
          "2024-02-14T11:00:00",
          "2024-02-14T12:00:00",
          "2024-02-14T13:00:00",
          "2024-02-14T14:00:00",
          "2024-02-14T15:00:00",
          "2024-02-14T16:00:00",
          "2024-02-14T17:00:00",
          "2024-02-14T18:00:00",
          "2024-02-14T19:00:00",
          "2024-02-14T20:00:00",
          "2024-02-14T21:00:00",
          "2024-02-14T22:00:00",
          "2024-02-14T23:00:00",
          "2024-02-15T00:00:00",
          "2024-02-15T01:00:00",
          "2024-02-15T02:00:00",
          "2024-02-15T03:00:00",
          "2024-02-15T04:00:00",
          "2024-02-15T05:00:00",
          "2024-02-15T06:00:00",
          "2024-02-15T07:00:00",
          "2024-02-15T08:00:00",
          "2024-02-15T09:00:00",
          "2024-02-15T10:00:00",
          "2024-02-15T11:00:00",
          "2024-02-15T12:00:00",
          "2024-02-15T13:00:00",
          "2024-02-15T14:00:00",
          "2024-02-15T15:00:00",
          "2024-02-15T16:00:00",
          "2024-02-15T17:00:00",
          "2024-02-15T18:00:00",
          "2024-02-15T19:00:00",
          "2024-02-15T20:00:00",
          "2024-02-15T21:00:00",
          "2024-02-15T22:00:00",
          "2024-02-15T23:00:00",
          "2024-02-16T00:00:00",
          "2024-02-16T01:00:00",
          "2024-02-16T02:00:00",
          "2024-02-16T03:00:00",
          "2024-02-16T04:00:00",
          "2024-02-16T05:00:00",
          "2024-02-16T06:00:00",
          "2024-02-16T07:00:00",
          "2024-02-16T08:00:00",
          "2024-02-16T09:00:00",
          "2024-02-16T10:00:00",
          "2024-02-16T11:00:00",
          "2024-02-16T12:00:00",
          "2024-02-16T13:00:00",
          "2024-02-16T14:00:00",
          "2024-02-16T15:00:00",
          "2024-02-16T16:00:00",
          "2024-02-16T17:00:00",
          "2024-02-16T18:00:00",
          "2024-02-16T19:00:00",
          "2024-02-16T20:00:00",
          "2024-02-16T21:00:00",
          "2024-02-16T22:00:00",
          "2024-02-16T23:00:00",
          "2024-02-17T00:00:00",
          "2024-02-17T01:00:00",
          "2024-02-17T02:00:00",
          "2024-02-17T03:00:00",
          "2024-02-17T04:00:00",
          "2024-02-17T05:00:00",
          "2024-02-17T06:00:00",
          "2024-02-17T07:00:00",
          "2024-02-17T08:00:00",
          "2024-02-17T09:00:00",
          "2024-02-17T10:00:00",
          "2024-02-17T11:00:00",
          "2024-02-17T12:00:00",
          "2024-02-17T13:00:00",
          "2024-02-17T14:00:00",
          "2024-02-17T15:00:00",
          "2024-02-17T16:00:00",
          "2024-02-17T17:00:00",
          "2024-02-17T18:00:00",
          "2024-02-17T19:00:00",
          "2024-02-17T20:00:00",
          "2024-02-17T21:00:00",
          "2024-02-17T22:00:00",
          "2024-02-17T23:00:00",
          "2024-02-18T00:00:00",
          "2024-02-18T01:00:00",
          "2024-02-18T02:00:00",
          "2024-02-18T03:00:00",
          "2024-02-18T04:00:00",
          "2024-02-18T05:00:00",
          "2024-02-18T06:00:00",
          "2024-02-18T07:00:00",
          "2024-02-18T08:00:00",
          "2024-02-18T09:00:00",
          "2024-02-18T10:00:00",
          "2024-02-18T11:00:00",
          "2024-02-18T12:00:00",
          "2024-02-18T13:00:00",
          "2024-02-18T14:00:00",
          "2024-02-18T15:00:00",
          "2024-02-18T16:00:00",
          "2024-02-18T17:00:00",
          "2024-02-18T18:00:00",
          "2024-02-18T19:00:00",
          "2024-02-18T20:00:00",
          "2024-02-18T21:00:00",
          "2024-02-18T22:00:00",
          "2024-02-18T23:00:00",
          "2024-02-19T00:00:00",
          "2024-02-19T01:00:00",
          "2024-02-19T02:00:00",
          "2024-02-19T03:00:00",
          "2024-02-19T04:00:00",
          "2024-02-19T05:00:00",
          "2024-02-19T06:00:00",
          "2024-02-19T07:00:00",
          "2024-02-19T08:00:00",
          "2024-02-19T09:00:00",
          "2024-02-19T10:00:00",
          "2024-02-19T11:00:00",
          "2024-02-19T12:00:00",
          "2024-02-19T13:00:00",
          "2024-02-19T14:00:00",
          "2024-02-19T15:00:00",
          "2024-02-19T16:00:00",
          "2024-02-19T17:00:00",
          "2024-02-19T18:00:00",
          "2024-02-19T19:00:00",
          "2024-02-19T20:00:00",
          "2024-02-19T21:00:00",
          "2024-02-19T22:00:00",
          "2024-02-19T23:00:00",
          "2024-02-20T00:00:00",
          "2024-02-20T01:00:00",
          "2024-02-20T02:00:00",
          "2024-02-20T03:00:00",
          "2024-02-20T04:00:00",
          "2024-02-20T05:00:00",
          "2024-02-20T06:00:00",
          "2024-02-20T07:00:00",
          "2024-02-20T08:00:00",
          "2024-02-20T09:00:00",
          "2024-02-20T10:00:00",
          "2024-02-20T11:00:00",
          "2024-02-20T12:00:00",
          "2024-02-20T13:00:00",
          "2024-02-20T14:00:00",
          "2024-02-20T15:00:00",
          "2024-02-20T16:00:00",
          "2024-02-20T17:00:00",
          "2024-02-20T18:00:00",
          "2024-02-20T19:00:00",
          "2024-02-20T20:00:00",
          "2024-02-20T21:00:00",
          "2024-02-20T22:00:00",
          "2024-02-20T23:00:00",
          "2024-02-21T00:00:00",
          "2024-02-21T01:00:00",
          "2024-02-21T02:00:00",
          "2024-02-21T03:00:00",
          "2024-02-21T04:00:00",
          "2024-02-21T05:00:00",
          "2024-02-21T06:00:00",
          "2024-02-21T07:00:00",
          "2024-02-21T08:00:00",
          "2024-02-21T09:00:00",
          "2024-02-21T10:00:00",
          "2024-02-21T11:00:00",
          "2024-02-21T12:00:00",
          "2024-02-21T13:00:00",
          "2024-02-21T14:00:00",
          "2024-02-21T15:00:00",
          "2024-02-21T16:00:00",
          "2024-02-21T17:00:00",
          "2024-02-21T18:00:00",
          "2024-02-21T19:00:00",
          "2024-02-21T20:00:00",
          "2024-02-21T21:00:00",
          "2024-02-21T22:00:00",
          "2024-02-21T23:00:00",
          "2024-02-22T00:00:00",
          "2024-02-22T01:00:00",
          "2024-02-22T02:00:00",
          "2024-02-22T03:00:00",
          "2024-02-22T04:00:00",
          "2024-02-22T05:00:00",
          "2024-02-22T06:00:00",
          "2024-02-22T07:00:00",
          "2024-02-22T08:00:00",
          "2024-02-22T09:00:00",
          "2024-02-22T10:00:00",
          "2024-02-22T11:00:00",
          "2024-02-22T12:00:00",
          "2024-02-22T13:00:00",
          "2024-02-22T14:00:00",
          "2024-02-22T15:00:00",
          "2024-02-22T16:00:00",
          "2024-02-22T17:00:00",
          "2024-02-22T18:00:00",
          "2024-02-22T19:00:00",
          "2024-02-22T20:00:00",
          "2024-02-22T21:00:00",
          "2024-02-22T22:00:00",
          "2024-02-22T23:00:00",
          "2024-02-23T00:00:00",
          "2024-02-23T01:00:00",
          "2024-02-23T02:00:00",
          "2024-02-23T03:00:00",
          "2024-02-23T04:00:00",
          "2024-02-23T05:00:00",
          "2024-02-23T06:00:00",
          "2024-02-23T07:00:00",
          "2024-02-23T08:00:00",
          "2024-02-23T09:00:00",
          "2024-02-23T10:00:00",
          "2024-02-23T11:00:00",
          "2024-02-23T12:00:00",
          "2024-02-23T13:00:00",
          "2024-02-23T14:00:00",
          "2024-02-23T15:00:00",
          "2024-02-23T16:00:00",
          "2024-02-23T17:00:00",
          "2024-02-23T18:00:00",
          "2024-02-23T19:00:00",
          "2024-02-23T20:00:00",
          "2024-02-23T21:00:00",
          "2024-02-23T22:00:00",
          "2024-02-23T23:00:00",
          "2024-02-24T00:00:00",
          "2024-02-24T01:00:00",
          "2024-02-24T02:00:00",
          "2024-02-24T03:00:00",
          "2024-02-24T04:00:00",
          "2024-02-24T05:00:00",
          "2024-02-24T06:00:00",
          "2024-02-24T07:00:00",
          "2024-02-24T08:00:00",
          "2024-02-24T09:00:00",
          "2024-02-24T10:00:00",
          "2024-02-24T11:00:00",
          "2024-02-24T12:00:00",
          "2024-02-24T13:00:00",
          "2024-02-24T14:00:00",
          "2024-02-24T15:00:00",
          "2024-02-24T16:00:00",
          "2024-02-24T17:00:00",
          "2024-02-24T18:00:00",
          "2024-02-24T19:00:00",
          "2024-02-24T20:00:00",
          "2024-02-24T21:00:00",
          "2024-02-24T22:00:00",
          "2024-02-24T23:00:00",
          "2024-02-25T00:00:00",
          "2024-02-25T01:00:00",
          "2024-02-25T02:00:00",
          "2024-02-25T03:00:00",
          "2024-02-25T04:00:00",
          "2024-02-25T05:00:00",
          "2024-02-25T06:00:00",
          "2024-02-25T07:00:00",
          "2024-02-25T08:00:00",
          "2024-02-25T09:00:00",
          "2024-02-25T10:00:00",
          "2024-02-25T11:00:00",
          "2024-02-25T12:00:00",
          "2024-02-25T13:00:00",
          "2024-02-25T14:00:00",
          "2024-02-25T15:00:00",
          "2024-02-25T16:00:00",
          "2024-02-25T17:00:00",
          "2024-02-25T18:00:00",
          "2024-02-25T19:00:00",
          "2024-02-25T20:00:00",
          "2024-02-25T21:00:00",
          "2024-02-25T22:00:00",
          "2024-02-25T23:00:00",
          "2024-02-26T00:00:00",
          "2024-02-26T01:00:00",
          "2024-02-26T02:00:00",
          "2024-02-26T03:00:00",
          "2024-02-26T04:00:00",
          "2024-02-26T05:00:00",
          "2024-02-26T06:00:00",
          "2024-02-26T07:00:00",
          "2024-02-26T08:00:00",
          "2024-02-26T09:00:00",
          "2024-02-26T10:00:00",
          "2024-02-26T11:00:00",
          "2024-02-26T12:00:00",
          "2024-02-26T13:00:00",
          "2024-02-26T14:00:00",
          "2024-02-26T15:00:00",
          "2024-02-26T16:00:00",
          "2024-02-26T17:00:00",
          "2024-02-26T18:00:00",
          "2024-02-26T19:00:00",
          "2024-02-26T20:00:00",
          "2024-02-26T21:00:00",
          "2024-02-26T22:00:00",
          "2024-02-26T23:00:00",
          "2024-02-27T00:00:00",
          "2024-02-27T01:00:00",
          "2024-02-27T02:00:00",
          "2024-02-27T03:00:00",
          "2024-02-27T04:00:00",
          "2024-02-27T05:00:00",
          "2024-02-27T06:00:00",
          "2024-02-27T07:00:00",
          "2024-02-27T08:00:00",
          "2024-02-27T09:00:00",
          "2024-02-27T10:00:00",
          "2024-02-27T11:00:00",
          "2024-02-27T12:00:00",
          "2024-02-27T13:00:00",
          "2024-02-27T14:00:00",
          "2024-02-27T15:00:00",
          "2024-02-27T16:00:00",
          "2024-02-27T17:00:00",
          "2024-02-27T18:00:00",
          "2024-02-27T19:00:00",
          "2024-02-27T20:00:00",
          "2024-02-27T21:00:00",
          "2024-02-27T22:00:00",
          "2024-02-27T23:00:00",
          "2024-02-28T00:00:00",
          "2024-02-28T01:00:00",
          "2024-02-28T02:00:00",
          "2024-02-28T03:00:00",
          "2024-02-28T04:00:00",
          "2024-02-28T05:00:00",
          "2024-02-28T06:00:00",
          "2024-02-28T07:00:00",
          "2024-02-28T08:00:00",
          "2024-02-28T09:00:00",
          "2024-02-28T10:00:00",
          "2024-02-28T11:00:00",
          "2024-02-28T12:00:00",
          "2024-02-28T13:00:00",
          "2024-02-28T14:00:00",
          "2024-02-28T15:00:00",
          "2024-02-28T16:00:00",
          "2024-02-28T17:00:00",
          "2024-02-28T18:00:00",
          "2024-02-28T19:00:00",
          "2024-02-28T20:00:00",
          "2024-02-28T21:00:00",
          "2024-02-28T22:00:00",
          "2024-02-28T23:00:00",
          "2024-02-29T00:00:00",
          "2024-02-29T01:00:00",
          "2024-02-29T02:00:00",
          "2024-02-29T03:00:00",
          "2024-02-29T04:00:00",
          "2024-02-29T05:00:00",
          "2024-02-29T06:00:00",
          "2024-02-29T07:00:00",
          "2024-02-29T08:00:00",
          "2024-02-29T09:00:00",
          "2024-02-29T10:00:00",
          "2024-02-29T11:00:00",
          "2024-02-29T12:00:00",
          "2024-02-29T13:00:00",
          "2024-02-29T14:00:00",
          "2024-02-29T15:00:00",
          "2024-02-29T16:00:00",
          "2024-02-29T17:00:00",
          "2024-02-29T18:00:00",
          "2024-02-29T19:00:00",
          "2024-02-29T20:00:00",
          "2024-02-29T21:00:00",
          "2024-02-29T22:00:00",
          "2024-02-29T23:00:00",
          "2024-03-01T00:00:00",
          "2024-03-01T01:00:00",
          "2024-03-01T02:00:00",
          "2024-03-01T03:00:00",
          "2024-03-01T04:00:00",
          "2024-03-01T05:00:00",
          "2024-03-01T06:00:00",
          "2024-03-01T07:00:00",
          "2024-03-01T08:00:00",
          "2024-03-01T09:00:00",
          "2024-03-01T10:00:00",
          "2024-03-01T11:00:00",
          "2024-03-01T12:00:00",
          "2024-03-01T13:00:00",
          "2024-03-01T14:00:00",
          "2024-03-01T15:00:00",
          "2024-03-01T16:00:00",
          "2024-03-01T17:00:00",
          "2024-03-01T18:00:00",
          "2024-03-01T19:00:00",
          "2024-03-01T20:00:00",
          "2024-03-01T21:00:00",
          "2024-03-01T22:00:00",
          "2024-03-01T23:00:00",
          "2024-03-02T00:00:00",
          "2024-03-02T01:00:00",
          "2024-03-02T02:00:00",
          "2024-03-02T03:00:00",
          "2024-03-02T04:00:00",
          "2024-03-02T05:00:00",
          "2024-03-02T06:00:00",
          "2024-03-02T07:00:00",
          "2024-03-02T08:00:00",
          "2024-03-02T09:00:00",
          "2024-03-02T10:00:00",
          "2024-03-02T11:00:00",
          "2024-03-02T12:00:00",
          "2024-03-02T13:00:00",
          "2024-03-02T14:00:00",
          "2024-03-02T15:00:00",
          "2024-03-02T16:00:00",
          "2024-03-02T17:00:00",
          "2024-03-02T18:00:00",
          "2024-03-02T19:00:00",
          "2024-03-02T20:00:00",
          "2024-03-02T21:00:00",
          "2024-03-02T22:00:00",
          "2024-03-02T23:00:00",
          "2024-03-03T00:00:00",
          "2024-03-03T01:00:00",
          "2024-03-03T02:00:00",
          "2024-03-03T03:00:00",
          "2024-03-03T04:00:00",
          "2024-03-03T05:00:00",
          "2024-03-03T06:00:00",
          "2024-03-03T07:00:00",
          "2024-03-03T08:00:00",
          "2024-03-03T09:00:00",
          "2024-03-03T10:00:00",
          "2024-03-03T11:00:00",
          "2024-03-03T12:00:00",
          "2024-03-03T13:00:00",
          "2024-03-03T14:00:00",
          "2024-03-03T15:00:00",
          "2024-03-03T16:00:00",
          "2024-03-03T17:00:00",
          "2024-03-03T18:00:00",
          "2024-03-03T19:00:00",
          "2024-03-03T20:00:00",
          "2024-03-03T21:00:00",
          "2024-03-03T22:00:00",
          "2024-03-03T23:00:00",
          "2024-03-04T00:00:00",
          "2024-03-04T01:00:00",
          "2024-03-04T02:00:00",
          "2024-03-04T03:00:00",
          "2024-03-04T04:00:00",
          "2024-03-04T05:00:00",
          "2024-03-04T06:00:00",
          "2024-03-04T07:00:00",
          "2024-03-04T08:00:00",
          "2024-03-04T09:00:00",
          "2024-03-04T10:00:00",
          "2024-03-04T11:00:00",
          "2024-03-04T12:00:00",
          "2024-03-04T13:00:00",
          "2024-03-04T14:00:00",
          "2024-03-04T15:00:00",
          "2024-03-04T16:00:00",
          "2024-03-04T17:00:00",
          "2024-03-04T18:00:00",
          "2024-03-04T19:00:00",
          "2024-03-04T20:00:00",
          "2024-03-04T21:00:00",
          "2024-03-04T22:00:00",
          "2024-03-04T23:00:00",
          "2024-03-05T00:00:00",
          "2024-03-05T01:00:00",
          "2024-03-05T02:00:00",
          "2024-03-05T03:00:00",
          "2024-03-05T04:00:00",
          "2024-03-05T05:00:00",
          "2024-03-05T06:00:00",
          "2024-03-05T07:00:00",
          "2024-03-05T08:00:00",
          "2024-03-05T09:00:00",
          "2024-03-05T10:00:00",
          "2024-03-05T11:00:00",
          "2024-03-05T12:00:00",
          "2024-03-05T13:00:00",
          "2024-03-05T14:00:00",
          "2024-03-05T15:00:00",
          "2024-03-05T16:00:00",
          "2024-03-05T17:00:00",
          "2024-03-05T18:00:00",
          "2024-03-05T19:00:00",
          "2024-03-05T20:00:00",
          "2024-03-05T21:00:00",
          "2024-03-05T22:00:00",
          "2024-03-05T23:00:00",
          "2024-03-06T00:00:00",
          "2024-03-06T01:00:00",
          "2024-03-06T02:00:00",
          "2024-03-06T03:00:00",
          "2024-03-06T04:00:00",
          "2024-03-06T05:00:00",
          "2024-03-06T06:00:00",
          "2024-03-06T07:00:00",
          "2024-03-06T08:00:00",
          "2024-03-06T09:00:00",
          "2024-03-06T10:00:00",
          "2024-03-06T11:00:00",
          "2024-03-06T12:00:00",
          "2024-03-06T13:00:00",
          "2024-03-06T14:00:00",
          "2024-03-06T15:00:00",
          "2024-03-06T16:00:00",
          "2024-03-06T17:00:00",
          "2024-03-06T18:00:00",
          "2024-03-06T19:00:00",
          "2024-03-06T20:00:00",
          "2024-03-06T21:00:00",
          "2024-03-06T22:00:00",
          "2024-03-06T23:00:00",
          "2024-03-07T00:00:00",
          "2024-03-07T01:00:00",
          "2024-03-07T02:00:00",
          "2024-03-07T03:00:00",
          "2024-03-07T04:00:00",
          "2024-03-07T05:00:00",
          "2024-03-07T06:00:00",
          "2024-03-07T07:00:00",
          "2024-03-07T08:00:00",
          "2024-03-07T09:00:00",
          "2024-03-07T10:00:00",
          "2024-03-07T11:00:00",
          "2024-03-07T12:00:00",
          "2024-03-07T13:00:00",
          "2024-03-07T14:00:00",
          "2024-03-07T15:00:00",
          "2024-03-07T16:00:00",
          "2024-03-07T17:00:00",
          "2024-03-07T18:00:00",
          "2024-03-07T19:00:00",
          "2024-03-07T20:00:00",
          "2024-03-07T21:00:00",
          "2024-03-07T22:00:00",
          "2024-03-07T23:00:00",
          "2024-03-08T00:00:00",
          "2024-03-08T01:00:00",
          "2024-03-08T02:00:00",
          "2024-03-08T03:00:00",
          "2024-03-08T04:00:00",
          "2024-03-08T05:00:00",
          "2024-03-08T06:00:00",
          "2024-03-08T07:00:00",
          "2024-03-08T08:00:00",
          "2024-03-08T09:00:00",
          "2024-03-08T10:00:00",
          "2024-03-08T11:00:00",
          "2024-03-08T12:00:00",
          "2024-03-08T13:00:00",
          "2024-03-08T14:00:00",
          "2024-03-08T15:00:00",
          "2024-03-08T16:00:00",
          "2024-03-08T17:00:00",
          "2024-03-08T18:00:00",
          "2024-03-08T19:00:00",
          "2024-03-08T20:00:00",
          "2024-03-08T21:00:00",
          "2024-03-08T22:00:00",
          "2024-03-08T23:00:00",
          "2024-03-09T00:00:00",
          "2024-03-09T01:00:00",
          "2024-03-09T02:00:00",
          "2024-03-09T03:00:00",
          "2024-03-09T04:00:00",
          "2024-03-09T05:00:00",
          "2024-03-09T06:00:00",
          "2024-03-09T07:00:00",
          "2024-03-09T08:00:00",
          "2024-03-09T09:00:00",
          "2024-03-09T10:00:00",
          "2024-03-09T11:00:00",
          "2024-03-09T12:00:00",
          "2024-03-09T13:00:00",
          "2024-03-09T14:00:00",
          "2024-03-09T15:00:00",
          "2024-03-09T16:00:00",
          "2024-03-09T17:00:00",
          "2024-03-09T18:00:00",
          "2024-03-09T19:00:00",
          "2024-03-09T20:00:00",
          "2024-03-09T21:00:00",
          "2024-03-09T22:00:00",
          "2024-03-09T23:00:00",
          "2024-03-10T00:00:00",
          "2024-03-10T01:00:00",
          "2024-03-10T02:00:00",
          "2024-03-10T03:00:00",
          "2024-03-10T04:00:00",
          "2024-03-10T05:00:00",
          "2024-03-10T06:00:00",
          "2024-03-10T07:00:00",
          "2024-03-10T08:00:00",
          "2024-03-10T09:00:00",
          "2024-03-10T10:00:00",
          "2024-03-10T11:00:00",
          "2024-03-10T12:00:00",
          "2024-03-10T13:00:00",
          "2024-03-10T14:00:00",
          "2024-03-10T15:00:00",
          "2024-03-10T16:00:00",
          "2024-03-10T17:00:00",
          "2024-03-10T18:00:00",
          "2024-03-10T19:00:00",
          "2024-03-10T20:00:00",
          "2024-03-10T21:00:00",
          "2024-03-10T22:00:00",
          "2024-03-10T23:00:00",
          "2024-03-11T00:00:00",
          "2024-03-11T01:00:00",
          "2024-03-11T02:00:00",
          "2024-03-11T03:00:00",
          "2024-03-11T04:00:00",
          "2024-03-11T05:00:00",
          "2024-03-11T06:00:00",
          "2024-03-11T07:00:00",
          "2024-03-11T08:00:00",
          "2024-03-11T09:00:00",
          "2024-03-11T10:00:00",
          "2024-03-11T11:00:00",
          "2024-03-11T12:00:00",
          "2024-03-11T13:00:00",
          "2024-03-11T14:00:00",
          "2024-03-11T15:00:00",
          "2024-03-11T16:00:00",
          "2024-03-11T17:00:00",
          "2024-03-11T18:00:00",
          "2024-03-11T19:00:00",
          "2024-03-11T20:00:00",
          "2024-03-11T21:00:00",
          "2024-03-11T22:00:00",
          "2024-03-11T23:00:00",
          "2024-03-12T00:00:00",
          "2024-03-12T01:00:00",
          "2024-03-12T02:00:00",
          "2024-03-12T03:00:00",
          "2024-03-12T04:00:00",
          "2024-03-12T05:00:00",
          "2024-03-12T06:00:00",
          "2024-03-12T07:00:00",
          "2024-03-12T08:00:00",
          "2024-03-12T09:00:00",
          "2024-03-12T10:00:00",
          "2024-03-12T11:00:00",
          "2024-03-12T12:00:00",
          "2024-03-12T13:00:00",
          "2024-03-12T14:00:00",
          "2024-03-12T15:00:00",
          "2024-03-12T16:00:00",
          "2024-03-12T17:00:00",
          "2024-03-12T18:00:00",
          "2024-03-12T19:00:00",
          "2024-03-12T20:00:00",
          "2024-03-12T21:00:00",
          "2024-03-12T22:00:00",
          "2024-03-12T23:00:00",
          "2024-03-13T00:00:00",
          "2024-03-13T01:00:00",
          "2024-03-13T02:00:00",
          "2024-03-13T03:00:00",
          "2024-03-13T04:00:00",
          "2024-03-13T05:00:00",
          "2024-03-13T06:00:00",
          "2024-03-13T07:00:00",
          "2024-03-13T08:00:00",
          "2024-03-13T09:00:00",
          "2024-03-13T10:00:00",
          "2024-03-13T11:00:00",
          "2024-03-13T12:00:00",
          "2024-03-13T13:00:00",
          "2024-03-13T14:00:00",
          "2024-03-13T15:00:00",
          "2024-03-13T16:00:00",
          "2024-03-13T17:00:00",
          "2024-03-13T18:00:00",
          "2024-03-13T19:00:00",
          "2024-03-13T20:00:00",
          "2024-03-13T21:00:00",
          "2024-03-13T22:00:00",
          "2024-03-13T23:00:00",
          "2024-03-14T00:00:00",
          "2024-03-14T01:00:00",
          "2024-03-14T02:00:00",
          "2024-03-14T03:00:00",
          "2024-03-14T04:00:00",
          "2024-03-14T05:00:00",
          "2024-03-14T06:00:00",
          "2024-03-14T07:00:00",
          "2024-03-14T08:00:00",
          "2024-03-14T09:00:00",
          "2024-03-14T10:00:00",
          "2024-03-14T11:00:00",
          "2024-03-14T12:00:00",
          "2024-03-14T13:00:00",
          "2024-03-14T14:00:00",
          "2024-03-14T15:00:00",
          "2024-03-14T16:00:00",
          "2024-03-14T17:00:00",
          "2024-03-14T18:00:00",
          "2024-03-14T19:00:00",
          "2024-03-14T20:00:00",
          "2024-03-14T21:00:00",
          "2024-03-14T22:00:00",
          "2024-03-14T23:00:00",
          "2024-03-15T00:00:00",
          "2024-03-15T01:00:00",
          "2024-03-15T02:00:00",
          "2024-03-15T03:00:00",
          "2024-03-15T04:00:00",
          "2024-03-15T05:00:00",
          "2024-03-15T06:00:00",
          "2024-03-15T07:00:00",
          "2024-03-15T08:00:00",
          "2024-03-15T09:00:00",
          "2024-03-15T10:00:00",
          "2024-03-15T11:00:00",
          "2024-03-15T12:00:00",
          "2024-03-15T13:00:00",
          "2024-03-15T14:00:00",
          "2024-03-15T15:00:00",
          "2024-03-15T16:00:00",
          "2024-03-15T17:00:00",
          "2024-03-15T18:00:00",
          "2024-03-15T19:00:00",
          "2024-03-15T20:00:00",
          "2024-03-15T21:00:00",
          "2024-03-15T22:00:00",
          "2024-03-15T23:00:00",
          "2024-03-16T00:00:00",
          "2024-03-16T01:00:00",
          "2024-03-16T02:00:00",
          "2024-03-16T03:00:00",
          "2024-03-16T04:00:00",
          "2024-03-16T05:00:00",
          "2024-03-16T06:00:00",
          "2024-03-16T07:00:00",
          "2024-03-16T08:00:00",
          "2024-03-16T09:00:00",
          "2024-03-16T10:00:00",
          "2024-03-16T11:00:00",
          "2024-03-16T12:00:00",
          "2024-03-16T13:00:00",
          "2024-03-16T14:00:00",
          "2024-03-16T15:00:00",
          "2024-03-16T16:00:00",
          "2024-03-16T17:00:00",
          "2024-03-16T18:00:00",
          "2024-03-16T19:00:00",
          "2024-03-16T20:00:00",
          "2024-03-16T21:00:00",
          "2024-03-16T22:00:00",
          "2024-03-16T23:00:00",
          "2024-03-17T00:00:00",
          "2024-03-17T01:00:00",
          "2024-03-17T02:00:00",
          "2024-03-17T03:00:00",
          "2024-03-17T04:00:00",
          "2024-03-17T05:00:00",
          "2024-03-17T06:00:00",
          "2024-03-17T07:00:00",
          "2024-03-17T08:00:00",
          "2024-03-17T09:00:00",
          "2024-03-17T10:00:00",
          "2024-03-17T11:00:00",
          "2024-03-17T12:00:00",
          "2024-03-17T13:00:00",
          "2024-03-17T14:00:00",
          "2024-03-17T15:00:00",
          "2024-03-17T16:00:00",
          "2024-03-17T17:00:00",
          "2024-03-17T18:00:00",
          "2024-03-17T19:00:00",
          "2024-03-17T20:00:00",
          "2024-03-17T21:00:00",
          "2024-03-17T22:00:00",
          "2024-03-17T23:00:00",
          "2024-03-18T00:00:00",
          "2024-03-18T01:00:00",
          "2024-03-18T02:00:00",
          "2024-03-18T03:00:00",
          "2024-03-18T04:00:00",
          "2024-03-18T05:00:00",
          "2024-03-18T06:00:00",
          "2024-03-18T07:00:00",
          "2024-03-18T08:00:00",
          "2024-03-18T09:00:00",
          "2024-03-18T10:00:00",
          "2024-03-18T11:00:00",
          "2024-03-18T12:00:00",
          "2024-03-18T13:00:00",
          "2024-03-18T14:00:00",
          "2024-03-18T15:00:00",
          "2024-03-18T16:00:00",
          "2024-03-18T17:00:00",
          "2024-03-18T18:00:00",
          "2024-03-18T19:00:00",
          "2024-03-18T20:00:00",
          "2024-03-18T21:00:00",
          "2024-03-18T22:00:00",
          "2024-03-18T23:00:00",
          "2024-03-19T00:00:00",
          "2024-03-19T01:00:00",
          "2024-03-19T02:00:00",
          "2024-03-19T03:00:00",
          "2024-03-19T04:00:00",
          "2024-03-19T05:00:00",
          "2024-03-19T06:00:00",
          "2024-03-19T07:00:00",
          "2024-03-19T08:00:00",
          "2024-03-19T09:00:00",
          "2024-03-19T10:00:00",
          "2024-03-19T11:00:00",
          "2024-03-19T12:00:00",
          "2024-03-19T13:00:00",
          "2024-03-19T14:00:00",
          "2024-03-19T15:00:00",
          "2024-03-19T16:00:00",
          "2024-03-19T17:00:00",
          "2024-03-19T18:00:00",
          "2024-03-19T19:00:00",
          "2024-03-19T20:00:00",
          "2024-03-19T21:00:00",
          "2024-03-19T22:00:00",
          "2024-03-19T23:00:00",
          "2024-03-20T00:00:00",
          "2024-03-20T01:00:00",
          "2024-03-20T02:00:00",
          "2024-03-20T03:00:00",
          "2024-03-20T04:00:00",
          "2024-03-20T05:00:00",
          "2024-03-20T06:00:00",
          "2024-03-20T07:00:00",
          "2024-03-20T08:00:00",
          "2024-03-20T09:00:00",
          "2024-03-20T10:00:00",
          "2024-03-20T11:00:00",
          "2024-03-20T12:00:00",
          "2024-03-20T13:00:00",
          "2024-03-20T14:00:00",
          "2024-03-20T15:00:00",
          "2024-03-20T16:00:00",
          "2024-03-20T17:00:00",
          "2024-03-20T18:00:00",
          "2024-03-20T19:00:00",
          "2024-03-20T20:00:00",
          "2024-03-20T21:00:00",
          "2024-03-20T22:00:00",
          "2024-03-20T23:00:00",
          "2024-03-21T00:00:00",
          "2024-03-21T01:00:00",
          "2024-03-21T02:00:00",
          "2024-03-21T03:00:00",
          "2024-03-21T04:00:00",
          "2024-03-21T05:00:00",
          "2024-03-21T06:00:00",
          "2024-03-21T07:00:00",
          "2024-03-21T08:00:00",
          "2024-03-21T09:00:00",
          "2024-03-21T10:00:00",
          "2024-03-21T11:00:00",
          "2024-03-21T12:00:00",
          "2024-03-21T13:00:00",
          "2024-03-21T14:00:00",
          "2024-03-21T15:00:00",
          "2024-03-21T16:00:00",
          "2024-03-21T17:00:00",
          "2024-03-21T18:00:00",
          "2024-03-21T19:00:00",
          "2024-03-21T20:00:00",
          "2024-03-21T21:00:00",
          "2024-03-21T22:00:00",
          "2024-03-21T23:00:00",
          "2024-03-22T00:00:00",
          "2024-03-22T01:00:00",
          "2024-03-22T02:00:00",
          "2024-03-22T03:00:00",
          "2024-03-22T04:00:00",
          "2024-03-22T05:00:00",
          "2024-03-22T06:00:00",
          "2024-03-22T07:00:00",
          "2024-03-22T08:00:00",
          "2024-03-22T09:00:00",
          "2024-03-22T10:00:00",
          "2024-03-22T11:00:00",
          "2024-03-22T12:00:00",
          "2024-03-22T13:00:00",
          "2024-03-22T14:00:00",
          "2024-03-22T15:00:00",
          "2024-03-22T16:00:00",
          "2024-03-22T17:00:00",
          "2024-03-22T18:00:00",
          "2024-03-22T19:00:00",
          "2024-03-22T20:00:00",
          "2024-03-22T21:00:00",
          "2024-03-22T22:00:00",
          "2024-03-22T23:00:00",
          "2024-03-23T00:00:00",
          "2024-03-23T01:00:00",
          "2024-03-23T02:00:00",
          "2024-03-23T03:00:00",
          "2024-03-23T04:00:00",
          "2024-03-23T05:00:00",
          "2024-03-23T06:00:00",
          "2024-03-23T07:00:00",
          "2024-03-23T08:00:00",
          "2024-03-23T09:00:00",
          "2024-03-23T10:00:00",
          "2024-03-23T11:00:00",
          "2024-03-23T12:00:00",
          "2024-03-23T13:00:00",
          "2024-03-23T14:00:00",
          "2024-03-23T15:00:00",
          "2024-03-23T16:00:00",
          "2024-03-23T17:00:00",
          "2024-03-23T18:00:00",
          "2024-03-23T19:00:00",
          "2024-03-23T20:00:00",
          "2024-03-23T21:00:00",
          "2024-03-23T22:00:00",
          "2024-03-23T23:00:00",
          "2024-03-24T00:00:00",
          "2024-03-24T01:00:00",
          "2024-03-24T02:00:00",
          "2024-03-24T03:00:00",
          "2024-03-24T04:00:00",
          "2024-03-24T05:00:00",
          "2024-03-24T06:00:00",
          "2024-03-24T07:00:00",
          "2024-03-24T08:00:00",
          "2024-03-24T09:00:00",
          "2024-03-24T10:00:00",
          "2024-03-24T11:00:00",
          "2024-03-24T12:00:00",
          "2024-03-24T13:00:00",
          "2024-03-24T14:00:00",
          "2024-03-24T15:00:00",
          "2024-03-24T16:00:00",
          "2024-03-24T17:00:00",
          "2024-03-24T18:00:00",
          "2024-03-24T19:00:00",
          "2024-03-24T20:00:00",
          "2024-03-24T21:00:00",
          "2024-03-24T22:00:00",
          "2024-03-24T23:00:00",
          "2024-03-25T00:00:00",
          "2024-03-25T01:00:00",
          "2024-03-25T02:00:00",
          "2024-03-25T03:00:00",
          "2024-03-25T04:00:00",
          "2024-03-25T05:00:00",
          "2024-03-25T06:00:00",
          "2024-03-25T07:00:00",
          "2024-03-25T08:00:00",
          "2024-03-25T09:00:00",
          "2024-03-25T10:00:00",
          "2024-03-25T11:00:00",
          "2024-03-25T12:00:00",
          "2024-03-25T13:00:00",
          "2024-03-25T14:00:00",
          "2024-03-25T15:00:00",
          "2024-03-25T16:00:00",
          "2024-03-25T17:00:00",
          "2024-03-25T18:00:00",
          "2024-03-25T19:00:00",
          "2024-03-25T20:00:00",
          "2024-03-25T21:00:00",
          "2024-03-25T22:00:00",
          "2024-03-25T23:00:00",
          "2024-03-26T00:00:00",
          "2024-03-26T01:00:00",
          "2024-03-26T02:00:00",
          "2024-03-26T03:00:00",
          "2024-03-26T04:00:00",
          "2024-03-26T05:00:00",
          "2024-03-26T06:00:00",
          "2024-03-26T07:00:00",
          "2024-03-26T08:00:00",
          "2024-03-26T09:00:00",
          "2024-03-26T10:00:00",
          "2024-03-26T11:00:00",
          "2024-03-26T12:00:00",
          "2024-03-26T13:00:00",
          "2024-03-26T14:00:00",
          "2024-03-26T15:00:00",
          "2024-03-26T16:00:00",
          "2024-03-26T17:00:00",
          "2024-03-26T18:00:00",
          "2024-03-26T19:00:00",
          "2024-03-26T20:00:00",
          "2024-03-26T21:00:00",
          "2024-03-26T22:00:00",
          "2024-03-26T23:00:00",
          "2024-03-27T00:00:00",
          "2024-03-27T01:00:00",
          "2024-03-27T02:00:00",
          "2024-03-27T03:00:00",
          "2024-03-27T04:00:00",
          "2024-03-27T05:00:00",
          "2024-03-27T06:00:00",
          "2024-03-27T07:00:00",
          "2024-03-27T08:00:00",
          "2024-03-27T09:00:00",
          "2024-03-27T10:00:00",
          "2024-03-27T11:00:00",
          "2024-03-27T12:00:00",
          "2024-03-27T13:00:00",
          "2024-03-27T14:00:00",
          "2024-03-27T15:00:00",
          "2024-03-27T16:00:00",
          "2024-03-27T17:00:00",
          "2024-03-27T18:00:00",
          "2024-03-27T19:00:00",
          "2024-03-27T20:00:00",
          "2024-03-27T21:00:00",
          "2024-03-27T22:00:00",
          "2024-03-27T23:00:00",
          "2024-03-28T00:00:00",
          "2024-03-28T01:00:00",
          "2024-03-28T02:00:00",
          "2024-03-28T03:00:00",
          "2024-03-28T04:00:00",
          "2024-03-28T05:00:00",
          "2024-03-28T06:00:00",
          "2024-03-28T07:00:00",
          "2024-03-28T08:00:00",
          "2024-03-28T09:00:00",
          "2024-03-28T10:00:00",
          "2024-03-28T11:00:00",
          "2024-03-28T12:00:00",
          "2024-03-28T13:00:00",
          "2024-03-28T14:00:00",
          "2024-03-28T15:00:00",
          "2024-03-28T16:00:00",
          "2024-03-28T17:00:00",
          "2024-03-28T18:00:00",
          "2024-03-28T19:00:00",
          "2024-03-28T20:00:00",
          "2024-03-28T21:00:00",
          "2024-03-28T22:00:00",
          "2024-03-28T23:00:00",
          "2024-03-29T00:00:00",
          "2024-03-29T01:00:00",
          "2024-03-29T02:00:00",
          "2024-03-29T03:00:00",
          "2024-03-29T04:00:00",
          "2024-03-29T05:00:00",
          "2024-03-29T06:00:00",
          "2024-03-29T07:00:00",
          "2024-03-29T08:00:00",
          "2024-03-29T09:00:00",
          "2024-03-29T10:00:00",
          "2024-03-29T11:00:00",
          "2024-03-29T12:00:00",
          "2024-03-29T13:00:00",
          "2024-03-29T14:00:00",
          "2024-03-29T15:00:00",
          "2024-03-29T16:00:00",
          "2024-03-29T17:00:00",
          "2024-03-29T18:00:00",
          "2024-03-29T19:00:00",
          "2024-03-29T20:00:00",
          "2024-03-29T21:00:00",
          "2024-03-29T22:00:00",
          "2024-03-29T23:00:00",
          "2024-03-30T00:00:00",
          "2024-03-30T01:00:00",
          "2024-03-30T02:00:00",
          "2024-03-30T03:00:00",
          "2024-03-30T04:00:00",
          "2024-03-30T05:00:00",
          "2024-03-30T06:00:00",
          "2024-03-30T07:00:00",
          "2024-03-30T08:00:00",
          "2024-03-30T09:00:00",
          "2024-03-30T10:00:00",
          "2024-03-30T11:00:00",
          "2024-03-30T12:00:00",
          "2024-03-30T13:00:00",
          "2024-03-30T14:00:00",
          "2024-03-30T15:00:00",
          "2024-03-30T16:00:00",
          "2024-03-30T17:00:00",
          "2024-03-30T18:00:00",
          "2024-03-30T19:00:00",
          "2024-03-30T20:00:00",
          "2024-03-30T21:00:00",
          "2024-03-30T22:00:00",
          "2024-03-30T23:00:00",
          "2024-03-31T00:00:00",
          "2024-03-31T01:00:00",
          "2024-03-31T02:00:00",
          "2024-03-31T03:00:00",
          "2024-03-31T04:00:00",
          "2024-03-31T05:00:00",
          "2024-03-31T06:00:00",
          "2024-03-31T07:00:00",
          "2024-03-31T08:00:00",
          "2024-03-31T09:00:00",
          "2024-03-31T10:00:00",
          "2024-03-31T11:00:00",
          "2024-03-31T12:00:00",
          "2024-03-31T13:00:00",
          "2024-03-31T14:00:00",
          "2024-03-31T15:00:00",
          "2024-03-31T16:00:00",
          "2024-03-31T17:00:00",
          "2024-03-31T18:00:00",
          "2024-03-31T19:00:00",
          "2024-03-31T20:00:00",
          "2024-03-31T21:00:00",
          "2024-03-31T22:00:00",
          "2024-03-31T23:00:00"
         ],
         "xaxis": "x",
         "y": [
          950,
          923,
          824,
          682,
          565,
          476,
          515,
          475,
          609,
          570,
          602,
          507,
          585,
          613,
          676,
          703,
          979,
          898,
          808,
          759,
          710,
          653,
          661,
          479,
          689,
          622,
          463,
          398,
          365,
          363,
          452,
          522,
          880,
          903,
          785,
          743,
          808,
          835,
          1013,
          932,
          1163,
          1143,
          1040,
          993,
          892,
          767,
          689,
          601,
          772,
          682,
          477,
          421,
          350,
          353,
          414,
          504,
          970,
          881,
          820,
          764,
          800,
          818,
          1000,
          976,
          1177,
          1162,
          1034,
          998,
          821,
          778,
          709,
          575,
          768,
          696,
          514,
          363,
          356,
          363,
          435,
          547,
          952,
          933,
          941,
          806,
          836,
          869,
          1085,
          957,
          1156,
          1114,
          1020,
          903,
          873,
          719,
          734,
          584,
          742,
          710,
          480,
          400,
          344,
          352,
          418,
          478,
          850,
          843,
          797,
          780,
          793,
          885,
          1001,
          1019,
          1160,
          1178,
          1091,
          1012,
          958,
          918,
          879,
          685,
          930,
          742,
          595,
          509,
          419,
          391,
          422,
          443,
          734,
          771,
          752,
          622,
          693,
          718,
          728,
          725,
          986,
          1064,
          996,
          849,
          862,
          841,
          857,
          677,
          889,
          769,
          641,
          441,
          428,
          395,
          373,
          432,
          686,
          692,
          654,
          649,
          738,
          710,
          730,
          667,
          959,
          914,
          914,
          837,
          752,
          734,
          696,
          577,
          748,
          628,
          465,
          402,
          388,
          352,
          418,
          522,
          824,
          760,
          743,
          717,
          725,
          789,
          937,
          850,
          1033,
          975,
          1010,
          898,
          795,
          733,
          621,
          526,
          737,
          601,
          445,
          385,
          391,
          371,
          480,
          495,
          866,
          840,
          814,
          755,
          773,
          837,
          939,
          911,
          1069,
          1145,
          1040,
          898,
          818,
          778,
          829,
          639,
          718,
          639,
          512,
          418,
          393,
          424,
          526,
          612,
          890,
          919,
          897,
          832,
          800,
          886,
          993,
          1007,
          1120,
          1130,
          1085,
          945,
          898,
          800,
          741,
          565,
          796,
          697,
          515,
          418,
          368,
          414,
          485,
          587,
          886,
          869,
          821,
          798,
          866,
          876,
          1045,
          908,
          1079,
          1095,
          1019,
          1004,
          905,
          867,
          776,
          631,
          871,
          710,
          549,
          414,
          382,
          359,
          462,
          469,
          833,
          831,
          832,
          784,
          833,
          942,
          1035,
          958,
          1156,
          1160,
          1141,
          1052,
          973,
          928,
          950,
          832,
          1045,
          764,
          686,
          498,
          482,
          508,
          432,
          492,
          788,
          829,
          746,
          716,
          816,
          799,
          829,
          849,
          1153,
          1125,
          1148,
          995,
          1082,
          985,
          931,
          788,
          1110,
          890,
          674,
          573,
          470,
          440,
          416,
          384,
          730,
          704,
          735,
          660,
          682,
          749,
          719,
          825,
          1046,
          1032,
          1066,
          980,
          909,
          801,
          735,
          696,
          852,
          681,
          548,
          408,
          383,
          352,
          412,
          441,
          732,
          775,
          754,
          693,
          726,
          717,
          805,
          759,
          963,
          982,
          1015,
          865,
          753,
          738,
          624,
          560,
          740,
          600,
          465,
          349,
          326,
          360,
          423,
          433,
          764,
          760,
          748,
          729,
          724,
          796,
          937,
          884,
          1036,
          1087,
          1053,
          935,
          909,
          838,
          673,
          544,
          749,
          638,
          525,
          386,
          387,
          396,
          465,
          514,
          860,
          855,
          819,
          791,
          778,
          875,
          982,
          974,
          1082,
          1086,
          1011,
          965,
          834,
          823,
          701,
          524,
          821,
          693,
          537,
          385,
          408,
          413,
          481,
          531,
          857,
          845,
          870,
          752,
          789,
          878,
          1022,
          965,
          1130,
          1126,
          1099,
          932,
          880,
          847,
          758,
          634,
          823,
          665,
          514,
          393,
          364,
          374,
          412,
          486,
          812,
          800,
          732,
          743,
          748,
          844,
          936,
          925,
          1177,
          1157,
          1145,
          1081,
          1030,
          1000,
          915,
          710,
          951,
          833,
          594,
          499,
          443,
          386,
          412,
          415,
          693,
          719,
          735,
          680,
          766,
          760,
          767,
          779,
          1132,
          1122,
          1081,
          885,
          970,
          866,
          797,
          743,
          961,
          773,
          573,
          510,
          461,
          434,
          430,
          400,
          663,
          668,
          680,
          731,
          708,
          746,
          794,
          710,
          1054,
          1011,
          1002,
          959,
          854,
          814,
          699,
          608,
          826,
          632,
          487,
          393,
          359,
          348,
          422,
          521,
          791,
          835,
          783,
          743,
          756,
          819,
          959,
          898,
          1066,
          1038,
          970,
          958,
          755,
          707,
          664,
          514,
          732,
          604,
          502,
          361,
          343,
          340,
          469,
          529,
          881,
          844,
          789,
          751,
          818,
          848,
          980,
          950,
          1080,
          1197,
          1116,
          984,
          929,
          829,
          802,
          556,
          835,
          741,
          480,
          384,
          360,
          379,
          461,
          541,
          822,
          859,
          751,
          862,
          849,
          914,
          990,
          970,
          1174,
          1155,
          1134,
          1006,
          910,
          811,
          724,
          585,
          768,
          673,
          467,
          388,
          404,
          393,
          523,
          656,
          858,
          835,
          878,
          820,
          833,
          843,
          984,
          843,
          1130,
          1129,
          1046,
          950,
          902,
          826,
          706,
          585,
          833,
          734,
          525,
          449,
          390,
          384,
          468,
          527,
          820,
          841,
          834,
          759,
          811,
          886,
          1011,
          967,
          1245,
          1212,
          1146,
          1096,
          1060,
          939,
          920,
          788,
          1022,
          853,
          700,
          598,
          505,
          447,
          401,
          438,
          707,
          671,
          697,
          684,
          722,
          756,
          768,
          776,
          1100,
          1085,
          1073,
          983,
          939,
          972,
          860,
          837,
          1087,
          951,
          727,
          602,
          524,
          425,
          424,
          459,
          621,
          655,
          730,
          728,
          796,
          778,
          790,
          811,
          923,
          1013,
          999,
          965,
          898,
          824,
          802,
          620,
          780,
          625,
          508,
          405,
          329,
          325,
          469,
          552,
          820,
          845,
          825,
          811,
          792,
          846,
          939,
          903,
          1103,
          1025,
          1094,
          954,
          844,
          793,
          725,
          549,
          657,
          621,
          529,
          410,
          333,
          325,
          458,
          539,
          826,
          830,
          827,
          833,
          852,
          847,
          1060,
          1063,
          1191,
          1106,
          1128,
          1017,
          981,
          890,
          807,
          629,
          704,
          664,
          543,
          445,
          353,
          344,
          507,
          585,
          854,
          907,
          909,
          801,
          841,
          869,
          1065,
          1001,
          1179,
          1123,
          1153,
          1037,
          1007,
          931,
          717,
          606,
          711,
          672,
          537,
          442,
          384,
          367,
          458,
          568,
          848,
          890,
          887,
          842,
          844,
          940,
          1093,
          1043,
          1166,
          1194,
          1107,
          1132,
          991,
          906,
          850,
          675,
          829,
          702,
          576,
          430,
          410,
          338,
          450,
          581,
          816,
          830,
          819,
          828,
          818,
          815,
          1074,
          1042,
          1170,
          1182,
          1192,
          1196,
          1140,
          1036,
          956,
          761,
          902,
          830,
          705,
          556,
          490,
          434,
          407,
          479,
          686,
          747,
          688,
          687,
          785,
          860,
          888,
          965,
          1140,
          1130,
          1074,
          1076,
          989,
          988,
          877,
          841,
          1012,
          838,
          681,
          565,
          526,
          388,
          439,
          459,
          712,
          736,
          718,
          659,
          769,
          789,
          801,
          889,
          1054,
          1017,
          1063,
          986,
          937,
          903,
          804,
          659,
          858,
          672,
          542,
          415,
          368,
          376,
          462,
          591,
          839,
          834,
          765,
          782,
          819,
          858,
          983,
          1002,
          1140,
          1051,
          1052,
          986,
          861,
          759,
          667,
          618,
          718,
          608,
          516,
          425,
          420,
          394,
          513,
          599,
          933,
          886,
          822,
          812,
          830,
          938,
          1117,
          1093,
          1209,
          1150,
          1164,
          1114,
          1052,
          969,
          769,
          597,
          694,
          652,
          458,
          446,
          382,
          363,
          428,
          567,
          859,
          821,
          793,
          800,
          881,
          883,
          1004,
          1067,
          1212,
          1160,
          1148,
          1059,
          1010,
          909,
          819,
          608,
          748,
          618,
          500,
          429,
          387,
          348,
          429,
          610,
          897,
          921,
          920,
          843,
          857,
          923,
          1047,
          1092,
          1156,
          1174,
          1108,
          1015,
          977,
          955,
          717,
          644,
          810,
          772,
          662,
          507,
          452,
          436,
          462,
          541,
          902,
          866,
          869,
          790,
          896,
          932,
          1069,
          1144,
          1236,
          1205,
          1224,
          1221,
          1143,
          1087,
          988,
          879,
          978,
          862,
          704,
          547,
          488,
          402,
          430,
          488,
          677,
          742,
          734,
          758,
          757,
          761,
          856,
          1001,
          1217,
          1199,
          1159,
          1078,
          1114,
          1043,
          999,
          874,
          985,
          852,
          692,
          586,
          514,
          370,
          437,
          476,
          691,
          685,
          686,
          668,
          822,
          733,
          859,
          888,
          1106,
          1020,
          992,
          949,
          876,
          766,
          713,
          742,
          777,
          646,
          472,
          451,
          398,
          344,
          453,
          504,
          829,
          780,
          788,
          727,
          787,
          815,
          1029,
          1059,
          1062,
          1022,
          1049,
          1036,
          909,
          808,
          678,
          612,
          717,
          597,
          482,
          419,
          361,
          336,
          391,
          484,
          754,
          783,
          735,
          745,
          738,
          735,
          866,
          924,
          1089,
          1069,
          1061,
          1025,
          975,
          923,
          735,
          644,
          728,
          687,
          528,
          444,
          418,
          403,
          483,
          614,
          861,
          949,
          894,
          843,
          872,
          913,
          1065,
          1066,
          1180,
          1176,
          1128,
          1029,
          1016,
          885,
          788,
          643,
          723,
          706,
          553,
          463,
          385,
          347,
          497,
          625,
          916,
          943,
          914,
          853,
          806,
          915,
          1064,
          1074,
          1245,
          1144,
          1158,
          1099,
          1069,
          868,
          798,
          646,
          770,
          658,
          592,
          556,
          512,
          508,
          559,
          579,
          806,
          802,
          783,
          794,
          736,
          810,
          1085,
          1105,
          1271,
          1157,
          1174,
          1176,
          1098,
          971,
          934,
          803,
          974,
          814,
          630,
          532,
          498,
          417,
          418,
          444,
          702,
          689,
          665,
          691,
          699,
          661,
          850,
          921,
          1143,
          1047,
          1094,
          1021,
          1033,
          935,
          912,
          873,
          981,
          808,
          689,
          569,
          499,
          337,
          393,
          463,
          729,
          722,
          699,
          711,
          805,
          720,
          806,
          855,
          1069,
          995,
          1039,
          1035,
          951,
          847,
          770,
          721,
          799,
          701,
          552,
          439,
          401,
          335,
          427,
          499,
          750,
          794,
          744,
          706,
          808,
          771,
          894,
          952,
          1096,
          1054,
          969,
          961,
          930,
          780,
          700,
          632,
          723,
          609,
          542,
          467,
          399,
          354,
          483,
          583,
          851,
          837,
          769,
          758,
          781,
          827,
          871,
          949,
          1156,
          1145,
          1126,
          1097,
          1031,
          928,
          808,
          639,
          745,
          679,
          552,
          493,
          452,
          390,
          472,
          538,
          835,
          800,
          809,
          848,
          837,
          861,
          904,
          1004,
          1244,
          1072,
          1084,
          1014,
          981,
          909,
          779,
          672,
          744,
          672,
          595,
          466,
          387,
          327,
          447,
          586,
          820,
          864,
          788,
          814,
          861,
          818,
          901,
          986,
          1135,
          1050,
          1013,
          989,
          998,
          890,
          795,
          715,
          817,
          730,
          644,
          540,
          467,
          421,
          438,
          528,
          722,
          776,
          723,
          755,
          816,
          815,
          848,
          987,
          1181,
          1174,
          1191,
          1177,
          1059,
          1073,
          961,
          863,
          978,
          851,
          699,
          580,
          553,
          396,
          424,
          474,
          698,
          678,
          675,
          703,
          723,
          749,
          891,
          972,
          1177,
          1070,
          1074,
          1093,
          1099,
          993,
          915,
          867,
          1029,
          868,
          739,
          622,
          584,
          438,
          421,
          493,
          683,
          681,
          633,
          662,
          753,
          743,
          868,
          887,
          1067,
          1002,
          1073,
          1060,
          982,
          816,
          771,
          644,
          788,
          697,
          500,
          481,
          396,
          363,
          408,
          586,
          850,
          733,
          708,
          731,
          834,
          846,
          1010,
          972,
          1048,
          964,
          1042,
          921,
          906,
          743,
          736,
          605,
          732,
          597,
          474,
          448,
          400,
          370,
          455,
          587,
          851,
          887,
          866,
          823,
          904,
          915,
          1174,
          1118,
          1241,
          1106,
          1060,
          1009,
          952,
          863,
          797,
          704,
          753,
          686,
          590,
          504,
          389,
          417,
          468,
          593,
          865,
          924,
          846,
          795,
          842,
          856,
          1042,
          1030,
          1086,
          1059,
          1064,
          993,
          970,
          1031,
          851,
          745,
          800,
          677,
          546,
          495,
          431,
          399,
          548,
          619,
          913,
          929,
          895,
          825,
          931,
          942,
          1054,
          977,
          1206,
          1065,
          1110,
          959,
          958,
          908,
          790,
          666,
          847,
          763,
          645,
          529,
          479,
          418,
          451,
          569,
          851,
          875,
          807,
          807,
          810,
          940,
          1124,
          1075,
          1271,
          1251,
          1221,
          1130,
          1160,
          1082,
          959,
          871,
          1035,
          819,
          685,
          574,
          475,
          402,
          414,
          487,
          695,
          683,
          721,
          711,
          706,
          734,
          826,
          939,
          1139,
          1032,
          989,
          1091,
          1053,
          954,
          886,
          816,
          990,
          830,
          734,
          597,
          502,
          399,
          417,
          464,
          751,
          756,
          765,
          753,
          854,
          846,
          863,
          934,
          1226,
          1117,
          1216,
          1109,
          1107,
          958,
          856,
          758,
          895,
          729,
          572,
          551,
          420,
          408,
          472,
          635,
          924,
          901,
          802,
          794,
          891,
          996,
          1215,
          1061,
          1218,
          1116,
          1096,
          1089,
          969,
          849,
          738,
          680,
          776,
          631,
          542,
          451,
          444,
          382,
          508,
          634,
          980,
          943,
          935,
          878,
          928,
          961,
          1253,
          1079,
          1296,
          1135,
          1199,
          1256,
          1191,
          937,
          840,
          744,
          826,
          776,
          636,
          520,
          459,
          414,
          470,
          632,
          1031,
          1079,
          944,
          994,
          990,
          1021,
          1191,
          1087,
          1204,
          1131,
          1143,
          1059,
          1002,
          963,
          868,
          721,
          857,
          778,
          628,
          550,
          498,
          378,
          464,
          597,
          1050,
          1015,
          990,
          997,
          1031,
          1030,
          1165,
          1102,
          1197,
          1180,
          1202,
          1213,
          1102,
          929,
          904,
          724,
          896,
          783,
          665,
          578,
          513,
          443,
          474,
          620,
          963,
          1000,
          903,
          910,
          988,
          1036,
          1217,
          1179,
          1335,
          1235,
          1268,
          1282,
          1202,
          1110,
          1042,
          914,
          1159,
          932,
          760,
          694,
          592,
          448,
          451,
          559,
          845,
          866,
          771,
          759,
          819,
          806,
          968,
          959,
          1197,
          1111,
          1156,
          1058,
          1103,
          1080,
          946,
          843,
          968,
          844,
          0,
          779,
          666,
          504,
          439,
          511,
          871,
          879,
          757,
          826,
          892,
          859,
          986,
          961,
          1301,
          1091,
          1082,
          1142,
          1044,
          871,
          916,
          753,
          865,
          766,
          662,
          541,
          608,
          436,
          486,
          643,
          971,
          1007,
          898,
          835,
          976,
          990,
          1180,
          1090,
          1179,
          1177,
          1127,
          1056,
          986,
          911,
          774,
          713,
          807,
          667,
          561,
          506,
          485,
          422,
          420,
          576,
          1052,
          941,
          857,
          984,
          966,
          1017,
          1249,
          1173,
          1283,
          1241,
          1217,
          1197,
          1199,
          1079,
          964,
          844,
          870,
          746,
          720,
          573,
          533,
          474,
          509,
          631,
          991,
          932,
          901,
          892,
          894,
          949,
          1225,
          1182,
          1278,
          1229,
          1266,
          1103,
          1104,
          1035,
          959,
          765,
          823,
          778,
          701,
          569,
          477,
          428,
          523,
          655,
          1058,
          1026,
          918,
          903,
          984,
          1023,
          1180,
          1120,
          1258,
          1261,
          1267,
          1228,
          1189,
          1107,
          1037,
          807,
          900,
          867,
          676,
          605,
          525,
          451,
          513,
          567,
          883,
          858,
          822,
          880,
          950,
          1023,
          1124,
          1242,
          1337,
          1285,
          1254,
          1184,
          1272,
          1130,
          1079,
          954,
          1057,
          902,
          793,
          693,
          601,
          478,
          463,
          509,
          783,
          832,
          806,
          741,
          811,
          831,
          969,
          981,
          1256,
          1197,
          1126,
          1138,
          1134,
          1127,
          1053,
          902,
          1067,
          929,
          811,
          667,
          650,
          475,
          448,
          487,
          749,
          770,
          749,
          768,
          782,
          794,
          867,
          941,
          1163,
          1077,
          1133,
          1097,
          1048,
          933,
          784,
          728,
          835,
          726,
          574,
          528,
          500,
          430,
          504,
          596,
          1051,
          954,
          879,
          837,
          954,
          978,
          1156,
          1107,
          1175,
          1080,
          1051,
          1017,
          1000,
          828,
          732,
          643,
          803,
          704,
          574,
          546,
          448,
          391,
          477,
          647,
          1054,
          969,
          867,
          863,
          937,
          963,
          1234,
          1190,
          1173,
          1177,
          1232,
          1042,
          1092,
          1010,
          875,
          805,
          820,
          766,
          620,
          505,
          455,
          400,
          489,
          636,
          993,
          975,
          926,
          916,
          970,
          1018,
          1191,
          1163,
          1239,
          1154,
          1229,
          1153,
          1065,
          964,
          911,
          773,
          834,
          745,
          620,
          592,
          508,
          424,
          525,
          663,
          996,
          987,
          962,
          917,
          937,
          1013,
          1198,
          1171,
          1313,
          1234,
          1137,
          1083,
          1064,
          1059,
          877,
          785,
          912,
          773,
          683,
          611,
          556,
          456,
          477,
          584,
          903,
          941,
          928,
          931,
          961,
          943,
          1154,
          1125,
          1251,
          1182,
          1195,
          1161,
          1179,
          1057,
          1104,
          878,
          942,
          854,
          705,
          629,
          516,
          403,
          441,
          487,
          754,
          712,
          776,
          698,
          810,
          770,
          874,
          928,
          1142,
          1151,
          1160,
          1079,
          1083,
          985,
          986,
          877,
          1007,
          846,
          733,
          648,
          538,
          443,
          476,
          482,
          789,
          755,
          775,
          784,
          824,
          830,
          932,
          981,
          1171,
          1121,
          1125,
          1042,
          1011,
          857,
          821,
          695,
          843,
          741,
          604,
          528,
          500,
          376,
          441,
          556,
          868,
          837,
          821,
          816,
          804,
          923,
          1127,
          1084,
          1145,
          1033,
          990,
          944,
          886,
          850,
          685,
          580,
          675,
          666,
          540,
          464,
          414,
          353,
          456,
          559,
          926,
          890,
          788,
          855,
          908,
          904,
          1139,
          1077,
          1099,
          999,
          1143,
          1119,
          1004,
          956,
          858,
          728,
          809,
          647,
          655,
          526,
          465,
          420,
          462,
          579,
          966,
          915,
          846,
          904,
          890,
          905,
          1120,
          1043,
          1147,
          1102,
          1050,
          1045,
          1053,
          875,
          782,
          721,
          803,
          709,
          631,
          560,
          450,
          423,
          491,
          577,
          939,
          792,
          793,
          849,
          829,
          854,
          973,
          907,
          1008,
          960,
          996,
          931,
          904,
          831,
          830,
          727,
          887,
          776,
          683,
          586,
          562,
          413,
          412,
          524,
          785,
          784,
          796,
          785,
          772,
          864,
          1039,
          1023,
          1227,
          1133,
          1239,
          1129,
          1123,
          980,
          953,
          880,
          1008,
          844,
          744,
          620,
          580,
          387,
          401,
          411,
          766,
          682,
          663,
          671,
          623,
          650,
          749,
          827,
          982,
          1016,
          1043,
          1010,
          1031,
          885,
          903,
          842,
          941,
          797,
          722,
          601,
          528,
          421,
          389,
          486,
          722,
          797,
          720,
          684,
          720,
          727,
          819,
          825,
          1084,
          982,
          984,
          915,
          980,
          848,
          828,
          755
         ],
         "yaxis": "y"
        }
       ],
       "layout": {
        "legend": {
         "title": {
          "text": ""
         },
         "tracegroupgap": 0
        },
        "margin": {
         "t": 60
        },
        "template": {
         "data": {
          "bar": [
           {
            "error_x": {
             "color": "#2a3f5f"
            },
            "error_y": {
             "color": "#2a3f5f"
            },
            "marker": {
             "line": {
              "color": "#E5ECF6",
              "width": 0.5
             },
             "pattern": {
              "fillmode": "overlay",
              "size": 10,
              "solidity": 0.2
             }
            },
            "type": "bar"
           }
          ],
          "barpolar": [
           {
            "marker": {
             "line": {
              "color": "#E5ECF6",
              "width": 0.5
             },
             "pattern": {
              "fillmode": "overlay",
              "size": 10,
              "solidity": 0.2
             }
            },
            "type": "barpolar"
           }
          ],
          "carpet": [
           {
            "aaxis": {
             "endlinecolor": "#2a3f5f",
             "gridcolor": "white",
             "linecolor": "white",
             "minorgridcolor": "white",
             "startlinecolor": "#2a3f5f"
            },
            "baxis": {
             "endlinecolor": "#2a3f5f",
             "gridcolor": "white",
             "linecolor": "white",
             "minorgridcolor": "white",
             "startlinecolor": "#2a3f5f"
            },
            "type": "carpet"
           }
          ],
          "choropleth": [
           {
            "colorbar": {
             "outlinewidth": 0,
             "ticks": ""
            },
            "type": "choropleth"
           }
          ],
          "contour": [
           {
            "colorbar": {
             "outlinewidth": 0,
             "ticks": ""
            },
            "colorscale": [
             [
              0,
              "#0d0887"
             ],
             [
              0.1111111111111111,
              "#46039f"
             ],
             [
              0.2222222222222222,
              "#7201a8"
             ],
             [
              0.3333333333333333,
              "#9c179e"
             ],
             [
              0.4444444444444444,
              "#bd3786"
             ],
             [
              0.5555555555555556,
              "#d8576b"
             ],
             [
              0.6666666666666666,
              "#ed7953"
             ],
             [
              0.7777777777777778,
              "#fb9f3a"
             ],
             [
              0.8888888888888888,
              "#fdca26"
             ],
             [
              1,
              "#f0f921"
             ]
            ],
            "type": "contour"
           }
          ],
          "contourcarpet": [
           {
            "colorbar": {
             "outlinewidth": 0,
             "ticks": ""
            },
            "type": "contourcarpet"
           }
          ],
          "heatmap": [
           {
            "colorbar": {
             "outlinewidth": 0,
             "ticks": ""
            },
            "colorscale": [
             [
              0,
              "#0d0887"
             ],
             [
              0.1111111111111111,
              "#46039f"
             ],
             [
              0.2222222222222222,
              "#7201a8"
             ],
             [
              0.3333333333333333,
              "#9c179e"
             ],
             [
              0.4444444444444444,
              "#bd3786"
             ],
             [
              0.5555555555555556,
              "#d8576b"
             ],
             [
              0.6666666666666666,
              "#ed7953"
             ],
             [
              0.7777777777777778,
              "#fb9f3a"
             ],
             [
              0.8888888888888888,
              "#fdca26"
             ],
             [
              1,
              "#f0f921"
             ]
            ],
            "type": "heatmap"
           }
          ],
          "heatmapgl": [
           {
            "colorbar": {
             "outlinewidth": 0,
             "ticks": ""
            },
            "colorscale": [
             [
              0,
              "#0d0887"
             ],
             [
              0.1111111111111111,
              "#46039f"
             ],
             [
              0.2222222222222222,
              "#7201a8"
             ],
             [
              0.3333333333333333,
              "#9c179e"
             ],
             [
              0.4444444444444444,
              "#bd3786"
             ],
             [
              0.5555555555555556,
              "#d8576b"
             ],
             [
              0.6666666666666666,
              "#ed7953"
             ],
             [
              0.7777777777777778,
              "#fb9f3a"
             ],
             [
              0.8888888888888888,
              "#fdca26"
             ],
             [
              1,
              "#f0f921"
             ]
            ],
            "type": "heatmapgl"
           }
          ],
          "histogram": [
           {
            "marker": {
             "pattern": {
              "fillmode": "overlay",
              "size": 10,
              "solidity": 0.2
             }
            },
            "type": "histogram"
           }
          ],
          "histogram2d": [
           {
            "colorbar": {
             "outlinewidth": 0,
             "ticks": ""
            },
            "colorscale": [
             [
              0,
              "#0d0887"
             ],
             [
              0.1111111111111111,
              "#46039f"
             ],
             [
              0.2222222222222222,
              "#7201a8"
             ],
             [
              0.3333333333333333,
              "#9c179e"
             ],
             [
              0.4444444444444444,
              "#bd3786"
             ],
             [
              0.5555555555555556,
              "#d8576b"
             ],
             [
              0.6666666666666666,
              "#ed7953"
             ],
             [
              0.7777777777777778,
              "#fb9f3a"
             ],
             [
              0.8888888888888888,
              "#fdca26"
             ],
             [
              1,
              "#f0f921"
             ]
            ],
            "type": "histogram2d"
           }
          ],
          "histogram2dcontour": [
           {
            "colorbar": {
             "outlinewidth": 0,
             "ticks": ""
            },
            "colorscale": [
             [
              0,
              "#0d0887"
             ],
             [
              0.1111111111111111,
              "#46039f"
             ],
             [
              0.2222222222222222,
              "#7201a8"
             ],
             [
              0.3333333333333333,
              "#9c179e"
             ],
             [
              0.4444444444444444,
              "#bd3786"
             ],
             [
              0.5555555555555556,
              "#d8576b"
             ],
             [
              0.6666666666666666,
              "#ed7953"
             ],
             [
              0.7777777777777778,
              "#fb9f3a"
             ],
             [
              0.8888888888888888,
              "#fdca26"
             ],
             [
              1,
              "#f0f921"
             ]
            ],
            "type": "histogram2dcontour"
           }
          ],
          "mesh3d": [
           {
            "colorbar": {
             "outlinewidth": 0,
             "ticks": ""
            },
            "type": "mesh3d"
           }
          ],
          "parcoords": [
           {
            "line": {
             "colorbar": {
              "outlinewidth": 0,
              "ticks": ""
             }
            },
            "type": "parcoords"
           }
          ],
          "pie": [
           {
            "automargin": true,
            "type": "pie"
           }
          ],
          "scatter": [
           {
            "fillpattern": {
             "fillmode": "overlay",
             "size": 10,
             "solidity": 0.2
            },
            "type": "scatter"
           }
          ],
          "scatter3d": [
           {
            "line": {
             "colorbar": {
              "outlinewidth": 0,
              "ticks": ""
             }
            },
            "marker": {
             "colorbar": {
              "outlinewidth": 0,
              "ticks": ""
             }
            },
            "type": "scatter3d"
           }
          ],
          "scattercarpet": [
           {
            "marker": {
             "colorbar": {
              "outlinewidth": 0,
              "ticks": ""
             }
            },
            "type": "scattercarpet"
           }
          ],
          "scattergeo": [
           {
            "marker": {
             "colorbar": {
              "outlinewidth": 0,
              "ticks": ""
             }
            },
            "type": "scattergeo"
           }
          ],
          "scattergl": [
           {
            "marker": {
             "colorbar": {
              "outlinewidth": 0,
              "ticks": ""
             }
            },
            "type": "scattergl"
           }
          ],
          "scattermapbox": [
           {
            "marker": {
             "colorbar": {
              "outlinewidth": 0,
              "ticks": ""
             }
            },
            "type": "scattermapbox"
           }
          ],
          "scatterpolar": [
           {
            "marker": {
             "colorbar": {
              "outlinewidth": 0,
              "ticks": ""
             }
            },
            "type": "scatterpolar"
           }
          ],
          "scatterpolargl": [
           {
            "marker": {
             "colorbar": {
              "outlinewidth": 0,
              "ticks": ""
             }
            },
            "type": "scatterpolargl"
           }
          ],
          "scatterternary": [
           {
            "marker": {
             "colorbar": {
              "outlinewidth": 0,
              "ticks": ""
             }
            },
            "type": "scatterternary"
           }
          ],
          "surface": [
           {
            "colorbar": {
             "outlinewidth": 0,
             "ticks": ""
            },
            "colorscale": [
             [
              0,
              "#0d0887"
             ],
             [
              0.1111111111111111,
              "#46039f"
             ],
             [
              0.2222222222222222,
              "#7201a8"
             ],
             [
              0.3333333333333333,
              "#9c179e"
             ],
             [
              0.4444444444444444,
              "#bd3786"
             ],
             [
              0.5555555555555556,
              "#d8576b"
             ],
             [
              0.6666666666666666,
              "#ed7953"
             ],
             [
              0.7777777777777778,
              "#fb9f3a"
             ],
             [
              0.8888888888888888,
              "#fdca26"
             ],
             [
              1,
              "#f0f921"
             ]
            ],
            "type": "surface"
           }
          ],
          "table": [
           {
            "cells": {
             "fill": {
              "color": "#EBF0F8"
             },
             "line": {
              "color": "white"
             }
            },
            "header": {
             "fill": {
              "color": "#C8D4E3"
             },
             "line": {
              "color": "white"
             }
            },
            "type": "table"
           }
          ]
         },
         "layout": {
          "annotationdefaults": {
           "arrowcolor": "#2a3f5f",
           "arrowhead": 0,
           "arrowwidth": 1
          },
          "autotypenumbers": "strict",
          "coloraxis": {
           "colorbar": {
            "outlinewidth": 0,
            "ticks": ""
           }
          },
          "colorscale": {
           "diverging": [
            [
             0,
             "#8e0152"
            ],
            [
             0.1,
             "#c51b7d"
            ],
            [
             0.2,
             "#de77ae"
            ],
            [
             0.3,
             "#f1b6da"
            ],
            [
             0.4,
             "#fde0ef"
            ],
            [
             0.5,
             "#f7f7f7"
            ],
            [
             0.6,
             "#e6f5d0"
            ],
            [
             0.7,
             "#b8e186"
            ],
            [
             0.8,
             "#7fbc41"
            ],
            [
             0.9,
             "#4d9221"
            ],
            [
             1,
             "#276419"
            ]
           ],
           "sequential": [
            [
             0,
             "#0d0887"
            ],
            [
             0.1111111111111111,
             "#46039f"
            ],
            [
             0.2222222222222222,
             "#7201a8"
            ],
            [
             0.3333333333333333,
             "#9c179e"
            ],
            [
             0.4444444444444444,
             "#bd3786"
            ],
            [
             0.5555555555555556,
             "#d8576b"
            ],
            [
             0.6666666666666666,
             "#ed7953"
            ],
            [
             0.7777777777777778,
             "#fb9f3a"
            ],
            [
             0.8888888888888888,
             "#fdca26"
            ],
            [
             1,
             "#f0f921"
            ]
           ],
           "sequentialminus": [
            [
             0,
             "#0d0887"
            ],
            [
             0.1111111111111111,
             "#46039f"
            ],
            [
             0.2222222222222222,
             "#7201a8"
            ],
            [
             0.3333333333333333,
             "#9c179e"
            ],
            [
             0.4444444444444444,
             "#bd3786"
            ],
            [
             0.5555555555555556,
             "#d8576b"
            ],
            [
             0.6666666666666666,
             "#ed7953"
            ],
            [
             0.7777777777777778,
             "#fb9f3a"
            ],
            [
             0.8888888888888888,
             "#fdca26"
            ],
            [
             1,
             "#f0f921"
            ]
           ]
          },
          "colorway": [
           "#636efa",
           "#EF553B",
           "#00cc96",
           "#ab63fa",
           "#FFA15A",
           "#19d3f3",
           "#FF6692",
           "#B6E880",
           "#FF97FF",
           "#FECB52"
          ],
          "font": {
           "color": "#2a3f5f"
          },
          "geo": {
           "bgcolor": "white",
           "lakecolor": "white",
           "landcolor": "#E5ECF6",
           "showlakes": true,
           "showland": true,
           "subunitcolor": "white"
          },
          "hoverlabel": {
           "align": "left"
          },
          "hovermode": "closest",
          "mapbox": {
           "style": "light"
          },
          "paper_bgcolor": "white",
          "plot_bgcolor": "#E5ECF6",
          "polar": {
           "angularaxis": {
            "gridcolor": "white",
            "linecolor": "white",
            "ticks": ""
           },
           "bgcolor": "#E5ECF6",
           "radialaxis": {
            "gridcolor": "white",
            "linecolor": "white",
            "ticks": ""
           }
          },
          "scene": {
           "xaxis": {
            "backgroundcolor": "#E5ECF6",
            "gridcolor": "white",
            "gridwidth": 2,
            "linecolor": "white",
            "showbackground": true,
            "ticks": "",
            "zerolinecolor": "white"
           },
           "yaxis": {
            "backgroundcolor": "#E5ECF6",
            "gridcolor": "white",
            "gridwidth": 2,
            "linecolor": "white",
            "showbackground": true,
            "ticks": "",
            "zerolinecolor": "white"
           },
           "zaxis": {
            "backgroundcolor": "#E5ECF6",
            "gridcolor": "white",
            "gridwidth": 2,
            "linecolor": "white",
            "showbackground": true,
            "ticks": "",
            "zerolinecolor": "white"
           }
          },
          "shapedefaults": {
           "line": {
            "color": "#2a3f5f"
           }
          },
          "ternary": {
           "aaxis": {
            "gridcolor": "white",
            "linecolor": "white",
            "ticks": ""
           },
           "baxis": {
            "gridcolor": "white",
            "linecolor": "white",
            "ticks": ""
           },
           "bgcolor": "#E5ECF6",
           "caxis": {
            "gridcolor": "white",
            "linecolor": "white",
            "ticks": ""
           }
          },
          "title": {
           "x": 0.05
          },
          "xaxis": {
           "automargin": true,
           "gridcolor": "white",
           "linecolor": "white",
           "ticks": "",
           "title": {
            "standoff": 15
           },
           "zerolinecolor": "white",
           "zerolinewidth": 2
          },
          "yaxis": {
           "automargin": true,
           "gridcolor": "white",
           "linecolor": "white",
           "ticks": "",
           "title": {
            "standoff": 15
           },
           "zerolinecolor": "white",
           "zerolinewidth": 2
          }
         }
        },
        "title": {
         "text": "Number of Calls by hours"
        },
        "xaxis": {
         "anchor": "y",
         "domain": [
          0,
          1
         ],
         "rangeslider": {
          "visible": true
         },
         "title": {
          "text": "ADD_TS"
         }
        },
        "yaxis": {
         "anchor": "x",
         "domain": [
          0,
          1
         ],
         "title": {
          "text": "Number of Calls"
         }
        }
       }
      }
     },
     "metadata": {},
     "output_type": "display_data"
    }
   ],
   "source": [
    "#Hourly Plot\n",
    "fig = px.line(hourly_df, x=hourly_df.index, y=hourly_df.num_calls)\n",
    "\n",
    "# axis labels and title\n",
    "fig.update_layout(\n",
    "    yaxis_title=\"Number of Calls\", \n",
    "    legend_title=\"\", \n",
    "    title=\"Number of Calls by hours\"\n",
    ")\n",
    "\n",
    "# activate slider\n",
    "fig.update_xaxes(rangeslider_visible=True)\n",
    "\n",
    "fig.show()"
   ]
  },
  {
   "cell_type": "code",
   "execution_count": 28,
   "metadata": {},
   "outputs": [
    {
     "name": "stderr",
     "output_type": "stream",
     "text": [
      "c:\\Users\\cmphi\\anaconda3\\envs\\dump\\Lib\\site-packages\\_plotly_utils\\basevalidators.py:106: FutureWarning:\n",
      "\n",
      "The behavior of DatetimeProperties.to_pydatetime is deprecated, in a future version this will return a Series containing python datetime objects instead of an ndarray. To retain the old behavior, call `np.array` on the result\n",
      "\n"
     ]
    },
    {
     "data": {
      "application/vnd.plotly.v1+json": {
       "config": {
        "plotlyServerURL": "https://plot.ly"
       },
       "data": [
        {
         "hovertemplate": "ADD_TS=%{x}<br>num_calls=%{y}<extra></extra>",
         "legendgroup": "",
         "line": {
          "color": "#636efa",
          "dash": "solid"
         },
         "marker": {
          "symbol": "circle"
         },
         "mode": "lines",
         "name": "",
         "orientation": "v",
         "showlegend": false,
         "type": "scatter",
         "x": [
          "2024-01-01T00:00:00",
          "2024-01-02T00:00:00",
          "2024-01-03T00:00:00",
          "2024-01-04T00:00:00",
          "2024-01-05T00:00:00",
          "2024-01-06T00:00:00",
          "2024-01-07T00:00:00",
          "2024-01-08T00:00:00",
          "2024-01-09T00:00:00",
          "2024-01-10T00:00:00",
          "2024-01-11T00:00:00",
          "2024-01-12T00:00:00",
          "2024-01-13T00:00:00",
          "2024-01-14T00:00:00",
          "2024-01-15T00:00:00",
          "2024-01-16T00:00:00",
          "2024-01-17T00:00:00",
          "2024-01-18T00:00:00",
          "2024-01-19T00:00:00",
          "2024-01-20T00:00:00",
          "2024-01-21T00:00:00",
          "2024-01-22T00:00:00",
          "2024-01-23T00:00:00",
          "2024-01-24T00:00:00",
          "2024-01-25T00:00:00",
          "2024-01-26T00:00:00",
          "2024-01-27T00:00:00",
          "2024-01-28T00:00:00",
          "2024-01-29T00:00:00",
          "2024-01-30T00:00:00",
          "2024-01-31T00:00:00",
          "2024-02-01T00:00:00",
          "2024-02-02T00:00:00",
          "2024-02-03T00:00:00",
          "2024-02-04T00:00:00",
          "2024-02-05T00:00:00",
          "2024-02-06T00:00:00",
          "2024-02-07T00:00:00",
          "2024-02-08T00:00:00",
          "2024-02-09T00:00:00",
          "2024-02-10T00:00:00",
          "2024-02-11T00:00:00",
          "2024-02-12T00:00:00",
          "2024-02-13T00:00:00",
          "2024-02-14T00:00:00",
          "2024-02-15T00:00:00",
          "2024-02-16T00:00:00",
          "2024-02-17T00:00:00",
          "2024-02-18T00:00:00",
          "2024-02-19T00:00:00",
          "2024-02-20T00:00:00",
          "2024-02-21T00:00:00",
          "2024-02-22T00:00:00",
          "2024-02-23T00:00:00",
          "2024-02-24T00:00:00",
          "2024-02-25T00:00:00",
          "2024-02-26T00:00:00",
          "2024-02-27T00:00:00",
          "2024-02-28T00:00:00",
          "2024-02-29T00:00:00",
          "2024-03-01T00:00:00",
          "2024-03-02T00:00:00",
          "2024-03-03T00:00:00",
          "2024-03-04T00:00:00",
          "2024-03-05T00:00:00",
          "2024-03-06T00:00:00",
          "2024-03-07T00:00:00",
          "2024-03-08T00:00:00",
          "2024-03-09T00:00:00",
          "2024-03-10T00:00:00",
          "2024-03-11T00:00:00",
          "2024-03-12T00:00:00",
          "2024-03-13T00:00:00",
          "2024-03-14T00:00:00",
          "2024-03-15T00:00:00",
          "2024-03-16T00:00:00",
          "2024-03-17T00:00:00",
          "2024-03-18T00:00:00",
          "2024-03-19T00:00:00",
          "2024-03-20T00:00:00",
          "2024-03-21T00:00:00",
          "2024-03-22T00:00:00",
          "2024-03-23T00:00:00",
          "2024-03-24T00:00:00",
          "2024-03-25T00:00:00",
          "2024-03-26T00:00:00",
          "2024-03-27T00:00:00",
          "2024-03-28T00:00:00",
          "2024-03-29T00:00:00",
          "2024-03-30T00:00:00",
          "2024-03-31T00:00:00"
         ],
         "xaxis": "x",
         "y": [
          16222,
          18061,
          18256,
          18524,
          18773,
          17326,
          16277,
          16859,
          17856,
          18750,
          18725,
          19456,
          19486,
          18026,
          16538,
          17113,
          18020,
          18653,
          18786,
          18028,
          17243,
          17244,
          18234,
          18697,
          18440,
          19645,
          18594,
          18152,
          17861,
          18759,
          19145,
          19547,
          19991,
          19224,
          18404,
          18300,
          19648,
          19023,
          19315,
          21093,
          19868,
          18108,
          18035,
          17588,
          19613,
          19811,
          20239,
          18663,
          18213,
          17694,
          18733,
          18974,
          18661,
          19706,
          19332,
          18519,
          17868,
          19333,
          19399,
          19643,
          20935,
          18866,
          19802,
          20021,
          20923,
          21161,
          21581,
          22556,
          20882,
          19942,
          20877,
          21707,
          21761,
          22320,
          22381,
          21183,
          19917,
          20135,
          21073,
          21331,
          21644,
          21945,
          19762,
          19686,
          18982,
          19520,
          19927,
          18767,
          20355,
          18338,
          18275
         ],
         "yaxis": "y"
        }
       ],
       "layout": {
        "legend": {
         "title": {
          "text": ""
         },
         "tracegroupgap": 0
        },
        "margin": {
         "t": 60
        },
        "template": {
         "data": {
          "bar": [
           {
            "error_x": {
             "color": "#2a3f5f"
            },
            "error_y": {
             "color": "#2a3f5f"
            },
            "marker": {
             "line": {
              "color": "#E5ECF6",
              "width": 0.5
             },
             "pattern": {
              "fillmode": "overlay",
              "size": 10,
              "solidity": 0.2
             }
            },
            "type": "bar"
           }
          ],
          "barpolar": [
           {
            "marker": {
             "line": {
              "color": "#E5ECF6",
              "width": 0.5
             },
             "pattern": {
              "fillmode": "overlay",
              "size": 10,
              "solidity": 0.2
             }
            },
            "type": "barpolar"
           }
          ],
          "carpet": [
           {
            "aaxis": {
             "endlinecolor": "#2a3f5f",
             "gridcolor": "white",
             "linecolor": "white",
             "minorgridcolor": "white",
             "startlinecolor": "#2a3f5f"
            },
            "baxis": {
             "endlinecolor": "#2a3f5f",
             "gridcolor": "white",
             "linecolor": "white",
             "minorgridcolor": "white",
             "startlinecolor": "#2a3f5f"
            },
            "type": "carpet"
           }
          ],
          "choropleth": [
           {
            "colorbar": {
             "outlinewidth": 0,
             "ticks": ""
            },
            "type": "choropleth"
           }
          ],
          "contour": [
           {
            "colorbar": {
             "outlinewidth": 0,
             "ticks": ""
            },
            "colorscale": [
             [
              0,
              "#0d0887"
             ],
             [
              0.1111111111111111,
              "#46039f"
             ],
             [
              0.2222222222222222,
              "#7201a8"
             ],
             [
              0.3333333333333333,
              "#9c179e"
             ],
             [
              0.4444444444444444,
              "#bd3786"
             ],
             [
              0.5555555555555556,
              "#d8576b"
             ],
             [
              0.6666666666666666,
              "#ed7953"
             ],
             [
              0.7777777777777778,
              "#fb9f3a"
             ],
             [
              0.8888888888888888,
              "#fdca26"
             ],
             [
              1,
              "#f0f921"
             ]
            ],
            "type": "contour"
           }
          ],
          "contourcarpet": [
           {
            "colorbar": {
             "outlinewidth": 0,
             "ticks": ""
            },
            "type": "contourcarpet"
           }
          ],
          "heatmap": [
           {
            "colorbar": {
             "outlinewidth": 0,
             "ticks": ""
            },
            "colorscale": [
             [
              0,
              "#0d0887"
             ],
             [
              0.1111111111111111,
              "#46039f"
             ],
             [
              0.2222222222222222,
              "#7201a8"
             ],
             [
              0.3333333333333333,
              "#9c179e"
             ],
             [
              0.4444444444444444,
              "#bd3786"
             ],
             [
              0.5555555555555556,
              "#d8576b"
             ],
             [
              0.6666666666666666,
              "#ed7953"
             ],
             [
              0.7777777777777778,
              "#fb9f3a"
             ],
             [
              0.8888888888888888,
              "#fdca26"
             ],
             [
              1,
              "#f0f921"
             ]
            ],
            "type": "heatmap"
           }
          ],
          "heatmapgl": [
           {
            "colorbar": {
             "outlinewidth": 0,
             "ticks": ""
            },
            "colorscale": [
             [
              0,
              "#0d0887"
             ],
             [
              0.1111111111111111,
              "#46039f"
             ],
             [
              0.2222222222222222,
              "#7201a8"
             ],
             [
              0.3333333333333333,
              "#9c179e"
             ],
             [
              0.4444444444444444,
              "#bd3786"
             ],
             [
              0.5555555555555556,
              "#d8576b"
             ],
             [
              0.6666666666666666,
              "#ed7953"
             ],
             [
              0.7777777777777778,
              "#fb9f3a"
             ],
             [
              0.8888888888888888,
              "#fdca26"
             ],
             [
              1,
              "#f0f921"
             ]
            ],
            "type": "heatmapgl"
           }
          ],
          "histogram": [
           {
            "marker": {
             "pattern": {
              "fillmode": "overlay",
              "size": 10,
              "solidity": 0.2
             }
            },
            "type": "histogram"
           }
          ],
          "histogram2d": [
           {
            "colorbar": {
             "outlinewidth": 0,
             "ticks": ""
            },
            "colorscale": [
             [
              0,
              "#0d0887"
             ],
             [
              0.1111111111111111,
              "#46039f"
             ],
             [
              0.2222222222222222,
              "#7201a8"
             ],
             [
              0.3333333333333333,
              "#9c179e"
             ],
             [
              0.4444444444444444,
              "#bd3786"
             ],
             [
              0.5555555555555556,
              "#d8576b"
             ],
             [
              0.6666666666666666,
              "#ed7953"
             ],
             [
              0.7777777777777778,
              "#fb9f3a"
             ],
             [
              0.8888888888888888,
              "#fdca26"
             ],
             [
              1,
              "#f0f921"
             ]
            ],
            "type": "histogram2d"
           }
          ],
          "histogram2dcontour": [
           {
            "colorbar": {
             "outlinewidth": 0,
             "ticks": ""
            },
            "colorscale": [
             [
              0,
              "#0d0887"
             ],
             [
              0.1111111111111111,
              "#46039f"
             ],
             [
              0.2222222222222222,
              "#7201a8"
             ],
             [
              0.3333333333333333,
              "#9c179e"
             ],
             [
              0.4444444444444444,
              "#bd3786"
             ],
             [
              0.5555555555555556,
              "#d8576b"
             ],
             [
              0.6666666666666666,
              "#ed7953"
             ],
             [
              0.7777777777777778,
              "#fb9f3a"
             ],
             [
              0.8888888888888888,
              "#fdca26"
             ],
             [
              1,
              "#f0f921"
             ]
            ],
            "type": "histogram2dcontour"
           }
          ],
          "mesh3d": [
           {
            "colorbar": {
             "outlinewidth": 0,
             "ticks": ""
            },
            "type": "mesh3d"
           }
          ],
          "parcoords": [
           {
            "line": {
             "colorbar": {
              "outlinewidth": 0,
              "ticks": ""
             }
            },
            "type": "parcoords"
           }
          ],
          "pie": [
           {
            "automargin": true,
            "type": "pie"
           }
          ],
          "scatter": [
           {
            "fillpattern": {
             "fillmode": "overlay",
             "size": 10,
             "solidity": 0.2
            },
            "type": "scatter"
           }
          ],
          "scatter3d": [
           {
            "line": {
             "colorbar": {
              "outlinewidth": 0,
              "ticks": ""
             }
            },
            "marker": {
             "colorbar": {
              "outlinewidth": 0,
              "ticks": ""
             }
            },
            "type": "scatter3d"
           }
          ],
          "scattercarpet": [
           {
            "marker": {
             "colorbar": {
              "outlinewidth": 0,
              "ticks": ""
             }
            },
            "type": "scattercarpet"
           }
          ],
          "scattergeo": [
           {
            "marker": {
             "colorbar": {
              "outlinewidth": 0,
              "ticks": ""
             }
            },
            "type": "scattergeo"
           }
          ],
          "scattergl": [
           {
            "marker": {
             "colorbar": {
              "outlinewidth": 0,
              "ticks": ""
             }
            },
            "type": "scattergl"
           }
          ],
          "scattermapbox": [
           {
            "marker": {
             "colorbar": {
              "outlinewidth": 0,
              "ticks": ""
             }
            },
            "type": "scattermapbox"
           }
          ],
          "scatterpolar": [
           {
            "marker": {
             "colorbar": {
              "outlinewidth": 0,
              "ticks": ""
             }
            },
            "type": "scatterpolar"
           }
          ],
          "scatterpolargl": [
           {
            "marker": {
             "colorbar": {
              "outlinewidth": 0,
              "ticks": ""
             }
            },
            "type": "scatterpolargl"
           }
          ],
          "scatterternary": [
           {
            "marker": {
             "colorbar": {
              "outlinewidth": 0,
              "ticks": ""
             }
            },
            "type": "scatterternary"
           }
          ],
          "surface": [
           {
            "colorbar": {
             "outlinewidth": 0,
             "ticks": ""
            },
            "colorscale": [
             [
              0,
              "#0d0887"
             ],
             [
              0.1111111111111111,
              "#46039f"
             ],
             [
              0.2222222222222222,
              "#7201a8"
             ],
             [
              0.3333333333333333,
              "#9c179e"
             ],
             [
              0.4444444444444444,
              "#bd3786"
             ],
             [
              0.5555555555555556,
              "#d8576b"
             ],
             [
              0.6666666666666666,
              "#ed7953"
             ],
             [
              0.7777777777777778,
              "#fb9f3a"
             ],
             [
              0.8888888888888888,
              "#fdca26"
             ],
             [
              1,
              "#f0f921"
             ]
            ],
            "type": "surface"
           }
          ],
          "table": [
           {
            "cells": {
             "fill": {
              "color": "#EBF0F8"
             },
             "line": {
              "color": "white"
             }
            },
            "header": {
             "fill": {
              "color": "#C8D4E3"
             },
             "line": {
              "color": "white"
             }
            },
            "type": "table"
           }
          ]
         },
         "layout": {
          "annotationdefaults": {
           "arrowcolor": "#2a3f5f",
           "arrowhead": 0,
           "arrowwidth": 1
          },
          "autotypenumbers": "strict",
          "coloraxis": {
           "colorbar": {
            "outlinewidth": 0,
            "ticks": ""
           }
          },
          "colorscale": {
           "diverging": [
            [
             0,
             "#8e0152"
            ],
            [
             0.1,
             "#c51b7d"
            ],
            [
             0.2,
             "#de77ae"
            ],
            [
             0.3,
             "#f1b6da"
            ],
            [
             0.4,
             "#fde0ef"
            ],
            [
             0.5,
             "#f7f7f7"
            ],
            [
             0.6,
             "#e6f5d0"
            ],
            [
             0.7,
             "#b8e186"
            ],
            [
             0.8,
             "#7fbc41"
            ],
            [
             0.9,
             "#4d9221"
            ],
            [
             1,
             "#276419"
            ]
           ],
           "sequential": [
            [
             0,
             "#0d0887"
            ],
            [
             0.1111111111111111,
             "#46039f"
            ],
            [
             0.2222222222222222,
             "#7201a8"
            ],
            [
             0.3333333333333333,
             "#9c179e"
            ],
            [
             0.4444444444444444,
             "#bd3786"
            ],
            [
             0.5555555555555556,
             "#d8576b"
            ],
            [
             0.6666666666666666,
             "#ed7953"
            ],
            [
             0.7777777777777778,
             "#fb9f3a"
            ],
            [
             0.8888888888888888,
             "#fdca26"
            ],
            [
             1,
             "#f0f921"
            ]
           ],
           "sequentialminus": [
            [
             0,
             "#0d0887"
            ],
            [
             0.1111111111111111,
             "#46039f"
            ],
            [
             0.2222222222222222,
             "#7201a8"
            ],
            [
             0.3333333333333333,
             "#9c179e"
            ],
            [
             0.4444444444444444,
             "#bd3786"
            ],
            [
             0.5555555555555556,
             "#d8576b"
            ],
            [
             0.6666666666666666,
             "#ed7953"
            ],
            [
             0.7777777777777778,
             "#fb9f3a"
            ],
            [
             0.8888888888888888,
             "#fdca26"
            ],
            [
             1,
             "#f0f921"
            ]
           ]
          },
          "colorway": [
           "#636efa",
           "#EF553B",
           "#00cc96",
           "#ab63fa",
           "#FFA15A",
           "#19d3f3",
           "#FF6692",
           "#B6E880",
           "#FF97FF",
           "#FECB52"
          ],
          "font": {
           "color": "#2a3f5f"
          },
          "geo": {
           "bgcolor": "white",
           "lakecolor": "white",
           "landcolor": "#E5ECF6",
           "showlakes": true,
           "showland": true,
           "subunitcolor": "white"
          },
          "hoverlabel": {
           "align": "left"
          },
          "hovermode": "closest",
          "mapbox": {
           "style": "light"
          },
          "paper_bgcolor": "white",
          "plot_bgcolor": "#E5ECF6",
          "polar": {
           "angularaxis": {
            "gridcolor": "white",
            "linecolor": "white",
            "ticks": ""
           },
           "bgcolor": "#E5ECF6",
           "radialaxis": {
            "gridcolor": "white",
            "linecolor": "white",
            "ticks": ""
           }
          },
          "scene": {
           "xaxis": {
            "backgroundcolor": "#E5ECF6",
            "gridcolor": "white",
            "gridwidth": 2,
            "linecolor": "white",
            "showbackground": true,
            "ticks": "",
            "zerolinecolor": "white"
           },
           "yaxis": {
            "backgroundcolor": "#E5ECF6",
            "gridcolor": "white",
            "gridwidth": 2,
            "linecolor": "white",
            "showbackground": true,
            "ticks": "",
            "zerolinecolor": "white"
           },
           "zaxis": {
            "backgroundcolor": "#E5ECF6",
            "gridcolor": "white",
            "gridwidth": 2,
            "linecolor": "white",
            "showbackground": true,
            "ticks": "",
            "zerolinecolor": "white"
           }
          },
          "shapedefaults": {
           "line": {
            "color": "#2a3f5f"
           }
          },
          "ternary": {
           "aaxis": {
            "gridcolor": "white",
            "linecolor": "white",
            "ticks": ""
           },
           "baxis": {
            "gridcolor": "white",
            "linecolor": "white",
            "ticks": ""
           },
           "bgcolor": "#E5ECF6",
           "caxis": {
            "gridcolor": "white",
            "linecolor": "white",
            "ticks": ""
           }
          },
          "title": {
           "x": 0.05
          },
          "xaxis": {
           "automargin": true,
           "gridcolor": "white",
           "linecolor": "white",
           "ticks": "",
           "title": {
            "standoff": 15
           },
           "zerolinecolor": "white",
           "zerolinewidth": 2
          },
          "yaxis": {
           "automargin": true,
           "gridcolor": "white",
           "linecolor": "white",
           "ticks": "",
           "title": {
            "standoff": 15
           },
           "zerolinecolor": "white",
           "zerolinewidth": 2
          }
         }
        },
        "title": {
         "text": "Number of Calls by day"
        },
        "xaxis": {
         "anchor": "y",
         "domain": [
          0,
          1
         ],
         "rangeslider": {
          "visible": true
         },
         "title": {
          "text": "ADD_TS"
         }
        },
        "yaxis": {
         "anchor": "x",
         "domain": [
          0,
          1
         ],
         "title": {
          "text": "Number of Calls"
         }
        }
       }
      }
     },
     "metadata": {},
     "output_type": "display_data"
    }
   ],
   "source": [
    "#Daily Plot\n",
    "fig = px.line(daily_df, x=daily_df.index, y=daily_df.num_calls)\n",
    "\n",
    "# axis labels and title\n",
    "fig.update_layout(\n",
    "    yaxis_title=\"Number of Calls\", \n",
    "    legend_title=\"\", \n",
    "    title=\"Number of Calls by day\"\n",
    ")\n",
    "\n",
    "# activate slider\n",
    "fig.update_xaxes(rangeslider_visible=True)\n",
    "\n",
    "fig.show()"
   ]
  },
  {
   "cell_type": "markdown",
   "metadata": {},
   "source": [
    "### **Time Series EDA:**"
   ]
  },
  {
   "cell_type": "code",
   "execution_count": 29,
   "metadata": {},
   "outputs": [
    {
     "name": "stdout",
     "output_type": "stream",
     "text": [
      "(2184, 1)\n",
      "(91, 1)\n"
     ]
    }
   ],
   "source": [
    "print(hourly_df.shape)\n",
    "print(daily_df.shape)"
   ]
  },
  {
   "cell_type": "code",
   "execution_count": 30,
   "metadata": {},
   "outputs": [
    {
     "name": "stdout",
     "output_type": "stream",
     "text": [
      "2024-01-01 00:00:00 2024-03-31 00:00:00\n",
      "2024-01-01 00:00:00 2024-03-31 23:00:00\n"
     ]
    }
   ],
   "source": [
    "#Grabbing frist and last time stamp from each\n",
    "first_day = daily_df.index.min()\n",
    "last_day = daily_df.index.max()\n",
    "\n",
    "first_hour = hourly_df.index.min()\n",
    "last_hour = hourly_df.index.max()\n",
    "\n",
    "print(first_day, last_day)\n",
    "print(first_hour, last_hour)"
   ]
  },
  {
   "cell_type": "code",
   "execution_count": 31,
   "metadata": {},
   "outputs": [
    {
     "name": "stdout",
     "output_type": "stream",
     "text": [
      "DatetimeIndex([], dtype='datetime64[ns]', freq='D')\n",
      "DatetimeIndex([], dtype='datetime64[ns]', freq='H')\n"
     ]
    }
   ],
   "source": [
    "#Identifying missing values\n",
    "daily_full_range = pd.date_range(start=first_day, end=last_day, freq=\"D\")\n",
    "print(daily_full_range.difference(daily_df.index))\n",
    "\n",
    "hourly_full_range = pd.date_range(start=first_hour, end=last_hour, freq=\"H\")\n",
    "print(hourly_full_range.difference(hourly_df.index))"
   ]
  },
  {
   "cell_type": "markdown",
   "metadata": {},
   "source": [
    "Here it seems that we have no missing values in the range of start to end for both hourly and daily, At least in terms of the index. We will double check wiht the values with in each index now."
   ]
  },
  {
   "cell_type": "code",
   "execution_count": 32,
   "metadata": {},
   "outputs": [
    {
     "name": "stdout",
     "output_type": "stream",
     "text": [
      "num_calls    0\n",
      "dtype: int64\n",
      "num_calls    0\n",
      "dtype: int64\n"
     ]
    }
   ],
   "source": [
    "print(daily_df.isna().sum())\n",
    "print(hourly_df.isna().sum())\n"
   ]
  },
  {
   "cell_type": "code",
   "execution_count": 33,
   "metadata": {},
   "outputs": [
    {
     "data": {
      "image/png": "[encoded data removed]",
      "text/plain": [
       "<Figure size 2500x300 with 1 Axes>"
      ]
     },
     "metadata": {},
     "output_type": "display_data"
    }
   ],
   "source": [
    "#Create a heatmap to illustrate missing values relative to existing indexes\n",
    "\n",
    "plt.figure(figsize=(25,3))\n",
    "\n",
    "ax = sns.heatmap(daily_df.isna().T, cmap='cool', cbar=False)\n",
    "ax.set(xticklabels=[])\n",
    "\n",
    "plt.show()\n",
    "#no missing not ver itresting"
   ]
  },
  {
   "cell_type": "code",
   "execution_count": 34,
   "metadata": {},
   "outputs": [
    {
     "data": {
      "image/png": "[encoded data removed]",
      "text/plain": [
       "<Figure size 2500x300 with 1 Axes>"
      ]
     },
     "metadata": {},
     "output_type": "display_data"
    }
   ],
   "source": [
    "#Create a heatmap to illustrate missing values relative to existing indexes\n",
    "\n",
    "plt.figure(figsize=(25,3))\n",
    "\n",
    "ax = sns.heatmap(hourly_df.isna().T, cmap='cool', cbar=False)\n",
    "ax.set(xticklabels=[])\n",
    "\n",
    "plt.show()\n",
    "#no missing not ver itresting"
   ]
  },
  {
   "cell_type": "markdown",
   "metadata": {},
   "source": [
    "This show we are not missing any data points in both the index and in rows. Good saves a step.<br><br>\n",
    "\n",
    "Next, we will beging to look at the datas seasonality."
   ]
  },
  {
   "cell_type": "code",
   "execution_count": 35,
   "metadata": {},
   "outputs": [
    {
     "data": {
      "application/vnd.plotly.v1+json": {
       "config": {
        "plotlyServerURL": "https://plot.ly"
       },
       "data": [
        {
         "alignmentgroup": "True",
         "hovertemplate": "variable=num_calls<br>index=%{x}<br>value=%{y}<extra></extra>",
         "legendgroup": "num_calls",
         "marker": {
          "color": "#636efa",
          "pattern": {
           "shape": ""
          }
         },
         "name": "num_calls",
         "offsetgroup": "num_calls",
         "orientation": "v",
         "showlegend": true,
         "textposition": "auto",
         "type": "bar",
         "x": [
          "Monday",
          "Tuesday",
          "Wednesday",
          "Thursday",
          "Friday",
          "Saturday",
          "Sunday"
         ],
         "xaxis": "x",
         "y": [
          -0.05698746477410769,
          -0.006329906956747821,
          0.015491461702351201,
          0.02155338861763351,
          0.0592027950158701,
          -0.0022812308227774325,
          -0.03972866145510437
         ],
         "yaxis": "y"
        }
       ],
       "layout": {
        "barmode": "relative",
        "legend": {
         "title": {
          "text": "variable"
         },
         "tracegroupgap": 0
        },
        "margin": {
         "t": 60
        },
        "showlegend": false,
        "template": {
         "data": {
          "bar": [
           {
            "error_x": {
             "color": "#2a3f5f"
            },
            "error_y": {
             "color": "#2a3f5f"
            },
            "marker": {
             "line": {
              "color": "#E5ECF6",
              "width": 0.5
             },
             "pattern": {
              "fillmode": "overlay",
              "size": 10,
              "solidity": 0.2
             }
            },
            "type": "bar"
           }
          ],
          "barpolar": [
           {
            "marker": {
             "line": {
              "color": "#E5ECF6",
              "width": 0.5
             },
             "pattern": {
              "fillmode": "overlay",
              "size": 10,
              "solidity": 0.2
             }
            },
            "type": "barpolar"
           }
          ],
          "carpet": [
           {
            "aaxis": {
             "endlinecolor": "#2a3f5f",
             "gridcolor": "white",
             "linecolor": "white",
             "minorgridcolor": "white",
             "startlinecolor": "#2a3f5f"
            },
            "baxis": {
             "endlinecolor": "#2a3f5f",
             "gridcolor": "white",
             "linecolor": "white",
             "minorgridcolor": "white",
             "startlinecolor": "#2a3f5f"
            },
            "type": "carpet"
           }
          ],
          "choropleth": [
           {
            "colorbar": {
             "outlinewidth": 0,
             "ticks": ""
            },
            "type": "choropleth"
           }
          ],
          "contour": [
           {
            "colorbar": {
             "outlinewidth": 0,
             "ticks": ""
            },
            "colorscale": [
             [
              0,
              "#0d0887"
             ],
             [
              0.1111111111111111,
              "#46039f"
             ],
             [
              0.2222222222222222,
              "#7201a8"
             ],
             [
              0.3333333333333333,
              "#9c179e"
             ],
             [
              0.4444444444444444,
              "#bd3786"
             ],
             [
              0.5555555555555556,
              "#d8576b"
             ],
             [
              0.6666666666666666,
              "#ed7953"
             ],
             [
              0.7777777777777778,
              "#fb9f3a"
             ],
             [
              0.8888888888888888,
              "#fdca26"
             ],
             [
              1,
              "#f0f921"
             ]
            ],
            "type": "contour"
           }
          ],
          "contourcarpet": [
           {
            "colorbar": {
             "outlinewidth": 0,
             "ticks": ""
            },
            "type": "contourcarpet"
           }
          ],
          "heatmap": [
           {
            "colorbar": {
             "outlinewidth": 0,
             "ticks": ""
            },
            "colorscale": [
             [
              0,
              "#0d0887"
             ],
             [
              0.1111111111111111,
              "#46039f"
             ],
             [
              0.2222222222222222,
              "#7201a8"
             ],
             [
              0.3333333333333333,
              "#9c179e"
             ],
             [
              0.4444444444444444,
              "#bd3786"
             ],
             [
              0.5555555555555556,
              "#d8576b"
             ],
             [
              0.6666666666666666,
              "#ed7953"
             ],
             [
              0.7777777777777778,
              "#fb9f3a"
             ],
             [
              0.8888888888888888,
              "#fdca26"
             ],
             [
              1,
              "#f0f921"
             ]
            ],
            "type": "heatmap"
           }
          ],
          "heatmapgl": [
           {
            "colorbar": {
             "outlinewidth": 0,
             "ticks": ""
            },
            "colorscale": [
             [
              0,
              "#0d0887"
             ],
             [
              0.1111111111111111,
              "#46039f"
             ],
             [
              0.2222222222222222,
              "#7201a8"
             ],
             [
              0.3333333333333333,
              "#9c179e"
             ],
             [
              0.4444444444444444,
              "#bd3786"
             ],
             [
              0.5555555555555556,
              "#d8576b"
             ],
             [
              0.6666666666666666,
              "#ed7953"
             ],
             [
              0.7777777777777778,
              "#fb9f3a"
             ],
             [
              0.8888888888888888,
              "#fdca26"
             ],
             [
              1,
              "#f0f921"
             ]
            ],
            "type": "heatmapgl"
           }
          ],
          "histogram": [
           {
            "marker": {
             "pattern": {
              "fillmode": "overlay",
              "size": 10,
              "solidity": 0.2
             }
            },
            "type": "histogram"
           }
          ],
          "histogram2d": [
           {
            "colorbar": {
             "outlinewidth": 0,
             "ticks": ""
            },
            "colorscale": [
             [
              0,
              "#0d0887"
             ],
             [
              0.1111111111111111,
              "#46039f"
             ],
             [
              0.2222222222222222,
              "#7201a8"
             ],
             [
              0.3333333333333333,
              "#9c179e"
             ],
             [
              0.4444444444444444,
              "#bd3786"
             ],
             [
              0.5555555555555556,
              "#d8576b"
             ],
             [
              0.6666666666666666,
              "#ed7953"
             ],
             [
              0.7777777777777778,
              "#fb9f3a"
             ],
             [
              0.8888888888888888,
              "#fdca26"
             ],
             [
              1,
              "#f0f921"
             ]
            ],
            "type": "histogram2d"
           }
          ],
          "histogram2dcontour": [
           {
            "colorbar": {
             "outlinewidth": 0,
             "ticks": ""
            },
            "colorscale": [
             [
              0,
              "#0d0887"
             ],
             [
              0.1111111111111111,
              "#46039f"
             ],
             [
              0.2222222222222222,
              "#7201a8"
             ],
             [
              0.3333333333333333,
              "#9c179e"
             ],
             [
              0.4444444444444444,
              "#bd3786"
             ],
             [
              0.5555555555555556,
              "#d8576b"
             ],
             [
              0.6666666666666666,
              "#ed7953"
             ],
             [
              0.7777777777777778,
              "#fb9f3a"
             ],
             [
              0.8888888888888888,
              "#fdca26"
             ],
             [
              1,
              "#f0f921"
             ]
            ],
            "type": "histogram2dcontour"
           }
          ],
          "mesh3d": [
           {
            "colorbar": {
             "outlinewidth": 0,
             "ticks": ""
            },
            "type": "mesh3d"
           }
          ],
          "parcoords": [
           {
            "line": {
             "colorbar": {
              "outlinewidth": 0,
              "ticks": ""
             }
            },
            "type": "parcoords"
           }
          ],
          "pie": [
           {
            "automargin": true,
            "type": "pie"
           }
          ],
          "scatter": [
           {
            "fillpattern": {
             "fillmode": "overlay",
             "size": 10,
             "solidity": 0.2
            },
            "type": "scatter"
           }
          ],
          "scatter3d": [
           {
            "line": {
             "colorbar": {
              "outlinewidth": 0,
              "ticks": ""
             }
            },
            "marker": {
             "colorbar": {
              "outlinewidth": 0,
              "ticks": ""
             }
            },
            "type": "scatter3d"
           }
          ],
          "scattercarpet": [
           {
            "marker": {
             "colorbar": {
              "outlinewidth": 0,
              "ticks": ""
             }
            },
            "type": "scattercarpet"
           }
          ],
          "scattergeo": [
           {
            "marker": {
             "colorbar": {
              "outlinewidth": 0,
              "ticks": ""
             }
            },
            "type": "scattergeo"
           }
          ],
          "scattergl": [
           {
            "marker": {
             "colorbar": {
              "outlinewidth": 0,
              "ticks": ""
             }
            },
            "type": "scattergl"
           }
          ],
          "scattermapbox": [
           {
            "marker": {
             "colorbar": {
              "outlinewidth": 0,
              "ticks": ""
             }
            },
            "type": "scattermapbox"
           }
          ],
          "scatterpolar": [
           {
            "marker": {
             "colorbar": {
              "outlinewidth": 0,
              "ticks": ""
             }
            },
            "type": "scatterpolar"
           }
          ],
          "scatterpolargl": [
           {
            "marker": {
             "colorbar": {
              "outlinewidth": 0,
              "ticks": ""
             }
            },
            "type": "scatterpolargl"
           }
          ],
          "scatterternary": [
           {
            "marker": {
             "colorbar": {
              "outlinewidth": 0,
              "ticks": ""
             }
            },
            "type": "scatterternary"
           }
          ],
          "surface": [
           {
            "colorbar": {
             "outlinewidth": 0,
             "ticks": ""
            },
            "colorscale": [
             [
              0,
              "#0d0887"
             ],
             [
              0.1111111111111111,
              "#46039f"
             ],
             [
              0.2222222222222222,
              "#7201a8"
             ],
             [
              0.3333333333333333,
              "#9c179e"
             ],
             [
              0.4444444444444444,
              "#bd3786"
             ],
             [
              0.5555555555555556,
              "#d8576b"
             ],
             [
              0.6666666666666666,
              "#ed7953"
             ],
             [
              0.7777777777777778,
              "#fb9f3a"
             ],
             [
              0.8888888888888888,
              "#fdca26"
             ],
             [
              1,
              "#f0f921"
             ]
            ],
            "type": "surface"
           }
          ],
          "table": [
           {
            "cells": {
             "fill": {
              "color": "#EBF0F8"
             },
             "line": {
              "color": "white"
             }
            },
            "header": {
             "fill": {
              "color": "#C8D4E3"
             },
             "line": {
              "color": "white"
             }
            },
            "type": "table"
           }
          ]
         },
         "layout": {
          "annotationdefaults": {
           "arrowcolor": "#2a3f5f",
           "arrowhead": 0,
           "arrowwidth": 1
          },
          "autotypenumbers": "strict",
          "coloraxis": {
           "colorbar": {
            "outlinewidth": 0,
            "ticks": ""
           }
          },
          "colorscale": {
           "diverging": [
            [
             0,
             "#8e0152"
            ],
            [
             0.1,
             "#c51b7d"
            ],
            [
             0.2,
             "#de77ae"
            ],
            [
             0.3,
             "#f1b6da"
            ],
            [
             0.4,
             "#fde0ef"
            ],
            [
             0.5,
             "#f7f7f7"
            ],
            [
             0.6,
             "#e6f5d0"
            ],
            [
             0.7,
             "#b8e186"
            ],
            [
             0.8,
             "#7fbc41"
            ],
            [
             0.9,
             "#4d9221"
            ],
            [
             1,
             "#276419"
            ]
           ],
           "sequential": [
            [
             0,
             "#0d0887"
            ],
            [
             0.1111111111111111,
             "#46039f"
            ],
            [
             0.2222222222222222,
             "#7201a8"
            ],
            [
             0.3333333333333333,
             "#9c179e"
            ],
            [
             0.4444444444444444,
             "#bd3786"
            ],
            [
             0.5555555555555556,
             "#d8576b"
            ],
            [
             0.6666666666666666,
             "#ed7953"
            ],
            [
             0.7777777777777778,
             "#fb9f3a"
            ],
            [
             0.8888888888888888,
             "#fdca26"
            ],
            [
             1,
             "#f0f921"
            ]
           ],
           "sequentialminus": [
            [
             0,
             "#0d0887"
            ],
            [
             0.1111111111111111,
             "#46039f"
            ],
            [
             0.2222222222222222,
             "#7201a8"
            ],
            [
             0.3333333333333333,
             "#9c179e"
            ],
            [
             0.4444444444444444,
             "#bd3786"
            ],
            [
             0.5555555555555556,
             "#d8576b"
            ],
            [
             0.6666666666666666,
             "#ed7953"
            ],
            [
             0.7777777777777778,
             "#fb9f3a"
            ],
            [
             0.8888888888888888,
             "#fdca26"
            ],
            [
             1,
             "#f0f921"
            ]
           ]
          },
          "colorway": [
           "#636efa",
           "#EF553B",
           "#00cc96",
           "#ab63fa",
           "#FFA15A",
           "#19d3f3",
           "#FF6692",
           "#B6E880",
           "#FF97FF",
           "#FECB52"
          ],
          "font": {
           "color": "#2a3f5f"
          },
          "geo": {
           "bgcolor": "white",
           "lakecolor": "white",
           "landcolor": "#E5ECF6",
           "showlakes": true,
           "showland": true,
           "subunitcolor": "white"
          },
          "hoverlabel": {
           "align": "left"
          },
          "hovermode": "closest",
          "mapbox": {
           "style": "light"
          },
          "paper_bgcolor": "white",
          "plot_bgcolor": "#E5ECF6",
          "polar": {
           "angularaxis": {
            "gridcolor": "white",
            "linecolor": "white",
            "ticks": ""
           },
           "bgcolor": "#E5ECF6",
           "radialaxis": {
            "gridcolor": "white",
            "linecolor": "white",
            "ticks": ""
           }
          },
          "scene": {
           "xaxis": {
            "backgroundcolor": "#E5ECF6",
            "gridcolor": "white",
            "gridwidth": 2,
            "linecolor": "white",
            "showbackground": true,
            "ticks": "",
            "zerolinecolor": "white"
           },
           "yaxis": {
            "backgroundcolor": "#E5ECF6",
            "gridcolor": "white",
            "gridwidth": 2,
            "linecolor": "white",
            "showbackground": true,
            "ticks": "",
            "zerolinecolor": "white"
           },
           "zaxis": {
            "backgroundcolor": "#E5ECF6",
            "gridcolor": "white",
            "gridwidth": 2,
            "linecolor": "white",
            "showbackground": true,
            "ticks": "",
            "zerolinecolor": "white"
           }
          },
          "shapedefaults": {
           "line": {
            "color": "#2a3f5f"
           }
          },
          "ternary": {
           "aaxis": {
            "gridcolor": "white",
            "linecolor": "white",
            "ticks": ""
           },
           "baxis": {
            "gridcolor": "white",
            "linecolor": "white",
            "ticks": ""
           },
           "bgcolor": "#E5ECF6",
           "caxis": {
            "gridcolor": "white",
            "linecolor": "white",
            "ticks": ""
           }
          },
          "title": {
           "x": 0.05
          },
          "xaxis": {
           "automargin": true,
           "gridcolor": "white",
           "linecolor": "white",
           "ticks": "",
           "title": {
            "standoff": 15
           },
           "zerolinecolor": "white",
           "zerolinewidth": 2
          },
          "yaxis": {
           "automargin": true,
           "gridcolor": "white",
           "linecolor": "white",
           "ticks": "",
           "title": {
            "standoff": 15
           },
           "zerolinecolor": "white",
           "zerolinewidth": 2
          }
         }
        },
        "title": {
         "text": "daily deviation from mean number of calls (%)"
        },
        "xaxis": {
         "anchor": "y",
         "domain": [
          0,
          1
         ],
         "title": {
          "text": ""
         }
        },
        "yaxis": {
         "anchor": "x",
         "domain": [
          0,
          1
         ],
         "tickformat": "%",
         "title": {
          "text": ""
         }
        }
       }
      }
     },
     "metadata": {},
     "output_type": "display_data"
    }
   ],
   "source": [
    "#Beginning with daily\n",
    "# monthly average\n",
    "daily_mean = daily_df.groupby(daily_df.index.day_name()).mean()\n",
    "\n",
    "# relative deviation from the overall mean\n",
    "daily_mean_diff = (daily_mean - daily_mean.mean())/daily_mean\n",
    "\n",
    "# month names in right order\n",
    "day_names = pd.date_range(start=first_day, freq='D', periods=7).day_name()\n",
    "\n",
    "# reorder columns to follow the month order\n",
    "daily_mean_diff = daily_mean_diff.loc[day_names, ]\n",
    "\n",
    "daily_mean_diff.T\n",
    "\n",
    "fig = px.bar(daily_mean_diff)\n",
    "\n",
    "fig.update_layout(\n",
    "    yaxis_title=\"\", \n",
    "    yaxis_tickformat = '%',\n",
    "    xaxis_title=\"\",\n",
    "    title=\"daily deviation from mean number of calls (%)\",\n",
    "    showlegend=False,\n",
    ")\n",
    "fig.show()"
   ]
  },
  {
   "cell_type": "markdown",
   "metadata": {},
   "source": [
    "Represnted in this graph we can see that again calls on friday are at a much higher rate then the average. While calls on monday and sunday are way below the average."
   ]
  },
  {
   "cell_type": "markdown",
   "metadata": {},
   "source": [
    "Plot created with help from chatGPT:<br>\n",
    "Summary of prompt:<br>\n",
    "Create a plot in the style of above (insert code above) but for hours in a day"
   ]
  },
  {
   "cell_type": "code",
   "execution_count": 36,
   "metadata": {},
   "outputs": [
    {
     "data": {
      "application/vnd.plotly.v1+json": {
       "config": {
        "plotlyServerURL": "https://plot.ly"
       },
       "data": [
        {
         "alignmentgroup": "True",
         "hovertemplate": "hour=%{x}<br>deviation=%{y}<extra></extra>",
         "legendgroup": "",
         "marker": {
          "color": "#636efa",
          "pattern": {
           "shape": ""
          }
         },
         "name": "",
         "offsetgroup": "",
         "orientation": "v",
         "showlegend": false,
         "textposition": "auto",
         "type": "bar",
         "x": [
          0,
          1,
          2,
          3,
          4,
          5,
          6,
          7,
          8,
          9,
          10,
          11,
          12,
          13,
          14,
          15,
          16,
          17,
          18,
          19,
          20,
          21,
          22,
          23
         ],
         "xaxis": "x",
         "y": [
          0.0621498484449544,
          -0.08228750737499352,
          -0.26122698188136156,
          -0.3704768372372489,
          -0.43701370021058356,
          -0.5037287624461048,
          -0.43321668516245554,
          -0.3303820032452827,
          0.0436171251775567,
          0.038641253471887044,
          -0.0017962714088993596,
          -0.023481750853443124,
          0.02641404255878146,
          0.06494620609772743,
          0.23148027042880337,
          0.22114471322198542,
          0.4365190830277197,
          0.38216830806083213,
          0.37083209345865914,
          0.29267115553654255,
          0.23437258153044604,
          0.12789166855622613,
          0.0298409514469837,
          -0.11907880119873275
         ],
         "yaxis": "y"
        }
       ],
       "layout": {
        "barmode": "relative",
        "legend": {
         "tracegroupgap": 0
        },
        "margin": {
         "t": 60
        },
        "showlegend": false,
        "template": {
         "data": {
          "bar": [
           {
            "error_x": {
             "color": "#2a3f5f"
            },
            "error_y": {
             "color": "#2a3f5f"
            },
            "marker": {
             "line": {
              "color": "#E5ECF6",
              "width": 0.5
             },
             "pattern": {
              "fillmode": "overlay",
              "size": 10,
              "solidity": 0.2
             }
            },
            "type": "bar"
           }
          ],
          "barpolar": [
           {
            "marker": {
             "line": {
              "color": "#E5ECF6",
              "width": 0.5
             },
             "pattern": {
              "fillmode": "overlay",
              "size": 10,
              "solidity": 0.2
             }
            },
            "type": "barpolar"
           }
          ],
          "carpet": [
           {
            "aaxis": {
             "endlinecolor": "#2a3f5f",
             "gridcolor": "white",
             "linecolor": "white",
             "minorgridcolor": "white",
             "startlinecolor": "#2a3f5f"
            },
            "baxis": {
             "endlinecolor": "#2a3f5f",
             "gridcolor": "white",
             "linecolor": "white",
             "minorgridcolor": "white",
             "startlinecolor": "#2a3f5f"
            },
            "type": "carpet"
           }
          ],
          "choropleth": [
           {
            "colorbar": {
             "outlinewidth": 0,
             "ticks": ""
            },
            "type": "choropleth"
           }
          ],
          "contour": [
           {
            "colorbar": {
             "outlinewidth": 0,
             "ticks": ""
            },
            "colorscale": [
             [
              0,
              "#0d0887"
             ],
             [
              0.1111111111111111,
              "#46039f"
             ],
             [
              0.2222222222222222,
              "#7201a8"
             ],
             [
              0.3333333333333333,
              "#9c179e"
             ],
             [
              0.4444444444444444,
              "#bd3786"
             ],
             [
              0.5555555555555556,
              "#d8576b"
             ],
             [
              0.6666666666666666,
              "#ed7953"
             ],
             [
              0.7777777777777778,
              "#fb9f3a"
             ],
             [
              0.8888888888888888,
              "#fdca26"
             ],
             [
              1,
              "#f0f921"
             ]
            ],
            "type": "contour"
           }
          ],
          "contourcarpet": [
           {
            "colorbar": {
             "outlinewidth": 0,
             "ticks": ""
            },
            "type": "contourcarpet"
           }
          ],
          "heatmap": [
           {
            "colorbar": {
             "outlinewidth": 0,
             "ticks": ""
            },
            "colorscale": [
             [
              0,
              "#0d0887"
             ],
             [
              0.1111111111111111,
              "#46039f"
             ],
             [
              0.2222222222222222,
              "#7201a8"
             ],
             [
              0.3333333333333333,
              "#9c179e"
             ],
             [
              0.4444444444444444,
              "#bd3786"
             ],
             [
              0.5555555555555556,
              "#d8576b"
             ],
             [
              0.6666666666666666,
              "#ed7953"
             ],
             [
              0.7777777777777778,
              "#fb9f3a"
             ],
             [
              0.8888888888888888,
              "#fdca26"
             ],
             [
              1,
              "#f0f921"
             ]
            ],
            "type": "heatmap"
           }
          ],
          "heatmapgl": [
           {
            "colorbar": {
             "outlinewidth": 0,
             "ticks": ""
            },
            "colorscale": [
             [
              0,
              "#0d0887"
             ],
             [
              0.1111111111111111,
              "#46039f"
             ],
             [
              0.2222222222222222,
              "#7201a8"
             ],
             [
              0.3333333333333333,
              "#9c179e"
             ],
             [
              0.4444444444444444,
              "#bd3786"
             ],
             [
              0.5555555555555556,
              "#d8576b"
             ],
             [
              0.6666666666666666,
              "#ed7953"
             ],
             [
              0.7777777777777778,
              "#fb9f3a"
             ],
             [
              0.8888888888888888,
              "#fdca26"
             ],
             [
              1,
              "#f0f921"
             ]
            ],
            "type": "heatmapgl"
           }
          ],
          "histogram": [
           {
            "marker": {
             "pattern": {
              "fillmode": "overlay",
              "size": 10,
              "solidity": 0.2
             }
            },
            "type": "histogram"
           }
          ],
          "histogram2d": [
           {
            "colorbar": {
             "outlinewidth": 0,
             "ticks": ""
            },
            "colorscale": [
             [
              0,
              "#0d0887"
             ],
             [
              0.1111111111111111,
              "#46039f"
             ],
             [
              0.2222222222222222,
              "#7201a8"
             ],
             [
              0.3333333333333333,
              "#9c179e"
             ],
             [
              0.4444444444444444,
              "#bd3786"
             ],
             [
              0.5555555555555556,
              "#d8576b"
             ],
             [
              0.6666666666666666,
              "#ed7953"
             ],
             [
              0.7777777777777778,
              "#fb9f3a"
             ],
             [
              0.8888888888888888,
              "#fdca26"
             ],
             [
              1,
              "#f0f921"
             ]
            ],
            "type": "histogram2d"
           }
          ],
          "histogram2dcontour": [
           {
            "colorbar": {
             "outlinewidth": 0,
             "ticks": ""
            },
            "colorscale": [
             [
              0,
              "#0d0887"
             ],
             [
              0.1111111111111111,
              "#46039f"
             ],
             [
              0.2222222222222222,
              "#7201a8"
             ],
             [
              0.3333333333333333,
              "#9c179e"
             ],
             [
              0.4444444444444444,
              "#bd3786"
             ],
             [
              0.5555555555555556,
              "#d8576b"
             ],
             [
              0.6666666666666666,
              "#ed7953"
             ],
             [
              0.7777777777777778,
              "#fb9f3a"
             ],
             [
              0.8888888888888888,
              "#fdca26"
             ],
             [
              1,
              "#f0f921"
             ]
            ],
            "type": "histogram2dcontour"
           }
          ],
          "mesh3d": [
           {
            "colorbar": {
             "outlinewidth": 0,
             "ticks": ""
            },
            "type": "mesh3d"
           }
          ],
          "parcoords": [
           {
            "line": {
             "colorbar": {
              "outlinewidth": 0,
              "ticks": ""
             }
            },
            "type": "parcoords"
           }
          ],
          "pie": [
           {
            "automargin": true,
            "type": "pie"
           }
          ],
          "scatter": [
           {
            "fillpattern": {
             "fillmode": "overlay",
             "size": 10,
             "solidity": 0.2
            },
            "type": "scatter"
           }
          ],
          "scatter3d": [
           {
            "line": {
             "colorbar": {
              "outlinewidth": 0,
              "ticks": ""
             }
            },
            "marker": {
             "colorbar": {
              "outlinewidth": 0,
              "ticks": ""
             }
            },
            "type": "scatter3d"
           }
          ],
          "scattercarpet": [
           {
            "marker": {
             "colorbar": {
              "outlinewidth": 0,
              "ticks": ""
             }
            },
            "type": "scattercarpet"
           }
          ],
          "scattergeo": [
           {
            "marker": {
             "colorbar": {
              "outlinewidth": 0,
              "ticks": ""
             }
            },
            "type": "scattergeo"
           }
          ],
          "scattergl": [
           {
            "marker": {
             "colorbar": {
              "outlinewidth": 0,
              "ticks": ""
             }
            },
            "type": "scattergl"
           }
          ],
          "scattermapbox": [
           {
            "marker": {
             "colorbar": {
              "outlinewidth": 0,
              "ticks": ""
             }
            },
            "type": "scattermapbox"
           }
          ],
          "scatterpolar": [
           {
            "marker": {
             "colorbar": {
              "outlinewidth": 0,
              "ticks": ""
             }
            },
            "type": "scatterpolar"
           }
          ],
          "scatterpolargl": [
           {
            "marker": {
             "colorbar": {
              "outlinewidth": 0,
              "ticks": ""
             }
            },
            "type": "scatterpolargl"
           }
          ],
          "scatterternary": [
           {
            "marker": {
             "colorbar": {
              "outlinewidth": 0,
              "ticks": ""
             }
            },
            "type": "scatterternary"
           }
          ],
          "surface": [
           {
            "colorbar": {
             "outlinewidth": 0,
             "ticks": ""
            },
            "colorscale": [
             [
              0,
              "#0d0887"
             ],
             [
              0.1111111111111111,
              "#46039f"
             ],
             [
              0.2222222222222222,
              "#7201a8"
             ],
             [
              0.3333333333333333,
              "#9c179e"
             ],
             [
              0.4444444444444444,
              "#bd3786"
             ],
             [
              0.5555555555555556,
              "#d8576b"
             ],
             [
              0.6666666666666666,
              "#ed7953"
             ],
             [
              0.7777777777777778,
              "#fb9f3a"
             ],
             [
              0.8888888888888888,
              "#fdca26"
             ],
             [
              1,
              "#f0f921"
             ]
            ],
            "type": "surface"
           }
          ],
          "table": [
           {
            "cells": {
             "fill": {
              "color": "#EBF0F8"
             },
             "line": {
              "color": "white"
             }
            },
            "header": {
             "fill": {
              "color": "#C8D4E3"
             },
             "line": {
              "color": "white"
             }
            },
            "type": "table"
           }
          ]
         },
         "layout": {
          "annotationdefaults": {
           "arrowcolor": "#2a3f5f",
           "arrowhead": 0,
           "arrowwidth": 1
          },
          "autotypenumbers": "strict",
          "coloraxis": {
           "colorbar": {
            "outlinewidth": 0,
            "ticks": ""
           }
          },
          "colorscale": {
           "diverging": [
            [
             0,
             "#8e0152"
            ],
            [
             0.1,
             "#c51b7d"
            ],
            [
             0.2,
             "#de77ae"
            ],
            [
             0.3,
             "#f1b6da"
            ],
            [
             0.4,
             "#fde0ef"
            ],
            [
             0.5,
             "#f7f7f7"
            ],
            [
             0.6,
             "#e6f5d0"
            ],
            [
             0.7,
             "#b8e186"
            ],
            [
             0.8,
             "#7fbc41"
            ],
            [
             0.9,
             "#4d9221"
            ],
            [
             1,
             "#276419"
            ]
           ],
           "sequential": [
            [
             0,
             "#0d0887"
            ],
            [
             0.1111111111111111,
             "#46039f"
            ],
            [
             0.2222222222222222,
             "#7201a8"
            ],
            [
             0.3333333333333333,
             "#9c179e"
            ],
            [
             0.4444444444444444,
             "#bd3786"
            ],
            [
             0.5555555555555556,
             "#d8576b"
            ],
            [
             0.6666666666666666,
             "#ed7953"
            ],
            [
             0.7777777777777778,
             "#fb9f3a"
            ],
            [
             0.8888888888888888,
             "#fdca26"
            ],
            [
             1,
             "#f0f921"
            ]
           ],
           "sequentialminus": [
            [
             0,
             "#0d0887"
            ],
            [
             0.1111111111111111,
             "#46039f"
            ],
            [
             0.2222222222222222,
             "#7201a8"
            ],
            [
             0.3333333333333333,
             "#9c179e"
            ],
            [
             0.4444444444444444,
             "#bd3786"
            ],
            [
             0.5555555555555556,
             "#d8576b"
            ],
            [
             0.6666666666666666,
             "#ed7953"
            ],
            [
             0.7777777777777778,
             "#fb9f3a"
            ],
            [
             0.8888888888888888,
             "#fdca26"
            ],
            [
             1,
             "#f0f921"
            ]
           ]
          },
          "colorway": [
           "#636efa",
           "#EF553B",
           "#00cc96",
           "#ab63fa",
           "#FFA15A",
           "#19d3f3",
           "#FF6692",
           "#B6E880",
           "#FF97FF",
           "#FECB52"
          ],
          "font": {
           "color": "#2a3f5f"
          },
          "geo": {
           "bgcolor": "white",
           "lakecolor": "white",
           "landcolor": "#E5ECF6",
           "showlakes": true,
           "showland": true,
           "subunitcolor": "white"
          },
          "hoverlabel": {
           "align": "left"
          },
          "hovermode": "closest",
          "mapbox": {
           "style": "light"
          },
          "paper_bgcolor": "white",
          "plot_bgcolor": "#E5ECF6",
          "polar": {
           "angularaxis": {
            "gridcolor": "white",
            "linecolor": "white",
            "ticks": ""
           },
           "bgcolor": "#E5ECF6",
           "radialaxis": {
            "gridcolor": "white",
            "linecolor": "white",
            "ticks": ""
           }
          },
          "scene": {
           "xaxis": {
            "backgroundcolor": "#E5ECF6",
            "gridcolor": "white",
            "gridwidth": 2,
            "linecolor": "white",
            "showbackground": true,
            "ticks": "",
            "zerolinecolor": "white"
           },
           "yaxis": {
            "backgroundcolor": "#E5ECF6",
            "gridcolor": "white",
            "gridwidth": 2,
            "linecolor": "white",
            "showbackground": true,
            "ticks": "",
            "zerolinecolor": "white"
           },
           "zaxis": {
            "backgroundcolor": "#E5ECF6",
            "gridcolor": "white",
            "gridwidth": 2,
            "linecolor": "white",
            "showbackground": true,
            "ticks": "",
            "zerolinecolor": "white"
           }
          },
          "shapedefaults": {
           "line": {
            "color": "#2a3f5f"
           }
          },
          "ternary": {
           "aaxis": {
            "gridcolor": "white",
            "linecolor": "white",
            "ticks": ""
           },
           "baxis": {
            "gridcolor": "white",
            "linecolor": "white",
            "ticks": ""
           },
           "bgcolor": "#E5ECF6",
           "caxis": {
            "gridcolor": "white",
            "linecolor": "white",
            "ticks": ""
           }
          },
          "title": {
           "x": 0.05
          },
          "xaxis": {
           "automargin": true,
           "gridcolor": "white",
           "linecolor": "white",
           "ticks": "",
           "title": {
            "standoff": 15
           },
           "zerolinecolor": "white",
           "zerolinewidth": 2
          },
          "yaxis": {
           "automargin": true,
           "gridcolor": "white",
           "linecolor": "white",
           "ticks": "",
           "title": {
            "standoff": 15
           },
           "zerolinecolor": "white",
           "zerolinewidth": 2
          }
         }
        },
        "title": {
         "text": "Hourly Deviation from Mean Number of Calls (%)"
        },
        "xaxis": {
         "anchor": "y",
         "domain": [
          0,
          1
         ],
         "title": {
          "text": "Hour of the Day"
         }
        },
        "yaxis": {
         "anchor": "x",
         "domain": [
          0,
          1
         ],
         "tickformat": "%",
         "title": {
          "text": "Deviation (%)"
         }
        }
       }
      }
     },
     "metadata": {},
     "output_type": "display_data"
    }
   ],
   "source": [
    "# Calculate the mean number of calls per hour\n",
    "hourly_mean = hourly_df.mean()\n",
    "\n",
    "# Calculate the relative deviation from the overall mean\n",
    "hourly_mean_diff = (hourly_df - hourly_mean) / hourly_mean\n",
    "\n",
    "# Extract the hour from the datetime index\n",
    "hourly_mean_diff.index = hourly_mean_diff.index.hour\n",
    "\n",
    "# Group by the hour of the day to get the average deviation for each hour\n",
    "hourly_mean_diff_by_hour = hourly_mean_diff.groupby(hourly_mean_diff.index).mean()\n",
    "\n",
    "# Convert the result to a DataFrame for plotting\n",
    "hourly_mean_diff_df = hourly_mean_diff_by_hour.reset_index()\n",
    "hourly_mean_diff_df.columns = ['hour', 'deviation']\n",
    "\n",
    "#plotting\n",
    "fig = px.bar(hourly_mean_diff_df, x='hour', y='deviation')\n",
    "\n",
    "fig.update_layout(\n",
    "    yaxis_title=\"Deviation (%)\", \n",
    "    yaxis_tickformat='%',\n",
    "    xaxis_title=\"Hour of the Day\",\n",
    "    title=\"Hourly Deviation from Mean Number of Calls (%)\",\n",
    "    showlegend=False,\n",
    ")\n",
    "fig.show()"
   ]
  },
  {
   "cell_type": "markdown",
   "metadata": {},
   "source": [
    "The trend we see here is that the peak number of calls in the day are around 4pm decreasing till 5am where there is less then aveage calls per hour."
   ]
  },
  {
   "cell_type": "markdown",
   "metadata": {},
   "source": [
    "#### Trend-Seasonal Decomposition\n",
    "The next transformation to the data is we will decomposte it to try to remove any trends and seaonsal patterns."
   ]
  },
  {
   "cell_type": "code",
   "execution_count": null,
   "metadata": {},
   "outputs": [],
   "source": []
  }
 ],
 "metadata": {
  "kernelspec": {
   "display_name": "Python 3 (ipykernel)",
   "language": "python",
   "name": "python3"
  },
  "language_info": {
   "codemirror_mode": {
    "name": "ipython",
    "version": 3
   },
   "file_extension": ".py",
   "mimetype": "text/x-python",
   "name": "python",
   "nbconvert_exporter": "python",
   "pygments_lexer": "ipython3",
   "version": "3.11.7"
  }
 },
 "nbformat": 4,
 "nbformat_minor": 4
}
