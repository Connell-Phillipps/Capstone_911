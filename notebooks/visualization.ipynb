{
 "cells": [
  {
   "cell_type": "markdown",
   "metadata": {},
   "source": [
    "# **Visualization** - Heatmaps:\n",
    "\n",
    "The point of this notebook, the final notebook in the series, will be to create the end product of heatmpas related to the different locational granularities. Here I won't be describing every step as most of it is formating data and columns to the excepted orginizations for the plotly express choropleth_mapbox or density heatmpas below. Enjoy the beautiful animations as a reward for getting this far, I know I will.<br>\n",
    "-- Connell"
   ]
  },
  {
   "cell_type": "code",
   "execution_count": null,
   "metadata": {},
   "outputs": [],
   "source": [
    "import pandas as pd\n",
    "import geopandas as gpd\n",
    "import matplotlib.pyplot as plt\n",
    "import plotly.express as px\n",
    "import pickle\n",
    "import json\n",
    "from IPython.display import display, HTML\n",
    "import streamlit.components.v1 as components\n"
   ]
  },
  {
   "cell_type": "code",
   "execution_count": null,
   "metadata": {},
   "outputs": [],
   "source": [
    "# Paths to your files\n",
    "precincts_geojson_path = r\"C:\\Users\\cmphi\\Documents\\github\\Capstone_911\\data\\Police Precincts\\Police Precincts.geojson\"\n",
    "boroughs_geojson_path = r\"C:\\Users\\cmphi\\Documents\\github\\Capstone_911\\data\\Borough Boundaries\\Borough Boundaries.geojson\"\n",
    "data_dict_path = r\"C:\\Users\\cmphi\\Documents\\github\\Capstone_911\\data\\forecast_3-31-2024.pkl\"\n",
    "\n",
    "# Load the GeoJSON files\n",
    "boroughs_geo = gpd.read_file(boroughs_geojson_path)\n",
    "precincts_geo = gpd.read_file(precincts_geojson_path)\n",
    "\n",
    "# Load the data dictionary\n",
    "data_dict = pd.read_pickle(data_dict_path)"
   ]
  },
  {
   "cell_type": "code",
   "execution_count": null,
   "metadata": {},
   "outputs": [],
   "source": [
    "boroughs_geo.head()"
   ]
  },
  {
   "cell_type": "code",
   "execution_count": null,
   "metadata": {},
   "outputs": [],
   "source": [
    "boroughs_geo['boro_name'] = boroughs_geo['boro_name'].str.upper()\n",
    "boroughs_geo.head()"
   ]
  },
  {
   "cell_type": "code",
   "execution_count": null,
   "metadata": {},
   "outputs": [],
   "source": [
    "precincts_geo.head()"
   ]
  },
  {
   "cell_type": "code",
   "execution_count": null,
   "metadata": {},
   "outputs": [],
   "source": [
    "# Shortening dataframe 1-test, 2-1predictions, 3-12predictions, 4-year\n",
    "length = 1\n",
    "year_length = 24*365\n",
    "\n",
    "match length:\n",
    "    case 1:\n",
    "        for key, df in data_dict.items():\n",
    "            if key != 'scores':\n",
    "                data_dict[key] = df.tail(24)\n",
    "\n",
    "    case 2:\n",
    "        for key, df in data_dict.items():\n",
    "            if key != \"scores\":\n",
    "                data_dict[key] = df.loc[df['quality'] == 1,:]\n",
    "\n",
    "    case 3:\n",
    "        for key, df in data_dict.items():\n",
    "            if key != 'socres':\n",
    "                data_dict[key] = df.loc[df['quality'].isin([1, 2]), :]\n",
    "\n",
    "    case 4:\n",
    "        for key, df in data_dict.items():\n",
    "            if key != 'scores':\n",
    "                data_dict[key] = df.tail(year_length)\n",
    "\n",
    "\n",
    "data_dict"
   ]
  },
  {
   "cell_type": "code",
   "execution_count": null,
   "metadata": {},
   "outputs": [],
   "source": [
    "# Exclude specific keys\n",
    "excluded_keys = ['scores', 'total']\n",
    "\n",
    "# Filter and add a source column based on key type (numeric as strings) and excluding specific keys\n",
    "precinct_data = {key: df.assign(Source=key) for key, df in data_dict.items() if key.isdigit() and key not in excluded_keys}\n",
    "borough_data = {key: df.assign(Source=key) for key, df in data_dict.items() if not key.isdigit() and key not in excluded_keys}\n",
    "\n",
    "# Merge the DataFrames in each category if they are not empty\n",
    "merged_precinct_df = pd.concat(precinct_data.values(), ignore_index=True) if precinct_data else pd.DataFrame()\n",
    "merged_borough_df = pd.concat(borough_data.values(), ignore_index=True) if borough_data else pd.DataFrame()\n",
    "\n",
    "print(\"Precinct Sources DataFrame:\")\n",
    "display(merged_precinct_df)\n",
    "print(\"Borough Sources DataFrame:\")\n",
    "display(merged_borough_df)"
   ]
  },
  {
   "cell_type": "markdown",
   "metadata": {},
   "source": [
    "Shape files can be found for download at the links below:\n",
    "* [Borough Boundaries](https://data.cityofnewyork.us/City-Government/Borough-Boundaries/tqmj-j8zm)\n",
    "* [Precinct Boundaries](https://data.cityofnewyork.us/Public-Safety/Police-Precincts/78dh-3ptz)"
   ]
  },
  {
   "cell_type": "markdown",
   "metadata": {},
   "source": [
    "The next step below is to make the file a geojson dict so the graph understands the shape file."
   ]
  },
  {
   "cell_type": "code",
   "execution_count": null,
   "metadata": {},
   "outputs": [],
   "source": [
    "#JSON Conversion\n",
    "# Convert the GeoPandas DataFrame to a GeoJSON string\n",
    "geojson_str_boroughs = boroughs_geo.to_json()\n",
    "geojson_str_precincts = precincts_geo.to_json()\n",
    "# Optionally, convert the GeoJSON string to a dictionary\n",
    "geojson_dict_boroughs = json.loads(geojson_str_boroughs)\n",
    "geojson_dict_precincts = json.loads(geojson_str_precincts)"
   ]
  },
  {
   "cell_type": "code",
   "execution_count": null,
   "metadata": {},
   "outputs": [],
   "source": [
    "# Calculate the minimum and maximum values of 'yhat' across all time frames\n",
    "min_yhat = merged_borough_df['yhat'].min()\n",
    "max_yhat = merged_borough_df['yhat'].max()\n",
    "\n",
    "# Finally, The Plotting\n",
    "fig_borough = px.choropleth_mapbox(\n",
    "    merged_borough_df,\n",
    "    geojson=geojson_dict_boroughs,\n",
    "    locations='Source',\n",
    "    color='yhat',\n",
    "    animation_frame=merged_borough_df['ds'],\n",
    "    featureidkey='properties.boro_name',\n",
    "    color_continuous_scale='Turbo', #Bluered\n",
    "    range_color=[min_yhat, max_yhat],  # Set the range for the color scale\n",
    "    mapbox_style='carto-darkmatter',  # Free style from OpenStreetMap\n",
    "    zoom=9.5,  # Adjust the zoom level based on your map\n",
    "    center={\"lat\": 40.730610, \"lon\": -73.935242}  # Center the map around New York City\n",
    ")\n",
    "\n",
    "fig_borough.update_geos(fitbounds=\"locations\", visible=False)\n",
    "\n",
    "# Update layout with faster animation speed\n",
    "fig_borough.update_layout(\n",
    "    width=1250,\n",
    "    height=800,\n",
    "    margin=dict(l=1, r=0, t=1, b=0),  # Adjust margins to accommodate buttons\n",
    "    updatemenus=[{\n",
    "        \"buttons\": [\n",
    "            {\n",
    "                \"args\": [None, {\"frame\": {\"duration\": 250, \"redraw\": True}, \"fromcurrent\": True}],  # Adjust duration to make it faster\n",
    "                \"label\": \"Play\",\n",
    "                \"method\": \"animate\"\n",
    "            },\n",
    "            {\n",
    "                \"args\": [[None], {\"frame\": {\"duration\": 0, \"redraw\": True}, \"mode\": \"immediate\", \"transition\": {\"duration\": 0}}],\n",
    "                \"label\": \"Pause\",\n",
    "                \"method\": \"animate\"\n",
    "            }\n",
    "        ],\n",
    "        \"direction\": \"left\",\n",
    "        \"pad\": {\"r\": 10, \"t\": 87},\n",
    "        \"showactive\": False,\n",
    "        \"type\": \"buttons\",\n",
    "        \"x\": 0.1,\n",
    "        \"xanchor\": \"right\",\n",
    "        \"y\": 0,\n",
    "        \"yanchor\": \"top\"\n",
    "    }]\n",
    ")\n",
    "\n",
    "fig_borough.show()\n",
    "fig_borough.write_html(\"../misc/borough_heatmap.html\")"
   ]
  },
  {
   "cell_type": "code",
   "execution_count": null,
   "metadata": {},
   "outputs": [],
   "source": [
    "# Calculate the minimum and maximum values of 'yhat' across all time frames\n",
    "min_yhat = merged_precinct_df['yhat'].min()\n",
    "max_yhat = merged_precinct_df['yhat'].max()\n",
    "\n",
    "# Finally, The Plotting\n",
    "fig_precinct = px.choropleth_mapbox(\n",
    "    merged_precinct_df,\n",
    "    geojson=geojson_dict_precincts,\n",
    "    locations='Source',\n",
    "    color='yhat',\n",
    "    animation_frame=merged_precinct_df['ds'],\n",
    "    featureidkey='properties.precinct',\n",
    "    color_continuous_scale='Turbo',\n",
    "    range_color=[min_yhat, max_yhat],  # Set the range for the color scale\n",
    "    mapbox_style='carto-darkmatter',  # Free style from OpenStreetMap\n",
    "    zoom=9.5,  # Adjust the zoom level based on your map\n",
    "    center={\"lat\": 40.730610, \"lon\": -73.935242}  # Center the map around New York City\n",
    ")\n",
    "\n",
    "fig_precinct.update_geos(fitbounds=\"locations\", visible=False)\n",
    "\n",
    "fig_precinct.update_layout(\n",
    "    #autosize = True,\n",
    "    width=1250,\n",
    "    height=800,\n",
    "    margin=dict(l=1, r=0, t=1, b=0),  # Adjust margins to accommodate buttons\n",
    ")\n",
    "\n",
    "# Update layout with faster animation speed\n",
    "fig_precinct.update_layout(\n",
    "    width=1250,\n",
    "    height=800,\n",
    "    margin=dict(l=1, r=0, t=1, b=0),  # Adjust margins to accommodate buttons\n",
    "    updatemenus=[{\n",
    "        \"buttons\": [\n",
    "            {\n",
    "                \"args\": [None, {\"frame\": {\"duration\": 250, \"redraw\": True}, \"fromcurrent\": True}],  # Adjust duration to make it faster\n",
    "                \"label\": \"Play\",\n",
    "                \"method\": \"animate\"\n",
    "            },\n",
    "            {\n",
    "                \"args\": [[None], {\"frame\": {\"duration\": 0, \"redraw\": True}, \"mode\": \"immediate\", \"transition\": {\"duration\": 0}}],\n",
    "                \"label\": \"Pause\",\n",
    "                \"method\": \"animate\"\n",
    "            }\n",
    "        ],\n",
    "        \"direction\": \"left\",\n",
    "        \"pad\": {\"r\": 10, \"t\": 87},\n",
    "        \"showactive\": False,\n",
    "        \"type\": \"buttons\",\n",
    "        \"x\": 0.1,\n",
    "        \"xanchor\": \"right\",\n",
    "        \"y\": 0,\n",
    "        \"yanchor\": \"top\"\n",
    "    }]\n",
    ")\n",
    "\n",
    "fig_precinct.show()\n",
    "fig_precinct.write_html(\"../misc/precinct_heatmap.html\")"
   ]
  },
  {
   "cell_type": "markdown",
   "metadata": {},
   "source": [
    "```python\n",
    "#exsample to run .html\n",
    "with open(\"../misc/borough_heatmap.html\", \"r\", encoding=\"utf-8\") as f:\n",
    "    html_content_borough = f.read()\n",
    "\n",
    "# Embed the HTML in the STREAMLIT APP\n",
    "components.html(html_content_borough, width=1250, height=800)\n",
    "```"
   ]
  }
 ],
 "metadata": {
  "kernelspec": {
   "display_name": "capstone_911",
   "language": "python",
   "name": "python3"
  },
  "language_info": {
   "codemirror_mode": {
    "name": "ipython",
    "version": 3
   },
   "file_extension": ".py",
   "mimetype": "text/x-python",
   "name": "python",
   "nbconvert_exporter": "python",
   "pygments_lexer": "ipython3",
   "version": "3.12.3"
  }
 },
 "nbformat": 4,
 "nbformat_minor": 2
}
